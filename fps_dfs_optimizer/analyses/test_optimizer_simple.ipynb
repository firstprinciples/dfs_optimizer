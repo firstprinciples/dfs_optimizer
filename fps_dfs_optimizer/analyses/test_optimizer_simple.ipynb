{
 "metadata": {
  "language_info": {
   "codemirror_mode": {
    "name": "ipython",
    "version": 3
   },
   "file_extension": ".py",
   "mimetype": "text/x-python",
   "name": "python",
   "nbconvert_exporter": "python",
   "pygments_lexer": "ipython3",
   "version": "3.7.8-final"
  },
  "orig_nbformat": 2,
  "kernelspec": {
   "name": "python3",
   "display_name": "Python 3.7.8 64-bit ('dfs_opt': conda)",
   "metadata": {
    "interpreter": {
     "hash": "63afda940d72bab6ee9fecad475ef3ee7933a13f8fc17bf07e06c69deb8fa7e0"
    }
   }
  }
 },
 "nbformat": 4,
 "nbformat_minor": 2,
 "cells": [
  {
   "source": [
    "# Example Notebook For Using Optimizer Tools"
   ],
   "cell_type": "markdown",
   "metadata": {}
  },
  {
   "cell_type": "code",
   "execution_count": 1,
   "metadata": {},
   "outputs": [],
   "source": [
    "import pandas as pd\n",
    "import numpy as np\n",
    "\n",
    "from fps_dfs_optimizer.src.draftkings_tools import get_players_df, EntriesHandler, get_today, get_players_from_salaries\n",
    "from fps_dfs_optimizer.src.projections import get_projections\n",
    "from fps_dfs_optimizer.src.optimizer import Exposures, LineupOptimizer\n",
    "from fps_dfs_optimizer.src.generator import LineupGenerator"
   ]
  },
  {
   "cell_type": "code",
   "execution_count": 5,
   "metadata": {},
   "outputs": [],
   "source": [
    "df = get_players_df()"
   ]
  },
  {
   "cell_type": "code",
   "execution_count": 6,
   "metadata": {},
   "outputs": [],
   "source": [
    "inds = np.array([game is not None for game in df['Game'].values])\n",
    "df = df.loc[df.index[inds]].reset_index(drop=True)"
   ]
  },
  {
   "cell_type": "code",
   "execution_count": 8,
   "metadata": {},
   "outputs": [],
   "source": [
    "proj, std = get_projections(df)\n",
    "df['projections'] = proj\n",
    "df['std'] = std\n",
    "df['max_exp'] = 0.4\n",
    "df['min_exp'] = 0"
   ]
  },
  {
   "cell_type": "code",
   "execution_count": 36,
   "metadata": {},
   "outputs": [],
   "source": [
    "# df.to_csv('../data/raw/test_20210413.csv', index=False)\n",
    "df = pd.read_csv('../data/raw/test_20210413.csv')\n",
    "df['Time'] = pd.to_datetime(df['Time'])"
   ]
  },
  {
   "cell_type": "code",
   "execution_count": 37,
   "metadata": {},
   "outputs": [],
   "source": [
    "teams = df['TeamAbbrev'].unique()"
   ]
  },
  {
   "cell_type": "code",
   "execution_count": 38,
   "metadata": {},
   "outputs": [
    {
     "output_type": "execute_result",
     "data": {
      "text/plain": [
       "{'WAS': 1,\n",
       " 'DAL': 1,\n",
       " 'BKN': 1,\n",
       " 'DEN': 1,\n",
       " 'GS': 1,\n",
       " 'PHI': 1,\n",
       " 'NO': 1,\n",
       " 'LAC': 1,\n",
       " 'SAC': 1,\n",
       " 'NY': 1,\n",
       " 'MIA': 1,\n",
       " 'CHI': 1,\n",
       " 'IND': 1,\n",
       " 'TOR': 1,\n",
       " 'CHA': 1,\n",
       " 'HOU': 1,\n",
       " 'SA': 1,\n",
       " 'CLE': 1,\n",
       " 'OKC': 1,\n",
       " 'MEM': 1,\n",
       " 'DET': 1,\n",
       " 'ORL': 1}"
      ]
     },
     "metadata": {},
     "execution_count": 38
    }
   ],
   "source": [
    "team_limits = {team : np.random.choice([1]) for team in teams}\n",
    "team_limits"
   ]
  },
  {
   "source": [
    "# Let's do a simple lineup optimization\n",
    "This is like the original optimizer. Provide the number of desired lineups and the dataframe.\n",
    "Note that order=1 is an optional argument, but defaults to unordered (0)\n",
    "time_limit=10.0 by default, but is also an optional argument.\n",
    "\n",
    "This first step creates the optimization model."
   ],
   "cell_type": "markdown",
   "metadata": {}
  },
  {
   "cell_type": "code",
   "execution_count": 39,
   "metadata": {
    "tags": []
   },
   "outputs": [],
   "source": [
    "opt = LineupOptimizer(df, n_lineups=20, team_limits=team_limits, verbose=True)"
   ]
  },
  {
   "source": [
    "## opt.solve() solves the optimization problem"
   ],
   "cell_type": "markdown",
   "metadata": {}
  },
  {
   "cell_type": "code",
   "execution_count": 40,
   "metadata": {
    "tags": []
   },
   "outputs": [
    {
     "output_type": "stream",
     "name": "stdout",
     "text": [
      "Version identifier: 12.10.0.0 | 2019-11-27 | 843d4de2ae\n",
      "CPXPARAM_Read_DataCheck                          1\n",
      "CPXPARAM_TimeLimit                               10\n",
      "Warning:  Non-integral bounds for integer variables rounded.\n",
      "Tried aggregator 1 time.\n",
      "MIP Presolve eliminated 289 rows and 0 columns.\n",
      "MIP Presolve modified 20 coefficients.\n",
      "Reduced MIP has 529 rows, 980 columns, and 6540 nonzeros.\n",
      "Reduced MIP has 980 binaries, 0 generals, 0 SOSs, and 0 indicators.\n",
      "Presolve time = 0.02 sec. (2.97 ticks)\n",
      "Found incumbent of value 5131.262843 after 0.05 sec. (12.44 ticks)\n",
      "Probing time = 0.00 sec. (0.70 ticks)\n",
      "Tried aggregator 1 time.\n",
      "Detecting symmetries...\n",
      "Reduced MIP has 529 rows, 980 columns, and 6540 nonzeros.\n",
      "Reduced MIP has 980 binaries, 0 generals, 0 SOSs, and 0 indicators.\n",
      "Presolve time = 0.02 sec. (4.16 ticks)\n",
      "Probing time = 0.02 sec. (0.70 ticks)\n",
      "Clique table members: 240.\n",
      "MIP emphasis: balance optimality and feasibility.\n",
      "MIP search method: dynamic search.\n",
      "Parallel mode: deterministic, using up to 8 threads.\n",
      "Root relaxation solution time = 0.03 sec. (18.30 ticks)\n",
      "\n",
      "        Nodes                                         Cuts/\n",
      "   Node  Left     Objective  IInf  Best Integer    Best Bound    ItCnt     Gap\n",
      "\n",
      "*     0+    0                         5131.2628    30493.1426           494.26%\n",
      "*     0+    0                         6741.2267    30493.1426           352.34%\n",
      "*     0+    0                         6741.5824    30493.1426           352.31%\n",
      "      0     0     6785.4758    82     6741.5824     6785.4758      684    0.65%\n",
      "*     0+    0                         6751.5266     6785.4758             0.50%\n",
      "      0     0     6785.4758    82     6751.5266      Cuts: 21      816    0.50%\n",
      "      0     0     6785.4758    82     6751.5266      Cuts: 38      982    0.50%\n",
      "*     0+    0                         6754.7292     6785.4758             0.46%\n",
      "      0     0        cutoff           6754.7292     6785.4758      982    0.46%\n",
      "      0     2     6785.4758    59     6754.7292     6785.4758      982    0.46%\n",
      "Elapsed time = 0.63 sec. (230.43 ticks, tree = 0.02 MB, solutions = 5)\n",
      "    491   420     6777.5707    46     6754.7292     6785.4758    11767    0.46%\n",
      "*   796+    2                         6761.0934     6785.4758             0.36%\n",
      "   1296   960     6781.2220    54     6761.0934     6785.4758    30740    0.36%\n",
      "   2562  2079     6782.9206    55     6761.0934     6785.4758    54881    0.36%\n",
      "   3478  2852     6771.7786    47     6761.0934     6785.4758    70023    0.36%\n",
      "\n",
      "Performing restart 1\n",
      "\n",
      "Repeating presolve.\n",
      "Tried aggregator 1 time.\n",
      "Reduced MIP has 529 rows, 980 columns, and 6540 nonzeros.\n",
      "Reduced MIP has 980 binaries, 0 generals, 0 SOSs, and 0 indicators.\n",
      "Presolve time = 0.00 sec. (2.79 ticks)\n",
      "Tried aggregator 1 time.\n",
      "Reduced MIP has 529 rows, 980 columns, and 6540 nonzeros.\n",
      "Reduced MIP has 980 binaries, 0 generals, 0 SOSs, and 0 indicators.\n",
      "Presolve time = 0.02 sec. (4.27 ticks)\n",
      "Represolve time = 0.05 sec. (16.14 ticks)\n",
      "   4484     0     6785.4758    86     6761.0934      Cuts: 27    94692    0.36%\n",
      "   4484     0     6785.4758    86     6761.0934      Cuts: 29    94859    0.36%\n",
      "   4484     0     6785.4758    86     6761.0934      Cuts: 68    95054    0.36%\n",
      "   4484     0     6785.4758    86     6761.0934      Cuts: 31    95223    0.36%\n",
      "   4484     0     6785.4758    86     6761.0934      Cuts: 64    95437    0.36%\n",
      "   4484     0     6785.4758    86     6761.0934      Cuts: 26    95614    0.36%\n",
      "   4484     0     6785.4758    86     6761.0934      Cuts: 61    95760    0.36%\n",
      "   4484     2     6785.4758    49     6761.0934     6785.4758    95760    0.36%\n",
      "   4486     3     6785.4758    49     6761.0934     6785.4758    95800    0.36%\n",
      "   4543    36     6768.2925    75     6761.0934     6785.4758    97436    0.36%\n",
      "   4947   344     6785.4758    70     6761.0934     6785.4758   103403    0.36%\n",
      "   5965  1104     6785.1916    56     6761.0934     6785.4758   119637    0.36%\n",
      "* 10859+ 5425                         6762.2613     6785.4758             0.34%\n",
      "\n",
      "GUB cover cuts applied:  2\n",
      "Cover cuts applied:  1\n",
      "Mixed integer rounding cuts applied:  2\n",
      "Gomory fractional cuts applied:  1\n",
      "\n",
      "Root node processing (before b&c):\n",
      "  Real time             =    0.63 sec. (230.10 ticks)\n",
      "Parallel b&c, 8 threads:\n",
      "  Real time             =    9.41 sec. (3865.75 ticks)\n",
      "  Sync time (average)   =    1.68 sec.\n",
      "  Wait time (average)   =    0.01 sec.\n",
      "                          ------------\n",
      "Total (root+branch&cut) =   10.03 sec. (4095.85 ticks)\n"
     ]
    },
    {
     "output_type": "execute_result",
     "data": {
      "text/plain": [
       "array([[ 0.,  0.,  0., -0., -0.,  1.,  1.,  0.,  0.,  0.,  0.,  0.,  1.,\n",
       "         0.,  1.,  0.,  1.,  0.,  1.,  0.],\n",
       "       [ 1., -0.,  1.,  0.,  0.,  1., -0.,  1.,  1.,  0.,  0.,  1.,  0.,\n",
       "         1.,  0.,  1.,  0., -0.,  0.,  0.],\n",
       "       [ 0.,  0., -0.,  0.,  0.,  0.,  1.,  1.,  1.,  0., -0.,  0.,  1.,\n",
       "         1.,  1.,  0.,  0.,  1.,  0.,  1.],\n",
       "       [ 0.,  0.,  1.,  1.,  1.,  1.,  0.,  0.,  0.,  1.,  1.,  0.,  0.,\n",
       "         0.,  0.,  1.,  1.,  0.,  0.,  0.],\n",
       "       [ 1.,  0.,  0.,  0.,  0.,  0.,  0.,  1.,  0.,  1.,  0.,  1.,  0.,\n",
       "         0.,  0.,  1.,  0.,  1.,  1.,  1.],\n",
       "       [ 1.,  1.,  1.,  0.,  1.,  0.,  0.,  0.,  1.,  1.,  0.,  0.,  0.,\n",
       "        -0.,  1.,  0.,  0.,  1.,  0.,  0.],\n",
       "       [ 0.,  0.,  0.,  0.,  0.,  0.,  0.,  0.,  0.,  0.,  0.,  0., -0.,\n",
       "         0.,  0.,  0.,  0.,  0.,  0.,  0.],\n",
       "       [ 1.,  1.,  1.,  0.,  0.,  1.,  0.,  0.,  0.,  0.,  0.,  1.,  0.,\n",
       "         1.,  0.,  0.,  1.,  1.,  0.,  0.],\n",
       "       [ 0.,  1.,  0.,  1.,  1.,  1.,  1.,  0.,  1.,  0.,  0.,  0.,  0.,\n",
       "         0.,  0., -0.,  0.,  0.,  1.,  1.],\n",
       "       [ 0., -0.,  0.,  0.,  0.,  0.,  0.,  0.,  0.,  0.,  0., -0.,  0.,\n",
       "         0.,  0.,  0.,  0.,  0., -0.,  0.],\n",
       "       [ 0.,  0.,  0.,  1.,  0.,  0.,  1.,  0.,  0.,  1.,  1.,  1.,  0.,\n",
       "         1.,  1.,  0.,  0.,  1.,  0.,  0.],\n",
       "       [ 0.,  0.,  0.,  0.,  0.,  0.,  1.,  1.,  0.,  0.,  1.,  1.,  1.,\n",
       "         0.,  1.,  1.,  0.,  1.,  0.,  0.],\n",
       "       [ 0.,  0.,  0.,  0.,  0.,  0.,  0., -0.,  0., -0.,  0.,  0.,  0.,\n",
       "         0.,  0.,  0.,  0.,  0., -0.,  0.],\n",
       "       [ 1.,  1.,  0.,  0.,  0.,  1.,  1.,  0.,  0.,  1.,  0., -0.,  0.,\n",
       "         0.,  1.,  1.,  1.,  0.,  0.,  0.],\n",
       "       [ 0.,  0.,  1.,  1.,  0.,  1.,  1.,  1.,  1.,  0.,  0.,  1.,  0.,\n",
       "         0.,  0.,  0.,  1.,  0.,  0.,  0.],\n",
       "       [ 0.,  0., -0.,  1.,  0., -0.,  0.,  0.,  0., -0.,  1.,  0.,  0.,\n",
       "        -0.,  0.,  0.,  0.,  0.,  1.,  1.],\n",
       "       [ 0.,  0.,  0.,  0.,  0.,  0., -0.,  0.,  0.,  0.,  0.,  0., -0.,\n",
       "         0., -0.,  0.,  0.,  0.,  0.,  0.],\n",
       "       [ 0.,  0.,  0.,  0.,  0.,  0.,  0.,  0.,  0.,  0.,  0., -0.,  0.,\n",
       "         0.,  0.,  0.,  0.,  0.,  0.,  0.],\n",
       "       [ 0.,  0.,  0.,  0.,  0.,  0.,  0.,  0.,  0.,  0.,  0.,  0.,  0.,\n",
       "         0.,  0.,  0.,  0.,  0.,  0.,  0.],\n",
       "       [ 0.,  0.,  0.,  0.,  0.,  0.,  0.,  0.,  0.,  0.,  0.,  0.,  0.,\n",
       "         0.,  0.,  0.,  0.,  0.,  0., -0.],\n",
       "       [ 0.,  0.,  0.,  0.,  0.,  0., -0., -0.,  0.,  0., -0.,  0.,  0.,\n",
       "         0., -0., -0.,  0.,  0.,  0.,  0.],\n",
       "       [ 0.,  0.,  0.,  0.,  0.,  0., -0., -0., -0., -0.,  0., -0.,  0.,\n",
       "        -0.,  0., -0.,  0.,  0.,  0.,  0.],\n",
       "       [ 0.,  1.,  0.,  0.,  1.,  0.,  1., -0.,  0.,  1.,  0.,  0.,  1.,\n",
       "         0.,  1.,  0.,  1.,  0.,  0.,  0.],\n",
       "       [ 0.,  0.,  0.,  0.,  0.,  0.,  0.,  0.,  0.,  0.,  0.,  0.,  0.,\n",
       "         0.,  0.,  0.,  0.,  0.,  0.,  1.],\n",
       "       [ 0.,  1.,  0.,  1., -0.,  0.,  0.,  1.,  0.,  0., -0.,  1., -0.,\n",
       "         0., -0.,  1.,  1.,  0.,  0.,  0.],\n",
       "       [ 0.,  0.,  0.,  0.,  0.,  0.,  0.,  0.,  0.,  0.,  0.,  0., -0.,\n",
       "         0., -0.,  0.,  0.,  0.,  0.,  0.],\n",
       "       [ 0.,  1.,  1.,  0.,  1.,  0.,  0.,  1.,  1.,  0.,  0.,  0.,  1.,\n",
       "         0.,  0.,  0.,  1.,  0.,  1.,  0.],\n",
       "       [ 0.,  0., -0., -0.,  0.,  0.,  0.,  0., -0.,  0.,  0.,  0.,  0.,\n",
       "         0.,  0.,  0.,  0.,  0.,  0., -0.],\n",
       "       [ 1.,  0.,  0.,  1.,  1.,  0., -0.,  1.,  1.,  1.,  1.,  0.,  0.,\n",
       "         0.,  0.,  0.,  0.,  0.,  0.,  1.],\n",
       "       [ 0.,  0.,  0.,  0.,  0., -0., -0.,  0.,  0.,  0.,  0.,  0.,  0.,\n",
       "         0.,  0.,  0.,  0.,  0.,  0.,  0.],\n",
       "       [ 0.,  0.,  1.,  1.,  0.,  0.,  0.,  0.,  0.,  0.,  1.,  1.,  1.,\n",
       "         1.,  0.,  0.,  0.,  1.,  1.,  0.],\n",
       "       [ 0., -0.,  0., -0., -0.,  0.,  0.,  0.,  0.,  0., -0.,  0.,  0.,\n",
       "         0.,  0.,  0.,  0.,  0.,  0., -0.],\n",
       "       [ 0., -0.,  0.,  0., -0.,  1.,  0.,  0.,  0.,  0.,  0.,  0.,  0.,\n",
       "         1.,  0.,  0.,  0.,  0.,  0.,  0.],\n",
       "       [ 1.,  1.,  0.,  0.,  1.,  0.,  0.,  0.,  0.,  1.,  1.,  0.,  1.,\n",
       "         0.,  0.,  1.,  0.,  0.,  0.,  0.],\n",
       "       [ 1.,  0.,  1.,  0.,  0.,  0.,  0.,  0.,  1.,  0.,  0.,  0.,  0.,\n",
       "         0.,  0.,  0.,  0.,  0.,  0.,  0.],\n",
       "       [ 0., -0.,  0.,  0.,  0.,  0.,  0.,  0.,  0.,  0.,  0.,  0., -0.,\n",
       "         0.,  0.,  0.,  0.,  0.,  0.,  0.],\n",
       "       [ 0.,  0.,  0.,  0.,  0.,  0.,  0.,  0.,  0.,  0.,  0., -0., -0.,\n",
       "         0.,  0.,  0.,  0.,  0.,  0.,  0.],\n",
       "       [ 0.,  0.,  0.,  0.,  0.,  0.,  0.,  0.,  0.,  0.,  0.,  0.,  0.,\n",
       "         1.,  0.,  0.,  0.,  0.,  0.,  0.],\n",
       "       [ 0.,  0.,  0.,  0.,  0.,  0.,  0.,  0.,  0.,  0.,  0.,  0.,  0.,\n",
       "         0.,  0.,  0.,  0.,  0.,  1.,  0.],\n",
       "       [ 0.,  0.,  0.,  0.,  0.,  0.,  0.,  0.,  0.,  0.,  0.,  0.,  0.,\n",
       "         0.,  0.,  0.,  0.,  0.,  0.,  0.],\n",
       "       [ 0.,  0.,  0., -0.,  0.,  0.,  0.,  0.,  0.,  0.,  0.,  0.,  0.,\n",
       "         0.,  0.,  0.,  0.,  0.,  0.,  0.],\n",
       "       [-0., -0.,  0.,  0.,  0.,  0.,  0.,  0.,  0.,  0.,  0.,  0.,  0.,\n",
       "        -0., -0.,  0.,  0.,  0.,  0.,  0.],\n",
       "       [ 0., -0.,  0., -0.,  1.,  0.,  0.,  0.,  0.,  0.,  1., -0.,  1.,\n",
       "         1.,  1.,  0., -0.,  1.,  1.,  1.],\n",
       "       [ 0.,  0.,  0., -0.,  0.,  0.,  0.,  0.,  0.,  0.,  0.,  0.,  0.,\n",
       "         0.,  0.,  1.,  0.,  0.,  0.,  1.],\n",
       "       [ 0.,  0., -0.,  0.,  0.,  0.,  0.,  0.,  0.,  0., -0.,  0.,  0.,\n",
       "         0.,  0., -0.,  0.,  0.,  0.,  0.],\n",
       "       [ 0.,  0.,  0.,  0.,  0.,  0., -0., -0.,  0., -0.,  0.,  0.,  0.,\n",
       "         0.,  0.,  0.,  0.,  0.,  0.,  0.],\n",
       "       [ 0.,  0.,  0.,  0., -0.,  0.,  0.,  0.,  0.,  0.,  0.,  0.,  0.,\n",
       "        -0.,  0.,  0.,  0., -0.,  0.,  0.],\n",
       "       [ 0.,  0.,  0.,  0.,  0.,  0.,  0.,  0.,  0.,  0.,  0.,  0.,  0.,\n",
       "         0.,  0.,  0.,  0.,  0.,  0.,  0.],\n",
       "       [ 0., -0.,  0.,  0.,  0.,  0.,  0.,  0.,  0.,  0.,  0.,  0.,  0.,\n",
       "         0.,  0., -0.,  0.,  0.,  0.,  0.]])"
      ]
     },
     "metadata": {},
     "execution_count": 40
    }
   ],
   "source": [
    "opt.solve()"
   ]
  },
  {
   "source": [
    "## Now let's sort the optimal lineups"
   ],
   "cell_type": "markdown",
   "metadata": {}
  },
  {
   "cell_type": "code",
   "execution_count": 41,
   "metadata": {
    "tags": []
   },
   "outputs": [
    {
     "output_type": "stream",
     "name": "stdout",
     "text": [
      "0 infeasible and 0 redundant lineups dropped during sorting\n"
     ]
    },
    {
     "output_type": "execute_result",
     "data": {
      "text/plain": [
       "                   PG                      SG                SF  \\\n",
       "0   Russell Westbrook           Jalen Brunson     Jae'Sean Tate   \n",
       "1   Russell Westbrook           Jalen Brunson        Joe Harris   \n",
       "2       Jalen Brunson            Bradley Beal    Brandon Ingram   \n",
       "3       Derrick White            Bradley Beal    Brandon Ingram   \n",
       "4          Kyle Lowry              Joe Harris     Kawhi Leonard   \n",
       "5   Russell Westbrook           Jalen Brunson    Brandon Ingram   \n",
       "6      T.J. McConnell  Quinndary Weatherspoon    Brandon Ingram   \n",
       "7      T.J. McConnell         Devonte' Graham    Brandon Ingram   \n",
       "8      T.J. McConnell         Devonte' Graham    Brandon Ingram   \n",
       "9   Russell Westbrook              Joe Harris    Doug McDermott   \n",
       "10      Derrick White            Bradley Beal     Kawhi Leonard   \n",
       "11      Jalen Brunson            Bradley Beal    Brandon Ingram   \n",
       "12     T.J. McConnell            Bradley Beal     Kawhi Leonard   \n",
       "13     T.J. McConnell           Jalen Brunson     Kawhi Leonard   \n",
       "14     T.J. McConnell  Quinndary Weatherspoon     Kawhi Leonard   \n",
       "15  Russell Westbrook         Devonte' Graham  Patrick Williams   \n",
       "16  Russell Westbrook           Jalen Brunson    Brandon Ingram   \n",
       "17     T.J. McConnell           Jalen Brunson     Kawhi Leonard   \n",
       "18         Kyle Lowry            Bradley Beal     Kawhi Leonard   \n",
       "19     T.J. McConnell            R.J. Hampton     Kawhi Leonard   \n",
       "\n",
       "                       PF                 C                       G  \\\n",
       "0       Marvin Bagley III    Isaiah Stewart         Devonte' Graham   \n",
       "1           Kyle Anderson    Isaiah Stewart              Kyle Lowry   \n",
       "2          Doug McDermott    Isaiah Stewart         Devonte' Graham   \n",
       "3          Doug McDermott  DeMarcus Cousins          Gary Trent Jr.   \n",
       "4          Doug McDermott    Isaiah Stewart           Derrick White   \n",
       "5          Doug McDermott     Mason Plumlee         Devonte' Graham   \n",
       "6        Patrick Williams     PJ Washington       Russell Westbrook   \n",
       "7        Patrick Williams  DeMarcus Cousins              Kyle Lowry   \n",
       "8           Kyle Anderson    Isaiah Stewart              Kyle Lowry   \n",
       "9           Jae'Sean Tate    Isaiah Stewart          Gary Trent Jr.   \n",
       "10       Patrick Williams       Cody Zeller              Joe Harris   \n",
       "11       Patrick Williams  DeMarcus Cousins         Devonte' Graham   \n",
       "12       Patrick Williams     PJ Washington  Quinndary Weatherspoon   \n",
       "13  Juan Toscano-Anderson     Mason Plumlee            Bradley Beal   \n",
       "14       Patrick Williams    Isaiah Stewart       Russell Westbrook   \n",
       "15         Doug McDermott  DeMarcus Cousins              Joe Harris   \n",
       "16         Doug McDermott  DeMarcus Cousins  Quinndary Weatherspoon   \n",
       "17       Patrick Williams    Isaiah Stewart            Bradley Beal   \n",
       "18          Jae'Sean Tate       Maxi Kleber  Quinndary Weatherspoon   \n",
       "19          Jae'Sean Tate       Cody Zeller           Derrick White   \n",
       "\n",
       "                    F                    UTIL  \n",
       "0          Joe Harris           Derrick White  \n",
       "1       PJ Washington        DeMarcus Cousins  \n",
       "2   Marvin Bagley III              Kyle Lowry  \n",
       "3       Kyle Anderson             Cody Zeller  \n",
       "4       Kyle Anderson           PJ Washington  \n",
       "5       Kyle Anderson  Quinndary Weatherspoon  \n",
       "6       Kyle Anderson          Gary Trent Jr.  \n",
       "7       Jae'Sean Tate           Derrick White  \n",
       "8   Marvin Bagley III           Derrick White  \n",
       "9       PJ Washington           Derrick White  \n",
       "10     Doug McDermott          Gary Trent Jr.  \n",
       "11      Jae'Sean Tate          Gary Trent Jr.  \n",
       "12         Joe Harris              Kyle Lowry  \n",
       "13     Gary Trent Jr.         Devonte' Graham  \n",
       "14      PJ Washington          Gary Trent Jr.  \n",
       "15      Jae'Sean Tate           Chris Boucher  \n",
       "16      PJ Washington              Kyle Lowry  \n",
       "17      Jae'Sean Tate          Gary Trent Jr.  \n",
       "18      Kyle Anderson             Cody Zeller  \n",
       "19      Kyle Anderson           Chris Boucher  "
      ],
      "text/html": "<div>\n<style scoped>\n    .dataframe tbody tr th:only-of-type {\n        vertical-align: middle;\n    }\n\n    .dataframe tbody tr th {\n        vertical-align: top;\n    }\n\n    .dataframe thead th {\n        text-align: right;\n    }\n</style>\n<table border=\"1\" class=\"dataframe\">\n  <thead>\n    <tr style=\"text-align: right;\">\n      <th></th>\n      <th>PG</th>\n      <th>SG</th>\n      <th>SF</th>\n      <th>PF</th>\n      <th>C</th>\n      <th>G</th>\n      <th>F</th>\n      <th>UTIL</th>\n    </tr>\n  </thead>\n  <tbody>\n    <tr>\n      <th>0</th>\n      <td>Russell Westbrook</td>\n      <td>Jalen Brunson</td>\n      <td>Jae'Sean Tate</td>\n      <td>Marvin Bagley III</td>\n      <td>Isaiah Stewart</td>\n      <td>Devonte' Graham</td>\n      <td>Joe Harris</td>\n      <td>Derrick White</td>\n    </tr>\n    <tr>\n      <th>1</th>\n      <td>Russell Westbrook</td>\n      <td>Jalen Brunson</td>\n      <td>Joe Harris</td>\n      <td>Kyle Anderson</td>\n      <td>Isaiah Stewart</td>\n      <td>Kyle Lowry</td>\n      <td>PJ Washington</td>\n      <td>DeMarcus Cousins</td>\n    </tr>\n    <tr>\n      <th>2</th>\n      <td>Jalen Brunson</td>\n      <td>Bradley Beal</td>\n      <td>Brandon Ingram</td>\n      <td>Doug McDermott</td>\n      <td>Isaiah Stewart</td>\n      <td>Devonte' Graham</td>\n      <td>Marvin Bagley III</td>\n      <td>Kyle Lowry</td>\n    </tr>\n    <tr>\n      <th>3</th>\n      <td>Derrick White</td>\n      <td>Bradley Beal</td>\n      <td>Brandon Ingram</td>\n      <td>Doug McDermott</td>\n      <td>DeMarcus Cousins</td>\n      <td>Gary Trent Jr.</td>\n      <td>Kyle Anderson</td>\n      <td>Cody Zeller</td>\n    </tr>\n    <tr>\n      <th>4</th>\n      <td>Kyle Lowry</td>\n      <td>Joe Harris</td>\n      <td>Kawhi Leonard</td>\n      <td>Doug McDermott</td>\n      <td>Isaiah Stewart</td>\n      <td>Derrick White</td>\n      <td>Kyle Anderson</td>\n      <td>PJ Washington</td>\n    </tr>\n    <tr>\n      <th>5</th>\n      <td>Russell Westbrook</td>\n      <td>Jalen Brunson</td>\n      <td>Brandon Ingram</td>\n      <td>Doug McDermott</td>\n      <td>Mason Plumlee</td>\n      <td>Devonte' Graham</td>\n      <td>Kyle Anderson</td>\n      <td>Quinndary Weatherspoon</td>\n    </tr>\n    <tr>\n      <th>6</th>\n      <td>T.J. McConnell</td>\n      <td>Quinndary Weatherspoon</td>\n      <td>Brandon Ingram</td>\n      <td>Patrick Williams</td>\n      <td>PJ Washington</td>\n      <td>Russell Westbrook</td>\n      <td>Kyle Anderson</td>\n      <td>Gary Trent Jr.</td>\n    </tr>\n    <tr>\n      <th>7</th>\n      <td>T.J. McConnell</td>\n      <td>Devonte' Graham</td>\n      <td>Brandon Ingram</td>\n      <td>Patrick Williams</td>\n      <td>DeMarcus Cousins</td>\n      <td>Kyle Lowry</td>\n      <td>Jae'Sean Tate</td>\n      <td>Derrick White</td>\n    </tr>\n    <tr>\n      <th>8</th>\n      <td>T.J. McConnell</td>\n      <td>Devonte' Graham</td>\n      <td>Brandon Ingram</td>\n      <td>Kyle Anderson</td>\n      <td>Isaiah Stewart</td>\n      <td>Kyle Lowry</td>\n      <td>Marvin Bagley III</td>\n      <td>Derrick White</td>\n    </tr>\n    <tr>\n      <th>9</th>\n      <td>Russell Westbrook</td>\n      <td>Joe Harris</td>\n      <td>Doug McDermott</td>\n      <td>Jae'Sean Tate</td>\n      <td>Isaiah Stewart</td>\n      <td>Gary Trent Jr.</td>\n      <td>PJ Washington</td>\n      <td>Derrick White</td>\n    </tr>\n    <tr>\n      <th>10</th>\n      <td>Derrick White</td>\n      <td>Bradley Beal</td>\n      <td>Kawhi Leonard</td>\n      <td>Patrick Williams</td>\n      <td>Cody Zeller</td>\n      <td>Joe Harris</td>\n      <td>Doug McDermott</td>\n      <td>Gary Trent Jr.</td>\n    </tr>\n    <tr>\n      <th>11</th>\n      <td>Jalen Brunson</td>\n      <td>Bradley Beal</td>\n      <td>Brandon Ingram</td>\n      <td>Patrick Williams</td>\n      <td>DeMarcus Cousins</td>\n      <td>Devonte' Graham</td>\n      <td>Jae'Sean Tate</td>\n      <td>Gary Trent Jr.</td>\n    </tr>\n    <tr>\n      <th>12</th>\n      <td>T.J. McConnell</td>\n      <td>Bradley Beal</td>\n      <td>Kawhi Leonard</td>\n      <td>Patrick Williams</td>\n      <td>PJ Washington</td>\n      <td>Quinndary Weatherspoon</td>\n      <td>Joe Harris</td>\n      <td>Kyle Lowry</td>\n    </tr>\n    <tr>\n      <th>13</th>\n      <td>T.J. McConnell</td>\n      <td>Jalen Brunson</td>\n      <td>Kawhi Leonard</td>\n      <td>Juan Toscano-Anderson</td>\n      <td>Mason Plumlee</td>\n      <td>Bradley Beal</td>\n      <td>Gary Trent Jr.</td>\n      <td>Devonte' Graham</td>\n    </tr>\n    <tr>\n      <th>14</th>\n      <td>T.J. McConnell</td>\n      <td>Quinndary Weatherspoon</td>\n      <td>Kawhi Leonard</td>\n      <td>Patrick Williams</td>\n      <td>Isaiah Stewart</td>\n      <td>Russell Westbrook</td>\n      <td>PJ Washington</td>\n      <td>Gary Trent Jr.</td>\n    </tr>\n    <tr>\n      <th>15</th>\n      <td>Russell Westbrook</td>\n      <td>Devonte' Graham</td>\n      <td>Patrick Williams</td>\n      <td>Doug McDermott</td>\n      <td>DeMarcus Cousins</td>\n      <td>Joe Harris</td>\n      <td>Jae'Sean Tate</td>\n      <td>Chris Boucher</td>\n    </tr>\n    <tr>\n      <th>16</th>\n      <td>Russell Westbrook</td>\n      <td>Jalen Brunson</td>\n      <td>Brandon Ingram</td>\n      <td>Doug McDermott</td>\n      <td>DeMarcus Cousins</td>\n      <td>Quinndary Weatherspoon</td>\n      <td>PJ Washington</td>\n      <td>Kyle Lowry</td>\n    </tr>\n    <tr>\n      <th>17</th>\n      <td>T.J. McConnell</td>\n      <td>Jalen Brunson</td>\n      <td>Kawhi Leonard</td>\n      <td>Patrick Williams</td>\n      <td>Isaiah Stewart</td>\n      <td>Bradley Beal</td>\n      <td>Jae'Sean Tate</td>\n      <td>Gary Trent Jr.</td>\n    </tr>\n    <tr>\n      <th>18</th>\n      <td>Kyle Lowry</td>\n      <td>Bradley Beal</td>\n      <td>Kawhi Leonard</td>\n      <td>Jae'Sean Tate</td>\n      <td>Maxi Kleber</td>\n      <td>Quinndary Weatherspoon</td>\n      <td>Kyle Anderson</td>\n      <td>Cody Zeller</td>\n    </tr>\n    <tr>\n      <th>19</th>\n      <td>T.J. McConnell</td>\n      <td>R.J. Hampton</td>\n      <td>Kawhi Leonard</td>\n      <td>Jae'Sean Tate</td>\n      <td>Cody Zeller</td>\n      <td>Derrick White</td>\n      <td>Kyle Anderson</td>\n      <td>Chris Boucher</td>\n    </tr>\n  </tbody>\n</table>\n</div>"
     },
     "metadata": {},
     "execution_count": 41
    }
   ],
   "source": [
    "opt.sort_lineups()"
   ]
  },
  {
   "cell_type": "code",
   "execution_count": 42,
   "metadata": {},
   "outputs": [],
   "source": [
    "df.set_index('Name', inplace=True)"
   ]
  },
  {
   "cell_type": "code",
   "execution_count": 43,
   "metadata": {},
   "outputs": [
    {
     "output_type": "stream",
     "name": "stdout",
     "text": [
      "CHA    1\nHOU    1\nSAC    1\nDAL    1\nDET    1\nSA     1\nBKN    1\nWAS    1\nName: TeamAbbrev, dtype: int64\nCHA    1\nLAC    1\nTOR    1\nDET    1\nDAL    1\nMEM    1\nBKN    1\nWAS    1\nName: TeamAbbrev, dtype: int64\nCHA    1\nIND    1\nTOR    1\nNO     1\nDAL    1\nSAC    1\nDET    1\nWAS    1\nName: TeamAbbrev, dtype: int64\nCHA    1\nIND    1\nTOR    1\nNO     1\nLAC    1\nMEM    1\nSA     1\nWAS    1\nName: TeamAbbrev, dtype: int64\nCHA    1\nIND    1\nTOR    1\nDET    1\nLAC    1\nMEM    1\nSA     1\nBKN    1\nName: TeamAbbrev, dtype: int64\nCHA    1\nIND    1\nNO     1\nDAL    1\nMEM    1\nDET    1\nSA     1\nWAS    1\nName: TeamAbbrev, dtype: int64\nCHA    1\nIND    1\nTOR    1\nNO     1\nCHI    1\nMEM    1\nSA     1\nWAS    1\nName: TeamAbbrev, dtype: int64\nLAC    1\nCHA    1\nIND    1\nTOR    1\nNO     1\nCHI    1\nSA     1\nHOU    1\nName: TeamAbbrev, dtype: int64\nDET    1\nCHA    1\nIND    1\nTOR    1\nNO     1\nSAC    1\nMEM    1\nSA     1\nName: TeamAbbrev, dtype: int64\nCHA    1\nIND    1\nTOR    1\nHOU    1\nDET    1\nSA     1\nBKN    1\nWAS    1\nName: TeamAbbrev, dtype: int64\nTOR    1\nCHA    1\nLAC    1\nIND    1\nCHI    1\nSA     1\nBKN    1\nWAS    1\nName: TeamAbbrev, dtype: int64\nCHI    1\nCHA    1\nLAC    1\nTOR    1\nNO     1\nDAL    1\nHOU    1\nWAS    1\nName: TeamAbbrev, dtype: int64\nCHI    1\nCHA    1\nIND    1\nTOR    1\nLAC    1\nSA     1\nBKN    1\nWAS    1\nName: TeamAbbrev, dtype: int64\nLAC    1\nCHA    1\nIND    1\nTOR    1\nDET    1\nDAL    1\nGS     1\nWAS    1\nName: TeamAbbrev, dtype: int64\nCHI    1\nCHA    1\nIND    1\nTOR    1\nDET    1\nLAC    1\nSA     1\nWAS    1\nName: TeamAbbrev, dtype: int64\nLAC    1\nCHA    1\nIND    1\nTOR    1\nHOU    1\nCHI    1\nBKN    1\nWAS    1\nName: TeamAbbrev, dtype: int64\nLAC    1\nCHA    1\nIND    1\nTOR    1\nNO     1\nDAL    1\nSA     1\nWAS    1\nName: TeamAbbrev, dtype: int64\nLAC    1\nIND    1\nTOR    1\nDET    1\nDAL    1\nHOU    1\nCHI    1\nWAS    1\nName: TeamAbbrev, dtype: int64\nCHA    1\nTOR    1\nHOU    1\nLAC    1\nDAL    1\nMEM    1\nSA     1\nWAS    1\nName: TeamAbbrev, dtype: int64\nCHA    1\nIND    1\nTOR    1\nHOU    1\nLAC    1\nMEM    1\nSA     1\nORL    1\nName: TeamAbbrev, dtype: int64\n"
     ]
    }
   ],
   "source": [
    "for _, row in opt.df_sorted_lineups.iterrows():\n",
    "    team_results = df.loc[row.values, 'TeamAbbrev'].value_counts()\n",
    "    print(team_results)"
   ]
  },
  {
   "cell_type": "code",
   "execution_count": null,
   "metadata": {},
   "outputs": [],
   "source": []
  }
 ]
}