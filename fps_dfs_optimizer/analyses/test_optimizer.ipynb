{
 "metadata": {
  "language_info": {
   "codemirror_mode": {
    "name": "ipython",
    "version": 3
   },
   "file_extension": ".py",
   "mimetype": "text/x-python",
   "name": "python",
   "nbconvert_exporter": "python",
   "pygments_lexer": "ipython3",
   "version": "3.7.8-final"
  },
  "orig_nbformat": 2,
  "kernelspec": {
   "name": "python_defaultSpec_1600237738923",
   "display_name": "Python 3.7.8 64-bit ('optimizer': conda)"
  }
 },
 "nbformat": 4,
 "nbformat_minor": 2,
 "cells": [
  {
   "source": [
    "# Example Notebook For Using Optimizer Tools"
   ],
   "cell_type": "markdown",
   "metadata": {}
  },
  {
   "cell_type": "code",
   "execution_count": 1,
   "metadata": {},
   "outputs": [],
   "source": [
    "import pandas as pd\n",
    "import datetime as dt\n",
    "\n",
    "from fps_dfs_optimizer.src.draftkings_tools import get_contests, get_players, EntriesHandler, get_today, get_players_from_salaries\n",
    "from fps_dfs_optimizer.src.projections import get_projections\n",
    "from fps_dfs_optimizer.src.optimizer import Exposures, LineupOptimizer\n",
    "from fps_dfs_optimizer.src.generator import LineupGenerator"
   ]
  },
  {
   "source": [
    "## Generate today's players sheet\n",
    "This block will retrieve the players DataFrame for the current date.\n",
    "Any projections script can be implemented in get_projections(), but right now dummy projections are given"
   ],
   "cell_type": "markdown",
   "metadata": {}
  },
  {
   "cell_type": "code",
   "execution_count": 2,
   "metadata": {},
   "outputs": [],
   "source": [
    "today = get_today()\n",
    "today = dt.date(2020, 9, 26)\n",
    "df_contests = get_contests(today)"
   ]
  },
  {
   "cell_type": "code",
   "execution_count": 3,
   "metadata": {},
   "outputs": [
    {
     "output_type": "execute_result",
     "data": {
      "text/plain": "         id  double_up  draft_group_id  \\\n0  92870651      False           40083   \n1  92869641      False           40083   \n2  92869644      False           40083   \n3  92869640      False           40083   \n4  92869662      False           40090   \n\n                                          entries  fantasy_player_points  \\\n0  {'maximum': 47058, 'fee': 20.0, 'total': 3959}                     20   \n1   {'maximum': 23781, 'fee': 4.0, 'total': 3089}                      4   \n2  {'maximum': 71343, 'fee': 1.0, 'total': 10411}                      1   \n3    {'maximum': 7134, 'fee': 5.0, 'total': 1023}                      5   \n4    {'maximum': 3529, 'fee': 10.0, 'total': 474}                     10   \n\n   fifty_fifty  guaranteed  head_to_head  \\\n0        False        True         False   \n1        False        True         False   \n2        False        True         False   \n3        False        True         False   \n4        False        True         False   \n\n                                                name    payout      sport  \\\n0  NBA Showdown $800K Shootaround [$200K to 1st] ...  800000.0  Sport.NBA   \n1  NBA Showdown $80K Four Point Play [20 Entry Ma...   80000.0  Sport.NBA   \n2             NBA Showdown $60K And-One (MIA vs BOS)   60000.0  Sport.NBA   \n3   NBA Showdown $30K Zone [$5K to 1st] (MIA vs BOS)   30000.0  Sport.NBA   \n4    NBA $30K Pull Up Jumper [$10K to 1st] (Fri-Sat)   30000.0  Sport.NBA   \n\n   starred                 starts_at  maximum   fee  total  \n0     True 2020-09-26 00:30:00+00:00    47058  20.0   3959  \n1     True 2020-09-26 00:30:00+00:00    23781   4.0   3089  \n2     True 2020-09-26 00:30:00+00:00    71343   1.0  10411  \n3     True 2020-09-26 00:30:00+00:00     7134   5.0   1023  \n4     True 2020-09-26 00:30:00+00:00     3529  10.0    474  ",
      "text/html": "<div>\n<style scoped>\n    .dataframe tbody tr th:only-of-type {\n        vertical-align: middle;\n    }\n\n    .dataframe tbody tr th {\n        vertical-align: top;\n    }\n\n    .dataframe thead th {\n        text-align: right;\n    }\n</style>\n<table border=\"1\" class=\"dataframe\">\n  <thead>\n    <tr style=\"text-align: right;\">\n      <th></th>\n      <th>id</th>\n      <th>double_up</th>\n      <th>draft_group_id</th>\n      <th>entries</th>\n      <th>fantasy_player_points</th>\n      <th>fifty_fifty</th>\n      <th>guaranteed</th>\n      <th>head_to_head</th>\n      <th>name</th>\n      <th>payout</th>\n      <th>sport</th>\n      <th>starred</th>\n      <th>starts_at</th>\n      <th>maximum</th>\n      <th>fee</th>\n      <th>total</th>\n    </tr>\n  </thead>\n  <tbody>\n    <tr>\n      <th>0</th>\n      <td>92870651</td>\n      <td>False</td>\n      <td>40083</td>\n      <td>{'maximum': 47058, 'fee': 20.0, 'total': 3959}</td>\n      <td>20</td>\n      <td>False</td>\n      <td>True</td>\n      <td>False</td>\n      <td>NBA Showdown $800K Shootaround [$200K to 1st] ...</td>\n      <td>800000.0</td>\n      <td>Sport.NBA</td>\n      <td>True</td>\n      <td>2020-09-26 00:30:00+00:00</td>\n      <td>47058</td>\n      <td>20.0</td>\n      <td>3959</td>\n    </tr>\n    <tr>\n      <th>1</th>\n      <td>92869641</td>\n      <td>False</td>\n      <td>40083</td>\n      <td>{'maximum': 23781, 'fee': 4.0, 'total': 3089}</td>\n      <td>4</td>\n      <td>False</td>\n      <td>True</td>\n      <td>False</td>\n      <td>NBA Showdown $80K Four Point Play [20 Entry Ma...</td>\n      <td>80000.0</td>\n      <td>Sport.NBA</td>\n      <td>True</td>\n      <td>2020-09-26 00:30:00+00:00</td>\n      <td>23781</td>\n      <td>4.0</td>\n      <td>3089</td>\n    </tr>\n    <tr>\n      <th>2</th>\n      <td>92869644</td>\n      <td>False</td>\n      <td>40083</td>\n      <td>{'maximum': 71343, 'fee': 1.0, 'total': 10411}</td>\n      <td>1</td>\n      <td>False</td>\n      <td>True</td>\n      <td>False</td>\n      <td>NBA Showdown $60K And-One (MIA vs BOS)</td>\n      <td>60000.0</td>\n      <td>Sport.NBA</td>\n      <td>True</td>\n      <td>2020-09-26 00:30:00+00:00</td>\n      <td>71343</td>\n      <td>1.0</td>\n      <td>10411</td>\n    </tr>\n    <tr>\n      <th>3</th>\n      <td>92869640</td>\n      <td>False</td>\n      <td>40083</td>\n      <td>{'maximum': 7134, 'fee': 5.0, 'total': 1023}</td>\n      <td>5</td>\n      <td>False</td>\n      <td>True</td>\n      <td>False</td>\n      <td>NBA Showdown $30K Zone [$5K to 1st] (MIA vs BOS)</td>\n      <td>30000.0</td>\n      <td>Sport.NBA</td>\n      <td>True</td>\n      <td>2020-09-26 00:30:00+00:00</td>\n      <td>7134</td>\n      <td>5.0</td>\n      <td>1023</td>\n    </tr>\n    <tr>\n      <th>4</th>\n      <td>92869662</td>\n      <td>False</td>\n      <td>40090</td>\n      <td>{'maximum': 3529, 'fee': 10.0, 'total': 474}</td>\n      <td>10</td>\n      <td>False</td>\n      <td>True</td>\n      <td>False</td>\n      <td>NBA $30K Pull Up Jumper [$10K to 1st] (Fri-Sat)</td>\n      <td>30000.0</td>\n      <td>Sport.NBA</td>\n      <td>True</td>\n      <td>2020-09-26 00:30:00+00:00</td>\n      <td>3529</td>\n      <td>10.0</td>\n      <td>474</td>\n    </tr>\n  </tbody>\n</table>\n</div>"
     },
     "metadata": {},
     "execution_count": 3
    }
   ],
   "source": [
    "df_contests.head()"
   ]
  },
  {
   "cell_type": "code",
   "execution_count": 4,
   "metadata": {
    "tags": []
   },
   "outputs": [],
   "source": [
    "group_id = df_contests.draft_group_id.unique()[0]\n",
    "df_players = get_players(group_id)"
   ]
  },
  {
   "source": [
    "## Optionally, can read players sheet directly from DKSalaries, if it is downloaded"
   ],
   "cell_type": "markdown",
   "metadata": {}
  },
  {
   "cell_type": "code",
   "execution_count": 5,
   "metadata": {},
   "outputs": [],
   "source": [
    "df_players = get_players_from_salaries('../data/raw/DKSalaries_test.csv')"
   ]
  },
  {
   "cell_type": "code",
   "execution_count": 6,
   "metadata": {
    "tags": []
   },
   "outputs": [],
   "source": [
    "points, std = get_projections(df_players)\n",
    "df_players['projections'] = points\n",
    "df_players['std'] = std"
   ]
  },
  {
   "cell_type": "code",
   "execution_count": 7,
   "metadata": {},
   "outputs": [
    {
     "output_type": "execute_result",
     "data": {
      "text/plain": "               Name        ID Position  Salary       Game                Time  \\\n0      Jayson Tatum  15491687    SF/PF   15900  MIA @ BOS 2020-09-25 20:30:00   \n1       Bam Adebayo  15491688        C   14700  MIA @ BOS 2020-09-25 20:30:00   \n2      Jimmy Butler  15491689    SG/SF   14100  MIA @ BOS 2020-09-25 20:30:00   \n3      Jaylen Brown  15491690    SG/SF   13800  MIA @ BOS 2020-09-25 20:30:00   \n4      Kemba Walker  15491691       PG   13200  MIA @ BOS 2020-09-25 20:30:00   \n..              ...       ...      ...     ...        ...                 ...   \n63   Meyers Leonard  15491682     PF/C    1000  MIA @ BOS 2020-09-25 20:30:00   \n64     Gabe Vincent  15491683       PG    1000  MIA @ BOS 2020-09-25 20:30:00   \n65   Kyle Alexander  15491684        C    1000  MIA @ BOS 2020-09-25 20:30:00   \n66        KZ Okpala  15491685       SF    1000  MIA @ BOS 2020-09-25 20:30:00   \n67  Vincent Poirier  15491686        C    1000  MIA @ BOS 2020-09-25 20:30:00   \n\n   TeamAbbrev  min_exp  max_exp  projections        std  \n0         BOS        0      0.5    73.668070  32.693852  \n1         MIA        0      0.5    53.389831  30.356046  \n2         MIA        0      0.5    85.452446  17.002858  \n3         BOS        0      0.5    83.038824  27.114203  \n4         BOS        0      0.5    66.322765  26.766201  \n..        ...      ...      ...          ...        ...  \n63        MIA        0      0.5     5.933429   1.292981  \n64        MIA        0      0.5     5.426802   2.286846  \n65        MIA        0      0.5     4.386105   1.773637  \n66        MIA        0      0.5     4.952382   2.073895  \n67        BOS        0      0.5     6.277523   1.001845  \n\n[68 rows x 11 columns]",
      "text/html": "<div>\n<style scoped>\n    .dataframe tbody tr th:only-of-type {\n        vertical-align: middle;\n    }\n\n    .dataframe tbody tr th {\n        vertical-align: top;\n    }\n\n    .dataframe thead th {\n        text-align: right;\n    }\n</style>\n<table border=\"1\" class=\"dataframe\">\n  <thead>\n    <tr style=\"text-align: right;\">\n      <th></th>\n      <th>Name</th>\n      <th>ID</th>\n      <th>Position</th>\n      <th>Salary</th>\n      <th>Game</th>\n      <th>Time</th>\n      <th>TeamAbbrev</th>\n      <th>min_exp</th>\n      <th>max_exp</th>\n      <th>projections</th>\n      <th>std</th>\n    </tr>\n  </thead>\n  <tbody>\n    <tr>\n      <th>0</th>\n      <td>Jayson Tatum</td>\n      <td>15491687</td>\n      <td>SF/PF</td>\n      <td>15900</td>\n      <td>MIA @ BOS</td>\n      <td>2020-09-25 20:30:00</td>\n      <td>BOS</td>\n      <td>0</td>\n      <td>0.5</td>\n      <td>73.668070</td>\n      <td>32.693852</td>\n    </tr>\n    <tr>\n      <th>1</th>\n      <td>Bam Adebayo</td>\n      <td>15491688</td>\n      <td>C</td>\n      <td>14700</td>\n      <td>MIA @ BOS</td>\n      <td>2020-09-25 20:30:00</td>\n      <td>MIA</td>\n      <td>0</td>\n      <td>0.5</td>\n      <td>53.389831</td>\n      <td>30.356046</td>\n    </tr>\n    <tr>\n      <th>2</th>\n      <td>Jimmy Butler</td>\n      <td>15491689</td>\n      <td>SG/SF</td>\n      <td>14100</td>\n      <td>MIA @ BOS</td>\n      <td>2020-09-25 20:30:00</td>\n      <td>MIA</td>\n      <td>0</td>\n      <td>0.5</td>\n      <td>85.452446</td>\n      <td>17.002858</td>\n    </tr>\n    <tr>\n      <th>3</th>\n      <td>Jaylen Brown</td>\n      <td>15491690</td>\n      <td>SG/SF</td>\n      <td>13800</td>\n      <td>MIA @ BOS</td>\n      <td>2020-09-25 20:30:00</td>\n      <td>BOS</td>\n      <td>0</td>\n      <td>0.5</td>\n      <td>83.038824</td>\n      <td>27.114203</td>\n    </tr>\n    <tr>\n      <th>4</th>\n      <td>Kemba Walker</td>\n      <td>15491691</td>\n      <td>PG</td>\n      <td>13200</td>\n      <td>MIA @ BOS</td>\n      <td>2020-09-25 20:30:00</td>\n      <td>BOS</td>\n      <td>0</td>\n      <td>0.5</td>\n      <td>66.322765</td>\n      <td>26.766201</td>\n    </tr>\n    <tr>\n      <th>...</th>\n      <td>...</td>\n      <td>...</td>\n      <td>...</td>\n      <td>...</td>\n      <td>...</td>\n      <td>...</td>\n      <td>...</td>\n      <td>...</td>\n      <td>...</td>\n      <td>...</td>\n      <td>...</td>\n    </tr>\n    <tr>\n      <th>63</th>\n      <td>Meyers Leonard</td>\n      <td>15491682</td>\n      <td>PF/C</td>\n      <td>1000</td>\n      <td>MIA @ BOS</td>\n      <td>2020-09-25 20:30:00</td>\n      <td>MIA</td>\n      <td>0</td>\n      <td>0.5</td>\n      <td>5.933429</td>\n      <td>1.292981</td>\n    </tr>\n    <tr>\n      <th>64</th>\n      <td>Gabe Vincent</td>\n      <td>15491683</td>\n      <td>PG</td>\n      <td>1000</td>\n      <td>MIA @ BOS</td>\n      <td>2020-09-25 20:30:00</td>\n      <td>MIA</td>\n      <td>0</td>\n      <td>0.5</td>\n      <td>5.426802</td>\n      <td>2.286846</td>\n    </tr>\n    <tr>\n      <th>65</th>\n      <td>Kyle Alexander</td>\n      <td>15491684</td>\n      <td>C</td>\n      <td>1000</td>\n      <td>MIA @ BOS</td>\n      <td>2020-09-25 20:30:00</td>\n      <td>MIA</td>\n      <td>0</td>\n      <td>0.5</td>\n      <td>4.386105</td>\n      <td>1.773637</td>\n    </tr>\n    <tr>\n      <th>66</th>\n      <td>KZ Okpala</td>\n      <td>15491685</td>\n      <td>SF</td>\n      <td>1000</td>\n      <td>MIA @ BOS</td>\n      <td>2020-09-25 20:30:00</td>\n      <td>MIA</td>\n      <td>0</td>\n      <td>0.5</td>\n      <td>4.952382</td>\n      <td>2.073895</td>\n    </tr>\n    <tr>\n      <th>67</th>\n      <td>Vincent Poirier</td>\n      <td>15491686</td>\n      <td>C</td>\n      <td>1000</td>\n      <td>MIA @ BOS</td>\n      <td>2020-09-25 20:30:00</td>\n      <td>BOS</td>\n      <td>0</td>\n      <td>0.5</td>\n      <td>6.277523</td>\n      <td>1.001845</td>\n    </tr>\n  </tbody>\n</table>\n<p>68 rows × 11 columns</p>\n</div>"
     },
     "metadata": {},
     "execution_count": 7
    }
   ],
   "source": [
    "df_players"
   ]
  },
  {
   "source": [
    "## Now exposures must be inputted\n",
    "Here the dataframe above is saved to the data/temp folder for exposures to be filled out.\n",
    "Once the exposures are filled out, run exp.read_exposures() to pull the sheet into the dataframe."
   ],
   "cell_type": "markdown",
   "metadata": {}
  },
  {
   "cell_type": "code",
   "execution_count": 8,
   "metadata": {
    "tags": []
   },
   "outputs": [],
   "source": [
    "exp = Exposures(df_players)"
   ]
  },
  {
   "cell_type": "code",
   "execution_count": 9,
   "metadata": {},
   "outputs": [],
   "source": [
    "df_players = exp.read_exposures()"
   ]
  },
  {
   "cell_type": "code",
   "execution_count": 10,
   "metadata": {},
   "outputs": [
    {
     "output_type": "execute_result",
     "data": {
      "text/plain": "               Name        ID Position  Salary       Game                Time  \\\n0      Jayson Tatum  15491687    SF/PF   15900  MIA @ BOS 2020-09-25 20:30:00   \n1       Bam Adebayo  15491688        C   14700  MIA @ BOS 2020-09-25 20:30:00   \n2      Jimmy Butler  15491689    SG/SF   14100  MIA @ BOS 2020-09-25 20:30:00   \n3      Jaylen Brown  15491690    SG/SF   13800  MIA @ BOS 2020-09-25 20:30:00   \n4      Kemba Walker  15491691       PG   13200  MIA @ BOS 2020-09-25 20:30:00   \n..              ...       ...      ...     ...        ...                 ...   \n63   Meyers Leonard  15491682     PF/C    1000  MIA @ BOS 2020-09-25 20:30:00   \n64     Gabe Vincent  15491683       PG    1000  MIA @ BOS 2020-09-25 20:30:00   \n65   Kyle Alexander  15491684        C    1000  MIA @ BOS 2020-09-25 20:30:00   \n66        KZ Okpala  15491685       SF    1000  MIA @ BOS 2020-09-25 20:30:00   \n67  Vincent Poirier  15491686        C    1000  MIA @ BOS 2020-09-25 20:30:00   \n\n   TeamAbbrev  min_exp  max_exp  projections        std  \n0         BOS        0      0.5    73.668070  32.693852  \n1         MIA        0      0.5    53.389831  30.356046  \n2         MIA        0      0.5    85.452446  17.002858  \n3         BOS        0      0.5    83.038824  27.114203  \n4         BOS        0      0.5    66.322765  26.766201  \n..        ...      ...      ...          ...        ...  \n63        MIA        0      0.5     5.933429   1.292981  \n64        MIA        0      0.5     5.426802   2.286846  \n65        MIA        0      0.5     4.386105   1.773637  \n66        MIA        0      0.5     4.952382   2.073895  \n67        BOS        0      0.5     6.277523   1.001845  \n\n[68 rows x 11 columns]",
      "text/html": "<div>\n<style scoped>\n    .dataframe tbody tr th:only-of-type {\n        vertical-align: middle;\n    }\n\n    .dataframe tbody tr th {\n        vertical-align: top;\n    }\n\n    .dataframe thead th {\n        text-align: right;\n    }\n</style>\n<table border=\"1\" class=\"dataframe\">\n  <thead>\n    <tr style=\"text-align: right;\">\n      <th></th>\n      <th>Name</th>\n      <th>ID</th>\n      <th>Position</th>\n      <th>Salary</th>\n      <th>Game</th>\n      <th>Time</th>\n      <th>TeamAbbrev</th>\n      <th>min_exp</th>\n      <th>max_exp</th>\n      <th>projections</th>\n      <th>std</th>\n    </tr>\n  </thead>\n  <tbody>\n    <tr>\n      <th>0</th>\n      <td>Jayson Tatum</td>\n      <td>15491687</td>\n      <td>SF/PF</td>\n      <td>15900</td>\n      <td>MIA @ BOS</td>\n      <td>2020-09-25 20:30:00</td>\n      <td>BOS</td>\n      <td>0</td>\n      <td>0.5</td>\n      <td>73.668070</td>\n      <td>32.693852</td>\n    </tr>\n    <tr>\n      <th>1</th>\n      <td>Bam Adebayo</td>\n      <td>15491688</td>\n      <td>C</td>\n      <td>14700</td>\n      <td>MIA @ BOS</td>\n      <td>2020-09-25 20:30:00</td>\n      <td>MIA</td>\n      <td>0</td>\n      <td>0.5</td>\n      <td>53.389831</td>\n      <td>30.356046</td>\n    </tr>\n    <tr>\n      <th>2</th>\n      <td>Jimmy Butler</td>\n      <td>15491689</td>\n      <td>SG/SF</td>\n      <td>14100</td>\n      <td>MIA @ BOS</td>\n      <td>2020-09-25 20:30:00</td>\n      <td>MIA</td>\n      <td>0</td>\n      <td>0.5</td>\n      <td>85.452446</td>\n      <td>17.002858</td>\n    </tr>\n    <tr>\n      <th>3</th>\n      <td>Jaylen Brown</td>\n      <td>15491690</td>\n      <td>SG/SF</td>\n      <td>13800</td>\n      <td>MIA @ BOS</td>\n      <td>2020-09-25 20:30:00</td>\n      <td>BOS</td>\n      <td>0</td>\n      <td>0.5</td>\n      <td>83.038824</td>\n      <td>27.114203</td>\n    </tr>\n    <tr>\n      <th>4</th>\n      <td>Kemba Walker</td>\n      <td>15491691</td>\n      <td>PG</td>\n      <td>13200</td>\n      <td>MIA @ BOS</td>\n      <td>2020-09-25 20:30:00</td>\n      <td>BOS</td>\n      <td>0</td>\n      <td>0.5</td>\n      <td>66.322765</td>\n      <td>26.766201</td>\n    </tr>\n    <tr>\n      <th>...</th>\n      <td>...</td>\n      <td>...</td>\n      <td>...</td>\n      <td>...</td>\n      <td>...</td>\n      <td>...</td>\n      <td>...</td>\n      <td>...</td>\n      <td>...</td>\n      <td>...</td>\n      <td>...</td>\n    </tr>\n    <tr>\n      <th>63</th>\n      <td>Meyers Leonard</td>\n      <td>15491682</td>\n      <td>PF/C</td>\n      <td>1000</td>\n      <td>MIA @ BOS</td>\n      <td>2020-09-25 20:30:00</td>\n      <td>MIA</td>\n      <td>0</td>\n      <td>0.5</td>\n      <td>5.933429</td>\n      <td>1.292981</td>\n    </tr>\n    <tr>\n      <th>64</th>\n      <td>Gabe Vincent</td>\n      <td>15491683</td>\n      <td>PG</td>\n      <td>1000</td>\n      <td>MIA @ BOS</td>\n      <td>2020-09-25 20:30:00</td>\n      <td>MIA</td>\n      <td>0</td>\n      <td>0.5</td>\n      <td>5.426802</td>\n      <td>2.286846</td>\n    </tr>\n    <tr>\n      <th>65</th>\n      <td>Kyle Alexander</td>\n      <td>15491684</td>\n      <td>C</td>\n      <td>1000</td>\n      <td>MIA @ BOS</td>\n      <td>2020-09-25 20:30:00</td>\n      <td>MIA</td>\n      <td>0</td>\n      <td>0.5</td>\n      <td>4.386105</td>\n      <td>1.773637</td>\n    </tr>\n    <tr>\n      <th>66</th>\n      <td>KZ Okpala</td>\n      <td>15491685</td>\n      <td>SF</td>\n      <td>1000</td>\n      <td>MIA @ BOS</td>\n      <td>2020-09-25 20:30:00</td>\n      <td>MIA</td>\n      <td>0</td>\n      <td>0.5</td>\n      <td>4.952382</td>\n      <td>2.073895</td>\n    </tr>\n    <tr>\n      <th>67</th>\n      <td>Vincent Poirier</td>\n      <td>15491686</td>\n      <td>C</td>\n      <td>1000</td>\n      <td>MIA @ BOS</td>\n      <td>2020-09-25 20:30:00</td>\n      <td>BOS</td>\n      <td>0</td>\n      <td>0.5</td>\n      <td>6.277523</td>\n      <td>1.001845</td>\n    </tr>\n  </tbody>\n</table>\n<p>68 rows × 11 columns</p>\n</div>"
     },
     "metadata": {},
     "execution_count": 10
    }
   ],
   "source": [
    "cols = df_players.columns\n",
    "df_players"
   ]
  },
  {
   "source": [
    "# Now let's work with a historical dataframe \n",
    "Data is from 2020/01/02"
   ],
   "cell_type": "markdown",
   "metadata": {}
  },
  {
   "cell_type": "code",
   "execution_count": 11,
   "metadata": {},
   "outputs": [
    {
     "output_type": "execute_result",
     "data": {
      "text/plain": "                  Name        ID Position  Salary  \\\n0          Gary Harris  14066354       SG    4600   \n1       Darius Garland  14066387       PG    4400   \n2        Collin Sexton  14066177    PG/SG    5900   \n3         Kevin Porter  14066428    SG/SF    4200   \n4        Aaron Holiday  14066210    PG/SG    5700   \n..                 ...       ...      ...     ...   \n212  Patrick Patterson  14066669     PF/C    3200   \n213         Louis King  14066970    SF/PF    3000   \n214    Jerome Robinson  14066841       SG    3000   \n215   Johnathan Motley  14066954     PF/C    3000   \n216    Sekou Doumbouya  14066980    SF/PF    3000   \n\n                              Game                      Time TeamAbbrev  \\\n0    MIA@MIL 09/02/2020 06:30PM ET 2020-09-10 23:00:00+00:00        MIL   \n1    OKC@HOU 09/02/2020 09:00PM ET 2020-09-10 23:00:00+00:00        HOU   \n2    OKC@HOU 09/02/2020 09:00PM ET 2020-09-10 23:00:00+00:00        HOU   \n3    MIA@MIL 09/02/2020 06:30PM ET 2020-09-10 23:00:00+00:00        MIL   \n4    OKC@HOU 09/02/2020 09:00PM ET 2020-09-10 23:00:00+00:00        HOU   \n..                             ...                       ...        ...   \n212  MIA@MIL 09/02/2020 06:30PM ET 2020-09-10 23:00:00+00:00        HOU   \n213  MIA@MIL 09/02/2020 06:30PM ET 2020-09-10 23:00:00+00:00        MIL   \n214  OKC@HOU 09/02/2020 09:00PM ET 2020-09-10 23:00:00+00:00        HOU   \n215  MIA@MIL 09/02/2020 06:30PM ET 2020-09-10 23:00:00+00:00        MIA   \n216  OKC@HOU 09/02/2020 09:00PM ET 2020-09-10 23:00:00+00:00        MIA   \n\n     min_exp  max_exp  projections       std  \n0          0      0.4        29.62  4.462711  \n1          0      0.4        26.53  4.750068  \n2          0      0.4        34.33  7.762624  \n3          0      0.4        23.80  5.999999  \n4          0      0.4        31.38  5.332358  \n..       ...      ...          ...       ...  \n212        0      0.4         5.28  1.183974  \n213        0      0.4         4.87  0.616341  \n214        0      0.4         4.05  0.474432  \n215        0      0.4         3.84  0.583016  \n216        0      0.4         3.13  0.599690  \n\n[217 rows x 11 columns]",
      "text/html": "<div>\n<style scoped>\n    .dataframe tbody tr th:only-of-type {\n        vertical-align: middle;\n    }\n\n    .dataframe tbody tr th {\n        vertical-align: top;\n    }\n\n    .dataframe thead th {\n        text-align: right;\n    }\n</style>\n<table border=\"1\" class=\"dataframe\">\n  <thead>\n    <tr style=\"text-align: right;\">\n      <th></th>\n      <th>Name</th>\n      <th>ID</th>\n      <th>Position</th>\n      <th>Salary</th>\n      <th>Game</th>\n      <th>Time</th>\n      <th>TeamAbbrev</th>\n      <th>min_exp</th>\n      <th>max_exp</th>\n      <th>projections</th>\n      <th>std</th>\n    </tr>\n  </thead>\n  <tbody>\n    <tr>\n      <th>0</th>\n      <td>Gary Harris</td>\n      <td>14066354</td>\n      <td>SG</td>\n      <td>4600</td>\n      <td>MIA@MIL 09/02/2020 06:30PM ET</td>\n      <td>2020-09-10 23:00:00+00:00</td>\n      <td>MIL</td>\n      <td>0</td>\n      <td>0.4</td>\n      <td>29.62</td>\n      <td>4.462711</td>\n    </tr>\n    <tr>\n      <th>1</th>\n      <td>Darius Garland</td>\n      <td>14066387</td>\n      <td>PG</td>\n      <td>4400</td>\n      <td>OKC@HOU 09/02/2020 09:00PM ET</td>\n      <td>2020-09-10 23:00:00+00:00</td>\n      <td>HOU</td>\n      <td>0</td>\n      <td>0.4</td>\n      <td>26.53</td>\n      <td>4.750068</td>\n    </tr>\n    <tr>\n      <th>2</th>\n      <td>Collin Sexton</td>\n      <td>14066177</td>\n      <td>PG/SG</td>\n      <td>5900</td>\n      <td>OKC@HOU 09/02/2020 09:00PM ET</td>\n      <td>2020-09-10 23:00:00+00:00</td>\n      <td>HOU</td>\n      <td>0</td>\n      <td>0.4</td>\n      <td>34.33</td>\n      <td>7.762624</td>\n    </tr>\n    <tr>\n      <th>3</th>\n      <td>Kevin Porter</td>\n      <td>14066428</td>\n      <td>SG/SF</td>\n      <td>4200</td>\n      <td>MIA@MIL 09/02/2020 06:30PM ET</td>\n      <td>2020-09-10 23:00:00+00:00</td>\n      <td>MIL</td>\n      <td>0</td>\n      <td>0.4</td>\n      <td>23.80</td>\n      <td>5.999999</td>\n    </tr>\n    <tr>\n      <th>4</th>\n      <td>Aaron Holiday</td>\n      <td>14066210</td>\n      <td>PG/SG</td>\n      <td>5700</td>\n      <td>OKC@HOU 09/02/2020 09:00PM ET</td>\n      <td>2020-09-10 23:00:00+00:00</td>\n      <td>HOU</td>\n      <td>0</td>\n      <td>0.4</td>\n      <td>31.38</td>\n      <td>5.332358</td>\n    </tr>\n    <tr>\n      <th>...</th>\n      <td>...</td>\n      <td>...</td>\n      <td>...</td>\n      <td>...</td>\n      <td>...</td>\n      <td>...</td>\n      <td>...</td>\n      <td>...</td>\n      <td>...</td>\n      <td>...</td>\n      <td>...</td>\n    </tr>\n    <tr>\n      <th>212</th>\n      <td>Patrick Patterson</td>\n      <td>14066669</td>\n      <td>PF/C</td>\n      <td>3200</td>\n      <td>MIA@MIL 09/02/2020 06:30PM ET</td>\n      <td>2020-09-10 23:00:00+00:00</td>\n      <td>HOU</td>\n      <td>0</td>\n      <td>0.4</td>\n      <td>5.28</td>\n      <td>1.183974</td>\n    </tr>\n    <tr>\n      <th>213</th>\n      <td>Louis King</td>\n      <td>14066970</td>\n      <td>SF/PF</td>\n      <td>3000</td>\n      <td>MIA@MIL 09/02/2020 06:30PM ET</td>\n      <td>2020-09-10 23:00:00+00:00</td>\n      <td>MIL</td>\n      <td>0</td>\n      <td>0.4</td>\n      <td>4.87</td>\n      <td>0.616341</td>\n    </tr>\n    <tr>\n      <th>214</th>\n      <td>Jerome Robinson</td>\n      <td>14066841</td>\n      <td>SG</td>\n      <td>3000</td>\n      <td>OKC@HOU 09/02/2020 09:00PM ET</td>\n      <td>2020-09-10 23:00:00+00:00</td>\n      <td>HOU</td>\n      <td>0</td>\n      <td>0.4</td>\n      <td>4.05</td>\n      <td>0.474432</td>\n    </tr>\n    <tr>\n      <th>215</th>\n      <td>Johnathan Motley</td>\n      <td>14066954</td>\n      <td>PF/C</td>\n      <td>3000</td>\n      <td>MIA@MIL 09/02/2020 06:30PM ET</td>\n      <td>2020-09-10 23:00:00+00:00</td>\n      <td>MIA</td>\n      <td>0</td>\n      <td>0.4</td>\n      <td>3.84</td>\n      <td>0.583016</td>\n    </tr>\n    <tr>\n      <th>216</th>\n      <td>Sekou Doumbouya</td>\n      <td>14066980</td>\n      <td>SF/PF</td>\n      <td>3000</td>\n      <td>OKC@HOU 09/02/2020 09:00PM ET</td>\n      <td>2020-09-10 23:00:00+00:00</td>\n      <td>MIA</td>\n      <td>0</td>\n      <td>0.4</td>\n      <td>3.13</td>\n      <td>0.599690</td>\n    </tr>\n  </tbody>\n</table>\n<p>217 rows × 11 columns</p>\n</div>"
     },
     "metadata": {},
     "execution_count": 11
    }
   ],
   "source": [
    "df_players = pd.read_csv('../data/raw/test_20200102.csv')\n",
    "df_players['Time'] = pd.to_datetime(df_players['Time'])\n",
    "df_players = df_players[cols]\n",
    "df_players"
   ]
  },
  {
   "source": [
    "# Let's do a simple lineup optimization\n",
    "This is like the original optimizer. Provide the number of desired lineups and the dataframe.\n",
    "Note that order=1 is an optional argument, but defaults to unordered (0)\n",
    "time_limit=10.0 by default, but is also an optional argument.\n",
    "\n",
    "This first step creates the optimization model."
   ],
   "cell_type": "markdown",
   "metadata": {}
  },
  {
   "cell_type": "code",
   "execution_count": 12,
   "metadata": {
    "tags": []
   },
   "outputs": [],
   "source": [
    "opt = LineupOptimizer(df_players, n_lineups=10, verbose=True)"
   ]
  },
  {
   "source": [
    "## opt.solve() solves the optimization problem"
   ],
   "cell_type": "markdown",
   "metadata": {}
  },
  {
   "cell_type": "code",
   "execution_count": 13,
   "metadata": {
    "tags": []
   },
   "outputs": [
    {
     "output_type": "stream",
     "name": "stdout",
     "text": "Version identifier: 12.10.0.0 | 2019-11-27 | 843d4de2ae\nCPXPARAM_Read_DataCheck                          1\nCPXPARAM_TimeLimit                               10\nWarning:  Non-integral bounds for integer variables rounded.\nTried aggregator 1 time.\nMIP Presolve eliminated 129 rows and 0 columns.\nMIP Presolve modified 10 coefficients.\nReduced MIP has 209 rows, 990 columns, and 5980 nonzeros.\nReduced MIP has 990 binaries, 0 generals, 0 SOSs, and 0 indicators.\nPresolve time = 0.01 sec. (2.13 ticks)\nFound incumbent of value 2155.700000 after 0.03 sec. (8.23 ticks)\nProbing time = 0.00 sec. (0.29 ticks)\nTried aggregator 1 time.\nDetecting symmetries...\nReduced MIP has 209 rows, 990 columns, and 5980 nonzeros.\nReduced MIP has 990 binaries, 0 generals, 0 SOSs, and 0 indicators.\nPresolve time = 0.02 sec. (3.11 ticks)\nProbing time = 0.00 sec. (0.29 ticks)\nMIP emphasis: balance optimality and feasibility.\nMIP search method: dynamic search.\nParallel mode: deterministic, using up to 8 threads.\nRoot relaxation solution time = 0.02 sec. (7.12 ticks)\n\n        Nodes                                         Cuts/\n   Node  Left     Objective  IInf  Best Integer    Best Bound    ItCnt     Gap\n\n*     0+    0                         2155.7000    27377.6000              --- \n*     0+    0                         2734.6900    27377.6000           901.12%\n*     0+    0                         2737.4800    27377.6000           900.10%\n      0     0     2760.8424    35     2737.4800     2760.8424      378    0.85%\n      0     0     2760.8424    35     2737.4800      Cuts: 21      415    0.85%\n      0     0     2760.8424    35     2737.4800      Cuts: 27      464    0.85%\n      0     0     2760.8424    35     2737.4800      Cuts: 13      486    0.85%\n      0     0     2760.8424    35     2737.4800      Cuts: 25      535    0.85%\n*     0+    0                         2751.5700     2760.8424             0.34%\n*     0+    0                         2754.7600     2760.8424             0.22%\n      0     2     2760.8424    25     2754.7600     2760.8424      535    0.22%\nElapsed time = 0.59 sec. (155.48 ticks, tree = 0.02 MB, solutions = 5)\n*   648+    2                         2758.4300     2760.8424             0.09%\n   1718   623     2760.5255    30     2758.4300     2760.8424    15245    0.09%\n   4915  3227     2760.4013    26     2758.4300     2760.8424    56447    0.09%\n\nPerforming restart 1\n\nRepeating presolve.\nTried aggregator 1 time.\nMIP Presolve eliminated 52 rows and 520 columns.\nMIP Presolve modified 470 coefficients.\nReduced MIP has 157 rows, 470 columns, and 2740 nonzeros.\nReduced MIP has 470 binaries, 0 generals, 0 SOSs, and 0 indicators.\nPresolve time = 0.03 sec. (1.57 ticks)\nTried aggregator 1 time.\nReduced MIP has 157 rows, 470 columns, and 2740 nonzeros.\nReduced MIP has 470 binaries, 0 generals, 0 SOSs, and 0 indicators.\nPresolve time = 0.03 sec. (1.54 ticks)\nRepresolve time = 0.08 sec. (8.88 ticks)\n   5763     0     2760.8424    42     2758.4300      Cuts: 18    75252    0.09%\n   5763     0     2760.8424    42     2758.4300      Cuts: 26    75300    0.09%\n   5763     0     2760.8424    42     2758.4300      Cuts: 19    75332    0.09%\n   5763     0     2760.8424    42     2758.4300      Cuts: 35    75384    0.09%\n   5763     0     2760.8424    42     2758.4300      Cuts: 20    75431    0.09%\n   5763     0     2760.8424    42     2758.4300      Cuts: 25    75481    0.09%\n   5763     2     2760.8424    30     2758.4300     2760.8424    75481    0.09%\n   6232   411     2759.1062    30     2758.4300     2760.8424    78994    0.09%\n  10921  4157     2759.3448    23     2758.4300     2760.8424   107758    0.09%\n  21740 12425     2760.8424    29     2758.4300     2760.8424   157459    0.09%\n  34318 21828     2760.8055    25     2758.4300     2760.8424   211567    0.09%\n  44693 31888     2760.8319    27     2758.4300     2760.8424   271487    0.09%\n  51322 38560     2758.9155    23     2758.4300     2760.8424   311627    0.09%\n* 63460 46016      integral     0     2758.5200     2760.8424   357524    0.08%\n\nPerforming restart 2\n\nRepeating presolve.\nTried aggregator 1 time.\nMIP Presolve eliminated 2 rows and 20 columns.\nMIP Presolve modified 450 coefficients.\nReduced MIP has 155 rows, 450 columns, and 2600 nonzeros.\nReduced MIP has 450 binaries, 0 generals, 0 SOSs, and 0 indicators.\nPresolve time = 0.01 sec. (1.50 ticks)\nTried aggregator 1 time.\nReduced MIP has 155 rows, 450 columns, and 2600 nonzeros.\nReduced MIP has 450 binaries, 0 generals, 0 SOSs, and 0 indicators.\nPresolve time = 0.00 sec. (1.47 ticks)\nRepresolve time = 0.08 sec. (17.28 ticks)\n  73528     0     2760.8424    31     2758.5200      Cuts: 27   444290    0.08%\n  73528     0     2760.7824    31     2758.5200      Cuts: 27   444354    0.08%\n  73528     0     2760.7824    31     2758.5200      Cuts: 27   444426    0.08%\n  73528     0     2760.7824    31     2758.5200      Cuts: 15   444496    0.08%\n  73528     0     2760.6700    31     2758.5200      Cuts: 13   444620    0.08%\n  73528     0     2760.6700    31     2758.5200      Cuts: 26   444669    0.08%\n  73528     0     2760.6700    31     2758.5200      Cuts: 22   444717    0.08%\n  73528     0     2760.6700    31     2758.5200      Cuts: 15   444760    0.08%\n\nRepeating presolve.\nTried aggregator 1 time.\nMIP Presolve eliminated 1 rows and 10 columns.\nReduced MIP has 154 rows, 440 columns, and 2520 nonzeros.\nReduced MIP has 440 binaries, 0 generals, 0 SOSs, and 0 indicators.\nPresolve time = 0.00 sec. (0.89 ticks)\nTried aggregator 1 time.\nReduced MIP has 154 rows, 440 columns, and 2520 nonzeros.\nReduced MIP has 440 binaries, 0 generals, 0 SOSs, and 0 indicators.\nPresolve time = 0.02 sec. (1.43 ticks)\nRepresolve time = 0.08 sec. (25.11 ticks)\n  73528     0     2760.6700    40     2758.5200      Cuts: 14   445543    0.08%\n  73528     0     2760.6700    40     2758.5200      Cuts: 35   445585    0.08%\n  73528     0     2760.6700    40     2758.5200      Cuts: 20   445642    0.08%\n  73528     0     2760.6700    40     2758.5200       Cuts: 6   445679    0.08%\n  73528     0     2760.6700    40     2758.5200      Cuts: 36   445734    0.08%\n  73528     0     2760.6700    40     2758.5200      Cuts: 18   445788    0.08%\n  73528     0     2760.6700    40     2758.5200      Cuts: 19   445836    0.08%\n  73528     0     2760.6700    40     2758.5200      Cuts: 11   445876    0.08%\n  73528     0     2760.6700    40     2758.5200      Cuts: 18   445941    0.08%\nAdvanced basis not built.\n\nGomory fractional cuts applied:  1\n\nRoot node processing (before b&c):\n  Real time             =    0.58 sec. (155.26 ticks)\nParallel b&c, 8 threads:\n  Real time             =    9.44 sec. (3332.45 ticks)\n  Sync time (average)   =    1.35 sec.\n  Wait time (average)   =    0.03 sec.\n                          ------------\nTotal (root+branch&cut) =   10.01 sec. (3487.71 ticks)\n"
    },
    {
     "output_type": "execute_result",
     "data": {
      "text/plain": "array([[ 1., -0.,  1.,  0.,  1.,  0., -0.,  1., -0.,  0.],\n       [-0.,  0.,  1.,  0., -0.,  1.,  1., -0.,  1., -0.],\n       [-0.,  1.,  0.,  1., -0.,  1., -0., -0.,  1., -0.],\n       [ 0.,  1.,  1.,  0.,  0.,  0.,  1.,  0., -0.,  1.],\n       [ 1.,  0.,  1.,  0., -0.,  1.,  1., -0.,  0.,  0.],\n       [-0.,  1., -0.,  0.,  1.,  0., -0.,  1., -0.,  1.],\n       [-0., -0.,  0.,  0.,  0.,  0., -0., -0., -0.,  1.],\n       [ 0.,  1., -0.,  1.,  1.,  1., -0., -0., -0., -0.],\n       [ 0.,  0.,  0.,  0., -0.,  0., -0.,  0., -0.,  0.],\n       [-0., -0.,  1.,  1., -0.,  1., -0., -0.,  1., -0.],\n       [ 1., -0., -0.,  0., -0.,  0.,  1.,  1.,  1.,  0.],\n       [ 1.,  0.,  0.,  1.,  1.,  0.,  1., -0.,  0.,  0.],\n       [ 1., -0., -0.,  1., -0.,  0., -0., -0.,  1.,  1.],\n       [ 0.,  0.,  0.,  0., -0.,  0., -0.,  0.,  0.,  0.],\n       [ 0.,  0.,  0.,  0.,  0.,  0.,  0.,  0., -0.,  0.],\n       [-0.,  1., -0.,  0., -0.,  1.,  1., -0.,  1.,  0.],\n       [ 0.,  0.,  0.,  0.,  0.,  0., -0.,  0., -0.,  0.],\n       [ 1.,  0.,  0.,  0.,  0.,  1.,  1.,  1.,  0.,  0.],\n       [ 0.,  0.,  0.,  0.,  0.,  0.,  0.,  0.,  0.,  0.],\n       [ 0.,  0.,  1.,  0.,  0.,  0.,  0.,  1.,  1.,  1.],\n       [ 0.,  0.,  0.,  0., -0.,  0.,  0.,  0.,  0.,  0.],\n       [ 0.,  0.,  0.,  0.,  0.,  0.,  0.,  0.,  0.,  0.],\n       [ 0.,  0.,  1.,  0.,  1.,  0.,  0.,  0.,  1.,  1.],\n       [ 1.,  0.,  0.,  1.,  1.,  0.,  1.,  0.,  0.,  0.],\n       [ 1.,  1.,  0.,  0.,  1.,  0.,  0.,  1., -0.,  0.],\n       [-0.,  1.,  0.,  1., -0.,  0.,  0.,  1.,  0.,  1.],\n       [ 0.,  0.,  0.,  0., -0.,  0.,  0.,  0.,  0.,  0.],\n       [ 0., -0., -0.,  0.,  0.,  0., -0.,  0., -0., -0.],\n       [-0.,  0.,  0.,  0., -0.,  0., -0., -0., -0.,  0.],\n       [ 0.,  0.,  0.,  0., -0.,  0.,  0.,  0.,  0.,  0.],\n       [ 0.,  0.,  0.,  0., -0.,  0.,  0.,  0.,  0.,  0.],\n       [ 0.,  0.,  0.,  0.,  0.,  0.,  0.,  0.,  0.,  0.],\n       [ 0.,  1.,  0.,  1.,  1.,  0.,  0.,  0.,  0.,  1.],\n       [ 0.,  0.,  0.,  0., -0.,  0.,  0.,  0.,  0.,  0.],\n       [ 0.,  0.,  0.,  0.,  0.,  0.,  0.,  0.,  0.,  0.],\n       [ 0.,  0.,  1.,  0.,  0.,  1.,  0.,  1.,  0.,  0.],\n       [ 0.,  0.,  0.,  0.,  0.,  0.,  0.,  0.,  0.,  0.],\n       [ 0.,  0.,  0.,  0.,  0.,  0., -0.,  0., -0.,  0.],\n       [ 0.,  0.,  0.,  0., -0.,  0.,  0.,  0.,  0.,  0.],\n       [ 0.,  0.,  0.,  0., -0.,  0.,  0.,  0.,  0.,  0.],\n       [ 0.,  0.,  0.,  0.,  0.,  0., -0.,  0., -0.,  0.],\n       [-0., -0., -0., -0., -0., -0., -0., -0., -0., -0.],\n       [ 0.,  0.,  0.,  0., -0.,  0.,  0.,  0.,  0.,  0.],\n       [ 0.,  0.,  0.,  0.,  0.,  0.,  0.,  0.,  0.,  0.],\n       [ 0.,  0.,  0.,  0.,  0.,  0., -0.,  0., -0.,  0.],\n       [-0.,  0.,  0.,  0., -0.,  0.,  0., -0.,  0.,  0.],\n       [ 0.,  0.,  0.,  0.,  0.,  0.,  0.,  0.,  0.,  0.],\n       [-0., -0., -0., -0., -0., -0., -0., -0., -0., -0.],\n       [-0., -0., -0., -0., -0., -0., -0., -0., -0., -0.],\n       [-0., -0., -0., -0., -0., -0., -0., -0., -0., -0.],\n       [-0., -0., -0., -0., -0., -0., -0., -0., -0., -0.],\n       [-0., -0., -0., -0., -0., -0., -0., -0., -0., -0.],\n       [ 0.,  0.,  0.,  0., -0.,  0.,  0.,  0.,  0.,  0.],\n       [-0., -0., -0., -0., -0., -0., -0., -0., -0., -0.],\n       [-0., -0., -0., -0., -0., -0., -0., -0., -0., -0.],\n       [-0., -0., -0., -0., -0., -0., -0., -0., -0., -0.],\n       [-0., -0., -0., -0., -0., -0., -0., -0., -0., -0.],\n       [-0., -0., -0., -0., -0., -0., -0., -0., -0., -0.],\n       [-0., -0., -0., -0., -0., -0., -0., -0., -0., -0.],\n       [-0., -0., -0., -0., -0., -0., -0., -0., -0., -0.],\n       [-0., -0., -0., -0., -0., -0., -0., -0., -0., -0.],\n       [-0., -0., -0., -0., -0., -0., -0., -0., -0., -0.],\n       [-0., -0., -0., -0., -0., -0., -0., -0., -0., -0.],\n       [-0., -0., -0., -0., -0., -0., -0., -0., -0., -0.],\n       [-0., -0., -0., -0., -0., -0., -0., -0., -0., -0.],\n       [-0., -0., -0., -0., -0., -0., -0., -0., -0., -0.],\n       [-0., -0., -0., -0., -0., -0., -0., -0., -0., -0.],\n       [-0., -0., -0., -0., -0., -0., -0., -0., -0., -0.],\n       [-0., -0., -0., -0., -0., -0., -0., -0., -0., -0.],\n       [-0., -0., -0., -0., -0., -0., -0., -0., -0., -0.],\n       [-0., -0., -0., -0., -0., -0., -0., -0., -0., -0.],\n       [-0., -0., -0., -0., -0., -0., -0., -0., -0., -0.],\n       [-0., -0., -0., -0., -0., -0., -0., -0., -0., -0.],\n       [-0., -0., -0., -0., -0., -0., -0., -0., -0., -0.],\n       [-0., -0., -0., -0., -0., -0., -0., -0., -0., -0.],\n       [-0., -0., -0., -0., -0., -0., -0., -0., -0., -0.],\n       [-0., -0., -0., -0., -0., -0., -0., -0., -0., -0.],\n       [-0., -0., -0., -0., -0., -0., -0., -0., -0., -0.],\n       [-0., -0., -0., -0., -0., -0., -0., -0., -0., -0.],\n       [-0., -0., -0., -0., -0., -0., -0., -0., -0., -0.],\n       [-0., -0., -0., -0., -0., -0., -0., -0., -0., -0.],\n       [-0., -0., -0., -0., -0., -0., -0., -0., -0., -0.],\n       [-0., -0., -0., -0., -0., -0., -0., -0., -0., -0.],\n       [-0., -0., -0., -0., -0., -0., -0., -0., -0., -0.],\n       [-0., -0., -0., -0., -0., -0., -0., -0., -0., -0.],\n       [-0., -0., -0., -0., -0., -0., -0., -0., -0., -0.],\n       [-0., -0., -0., -0., -0., -0., -0., -0., -0., -0.],\n       [-0., -0., -0., -0., -0., -0., -0., -0., -0., -0.],\n       [-0., -0., -0., -0., -0., -0., -0., -0., -0., -0.],\n       [-0., -0., -0., -0., -0., -0., -0., -0., -0., -0.],\n       [-0., -0., -0., -0., -0., -0., -0., -0., -0., -0.],\n       [-0., -0., -0., -0., -0., -0., -0., -0., -0., -0.],\n       [-0., -0., -0., -0., -0., -0., -0., -0., -0., -0.],\n       [-0., -0., -0., -0., -0., -0., -0., -0., -0., -0.],\n       [-0., -0., -0., -0., -0., -0., -0., -0., -0., -0.],\n       [-0., -0., -0., -0., -0., -0., -0., -0., -0., -0.],\n       [-0., -0., -0., -0., -0., -0., -0., -0., -0., -0.],\n       [-0., -0., -0., -0., -0., -0., -0., -0., -0., -0.],\n       [-0., -0., -0., -0., -0., -0., -0., -0., -0., -0.]])"
     },
     "metadata": {},
     "execution_count": 13
    }
   ],
   "source": [
    "opt.solve()"
   ]
  },
  {
   "source": [
    "## Now let's sort the optimal lineups"
   ],
   "cell_type": "markdown",
   "metadata": {}
  },
  {
   "cell_type": "code",
   "execution_count": 13,
   "metadata": {
    "tags": []
   },
   "outputs": [
    {
     "output_type": "stream",
     "name": "stdout",
     "text": "6 Infeasible lineups dropped\n"
    },
    {
     "output_type": "execute_result",
     "data": {
      "text/plain": "                  PG             SG             SF                 PF  \\\n0     Darius Garland  Collin Sexton   Kevin Porter  LaMarcus Aldridge   \n1      Aaron Holiday   Kevin Porter    Buddy Hield   Bojan Bogdanovic   \n2  Spencer Dinwiddie    Gary Harris   Kevin Porter   Bojan Bogdanovic   \n3       De'Aaron Fox    Gary Harris  Dillon Brooks   Bojan Bogdanovic   \n\n             C                 G                  F                     UTIL  \n0  Ivica Zubac       Zach LaVine       Jimmy Butler  Shai Gilgeous-Alexander  \n1  Ivica Zubac  Donovan Mitchell  LaMarcus Aldridge  Shai Gilgeous-Alexander  \n2  Ivica Zubac      Jimmy Butler    Marquese Chriss         Domantas Sabonis  \n3  Ivica Zubac       Buddy Hield       Jimmy Butler            DeMar DeRozan  ",
      "text/html": "<div>\n<style scoped>\n    .dataframe tbody tr th:only-of-type {\n        vertical-align: middle;\n    }\n\n    .dataframe tbody tr th {\n        vertical-align: top;\n    }\n\n    .dataframe thead th {\n        text-align: right;\n    }\n</style>\n<table border=\"1\" class=\"dataframe\">\n  <thead>\n    <tr style=\"text-align: right;\">\n      <th></th>\n      <th>PG</th>\n      <th>SG</th>\n      <th>SF</th>\n      <th>PF</th>\n      <th>C</th>\n      <th>G</th>\n      <th>F</th>\n      <th>UTIL</th>\n    </tr>\n  </thead>\n  <tbody>\n    <tr>\n      <th>0</th>\n      <td>Darius Garland</td>\n      <td>Collin Sexton</td>\n      <td>Kevin Porter</td>\n      <td>LaMarcus Aldridge</td>\n      <td>Ivica Zubac</td>\n      <td>Zach LaVine</td>\n      <td>Jimmy Butler</td>\n      <td>Shai Gilgeous-Alexander</td>\n    </tr>\n    <tr>\n      <th>1</th>\n      <td>Aaron Holiday</td>\n      <td>Kevin Porter</td>\n      <td>Buddy Hield</td>\n      <td>Bojan Bogdanovic</td>\n      <td>Ivica Zubac</td>\n      <td>Donovan Mitchell</td>\n      <td>LaMarcus Aldridge</td>\n      <td>Shai Gilgeous-Alexander</td>\n    </tr>\n    <tr>\n      <th>2</th>\n      <td>Spencer Dinwiddie</td>\n      <td>Gary Harris</td>\n      <td>Kevin Porter</td>\n      <td>Bojan Bogdanovic</td>\n      <td>Ivica Zubac</td>\n      <td>Jimmy Butler</td>\n      <td>Marquese Chriss</td>\n      <td>Domantas Sabonis</td>\n    </tr>\n    <tr>\n      <th>3</th>\n      <td>De'Aaron Fox</td>\n      <td>Gary Harris</td>\n      <td>Dillon Brooks</td>\n      <td>Bojan Bogdanovic</td>\n      <td>Ivica Zubac</td>\n      <td>Buddy Hield</td>\n      <td>Jimmy Butler</td>\n      <td>DeMar DeRozan</td>\n    </tr>\n  </tbody>\n</table>\n</div>"
     },
     "metadata": {},
     "execution_count": 13
    }
   ],
   "source": [
    "opt.sort_lineups()"
   ]
  },
  {
   "source": [
    "# Lineup Generator and Optimizer\n",
    "Now we'll use a more complex lineup generation --> monte carlo simulation then select the lineups that have the highest likelihood of being a high scoring team.\n",
    "\n",
    "<br> The default values are:\n",
    "<br> var_multiple = 0.5 (we weight lineup projected variance at half the importance of the projected mean)\n",
    "<br> drop_fraction = 0.5 (half the players are discarded each iteration of generation)\n",
    "<br> time_limit = 1 (1 second is allowed for each optimization iteration)\n",
    "<br> duplicates_lim = 100 (once 100 duplicate lineups have been generated, it kills the generator)"
   ],
   "cell_type": "markdown",
   "metadata": {}
  },
  {
   "source": [
    "## First, instantiate the generator:"
   ],
   "cell_type": "markdown",
   "metadata": {}
  },
  {
   "cell_type": "code",
   "execution_count": 14,
   "metadata": {},
   "outputs": [],
   "source": [
    "gen = LineupGenerator(df_players, n_lineups_to_optimize=150, batch_size=20,\n",
    "var_multiple=0.5, drop_fraction=0.5, time_limit=1, verbose=False)"
   ]
  },
  {
   "source": [
    "## Now run the generator by giving a target number of generated lineups:"
   ],
   "cell_type": "markdown",
   "metadata": {}
  },
  {
   "cell_type": "code",
   "execution_count": 17,
   "metadata": {
    "tags": []
   },
   "outputs": [],
   "source": [
    "# gen.generate(10000)\n",
    "gen.df_lineups = pd.read_csv('../data/raw/test_lineups.csv', index_col=0)"
   ]
  },
  {
   "source": [
    "## Now visualize the player distribution:"
   ],
   "cell_type": "markdown",
   "metadata": {}
  },
  {
   "cell_type": "code",
   "execution_count": 18,
   "metadata": {},
   "outputs": [
    {
     "output_type": "execute_result",
     "data": {
      "text/plain": "Ivica Zubac                0.3960\nBojan Bogdanovic           0.3820\nDeMar DeRozan              0.3470\nJimmy Butler               0.3395\nSpencer Dinwiddie          0.3065\nLaMarcus Aldridge          0.3040\nAaron Holiday              0.2960\nHarrison Barnes            0.2955\nRobert Covington           0.2915\nBuddy Hield                0.2905\nCollin Sexton              0.2905\nDillon Brooks              0.2855\nDarius Garland             0.2845\nDe'Aaron Fox               0.2735\nMarquese Chriss            0.2730\nDonovan Mitchell           0.2650\nZach LaVine                0.2535\nJalen Brunson              0.2520\nDomantas Sabonis           0.2510\nGary Harris                0.2490\nKevin Porter               0.2365\nShai Gilgeous-Alexander    0.2065\nBam Adebayo                0.1885\nCedi Osman                 0.1520\nRichaun Holmes             0.1500\nKyle Lowry                 0.1430\nTristan Thompson           0.1035\nBismack Biyombo            0.0855\nJarrett Culver             0.0850\nShabazz Napier             0.0840\nTim Frazier                0.0765\nDwight Powell              0.0690\nT.J. Warren                0.0675\nJeremy Lamb                0.0610\nBryn Forbes                0.0550\nAlec Burks                 0.0500\nPaul George                0.0470\nLuka Doncic                0.0345\nKawhi Leonard              0.0265\nTimothe Luwawu-Cabarrot    0.0235\nWendell Carter Jr          0.0215\nChris Paul                 0.0180\nBruce Brown                0.0135\nKendrick Nunn              0.0110\nTerry Rozier               0.0100\nAndre Drummond             0.0070\nDelon Wright               0.0065\nDorian Finney-Smith        0.0045\nDanilo Gallinari           0.0045\nJa Morant                  0.0035\ndtype: float64"
     },
     "metadata": {},
     "execution_count": 18
    }
   ],
   "source": [
    "players = gen.get_player_distribution(gen.df_lineups)\n",
    "players[:50]"
   ]
  },
  {
   "source": [
    "## Now run the Monte Carlo Simulation"
   ],
   "cell_type": "markdown",
   "metadata": {}
  },
  {
   "cell_type": "code",
   "execution_count": 19,
   "metadata": {},
   "outputs": [
    {
     "output_type": "execute_result",
     "data": {
      "text/plain": "                     PG                 SG               SF  \\\n0         Collin Sexton        Gary Harris     Kevin Porter   \n1         Jalen Brunson        Gary Harris     Kevin Porter   \n2         Collin Sexton        Gary Harris     Kevin Porter   \n3         Jalen Brunson  Spencer Dinwiddie  Harrison Barnes   \n4         Collin Sexton        Gary Harris     Kevin Porter   \n...                 ...                ...              ...   \n1995     Darius Garland        Gary Harris     Jimmy Butler   \n1996  Spencer Dinwiddie        Gary Harris     Kevin Porter   \n1997     Darius Garland        Gary Harris     Kevin Porter   \n1998       De'Aaron Fox       Kevin Porter    Dillon Brooks   \n1999     Darius Garland      Jalen Brunson      Buddy Hield   \n\n                     PF                C                  G                 F  \\\n0       Harrison Barnes   Richaun Holmes      Aaron Holiday       Paul George   \n1         Kawhi Leonard  Marquese Chriss      Aaron Holiday       Paul George   \n2       Harrison Barnes  Marquese Chriss         Kyle Lowry    Richaun Holmes   \n3       Marquese Chriss   Richaun Holmes      Collin Sexton       Paul George   \n4       Harrison Barnes   Richaun Holmes     Shabazz Napier       Paul George   \n...                 ...              ...                ...               ...   \n1995    Harrison Barnes  Marquese Chriss  Spencer Dinwiddie  Robert Covington   \n1996    Marquese Chriss      Bam Adebayo        Tim Frazier      Jimmy Butler   \n1997   Domantas Sabonis  Bismack Biyombo       De'Aaron Fox      Jimmy Butler   \n1998   Bojan Bogdanovic      Bam Adebayo        Buddy Hield  Robert Covington   \n1999  LaMarcus Aldridge   Richaun Holmes      Aaron Holiday     DeMar DeRozan   \n\n                         UTIL    mean        std  \n0                  Kyle Lowry  264.54  17.620039  \n1                  Kyle Lowry  262.63  15.017997  \n2               Kawhi Leonard  264.81  17.261263  \n3               Aaron Holiday  270.06  20.851468  \n4                  Kyle Lowry  263.37  17.406462  \n...                       ...     ...        ...  \n1995         Donovan Mitchell  279.25  20.311315  \n1996             De'Aaron Fox  277.49  19.496710  \n1997         Donovan Mitchell  273.53  17.789721  \n1998  Shai Gilgeous-Alexander  267.74  18.799925  \n1999              Zach LaVine  270.45  22.124796  \n\n[2000 rows x 10 columns]",
      "text/html": "<div>\n<style scoped>\n    .dataframe tbody tr th:only-of-type {\n        vertical-align: middle;\n    }\n\n    .dataframe tbody tr th {\n        vertical-align: top;\n    }\n\n    .dataframe thead th {\n        text-align: right;\n    }\n</style>\n<table border=\"1\" class=\"dataframe\">\n  <thead>\n    <tr style=\"text-align: right;\">\n      <th></th>\n      <th>PG</th>\n      <th>SG</th>\n      <th>SF</th>\n      <th>PF</th>\n      <th>C</th>\n      <th>G</th>\n      <th>F</th>\n      <th>UTIL</th>\n      <th>mean</th>\n      <th>std</th>\n    </tr>\n  </thead>\n  <tbody>\n    <tr>\n      <th>0</th>\n      <td>Collin Sexton</td>\n      <td>Gary Harris</td>\n      <td>Kevin Porter</td>\n      <td>Harrison Barnes</td>\n      <td>Richaun Holmes</td>\n      <td>Aaron Holiday</td>\n      <td>Paul George</td>\n      <td>Kyle Lowry</td>\n      <td>264.54</td>\n      <td>17.620039</td>\n    </tr>\n    <tr>\n      <th>1</th>\n      <td>Jalen Brunson</td>\n      <td>Gary Harris</td>\n      <td>Kevin Porter</td>\n      <td>Kawhi Leonard</td>\n      <td>Marquese Chriss</td>\n      <td>Aaron Holiday</td>\n      <td>Paul George</td>\n      <td>Kyle Lowry</td>\n      <td>262.63</td>\n      <td>15.017997</td>\n    </tr>\n    <tr>\n      <th>2</th>\n      <td>Collin Sexton</td>\n      <td>Gary Harris</td>\n      <td>Kevin Porter</td>\n      <td>Harrison Barnes</td>\n      <td>Marquese Chriss</td>\n      <td>Kyle Lowry</td>\n      <td>Richaun Holmes</td>\n      <td>Kawhi Leonard</td>\n      <td>264.81</td>\n      <td>17.261263</td>\n    </tr>\n    <tr>\n      <th>3</th>\n      <td>Jalen Brunson</td>\n      <td>Spencer Dinwiddie</td>\n      <td>Harrison Barnes</td>\n      <td>Marquese Chriss</td>\n      <td>Richaun Holmes</td>\n      <td>Collin Sexton</td>\n      <td>Paul George</td>\n      <td>Aaron Holiday</td>\n      <td>270.06</td>\n      <td>20.851468</td>\n    </tr>\n    <tr>\n      <th>4</th>\n      <td>Collin Sexton</td>\n      <td>Gary Harris</td>\n      <td>Kevin Porter</td>\n      <td>Harrison Barnes</td>\n      <td>Richaun Holmes</td>\n      <td>Shabazz Napier</td>\n      <td>Paul George</td>\n      <td>Kyle Lowry</td>\n      <td>263.37</td>\n      <td>17.406462</td>\n    </tr>\n    <tr>\n      <th>...</th>\n      <td>...</td>\n      <td>...</td>\n      <td>...</td>\n      <td>...</td>\n      <td>...</td>\n      <td>...</td>\n      <td>...</td>\n      <td>...</td>\n      <td>...</td>\n      <td>...</td>\n    </tr>\n    <tr>\n      <th>1995</th>\n      <td>Darius Garland</td>\n      <td>Gary Harris</td>\n      <td>Jimmy Butler</td>\n      <td>Harrison Barnes</td>\n      <td>Marquese Chriss</td>\n      <td>Spencer Dinwiddie</td>\n      <td>Robert Covington</td>\n      <td>Donovan Mitchell</td>\n      <td>279.25</td>\n      <td>20.311315</td>\n    </tr>\n    <tr>\n      <th>1996</th>\n      <td>Spencer Dinwiddie</td>\n      <td>Gary Harris</td>\n      <td>Kevin Porter</td>\n      <td>Marquese Chriss</td>\n      <td>Bam Adebayo</td>\n      <td>Tim Frazier</td>\n      <td>Jimmy Butler</td>\n      <td>De'Aaron Fox</td>\n      <td>277.49</td>\n      <td>19.496710</td>\n    </tr>\n    <tr>\n      <th>1997</th>\n      <td>Darius Garland</td>\n      <td>Gary Harris</td>\n      <td>Kevin Porter</td>\n      <td>Domantas Sabonis</td>\n      <td>Bismack Biyombo</td>\n      <td>De'Aaron Fox</td>\n      <td>Jimmy Butler</td>\n      <td>Donovan Mitchell</td>\n      <td>273.53</td>\n      <td>17.789721</td>\n    </tr>\n    <tr>\n      <th>1998</th>\n      <td>De'Aaron Fox</td>\n      <td>Kevin Porter</td>\n      <td>Dillon Brooks</td>\n      <td>Bojan Bogdanovic</td>\n      <td>Bam Adebayo</td>\n      <td>Buddy Hield</td>\n      <td>Robert Covington</td>\n      <td>Shai Gilgeous-Alexander</td>\n      <td>267.74</td>\n      <td>18.799925</td>\n    </tr>\n    <tr>\n      <th>1999</th>\n      <td>Darius Garland</td>\n      <td>Jalen Brunson</td>\n      <td>Buddy Hield</td>\n      <td>LaMarcus Aldridge</td>\n      <td>Richaun Holmes</td>\n      <td>Aaron Holiday</td>\n      <td>DeMar DeRozan</td>\n      <td>Zach LaVine</td>\n      <td>270.45</td>\n      <td>22.124796</td>\n    </tr>\n  </tbody>\n</table>\n<p>2000 rows × 10 columns</p>\n</div>"
     },
     "metadata": {},
     "execution_count": 19
    }
   ],
   "source": [
    "gen.get_lineup_score_dists()"
   ]
  },
  {
   "source": [
    "## Now find the optimal set of lineups:"
   ],
   "cell_type": "markdown",
   "metadata": {}
  },
  {
   "cell_type": "code",
   "execution_count": 20,
   "metadata": {
    "tags": []
   },
   "outputs": [],
   "source": [
    "df_optimal = gen.enforce_exposures()"
   ]
  },
  {
   "source": [
    "# Now build the sheet:"
   ],
   "cell_type": "markdown",
   "metadata": {}
  },
  {
   "cell_type": "code",
   "execution_count": 26,
   "metadata": {},
   "outputs": [],
   "source": [
    "sheet_name = 'test_DKEntries2.csv'\n",
    "entries = EntriesHandler('../data/raw/' + sheet_name, gen.df, read_lineups=True)"
   ]
  },
  {
   "cell_type": "code",
   "execution_count": 27,
   "metadata": {
    "tags": []
   },
   "outputs": [],
   "source": [
    "entries.add_lineups_to_entries(df_optimal)"
   ]
  },
  {
   "source": [
    "## Visualize the final sheet"
   ],
   "cell_type": "markdown",
   "metadata": {}
  },
  {
   "cell_type": "code",
   "execution_count": 29,
   "metadata": {},
   "outputs": [
    {
     "output_type": "execute_result",
     "data": {
      "text/plain": "       Entry ID                       Contest Name  Contest ID Entry Fee  \\\n0    1809803072  NBA $12K mini-MAX [150 Entry Max]    83787211     $0.50   \n1    1809803073  NBA $12K mini-MAX [150 Entry Max]    83787211     $0.50   \n2    1809803074  NBA $12K mini-MAX [150 Entry Max]    83787211     $0.50   \n3    1809803075  NBA $12K mini-MAX [150 Entry Max]    83787211     $0.50   \n4    1809803076  NBA $12K mini-MAX [150 Entry Max]    83787211     $0.50   \n..          ...                                ...         ...       ...   \n145  1809803217  NBA $12K mini-MAX [150 Entry Max]    83787211     $0.50   \n146  1809803218  NBA $12K mini-MAX [150 Entry Max]    83787211     $0.50   \n147  1809803219  NBA $12K mini-MAX [150 Entry Max]    83787211     $0.50   \n148  1809803220  NBA $12K mini-MAX [150 Entry Max]    83787211     $0.50   \n149  1809811864  NBA $12K mini-MAX [150 Entry Max]    83787211     $0.50   \n\n           PG        SG        SF        PF         C         G         F  \\\n0    14066582  14066354  14066428  14065971  14066260  14066210  14065986   \n1    14066582  14065998  14066428  14066304  14066260  14066210  14065971   \n2    14066582  14065998  14066304  14066260  14066065  14066177  14065986   \n3    14066058  14066354  14066428  14066137  14066019  14066033  14066340   \n4    14066582  14065998  14066340  14066260  14065994  14066492  14065989   \n..        ...       ...       ...       ...       ...       ...       ...   \n145  14066582  14066015  14066428  14066260  14066415  14066033  14065989   \n146  14066387  14065998  14066088  14066137  14066415  14066177  14065989   \n147  14066387  14065998  14066428  14066137  14066415  14066033  14066088   \n148  14066387  14065998  14065989  14066260  14066415  14066177  14066228   \n149  14066387  14066033  14066088  14066137  14066415  14066058  14066228   \n\n         UTIL  \n0    14066006  \n1    14066006  \n2    14066186  \n3    14066061  \n4    14066053  \n..        ...  \n145  14066006  \n146  14066228  \n147  14066019  \n148  14066058  \n149  14066042  \n\n[150 rows x 12 columns]",
      "text/html": "<div>\n<style scoped>\n    .dataframe tbody tr th:only-of-type {\n        vertical-align: middle;\n    }\n\n    .dataframe tbody tr th {\n        vertical-align: top;\n    }\n\n    .dataframe thead th {\n        text-align: right;\n    }\n</style>\n<table border=\"1\" class=\"dataframe\">\n  <thead>\n    <tr style=\"text-align: right;\">\n      <th></th>\n      <th>Entry ID</th>\n      <th>Contest Name</th>\n      <th>Contest ID</th>\n      <th>Entry Fee</th>\n      <th>PG</th>\n      <th>SG</th>\n      <th>SF</th>\n      <th>PF</th>\n      <th>C</th>\n      <th>G</th>\n      <th>F</th>\n      <th>UTIL</th>\n    </tr>\n  </thead>\n  <tbody>\n    <tr>\n      <th>0</th>\n      <td>1809803072</td>\n      <td>NBA $12K mini-MAX [150 Entry Max]</td>\n      <td>83787211</td>\n      <td>$0.50</td>\n      <td>14066582</td>\n      <td>14066354</td>\n      <td>14066428</td>\n      <td>14065971</td>\n      <td>14066260</td>\n      <td>14066210</td>\n      <td>14065986</td>\n      <td>14066006</td>\n    </tr>\n    <tr>\n      <th>1</th>\n      <td>1809803073</td>\n      <td>NBA $12K mini-MAX [150 Entry Max]</td>\n      <td>83787211</td>\n      <td>$0.50</td>\n      <td>14066582</td>\n      <td>14065998</td>\n      <td>14066428</td>\n      <td>14066304</td>\n      <td>14066260</td>\n      <td>14066210</td>\n      <td>14065971</td>\n      <td>14066006</td>\n    </tr>\n    <tr>\n      <th>2</th>\n      <td>1809803074</td>\n      <td>NBA $12K mini-MAX [150 Entry Max]</td>\n      <td>83787211</td>\n      <td>$0.50</td>\n      <td>14066582</td>\n      <td>14065998</td>\n      <td>14066304</td>\n      <td>14066260</td>\n      <td>14066065</td>\n      <td>14066177</td>\n      <td>14065986</td>\n      <td>14066186</td>\n    </tr>\n    <tr>\n      <th>3</th>\n      <td>1809803075</td>\n      <td>NBA $12K mini-MAX [150 Entry Max]</td>\n      <td>83787211</td>\n      <td>$0.50</td>\n      <td>14066058</td>\n      <td>14066354</td>\n      <td>14066428</td>\n      <td>14066137</td>\n      <td>14066019</td>\n      <td>14066033</td>\n      <td>14066340</td>\n      <td>14066061</td>\n    </tr>\n    <tr>\n      <th>4</th>\n      <td>1809803076</td>\n      <td>NBA $12K mini-MAX [150 Entry Max]</td>\n      <td>83787211</td>\n      <td>$0.50</td>\n      <td>14066582</td>\n      <td>14065998</td>\n      <td>14066340</td>\n      <td>14066260</td>\n      <td>14065994</td>\n      <td>14066492</td>\n      <td>14065989</td>\n      <td>14066053</td>\n    </tr>\n    <tr>\n      <th>...</th>\n      <td>...</td>\n      <td>...</td>\n      <td>...</td>\n      <td>...</td>\n      <td>...</td>\n      <td>...</td>\n      <td>...</td>\n      <td>...</td>\n      <td>...</td>\n      <td>...</td>\n      <td>...</td>\n      <td>...</td>\n    </tr>\n    <tr>\n      <th>145</th>\n      <td>1809803217</td>\n      <td>NBA $12K mini-MAX [150 Entry Max]</td>\n      <td>83787211</td>\n      <td>$0.50</td>\n      <td>14066582</td>\n      <td>14066015</td>\n      <td>14066428</td>\n      <td>14066260</td>\n      <td>14066415</td>\n      <td>14066033</td>\n      <td>14065989</td>\n      <td>14066006</td>\n    </tr>\n    <tr>\n      <th>146</th>\n      <td>1809803218</td>\n      <td>NBA $12K mini-MAX [150 Entry Max]</td>\n      <td>83787211</td>\n      <td>$0.50</td>\n      <td>14066387</td>\n      <td>14065998</td>\n      <td>14066088</td>\n      <td>14066137</td>\n      <td>14066415</td>\n      <td>14066177</td>\n      <td>14065989</td>\n      <td>14066228</td>\n    </tr>\n    <tr>\n      <th>147</th>\n      <td>1809803219</td>\n      <td>NBA $12K mini-MAX [150 Entry Max]</td>\n      <td>83787211</td>\n      <td>$0.50</td>\n      <td>14066387</td>\n      <td>14065998</td>\n      <td>14066428</td>\n      <td>14066137</td>\n      <td>14066415</td>\n      <td>14066033</td>\n      <td>14066088</td>\n      <td>14066019</td>\n    </tr>\n    <tr>\n      <th>148</th>\n      <td>1809803220</td>\n      <td>NBA $12K mini-MAX [150 Entry Max]</td>\n      <td>83787211</td>\n      <td>$0.50</td>\n      <td>14066387</td>\n      <td>14065998</td>\n      <td>14065989</td>\n      <td>14066260</td>\n      <td>14066415</td>\n      <td>14066177</td>\n      <td>14066228</td>\n      <td>14066058</td>\n    </tr>\n    <tr>\n      <th>149</th>\n      <td>1809811864</td>\n      <td>NBA $12K mini-MAX [150 Entry Max]</td>\n      <td>83787211</td>\n      <td>$0.50</td>\n      <td>14066387</td>\n      <td>14066033</td>\n      <td>14066088</td>\n      <td>14066137</td>\n      <td>14066415</td>\n      <td>14066058</td>\n      <td>14066228</td>\n      <td>14066042</td>\n    </tr>\n  </tbody>\n</table>\n<p>150 rows × 12 columns</p>\n</div>"
     },
     "metadata": {},
     "execution_count": 29
    }
   ],
   "source": [
    "pd.read_csv('../data/raw/test_DKEntries2_v2.csv')"
   ]
  },
  {
   "cell_type": "code",
   "execution_count": null,
   "metadata": {},
   "outputs": [],
   "source": []
  }
 ]
}