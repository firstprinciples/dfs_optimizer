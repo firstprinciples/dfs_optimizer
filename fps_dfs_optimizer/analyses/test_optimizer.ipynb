{
 "metadata": {
  "language_info": {
   "codemirror_mode": {
    "name": "ipython",
    "version": 3
   },
   "file_extension": ".py",
   "mimetype": "text/x-python",
   "name": "python",
   "nbconvert_exporter": "python",
   "pygments_lexer": "ipython3",
   "version": "3.7.8-final"
  },
  "orig_nbformat": 2,
  "kernelspec": {
   "name": "python3",
   "display_name": "Python 3.7.8 64-bit ('dfs_opt': conda)",
   "metadata": {
    "interpreter": {
     "hash": "63afda940d72bab6ee9fecad475ef3ee7933a13f8fc17bf07e06c69deb8fa7e0"
    }
   }
  }
 },
 "nbformat": 4,
 "nbformat_minor": 2,
 "cells": [
  {
   "source": [
    "# Example Notebook For Using Optimizer Tools"
   ],
   "cell_type": "markdown",
   "metadata": {}
  },
  {
   "cell_type": "code",
   "execution_count": 1,
   "metadata": {},
   "outputs": [],
   "source": [
    "import pandas as pd\n",
    "\n",
    "from fps_dfs_optimizer.src.draftkings_tools import get_players_df, EntriesHandler, get_today, get_players_from_salaries\n",
    "from fps_dfs_optimizer.src.projections import get_projections\n",
    "from fps_dfs_optimizer.src.optimizer import Exposures, LineupOptimizer\n",
    "from fps_dfs_optimizer.src.generator import LineupGenerator"
   ]
  },
  {
   "source": [
    "## Generate today's players sheet\n",
    "This block will retrieve the players DataFrame for the current date.\n",
    "Any projections script can be implemented in get_projections(), but right now dummy projections are given"
   ],
   "cell_type": "markdown",
   "metadata": {}
  },
  {
   "cell_type": "code",
   "execution_count": 2,
   "metadata": {
    "tags": []
   },
   "outputs": [],
   "source": [
    "df_players = get_players_df('night')"
   ]
  },
  {
   "cell_type": "code",
   "execution_count": 6,
   "metadata": {},
   "outputs": [
    {
     "output_type": "execute_result",
     "data": {
      "text/plain": [
       "                        Name        ID Position    Status  Salary       Game  \\\n",
       "0               Nikola Jokic  16059063        C    Recent   10200  DEN @ SAC   \n",
       "1         Karl-Anthony Towns  16059065        C    Recent    9900  MIN @ LAC   \n",
       "2              Kawhi Leonard  16058980       SF    Recent    9400  MIN @ LAC   \n",
       "3               Devin Booker  16059084       SG    Recent    9100   NO @ PHO   \n",
       "4                Paul George  16058970       SG    Recent    8500  MIN @ LAC   \n",
       "5             Brandon Ingram  16059111    SF/PF    Recent    8200   NO @ PHO   \n",
       "6            Zion Williamson  16059198     PF/C    Recent    8100   NO @ PHO   \n",
       "7           D'Angelo Russell  16059077    PG/SG    Recent    7600  MIN @ LAC   \n",
       "8               De'Aaron Fox  16059152       PG    Recent    7600  DEN @ SAC   \n",
       "9              Deandre Ayton  16059172        C    Recent    7400   NO @ PHO   \n",
       "10                Chris Paul  16058929       PG    Recent    7100   NO @ PHO   \n",
       "11              Jamal Murray  16059115       PG    Recent    7000  DEN @ SAC   \n",
       "12               Buddy Hield  16059025    SG/SF    Recent    6800  DEN @ SAC   \n",
       "13                Lonzo Ball  16059149       PG    Recent    6600   NO @ PHO   \n",
       "14        Michael Porter Jr.  16059174    SF/PF  Breaking    6400  DEN @ SAC   \n",
       "15             Mikal Bridges  16059087       SF    Recent    6200   NO @ PHO   \n",
       "16               Will Barton  16058993    SG/SF  Breaking    6000  DEN @ SAC   \n",
       "17             Malik Beasley  16059090    SG/SF    Recent    5900  MIN @ LAC   \n",
       "18              Eric Bledsoe  16058976    PG/SG  Breaking    5900   NO @ PHO   \n",
       "19              Steven Adams  16059021        C      None    5800   NO @ PHO   \n",
       "20               Serge Ibaka  16058952        C    Recent    5500  MIN @ LAC   \n",
       "21               Ricky Rubio  16058973       PG    Recent    5500  MIN @ LAC   \n",
       "22           Anthony Edwards  16059232    SG/SF    Recent    5400  MIN @ LAC   \n",
       "23         Marvin Bagley III  16059185     PF/C  Breaking    5400  DEN @ SAC   \n",
       "24         Marcus Morris Sr.  16058966    SF/PF    Recent    5300  MIN @ LAC   \n",
       "25              Paul Millsap  16058932     PF/C    Recent    5300  DEN @ SAC   \n",
       "26           Harrison Barnes  16058998    SF/PF    Recent    5300  DEN @ SAC   \n",
       "27               Ivica Zubac  16059129        C      None    5200  MIN @ LAC   \n",
       "28              Lou Williams  16058936    PG/SG    Recent    5100  MIN @ LAC   \n",
       "29                  Naz Reid  16059226     PF/C    Recent    5100  MIN @ LAC   \n",
       "30            Richaun Holmes  16059023        C    Recent    5000  DEN @ SAC   \n",
       "31          Patrick Beverley  16058940       PG    Recent    4900  MIN @ LAC   \n",
       "32               Jae Crowder  16059002    SF/PF      None    4900   NO @ PHO   \n",
       "33                 Josh Hart  16059044       SF      None    4800   NO @ PHO   \n",
       "34             Cameron Payne  16059057       PG      None    4800   NO @ PHO   \n",
       "35         Tyrese Haliburton  16059202    PG/SG    Recent    4800  DEN @ SAC   \n",
       "36             Nicolas Batum  16058954    SF/PF  Breaking    4500  MIN @ LAC   \n",
       "37              Luke Kennard  16059106    SG/SF    Recent    4500  MIN @ LAC   \n",
       "38            Jarrett Culver  16059189    SG/SF    Recent    4500  MIN @ LAC   \n",
       "39           Cameron Johnson  16059069    SF/PF  Breaking    4400   NO @ PHO   \n",
       "40               Gary Harris  16059036    SG/SF  Breaking    4300  DEN @ SAC   \n",
       "41                 JJ Redick  16058924    SG/SF      None    4200   NO @ PHO   \n",
       "42               Cory Joseph  16059006       PG  Breaking    4200  DEN @ SAC   \n",
       "43               Josh Okogie  16059140       SF    Recent    4100  MIN @ LAC   \n",
       "44               Dario Saric  16059060       PF    Recent    4100   NO @ PHO   \n",
       "45           Nemanja Bjelica  16058985     PF/C    Recent    4100  DEN @ SAC   \n",
       "46            Reggie Jackson  16058961       PG      None    4000  MIN @ LAC   \n",
       "47              Monte Morris  16059041       PG  Breaking    4000  DEN @ SAC   \n",
       "48         Jarred Vanderbilt  16059182       PF  Breaking    3900  MIN @ LAC   \n",
       "49                 PJ Dozier  16059101    SG/SF    Recent    3800  DEN @ SAC   \n",
       "50            JaMychal Green  16058958       PF    Recent    3700  DEN @ SAC   \n",
       "51          Hassan Whiteside  16058983        C  Breaking    3700  DEN @ SAC   \n",
       "52       Juancho Hernangómez  16059126       PF  Breaking    3600  MIN @ LAC   \n",
       "53         Patrick Patterson  16058948     PF/C      None    3500  MIN @ LAC   \n",
       "54  Nickeil Alexander-Walker  16059178    PG/SG      None    3500   NO @ PHO   \n",
       "55                  Ed Davis  16058964        C    Recent    3400  MIN @ LAC   \n",
       "56               Jake Layman  16059030       PF    Recent    3300  MIN @ LAC   \n",
       "57           Jaden McDaniels  16059237       PF  Breaking    3200  MIN @ LAC   \n",
       "58         Langston Galloway  16058989    PG/SG      None    3200   NO @ PHO   \n",
       "59              Jaxson Hayes  16059230        C      None    3200   NO @ PHO   \n",
       "\n",
       "                        Time TeamAbbrev  \n",
       "0  2020-12-30 03:00:00+00:00        DEN  \n",
       "1  2020-12-30 03:00:00+00:00        MIN  \n",
       "2  2020-12-30 03:00:00+00:00        LAC  \n",
       "3  2020-12-30 03:00:00+00:00        PHO  \n",
       "4  2020-12-30 03:00:00+00:00        LAC  \n",
       "5  2020-12-30 03:00:00+00:00         NO  \n",
       "6  2020-12-30 03:00:00+00:00         NO  \n",
       "7  2020-12-30 03:00:00+00:00        MIN  \n",
       "8  2020-12-30 03:00:00+00:00        SAC  \n",
       "9  2020-12-30 03:00:00+00:00        PHO  \n",
       "10 2020-12-30 03:00:00+00:00        PHO  \n",
       "11 2020-12-30 03:00:00+00:00        DEN  \n",
       "12 2020-12-30 03:00:00+00:00        SAC  \n",
       "13 2020-12-30 03:00:00+00:00         NO  \n",
       "14 2020-12-30 03:00:00+00:00        DEN  \n",
       "15 2020-12-30 03:00:00+00:00        PHO  \n",
       "16 2020-12-30 03:00:00+00:00        DEN  \n",
       "17 2020-12-30 03:00:00+00:00        MIN  \n",
       "18 2020-12-30 03:00:00+00:00         NO  \n",
       "19 2020-12-30 03:00:00+00:00         NO  \n",
       "20 2020-12-30 03:00:00+00:00        LAC  \n",
       "21 2020-12-30 03:00:00+00:00        MIN  \n",
       "22 2020-12-30 03:00:00+00:00        MIN  \n",
       "23 2020-12-30 03:00:00+00:00        SAC  \n",
       "24 2020-12-30 03:00:00+00:00        LAC  \n",
       "25 2020-12-30 03:00:00+00:00        DEN  \n",
       "26 2020-12-30 03:00:00+00:00        SAC  \n",
       "27 2020-12-30 03:00:00+00:00        LAC  \n",
       "28 2020-12-30 03:00:00+00:00        LAC  \n",
       "29 2020-12-30 03:00:00+00:00        MIN  \n",
       "30 2020-12-30 03:00:00+00:00        SAC  \n",
       "31 2020-12-30 03:00:00+00:00        LAC  \n",
       "32 2020-12-30 03:00:00+00:00        PHO  \n",
       "33 2020-12-30 03:00:00+00:00         NO  \n",
       "34 2020-12-30 03:00:00+00:00        PHO  \n",
       "35 2020-12-30 03:00:00+00:00        SAC  \n",
       "36 2020-12-30 03:00:00+00:00        LAC  \n",
       "37 2020-12-30 03:00:00+00:00        LAC  \n",
       "38 2020-12-30 03:00:00+00:00        MIN  \n",
       "39 2020-12-30 03:00:00+00:00        PHO  \n",
       "40 2020-12-30 03:00:00+00:00        DEN  \n",
       "41 2020-12-30 03:00:00+00:00         NO  \n",
       "42 2020-12-30 03:00:00+00:00        SAC  \n",
       "43 2020-12-30 03:00:00+00:00        MIN  \n",
       "44 2020-12-30 03:00:00+00:00        PHO  \n",
       "45 2020-12-30 03:00:00+00:00        SAC  \n",
       "46 2020-12-30 03:00:00+00:00        LAC  \n",
       "47 2020-12-30 03:00:00+00:00        DEN  \n",
       "48 2020-12-30 03:00:00+00:00        MIN  \n",
       "49 2020-12-30 03:00:00+00:00        DEN  \n",
       "50 2020-12-30 03:00:00+00:00        DEN  \n",
       "51 2020-12-30 03:00:00+00:00        SAC  \n",
       "52 2020-12-30 03:00:00+00:00        MIN  \n",
       "53 2020-12-30 03:00:00+00:00        LAC  \n",
       "54 2020-12-30 03:00:00+00:00         NO  \n",
       "55 2020-12-30 03:00:00+00:00        MIN  \n",
       "56 2020-12-30 03:00:00+00:00        MIN  \n",
       "57 2020-12-30 03:00:00+00:00        MIN  \n",
       "58 2020-12-30 03:00:00+00:00        PHO  \n",
       "59 2020-12-30 03:00:00+00:00         NO  "
      ],
      "text/html": "<div>\n<style scoped>\n    .dataframe tbody tr th:only-of-type {\n        vertical-align: middle;\n    }\n\n    .dataframe tbody tr th {\n        vertical-align: top;\n    }\n\n    .dataframe thead th {\n        text-align: right;\n    }\n</style>\n<table border=\"1\" class=\"dataframe\">\n  <thead>\n    <tr style=\"text-align: right;\">\n      <th></th>\n      <th>Name</th>\n      <th>ID</th>\n      <th>Position</th>\n      <th>Status</th>\n      <th>Salary</th>\n      <th>Game</th>\n      <th>Time</th>\n      <th>TeamAbbrev</th>\n    </tr>\n  </thead>\n  <tbody>\n    <tr>\n      <th>0</th>\n      <td>Nikola Jokic</td>\n      <td>16059063</td>\n      <td>C</td>\n      <td>Recent</td>\n      <td>10200</td>\n      <td>DEN @ SAC</td>\n      <td>2020-12-30 03:00:00+00:00</td>\n      <td>DEN</td>\n    </tr>\n    <tr>\n      <th>1</th>\n      <td>Karl-Anthony Towns</td>\n      <td>16059065</td>\n      <td>C</td>\n      <td>Recent</td>\n      <td>9900</td>\n      <td>MIN @ LAC</td>\n      <td>2020-12-30 03:00:00+00:00</td>\n      <td>MIN</td>\n    </tr>\n    <tr>\n      <th>2</th>\n      <td>Kawhi Leonard</td>\n      <td>16058980</td>\n      <td>SF</td>\n      <td>Recent</td>\n      <td>9400</td>\n      <td>MIN @ LAC</td>\n      <td>2020-12-30 03:00:00+00:00</td>\n      <td>LAC</td>\n    </tr>\n    <tr>\n      <th>3</th>\n      <td>Devin Booker</td>\n      <td>16059084</td>\n      <td>SG</td>\n      <td>Recent</td>\n      <td>9100</td>\n      <td>NO @ PHO</td>\n      <td>2020-12-30 03:00:00+00:00</td>\n      <td>PHO</td>\n    </tr>\n    <tr>\n      <th>4</th>\n      <td>Paul George</td>\n      <td>16058970</td>\n      <td>SG</td>\n      <td>Recent</td>\n      <td>8500</td>\n      <td>MIN @ LAC</td>\n      <td>2020-12-30 03:00:00+00:00</td>\n      <td>LAC</td>\n    </tr>\n    <tr>\n      <th>5</th>\n      <td>Brandon Ingram</td>\n      <td>16059111</td>\n      <td>SF/PF</td>\n      <td>Recent</td>\n      <td>8200</td>\n      <td>NO @ PHO</td>\n      <td>2020-12-30 03:00:00+00:00</td>\n      <td>NO</td>\n    </tr>\n    <tr>\n      <th>6</th>\n      <td>Zion Williamson</td>\n      <td>16059198</td>\n      <td>PF/C</td>\n      <td>Recent</td>\n      <td>8100</td>\n      <td>NO @ PHO</td>\n      <td>2020-12-30 03:00:00+00:00</td>\n      <td>NO</td>\n    </tr>\n    <tr>\n      <th>7</th>\n      <td>D'Angelo Russell</td>\n      <td>16059077</td>\n      <td>PG/SG</td>\n      <td>Recent</td>\n      <td>7600</td>\n      <td>MIN @ LAC</td>\n      <td>2020-12-30 03:00:00+00:00</td>\n      <td>MIN</td>\n    </tr>\n    <tr>\n      <th>8</th>\n      <td>De'Aaron Fox</td>\n      <td>16059152</td>\n      <td>PG</td>\n      <td>Recent</td>\n      <td>7600</td>\n      <td>DEN @ SAC</td>\n      <td>2020-12-30 03:00:00+00:00</td>\n      <td>SAC</td>\n    </tr>\n    <tr>\n      <th>9</th>\n      <td>Deandre Ayton</td>\n      <td>16059172</td>\n      <td>C</td>\n      <td>Recent</td>\n      <td>7400</td>\n      <td>NO @ PHO</td>\n      <td>2020-12-30 03:00:00+00:00</td>\n      <td>PHO</td>\n    </tr>\n    <tr>\n      <th>10</th>\n      <td>Chris Paul</td>\n      <td>16058929</td>\n      <td>PG</td>\n      <td>Recent</td>\n      <td>7100</td>\n      <td>NO @ PHO</td>\n      <td>2020-12-30 03:00:00+00:00</td>\n      <td>PHO</td>\n    </tr>\n    <tr>\n      <th>11</th>\n      <td>Jamal Murray</td>\n      <td>16059115</td>\n      <td>PG</td>\n      <td>Recent</td>\n      <td>7000</td>\n      <td>DEN @ SAC</td>\n      <td>2020-12-30 03:00:00+00:00</td>\n      <td>DEN</td>\n    </tr>\n    <tr>\n      <th>12</th>\n      <td>Buddy Hield</td>\n      <td>16059025</td>\n      <td>SG/SF</td>\n      <td>Recent</td>\n      <td>6800</td>\n      <td>DEN @ SAC</td>\n      <td>2020-12-30 03:00:00+00:00</td>\n      <td>SAC</td>\n    </tr>\n    <tr>\n      <th>13</th>\n      <td>Lonzo Ball</td>\n      <td>16059149</td>\n      <td>PG</td>\n      <td>Recent</td>\n      <td>6600</td>\n      <td>NO @ PHO</td>\n      <td>2020-12-30 03:00:00+00:00</td>\n      <td>NO</td>\n    </tr>\n    <tr>\n      <th>14</th>\n      <td>Michael Porter Jr.</td>\n      <td>16059174</td>\n      <td>SF/PF</td>\n      <td>Breaking</td>\n      <td>6400</td>\n      <td>DEN @ SAC</td>\n      <td>2020-12-30 03:00:00+00:00</td>\n      <td>DEN</td>\n    </tr>\n    <tr>\n      <th>15</th>\n      <td>Mikal Bridges</td>\n      <td>16059087</td>\n      <td>SF</td>\n      <td>Recent</td>\n      <td>6200</td>\n      <td>NO @ PHO</td>\n      <td>2020-12-30 03:00:00+00:00</td>\n      <td>PHO</td>\n    </tr>\n    <tr>\n      <th>16</th>\n      <td>Will Barton</td>\n      <td>16058993</td>\n      <td>SG/SF</td>\n      <td>Breaking</td>\n      <td>6000</td>\n      <td>DEN @ SAC</td>\n      <td>2020-12-30 03:00:00+00:00</td>\n      <td>DEN</td>\n    </tr>\n    <tr>\n      <th>17</th>\n      <td>Malik Beasley</td>\n      <td>16059090</td>\n      <td>SG/SF</td>\n      <td>Recent</td>\n      <td>5900</td>\n      <td>MIN @ LAC</td>\n      <td>2020-12-30 03:00:00+00:00</td>\n      <td>MIN</td>\n    </tr>\n    <tr>\n      <th>18</th>\n      <td>Eric Bledsoe</td>\n      <td>16058976</td>\n      <td>PG/SG</td>\n      <td>Breaking</td>\n      <td>5900</td>\n      <td>NO @ PHO</td>\n      <td>2020-12-30 03:00:00+00:00</td>\n      <td>NO</td>\n    </tr>\n    <tr>\n      <th>19</th>\n      <td>Steven Adams</td>\n      <td>16059021</td>\n      <td>C</td>\n      <td>None</td>\n      <td>5800</td>\n      <td>NO @ PHO</td>\n      <td>2020-12-30 03:00:00+00:00</td>\n      <td>NO</td>\n    </tr>\n    <tr>\n      <th>20</th>\n      <td>Serge Ibaka</td>\n      <td>16058952</td>\n      <td>C</td>\n      <td>Recent</td>\n      <td>5500</td>\n      <td>MIN @ LAC</td>\n      <td>2020-12-30 03:00:00+00:00</td>\n      <td>LAC</td>\n    </tr>\n    <tr>\n      <th>21</th>\n      <td>Ricky Rubio</td>\n      <td>16058973</td>\n      <td>PG</td>\n      <td>Recent</td>\n      <td>5500</td>\n      <td>MIN @ LAC</td>\n      <td>2020-12-30 03:00:00+00:00</td>\n      <td>MIN</td>\n    </tr>\n    <tr>\n      <th>22</th>\n      <td>Anthony Edwards</td>\n      <td>16059232</td>\n      <td>SG/SF</td>\n      <td>Recent</td>\n      <td>5400</td>\n      <td>MIN @ LAC</td>\n      <td>2020-12-30 03:00:00+00:00</td>\n      <td>MIN</td>\n    </tr>\n    <tr>\n      <th>23</th>\n      <td>Marvin Bagley III</td>\n      <td>16059185</td>\n      <td>PF/C</td>\n      <td>Breaking</td>\n      <td>5400</td>\n      <td>DEN @ SAC</td>\n      <td>2020-12-30 03:00:00+00:00</td>\n      <td>SAC</td>\n    </tr>\n    <tr>\n      <th>24</th>\n      <td>Marcus Morris Sr.</td>\n      <td>16058966</td>\n      <td>SF/PF</td>\n      <td>Recent</td>\n      <td>5300</td>\n      <td>MIN @ LAC</td>\n      <td>2020-12-30 03:00:00+00:00</td>\n      <td>LAC</td>\n    </tr>\n    <tr>\n      <th>25</th>\n      <td>Paul Millsap</td>\n      <td>16058932</td>\n      <td>PF/C</td>\n      <td>Recent</td>\n      <td>5300</td>\n      <td>DEN @ SAC</td>\n      <td>2020-12-30 03:00:00+00:00</td>\n      <td>DEN</td>\n    </tr>\n    <tr>\n      <th>26</th>\n      <td>Harrison Barnes</td>\n      <td>16058998</td>\n      <td>SF/PF</td>\n      <td>Recent</td>\n      <td>5300</td>\n      <td>DEN @ SAC</td>\n      <td>2020-12-30 03:00:00+00:00</td>\n      <td>SAC</td>\n    </tr>\n    <tr>\n      <th>27</th>\n      <td>Ivica Zubac</td>\n      <td>16059129</td>\n      <td>C</td>\n      <td>None</td>\n      <td>5200</td>\n      <td>MIN @ LAC</td>\n      <td>2020-12-30 03:00:00+00:00</td>\n      <td>LAC</td>\n    </tr>\n    <tr>\n      <th>28</th>\n      <td>Lou Williams</td>\n      <td>16058936</td>\n      <td>PG/SG</td>\n      <td>Recent</td>\n      <td>5100</td>\n      <td>MIN @ LAC</td>\n      <td>2020-12-30 03:00:00+00:00</td>\n      <td>LAC</td>\n    </tr>\n    <tr>\n      <th>29</th>\n      <td>Naz Reid</td>\n      <td>16059226</td>\n      <td>PF/C</td>\n      <td>Recent</td>\n      <td>5100</td>\n      <td>MIN @ LAC</td>\n      <td>2020-12-30 03:00:00+00:00</td>\n      <td>MIN</td>\n    </tr>\n    <tr>\n      <th>30</th>\n      <td>Richaun Holmes</td>\n      <td>16059023</td>\n      <td>C</td>\n      <td>Recent</td>\n      <td>5000</td>\n      <td>DEN @ SAC</td>\n      <td>2020-12-30 03:00:00+00:00</td>\n      <td>SAC</td>\n    </tr>\n    <tr>\n      <th>31</th>\n      <td>Patrick Beverley</td>\n      <td>16058940</td>\n      <td>PG</td>\n      <td>Recent</td>\n      <td>4900</td>\n      <td>MIN @ LAC</td>\n      <td>2020-12-30 03:00:00+00:00</td>\n      <td>LAC</td>\n    </tr>\n    <tr>\n      <th>32</th>\n      <td>Jae Crowder</td>\n      <td>16059002</td>\n      <td>SF/PF</td>\n      <td>None</td>\n      <td>4900</td>\n      <td>NO @ PHO</td>\n      <td>2020-12-30 03:00:00+00:00</td>\n      <td>PHO</td>\n    </tr>\n    <tr>\n      <th>33</th>\n      <td>Josh Hart</td>\n      <td>16059044</td>\n      <td>SF</td>\n      <td>None</td>\n      <td>4800</td>\n      <td>NO @ PHO</td>\n      <td>2020-12-30 03:00:00+00:00</td>\n      <td>NO</td>\n    </tr>\n    <tr>\n      <th>34</th>\n      <td>Cameron Payne</td>\n      <td>16059057</td>\n      <td>PG</td>\n      <td>None</td>\n      <td>4800</td>\n      <td>NO @ PHO</td>\n      <td>2020-12-30 03:00:00+00:00</td>\n      <td>PHO</td>\n    </tr>\n    <tr>\n      <th>35</th>\n      <td>Tyrese Haliburton</td>\n      <td>16059202</td>\n      <td>PG/SG</td>\n      <td>Recent</td>\n      <td>4800</td>\n      <td>DEN @ SAC</td>\n      <td>2020-12-30 03:00:00+00:00</td>\n      <td>SAC</td>\n    </tr>\n    <tr>\n      <th>36</th>\n      <td>Nicolas Batum</td>\n      <td>16058954</td>\n      <td>SF/PF</td>\n      <td>Breaking</td>\n      <td>4500</td>\n      <td>MIN @ LAC</td>\n      <td>2020-12-30 03:00:00+00:00</td>\n      <td>LAC</td>\n    </tr>\n    <tr>\n      <th>37</th>\n      <td>Luke Kennard</td>\n      <td>16059106</td>\n      <td>SG/SF</td>\n      <td>Recent</td>\n      <td>4500</td>\n      <td>MIN @ LAC</td>\n      <td>2020-12-30 03:00:00+00:00</td>\n      <td>LAC</td>\n    </tr>\n    <tr>\n      <th>38</th>\n      <td>Jarrett Culver</td>\n      <td>16059189</td>\n      <td>SG/SF</td>\n      <td>Recent</td>\n      <td>4500</td>\n      <td>MIN @ LAC</td>\n      <td>2020-12-30 03:00:00+00:00</td>\n      <td>MIN</td>\n    </tr>\n    <tr>\n      <th>39</th>\n      <td>Cameron Johnson</td>\n      <td>16059069</td>\n      <td>SF/PF</td>\n      <td>Breaking</td>\n      <td>4400</td>\n      <td>NO @ PHO</td>\n      <td>2020-12-30 03:00:00+00:00</td>\n      <td>PHO</td>\n    </tr>\n    <tr>\n      <th>40</th>\n      <td>Gary Harris</td>\n      <td>16059036</td>\n      <td>SG/SF</td>\n      <td>Breaking</td>\n      <td>4300</td>\n      <td>DEN @ SAC</td>\n      <td>2020-12-30 03:00:00+00:00</td>\n      <td>DEN</td>\n    </tr>\n    <tr>\n      <th>41</th>\n      <td>JJ Redick</td>\n      <td>16058924</td>\n      <td>SG/SF</td>\n      <td>None</td>\n      <td>4200</td>\n      <td>NO @ PHO</td>\n      <td>2020-12-30 03:00:00+00:00</td>\n      <td>NO</td>\n    </tr>\n    <tr>\n      <th>42</th>\n      <td>Cory Joseph</td>\n      <td>16059006</td>\n      <td>PG</td>\n      <td>Breaking</td>\n      <td>4200</td>\n      <td>DEN @ SAC</td>\n      <td>2020-12-30 03:00:00+00:00</td>\n      <td>SAC</td>\n    </tr>\n    <tr>\n      <th>43</th>\n      <td>Josh Okogie</td>\n      <td>16059140</td>\n      <td>SF</td>\n      <td>Recent</td>\n      <td>4100</td>\n      <td>MIN @ LAC</td>\n      <td>2020-12-30 03:00:00+00:00</td>\n      <td>MIN</td>\n    </tr>\n    <tr>\n      <th>44</th>\n      <td>Dario Saric</td>\n      <td>16059060</td>\n      <td>PF</td>\n      <td>Recent</td>\n      <td>4100</td>\n      <td>NO @ PHO</td>\n      <td>2020-12-30 03:00:00+00:00</td>\n      <td>PHO</td>\n    </tr>\n    <tr>\n      <th>45</th>\n      <td>Nemanja Bjelica</td>\n      <td>16058985</td>\n      <td>PF/C</td>\n      <td>Recent</td>\n      <td>4100</td>\n      <td>DEN @ SAC</td>\n      <td>2020-12-30 03:00:00+00:00</td>\n      <td>SAC</td>\n    </tr>\n    <tr>\n      <th>46</th>\n      <td>Reggie Jackson</td>\n      <td>16058961</td>\n      <td>PG</td>\n      <td>None</td>\n      <td>4000</td>\n      <td>MIN @ LAC</td>\n      <td>2020-12-30 03:00:00+00:00</td>\n      <td>LAC</td>\n    </tr>\n    <tr>\n      <th>47</th>\n      <td>Monte Morris</td>\n      <td>16059041</td>\n      <td>PG</td>\n      <td>Breaking</td>\n      <td>4000</td>\n      <td>DEN @ SAC</td>\n      <td>2020-12-30 03:00:00+00:00</td>\n      <td>DEN</td>\n    </tr>\n    <tr>\n      <th>48</th>\n      <td>Jarred Vanderbilt</td>\n      <td>16059182</td>\n      <td>PF</td>\n      <td>Breaking</td>\n      <td>3900</td>\n      <td>MIN @ LAC</td>\n      <td>2020-12-30 03:00:00+00:00</td>\n      <td>MIN</td>\n    </tr>\n    <tr>\n      <th>49</th>\n      <td>PJ Dozier</td>\n      <td>16059101</td>\n      <td>SG/SF</td>\n      <td>Recent</td>\n      <td>3800</td>\n      <td>DEN @ SAC</td>\n      <td>2020-12-30 03:00:00+00:00</td>\n      <td>DEN</td>\n    </tr>\n    <tr>\n      <th>50</th>\n      <td>JaMychal Green</td>\n      <td>16058958</td>\n      <td>PF</td>\n      <td>Recent</td>\n      <td>3700</td>\n      <td>DEN @ SAC</td>\n      <td>2020-12-30 03:00:00+00:00</td>\n      <td>DEN</td>\n    </tr>\n    <tr>\n      <th>51</th>\n      <td>Hassan Whiteside</td>\n      <td>16058983</td>\n      <td>C</td>\n      <td>Breaking</td>\n      <td>3700</td>\n      <td>DEN @ SAC</td>\n      <td>2020-12-30 03:00:00+00:00</td>\n      <td>SAC</td>\n    </tr>\n    <tr>\n      <th>52</th>\n      <td>Juancho Hernangómez</td>\n      <td>16059126</td>\n      <td>PF</td>\n      <td>Breaking</td>\n      <td>3600</td>\n      <td>MIN @ LAC</td>\n      <td>2020-12-30 03:00:00+00:00</td>\n      <td>MIN</td>\n    </tr>\n    <tr>\n      <th>53</th>\n      <td>Patrick Patterson</td>\n      <td>16058948</td>\n      <td>PF/C</td>\n      <td>None</td>\n      <td>3500</td>\n      <td>MIN @ LAC</td>\n      <td>2020-12-30 03:00:00+00:00</td>\n      <td>LAC</td>\n    </tr>\n    <tr>\n      <th>54</th>\n      <td>Nickeil Alexander-Walker</td>\n      <td>16059178</td>\n      <td>PG/SG</td>\n      <td>None</td>\n      <td>3500</td>\n      <td>NO @ PHO</td>\n      <td>2020-12-30 03:00:00+00:00</td>\n      <td>NO</td>\n    </tr>\n    <tr>\n      <th>55</th>\n      <td>Ed Davis</td>\n      <td>16058964</td>\n      <td>C</td>\n      <td>Recent</td>\n      <td>3400</td>\n      <td>MIN @ LAC</td>\n      <td>2020-12-30 03:00:00+00:00</td>\n      <td>MIN</td>\n    </tr>\n    <tr>\n      <th>56</th>\n      <td>Jake Layman</td>\n      <td>16059030</td>\n      <td>PF</td>\n      <td>Recent</td>\n      <td>3300</td>\n      <td>MIN @ LAC</td>\n      <td>2020-12-30 03:00:00+00:00</td>\n      <td>MIN</td>\n    </tr>\n    <tr>\n      <th>57</th>\n      <td>Jaden McDaniels</td>\n      <td>16059237</td>\n      <td>PF</td>\n      <td>Breaking</td>\n      <td>3200</td>\n      <td>MIN @ LAC</td>\n      <td>2020-12-30 03:00:00+00:00</td>\n      <td>MIN</td>\n    </tr>\n    <tr>\n      <th>58</th>\n      <td>Langston Galloway</td>\n      <td>16058989</td>\n      <td>PG/SG</td>\n      <td>None</td>\n      <td>3200</td>\n      <td>NO @ PHO</td>\n      <td>2020-12-30 03:00:00+00:00</td>\n      <td>PHO</td>\n    </tr>\n    <tr>\n      <th>59</th>\n      <td>Jaxson Hayes</td>\n      <td>16059230</td>\n      <td>C</td>\n      <td>None</td>\n      <td>3200</td>\n      <td>NO @ PHO</td>\n      <td>2020-12-30 03:00:00+00:00</td>\n      <td>NO</td>\n    </tr>\n  </tbody>\n</table>\n</div>"
     },
     "metadata": {},
     "execution_count": 6
    }
   ],
   "source": [
    "df_players[:60]"
   ]
  },
  {
   "source": [
    "## Optionally, can read players sheet directly from DKSalaries, if it is downloaded"
   ],
   "cell_type": "markdown",
   "metadata": {}
  },
  {
   "cell_type": "code",
   "execution_count": 6,
   "metadata": {
    "tags": []
   },
   "outputs": [],
   "source": [
    "points, std = get_projections(df_players)\n",
    "df_players['projections'] = points\n",
    "df_players['std'] = std"
   ]
  },
  {
   "cell_type": "code",
   "execution_count": 2,
   "metadata": {},
   "outputs": [],
   "source": [
    "df_players = get_players_from_salaries('../data/raw/DKSalaries_20201230_main.csv')"
   ]
  },
  {
   "cell_type": "code",
   "execution_count": 3,
   "metadata": {},
   "outputs": [
    {
     "output_type": "execute_result",
     "data": {
      "text/plain": [
       "                Name        ID Position  Salary       Game  \\\n",
       "0       Jrue Holiday  16067227       PG    6400  MIL @ MIA   \n",
       "1      DeMar DeRozan  16067210    SF/PF    6900   LAL @ SA   \n",
       "2  Bogdan Bogdanovic  16067348    PG/SG    4800  ATL @ BKN   \n",
       "3       Jimmy Butler  16067181    PG/SF    7500  MIL @ MIA   \n",
       "4       Jusuf Nurkic  16067218        C    6700  POR @ LAC   \n",
       "\n",
       "                 Time TeamAbbrev  projections    std  min_exp  max_exp  \\\n",
       "0 2020-12-30 19:30:00        MIL        39.92  12.18        0      0.0   \n",
       "1 2020-12-30 20:30:00         SA        41.63   9.32        0      0.6   \n",
       "2 2020-12-30 19:30:00        ATL        28.55  10.16        0      0.6   \n",
       "3 2020-12-30 19:30:00        MIA        43.65  11.76        0      0.6   \n",
       "4 2020-12-30 22:00:00        POR        38.49  11.12        0      0.6   \n",
       "\n",
       "   dk_points_actual  \n",
       "0             30.50  \n",
       "1             44.58  \n",
       "2             28.92  \n",
       "3             32.38  \n",
       "4             30.83  "
      ],
      "text/html": "<div>\n<style scoped>\n    .dataframe tbody tr th:only-of-type {\n        vertical-align: middle;\n    }\n\n    .dataframe tbody tr th {\n        vertical-align: top;\n    }\n\n    .dataframe thead th {\n        text-align: right;\n    }\n</style>\n<table border=\"1\" class=\"dataframe\">\n  <thead>\n    <tr style=\"text-align: right;\">\n      <th></th>\n      <th>Name</th>\n      <th>ID</th>\n      <th>Position</th>\n      <th>Salary</th>\n      <th>Game</th>\n      <th>Time</th>\n      <th>TeamAbbrev</th>\n      <th>projections</th>\n      <th>std</th>\n      <th>min_exp</th>\n      <th>max_exp</th>\n      <th>dk_points_actual</th>\n    </tr>\n  </thead>\n  <tbody>\n    <tr>\n      <th>0</th>\n      <td>Jrue Holiday</td>\n      <td>16067227</td>\n      <td>PG</td>\n      <td>6400</td>\n      <td>MIL @ MIA</td>\n      <td>2020-12-30 19:30:00</td>\n      <td>MIL</td>\n      <td>39.92</td>\n      <td>12.18</td>\n      <td>0</td>\n      <td>0.0</td>\n      <td>30.50</td>\n    </tr>\n    <tr>\n      <th>1</th>\n      <td>DeMar DeRozan</td>\n      <td>16067210</td>\n      <td>SF/PF</td>\n      <td>6900</td>\n      <td>LAL @ SA</td>\n      <td>2020-12-30 20:30:00</td>\n      <td>SA</td>\n      <td>41.63</td>\n      <td>9.32</td>\n      <td>0</td>\n      <td>0.6</td>\n      <td>44.58</td>\n    </tr>\n    <tr>\n      <th>2</th>\n      <td>Bogdan Bogdanovic</td>\n      <td>16067348</td>\n      <td>PG/SG</td>\n      <td>4800</td>\n      <td>ATL @ BKN</td>\n      <td>2020-12-30 19:30:00</td>\n      <td>ATL</td>\n      <td>28.55</td>\n      <td>10.16</td>\n      <td>0</td>\n      <td>0.6</td>\n      <td>28.92</td>\n    </tr>\n    <tr>\n      <th>3</th>\n      <td>Jimmy Butler</td>\n      <td>16067181</td>\n      <td>PG/SF</td>\n      <td>7500</td>\n      <td>MIL @ MIA</td>\n      <td>2020-12-30 19:30:00</td>\n      <td>MIA</td>\n      <td>43.65</td>\n      <td>11.76</td>\n      <td>0</td>\n      <td>0.6</td>\n      <td>32.38</td>\n    </tr>\n    <tr>\n      <th>4</th>\n      <td>Jusuf Nurkic</td>\n      <td>16067218</td>\n      <td>C</td>\n      <td>6700</td>\n      <td>POR @ LAC</td>\n      <td>2020-12-30 22:00:00</td>\n      <td>POR</td>\n      <td>38.49</td>\n      <td>11.12</td>\n      <td>0</td>\n      <td>0.6</td>\n      <td>30.83</td>\n    </tr>\n  </tbody>\n</table>\n</div>"
     },
     "metadata": {},
     "execution_count": 3
    }
   ],
   "source": [
    "df_players.head()"
   ]
  },
  {
   "source": [
    "## Now exposures must be inputted\n",
    "Here the dataframe above is saved to the data/temp folder for exposures to be filled out.\n",
    "Once the exposures are filled out, run exp.read_exposures() to pull the sheet into the dataframe."
   ],
   "cell_type": "markdown",
   "metadata": {}
  },
  {
   "cell_type": "code",
   "execution_count": 10,
   "metadata": {
    "tags": []
   },
   "outputs": [],
   "source": [
    "exp = Exposures(df_players)"
   ]
  },
  {
   "cell_type": "code",
   "execution_count": 11,
   "metadata": {},
   "outputs": [],
   "source": [
    "df_players = exp.read_exposures()"
   ]
  },
  {
   "cell_type": "code",
   "execution_count": 12,
   "metadata": {},
   "outputs": [
    {
     "output_type": "execute_result",
     "data": {
      "text/plain": [
       "                  Name        ID Position  Salary       Game  \\\n",
       "0         Jrue Holiday  16067227       PG    6400  MIL @ MIA   \n",
       "1        DeMar DeRozan  16067210    SF/PF    6900   LAL @ SA   \n",
       "2    Bogdan Bogdanovic  16067348    PG/SG    4800  ATL @ BKN   \n",
       "3         Jimmy Butler  16067181    PG/SF    7500  MIL @ MIA   \n",
       "4         Jusuf Nurkic  16067218        C    6700  POR @ LAC   \n",
       "..                 ...       ...      ...     ...        ...   \n",
       "192     Tremont Waters  16067613       PG    3000  MEM @ BOS   \n",
       "193          Tyler Bey  16067656       PF    3000  CHA @ DAL   \n",
       "194   Vernon Carey Jr.  16067760        C    3000  CHA @ DAL   \n",
       "195     Xavier Tillman  16067715     PF/C    3000  MEM @ BOS   \n",
       "196       Zach Collins  16067503     PF/C    3300  POR @ LAC   \n",
       "\n",
       "                   Time TeamAbbrev  projections    std  min_exp  max_exp  \n",
       "0   2020-12-30 19:30:00        MIL        39.92  12.18        0      0.6  \n",
       "1   2020-12-30 20:30:00         SA        41.63   9.32        0      0.6  \n",
       "2   2020-12-30 19:30:00        ATL        28.55  10.16        0      0.6  \n",
       "3   2020-12-30 19:30:00        MIA        43.65  11.76        0      0.6  \n",
       "4   2020-12-30 22:00:00        POR        38.49  11.12        0      0.6  \n",
       "..                  ...        ...          ...    ...      ...      ...  \n",
       "192 2020-12-30 19:30:00        BOS         0.00   0.00        0      0.3  \n",
       "193 2020-12-30 20:30:00        DAL         0.00   0.00        0      0.3  \n",
       "194 2020-12-30 20:30:00        CHA         0.00   0.00        0      0.3  \n",
       "195 2020-12-30 19:30:00        MEM         0.00   0.00        0      0.3  \n",
       "196 2020-12-30 22:00:00        POR         0.00   0.00        0      0.3  \n",
       "\n",
       "[197 rows x 11 columns]"
      ],
      "text/html": "<div>\n<style scoped>\n    .dataframe tbody tr th:only-of-type {\n        vertical-align: middle;\n    }\n\n    .dataframe tbody tr th {\n        vertical-align: top;\n    }\n\n    .dataframe thead th {\n        text-align: right;\n    }\n</style>\n<table border=\"1\" class=\"dataframe\">\n  <thead>\n    <tr style=\"text-align: right;\">\n      <th></th>\n      <th>Name</th>\n      <th>ID</th>\n      <th>Position</th>\n      <th>Salary</th>\n      <th>Game</th>\n      <th>Time</th>\n      <th>TeamAbbrev</th>\n      <th>projections</th>\n      <th>std</th>\n      <th>min_exp</th>\n      <th>max_exp</th>\n    </tr>\n  </thead>\n  <tbody>\n    <tr>\n      <th>0</th>\n      <td>Jrue Holiday</td>\n      <td>16067227</td>\n      <td>PG</td>\n      <td>6400</td>\n      <td>MIL @ MIA</td>\n      <td>2020-12-30 19:30:00</td>\n      <td>MIL</td>\n      <td>39.92</td>\n      <td>12.18</td>\n      <td>0</td>\n      <td>0.6</td>\n    </tr>\n    <tr>\n      <th>1</th>\n      <td>DeMar DeRozan</td>\n      <td>16067210</td>\n      <td>SF/PF</td>\n      <td>6900</td>\n      <td>LAL @ SA</td>\n      <td>2020-12-30 20:30:00</td>\n      <td>SA</td>\n      <td>41.63</td>\n      <td>9.32</td>\n      <td>0</td>\n      <td>0.6</td>\n    </tr>\n    <tr>\n      <th>2</th>\n      <td>Bogdan Bogdanovic</td>\n      <td>16067348</td>\n      <td>PG/SG</td>\n      <td>4800</td>\n      <td>ATL @ BKN</td>\n      <td>2020-12-30 19:30:00</td>\n      <td>ATL</td>\n      <td>28.55</td>\n      <td>10.16</td>\n      <td>0</td>\n      <td>0.6</td>\n    </tr>\n    <tr>\n      <th>3</th>\n      <td>Jimmy Butler</td>\n      <td>16067181</td>\n      <td>PG/SF</td>\n      <td>7500</td>\n      <td>MIL @ MIA</td>\n      <td>2020-12-30 19:30:00</td>\n      <td>MIA</td>\n      <td>43.65</td>\n      <td>11.76</td>\n      <td>0</td>\n      <td>0.6</td>\n    </tr>\n    <tr>\n      <th>4</th>\n      <td>Jusuf Nurkic</td>\n      <td>16067218</td>\n      <td>C</td>\n      <td>6700</td>\n      <td>POR @ LAC</td>\n      <td>2020-12-30 22:00:00</td>\n      <td>POR</td>\n      <td>38.49</td>\n      <td>11.12</td>\n      <td>0</td>\n      <td>0.6</td>\n    </tr>\n    <tr>\n      <th>...</th>\n      <td>...</td>\n      <td>...</td>\n      <td>...</td>\n      <td>...</td>\n      <td>...</td>\n      <td>...</td>\n      <td>...</td>\n      <td>...</td>\n      <td>...</td>\n      <td>...</td>\n      <td>...</td>\n    </tr>\n    <tr>\n      <th>192</th>\n      <td>Tremont Waters</td>\n      <td>16067613</td>\n      <td>PG</td>\n      <td>3000</td>\n      <td>MEM @ BOS</td>\n      <td>2020-12-30 19:30:00</td>\n      <td>BOS</td>\n      <td>0.00</td>\n      <td>0.00</td>\n      <td>0</td>\n      <td>0.3</td>\n    </tr>\n    <tr>\n      <th>193</th>\n      <td>Tyler Bey</td>\n      <td>16067656</td>\n      <td>PF</td>\n      <td>3000</td>\n      <td>CHA @ DAL</td>\n      <td>2020-12-30 20:30:00</td>\n      <td>DAL</td>\n      <td>0.00</td>\n      <td>0.00</td>\n      <td>0</td>\n      <td>0.3</td>\n    </tr>\n    <tr>\n      <th>194</th>\n      <td>Vernon Carey Jr.</td>\n      <td>16067760</td>\n      <td>C</td>\n      <td>3000</td>\n      <td>CHA @ DAL</td>\n      <td>2020-12-30 20:30:00</td>\n      <td>CHA</td>\n      <td>0.00</td>\n      <td>0.00</td>\n      <td>0</td>\n      <td>0.3</td>\n    </tr>\n    <tr>\n      <th>195</th>\n      <td>Xavier Tillman</td>\n      <td>16067715</td>\n      <td>PF/C</td>\n      <td>3000</td>\n      <td>MEM @ BOS</td>\n      <td>2020-12-30 19:30:00</td>\n      <td>MEM</td>\n      <td>0.00</td>\n      <td>0.00</td>\n      <td>0</td>\n      <td>0.3</td>\n    </tr>\n    <tr>\n      <th>196</th>\n      <td>Zach Collins</td>\n      <td>16067503</td>\n      <td>PF/C</td>\n      <td>3300</td>\n      <td>POR @ LAC</td>\n      <td>2020-12-30 22:00:00</td>\n      <td>POR</td>\n      <td>0.00</td>\n      <td>0.00</td>\n      <td>0</td>\n      <td>0.3</td>\n    </tr>\n  </tbody>\n</table>\n<p>197 rows × 11 columns</p>\n</div>"
     },
     "metadata": {},
     "execution_count": 12
    }
   ],
   "source": [
    "cols = df_players.columns\n",
    "df_players"
   ]
  },
  {
   "source": [
    "# Now let's work with a historical dataframe \n",
    "Data is from 2020/01/02"
   ],
   "cell_type": "markdown",
   "metadata": {}
  },
  {
   "cell_type": "code",
   "execution_count": 18,
   "metadata": {},
   "outputs": [
    {
     "output_type": "execute_result",
     "data": {
      "text/plain": [
       "             Name        ID Position  Salary  Status TeamAbbrev  \\\n",
       "0     Gary Harris  14066354       SG    4600  recent        MIL   \n",
       "1  Darius Garland  14066387       PG    4400  recent        HOU   \n",
       "2   Collin Sexton  14066177    PG/SG    5900  recent        HOU   \n",
       "3    Kevin Porter  14066428    SG/SF    4200  recent        MIL   \n",
       "4   Aaron Holiday  14066210    PG/SG    5700  recent        HOU   \n",
       "\n",
       "                       Time  projections       std  min_exp  max_exp  \n",
       "0 2020-09-10 23:00:00+00:00        29.62  4.462711        0      0.4  \n",
       "1 2020-09-10 23:00:00+00:00        26.53  4.750068        0      0.4  \n",
       "2 2020-09-10 23:00:00+00:00        34.33  7.762624        0      0.4  \n",
       "3 2020-09-10 23:00:00+00:00        23.80  5.999999        0      0.4  \n",
       "4 2020-09-10 23:00:00+00:00        31.38  5.332358        0      0.4  "
      ],
      "text/html": "<div>\n<style scoped>\n    .dataframe tbody tr th:only-of-type {\n        vertical-align: middle;\n    }\n\n    .dataframe tbody tr th {\n        vertical-align: top;\n    }\n\n    .dataframe thead th {\n        text-align: right;\n    }\n</style>\n<table border=\"1\" class=\"dataframe\">\n  <thead>\n    <tr style=\"text-align: right;\">\n      <th></th>\n      <th>Name</th>\n      <th>ID</th>\n      <th>Position</th>\n      <th>Salary</th>\n      <th>Status</th>\n      <th>TeamAbbrev</th>\n      <th>Time</th>\n      <th>projections</th>\n      <th>std</th>\n      <th>min_exp</th>\n      <th>max_exp</th>\n    </tr>\n  </thead>\n  <tbody>\n    <tr>\n      <th>0</th>\n      <td>Gary Harris</td>\n      <td>14066354</td>\n      <td>SG</td>\n      <td>4600</td>\n      <td>recent</td>\n      <td>MIL</td>\n      <td>2020-09-10 23:00:00+00:00</td>\n      <td>29.62</td>\n      <td>4.462711</td>\n      <td>0</td>\n      <td>0.4</td>\n    </tr>\n    <tr>\n      <th>1</th>\n      <td>Darius Garland</td>\n      <td>14066387</td>\n      <td>PG</td>\n      <td>4400</td>\n      <td>recent</td>\n      <td>HOU</td>\n      <td>2020-09-10 23:00:00+00:00</td>\n      <td>26.53</td>\n      <td>4.750068</td>\n      <td>0</td>\n      <td>0.4</td>\n    </tr>\n    <tr>\n      <th>2</th>\n      <td>Collin Sexton</td>\n      <td>14066177</td>\n      <td>PG/SG</td>\n      <td>5900</td>\n      <td>recent</td>\n      <td>HOU</td>\n      <td>2020-09-10 23:00:00+00:00</td>\n      <td>34.33</td>\n      <td>7.762624</td>\n      <td>0</td>\n      <td>0.4</td>\n    </tr>\n    <tr>\n      <th>3</th>\n      <td>Kevin Porter</td>\n      <td>14066428</td>\n      <td>SG/SF</td>\n      <td>4200</td>\n      <td>recent</td>\n      <td>MIL</td>\n      <td>2020-09-10 23:00:00+00:00</td>\n      <td>23.80</td>\n      <td>5.999999</td>\n      <td>0</td>\n      <td>0.4</td>\n    </tr>\n    <tr>\n      <th>4</th>\n      <td>Aaron Holiday</td>\n      <td>14066210</td>\n      <td>PG/SG</td>\n      <td>5700</td>\n      <td>recent</td>\n      <td>HOU</td>\n      <td>2020-09-10 23:00:00+00:00</td>\n      <td>31.38</td>\n      <td>5.332358</td>\n      <td>0</td>\n      <td>0.4</td>\n    </tr>\n  </tbody>\n</table>\n</div>"
     },
     "metadata": {},
     "execution_count": 18
    }
   ],
   "source": [
    "df_players = pd.read_csv('../data/raw/test_20200102.csv')\n",
    "df_players['Time'] = pd.to_datetime(df_players['Time'])\n",
    "df_players = df_players[cols]\n",
    "df_players.head()"
   ]
  },
  {
   "source": [
    "# Let's do a simple lineup optimization\n",
    "This is like the original optimizer. Provide the number of desired lineups and the dataframe.\n",
    "Note that order=1 is an optional argument, but defaults to unordered (0)\n",
    "time_limit=10.0 by default, but is also an optional argument.\n",
    "\n",
    "This first step creates the optimization model."
   ],
   "cell_type": "markdown",
   "metadata": {}
  },
  {
   "cell_type": "code",
   "execution_count": 19,
   "metadata": {
    "tags": []
   },
   "outputs": [],
   "source": [
    "opt = LineupOptimizer(df_players, n_lineups=20, verbose=True)"
   ]
  },
  {
   "source": [
    "## opt.solve() solves the optimization problem"
   ],
   "cell_type": "markdown",
   "metadata": {}
  },
  {
   "cell_type": "code",
   "execution_count": 21,
   "metadata": {
    "tags": []
   },
   "outputs": [
    {
     "output_type": "stream",
     "name": "stdout",
     "text": [
      "Version identifier: 12.10.0.0 | 2019-11-27 | 843d4de2ae\n",
      "CPXPARAM_Read_DataCheck                          1\n",
      "CPXPARAM_TimeLimit                               10\n",
      "\n",
      "        Nodes                                         Cuts/\n",
      "   Node  Left     Objective  IInf  Best Integer    Best Bound    ItCnt     Gap\n",
      "\n",
      "  40026 25539     5515.3287    41     5505.4500     5515.4356   300963    0.18%\n",
      "Elapsed time = 0.13 sec. (8.21 ticks, tree = 17.88 MB, solutions = 14)\n",
      "* 40740+25617                         5506.7900     5515.4356             0.16%\n",
      "* 40801+25629                         5507.1200     5515.4356             0.15%\n",
      "* 40829+25634                         5507.1800     5515.4356             0.15%\n",
      "* 41371+25608                         5507.2600     5515.4356             0.15%\n",
      "* 41415+25606                         5507.7600     5515.4356             0.14%\n",
      "* 41711+21383                         5507.9900     5515.4356             0.14%\n",
      "  41805 20964     5513.4899    41     5507.9900     5515.4356   306719    0.14%\n",
      "* 42402+21005                         5508.3500     5515.4356             0.13%\n",
      "* 42405+22294                         5510.1400     5515.4356             0.10%\n",
      "  43029 21364     5513.4887    38     5510.1400     5515.4356   306137    0.10%\n",
      "* 43263+16416                         5510.7800     5515.4356             0.08%\n",
      "* 44055+16678                         5511.3900     5515.4356             0.07%\n",
      "  44378 15827     5514.7543    45     5511.3900     5515.4356   320234    0.07%\n",
      "  47823 16497     5515.2633    44     5511.3900     5515.4356   327718    0.07%\n",
      "  51906 17087     5515.4356    41     5511.3900     5515.4356   332401    0.07%\n",
      "  56040 14735     5514.9229    43     5511.3900     5515.4356   331067    0.07%\n",
      "  60663 25869     5514.5135    44     5511.3900     5515.4356   453490    0.07%\n",
      "  64703 29277     5513.7962    45     5511.3900     5515.4356   493442    0.07%\n",
      "  69260 34212     5514.3381    49     5511.3900     5515.4356   545104    0.07%\n",
      "\n",
      "Performing restart 2\n",
      "\n",
      "Repeating presolve.\n",
      "Tried aggregator 1 time.\n",
      "MIP Presolve eliminated 3 rows and 60 columns.\n",
      "Reduced MIP has 266 rows, 920 columns, and 5340 nonzeros.\n",
      "Reduced MIP has 920 binaries, 0 generals, 0 SOSs, and 0 indicators.\n",
      "Presolve time = 0.02 sec. (1.90 ticks)\n",
      "Tried aggregator 1 time.\n",
      "Reduced MIP has 266 rows, 920 columns, and 5340 nonzeros.\n",
      "Reduced MIP has 920 binaries, 0 generals, 0 SOSs, and 0 indicators.\n",
      "Presolve time = 0.01 sec. (3.06 ticks)\n",
      "Represolve time = 0.19 sec. (52.07 ticks)\n",
      "  71028     0     5515.4356    71     5511.3900      Cuts: 33   575628    0.07%\n",
      "  71028     0     5515.4356    71     5511.3900      Cuts: 43   575729    0.07%\n",
      "  71028     0     5515.4356    71     5511.3900      Cuts: 22   575794    0.07%\n",
      "  71028     0     5515.4356    71     5511.3900      Cuts: 50   575875    0.07%\n",
      "  71028     0     5515.4356    71     5511.3900      Cuts: 25   575981    0.07%\n",
      "  71028     0     5515.4356    71     5511.3900      Cuts: 60   576138    0.07%\n",
      "  71028     0     5515.4356    71     5511.3900      Cuts: 21   576233    0.07%\n",
      "  71028     0     5515.4356    71     5511.3900      Cuts: 65   576403    0.07%\n",
      "  71028     0     5515.4356    71     5511.3900      Cuts: 14   576487    0.07%\n",
      "  71028     0     5515.4356    71     5511.3900      Cuts: 72   576631    0.07%\n",
      "  71028     0     5515.4356    71     5511.3900      Cuts: 10   576677    0.07%\n",
      "  71028     0     5515.4356    71     5511.3900      Cuts: 38   576735    0.07%\n",
      "  71028     0     5515.4356    71     5511.3900      Cuts: 13   576846    0.07%\n",
      "  71030     3     5515.4356    58     5511.3900     5515.4356   576862    0.07%\n",
      "Elapsed time = 8.02 sec. (3304.66 ticks, tree = 0.02 MB, solutions = 42)\n",
      "\n",
      "Cover cuts applied:  2\n",
      "Gomory fractional cuts applied:  1\n",
      "\n",
      "Root node processing (before b&c):\n",
      "  Real time             =    0.02 sec. (0.37 ticks)\n",
      "Parallel b&c, 8 threads:\n",
      "  Real time             =   10.02 sec. (4220.42 ticks)\n",
      "  Sync time (average)   =    1.07 sec.\n",
      "  Wait time (average)   =    0.09 sec.\n",
      "                          ------------\n",
      "Total (root+branch&cut) =   10.03 sec. (4220.79 ticks)\n"
     ]
    },
    {
     "output_type": "execute_result",
     "data": {
      "text/plain": [
       "array([[0., 0., 1., 1., 1., 0., 0., 1., 1., 0., 0., 1., 0., 0., 0., 1.,\n",
       "        1., 0., 0., 0.],\n",
       "       [1., 1., 0., 0., 0., 0., 1., 1., 0., 0., 1., 0., 0., 1., 1., 0.,\n",
       "        0., 0., 1., 0.],\n",
       "       [0., 0., 0., 0., 0., 0., 0., 0., 1., 0., 1., 1., 1., 1., 1., 0.,\n",
       "        1., 1., 0., 0.],\n",
       "       [0., 1., 0., 1., 0., 1., 0., 0., 0., 1., 0., 0., 1., 1., 0., 0.,\n",
       "        1., 0., 1., 0.],\n",
       "       [1., 0., 0., 0., 1., 0., 0., 1., 1., 0., 0., 1., 1., 0., 0., 0.,\n",
       "        1., 1., 0., 0.],\n",
       "       [0., 1., 0., 0., 0., 1., 1., 0., 0., 1., 1., 0., 1., 0., 0., 0.,\n",
       "        0., 1., 0., 1.],\n",
       "       [0., 0., 0., 0., 0., 0., 0., 0., 0., 0., 0., 0., 0., 0., 0., 0.,\n",
       "        0., 0., 0., 0.],\n",
       "       [1., 1., 0., 0., 1., 0., 1., 1., 1., 0., 0., 1., 0., 0., 0., 0.,\n",
       "        0., 0., 0., 0.],\n",
       "       [0., 0., 0., 0., 0., 0., 0., 0., 0., 0., 0., 0., 0., 0., 0., 0.,\n",
       "        0., 0., 0., 0.],\n",
       "       [0., 0., 0., 0., 0., 1., 0., 1., 0., 1., 1., 0., 1., 0., 0., 0.,\n",
       "        0., 1., 1., 1.],\n",
       "       [0., 0., 1., 0., 1., 1., 0., 0., 1., 0., 0., 1., 1., 0., 0., 1.,\n",
       "        0., 0., 0., 1.],\n",
       "       [1., 0., 0., 1., 1., 0., 0., 0., 0., 1., 0., 0., 0., 0., 1., 1.,\n",
       "        0., 0., 0., 1.],\n",
       "       [0., 0., 1., 1., 0., 1., 1., 0., 0., 1., 0., 0., 0., 0., 1., 0.,\n",
       "        0., 0., 1., 1.],\n",
       "       [0., 0., 0., 0., 0., 0., 0., 0., 0., 0., 0., 0., 0., 0., 0., 0.,\n",
       "        0., 0., 0., 0.],\n",
       "       [0., 0., 0., 0., 0., 0., 0., 0., 0., 0., 0., 0., 0., 0., 0., 0.,\n",
       "        0., 0., 0., 0.],\n",
       "       [0., 1., 0., 1., 0., 0., 0., 0., 1., 0., 1., 1., 1., 0., 1., 0.,\n",
       "        1., 0., 0., 0.],\n",
       "       [0., 0., 0., 0., 0., 0., 0., 0., 0., 0., 0., 0., 0., 0., 0., 0.,\n",
       "        0., 0., 0., 0.],\n",
       "       [1., 0., 0., 1., 0., 0., 1., 0., 0., 1., 0., 0., 0., 0., 1., 1.,\n",
       "        0., 0., 0., 1.],\n",
       "       [0., 0., 1., 0., 0., 0., 0., 0., 0., 0., 0., 0., 0., 0., 0., 0.,\n",
       "        1., 1., 0., 0.],\n",
       "       [0., 1., 1., 0., 0., 1., 0., 0., 0., 0., 1., 0., 0., 0., 1., 0.,\n",
       "        0., 1., 1., 1.],\n",
       "       [0., 0., 0., 0., 0., 0., 0., 0., 0., 0., 0., 0., 0., 0., 0., 0.,\n",
       "        0., 0., 0., 0.],\n",
       "       [1., 0., 0., 0., 0., 0., 0., 0., 0., 0., 1., 0., 0., 1., 0., 0.,\n",
       "        0., 1., 1., 0.],\n",
       "       [0., 1., 0., 1., 0., 0., 1., 0., 0., 0., 1., 0., 0., 1., 1., 1.,\n",
       "        0., 1., 0., 0.],\n",
       "       [0., 0., 1., 0., 0., 0., 1., 0., 1., 1., 0., 1., 0., 0., 0., 1.,\n",
       "        0., 0., 1., 1.],\n",
       "       [1., 0., 1., 0., 1., 1., 1., 0., 0., 0., 0., 0., 0., 1., 0., 1.,\n",
       "        0., 0., 0., 0.],\n",
       "       [0., 0., 0., 0., 0., 0., 0., 1., 0., 0., 0., 0., 0., 0., 0., 0.,\n",
       "        0., 0., 0., 0.],\n",
       "       [0., 0., 0., 0., 0., 0., 0., 0., 0., 0., 0., 0., 0., 0., 0., 0.,\n",
       "        0., 0., 0., 0.],\n",
       "       [0., 0., 0., 0., 0., 0., 0., 0., 0., 0., 0., 0., 0., 0., 0., 0.,\n",
       "        0., 0., 0., 0.],\n",
       "       [0., 0., 0., 0., 0., 0., 0., 0., 0., 0., 0., 0., 0., 0., 0., 0.,\n",
       "        0., 0., 0., 0.],\n",
       "       [0., 0., 0., 0., 0., 0., 0., 0., 0., 0., 0., 0., 0., 0., 0., 0.,\n",
       "        0., 0., 0., 0.],\n",
       "       [0., 0., 0., 0., 0., 0., 0., 0., 0., 0., 0., 0., 0., 0., 0., 0.,\n",
       "        0., 0., 0., 0.],\n",
       "       [0., 0., 0., 0., 0., 0., 0., 0., 0., 0., 0., 0., 0., 0., 0., 0.,\n",
       "        0., 0., 0., 0.],\n",
       "       [0., 1., 0., 0., 1., 0., 0., 1., 0., 1., 0., 0., 1., 1., 0., 1.,\n",
       "        1., 0., 0., 0.],\n",
       "       [0., 0., 0., 0., 0., 0., 0., 0., 0., 0., 0., 0., 0., 0., 0., 0.,\n",
       "        0., 0., 0., 0.],\n",
       "       [0., 0., 0., 0., 0., 0., 0., 0., 0., 0., 0., 0., 0., 0., 0., 0.,\n",
       "        0., 0., 0., 0.],\n",
       "       [1., 0., 0., 1., 1., 0., 0., 1., 1., 0., 0., 1., 0., 1., 0., 0.,\n",
       "        1., 0., 0., 0.],\n",
       "       [0., 0., 1., 0., 0., 1., 0., 0., 0., 0., 0., 0., 0., 0., 0., 0.,\n",
       "        0., 0., 1., 0.],\n",
       "       [0., 0., 0., 0., 0., 0., 0., 0., 0., 0., 0., 0., 0., 0., 0., 0.,\n",
       "        0., 0., 0., 0.],\n",
       "       [0., 0., 0., 0., 0., 0., 0., 0., 0., 0., 0., 0., 0., 0., 0., 0.,\n",
       "        0., 0., 0., 0.],\n",
       "       [0., 0., 0., 0., 0., 0., 0., 0., 0., 0., 0., 0., 0., 0., 0., 0.,\n",
       "        0., 0., 0., 0.],\n",
       "       [0., 0., 0., 0., 0., 0., 0., 0., 0., 0., 0., 0., 0., 0., 0., 0.,\n",
       "        0., 0., 0., 0.],\n",
       "       [0., 0., 0., 0., 0., 0., 0., 0., 0., 0., 0., 0., 0., 0., 0., 0.,\n",
       "        0., 0., 0., 0.],\n",
       "       [0., 0., 0., 0., 0., 0., 0., 0., 0., 0., 0., 0., 0., 0., 0., 0.,\n",
       "        0., 0., 0., 0.],\n",
       "       [0., 0., 0., 0., 0., 0., 0., 0., 0., 0., 0., 0., 0., 0., 0., 0.,\n",
       "        0., 0., 0., 0.],\n",
       "       [0., 0., 0., 0., 0., 0., 0., 0., 0., 0., 0., 0., 0., 0., 0., 0.,\n",
       "        0., 0., 0., 0.],\n",
       "       [0., 0., 0., 0., 0., 0., 0., 0., 0., 0., 0., 0., 0., 0., 0., 0.,\n",
       "        0., 0., 0., 0.],\n",
       "       [0., 0., 0., 0., 0., 0., 0., 0., 0., 0., 0., 0., 0., 0., 0., 0.,\n",
       "        0., 0., 0., 0.],\n",
       "       [0., 0., 0., 0., 0., 0., 0., 0., 0., 0., 0., 0., 0., 0., 0., 0.,\n",
       "        0., 0., 0., 0.],\n",
       "       [0., 0., 0., 0., 0., 0., 0., 0., 0., 0., 0., 0., 0., 0., 0., 0.,\n",
       "        0., 0., 0., 0.]])"
      ]
     },
     "metadata": {},
     "execution_count": 21
    }
   ],
   "source": [
    "opt.solve()"
   ]
  },
  {
   "source": [
    "## Now let's sort the optimal lineups"
   ],
   "cell_type": "markdown",
   "metadata": {}
  },
  {
   "cell_type": "code",
   "execution_count": 22,
   "metadata": {
    "tags": []
   },
   "outputs": [
    {
     "output_type": "stream",
     "name": "stdout",
     "text": [
      "2 Infeasible lineups dropped\n"
     ]
    },
    {
     "output_type": "execute_result",
     "data": {
      "text/plain": [
       "                   PG                 SG                SF                 PF  \\\n",
       "0   Spencer Dinwiddie        Gary Harris      Kevin Porter   Robert Covington   \n",
       "1        De'Aaron Fox      Jalen Brunson     Dillon Brooks    Harrison Barnes   \n",
       "2      Darius Garland      Jalen Brunson       Buddy Hield    Marquese Chriss   \n",
       "3       Jalen Brunson  Spencer Dinwiddie      Kevin Porter  LaMarcus Aldridge   \n",
       "4      Darius Garland      Collin Sexton     Dillon Brooks   Bojan Bogdanovic   \n",
       "5       Jalen Brunson        Gary Harris      Kevin Porter   Bojan Bogdanovic   \n",
       "6       Jalen Brunson  Spencer Dinwiddie      Kevin Porter   Domantas Sabonis   \n",
       "7      Darius Garland      Collin Sexton       Buddy Hield   Bojan Bogdanovic   \n",
       "8       Collin Sexton        Gary Harris      Jimmy Butler   Bojan Bogdanovic   \n",
       "9      Darius Garland  Spencer Dinwiddie     Dillon Brooks   Bojan Bogdanovic   \n",
       "10     Darius Garland        Gary Harris     DeMar DeRozan   Robert Covington   \n",
       "11      Aaron Holiday        Gary Harris       Buddy Hield    Marquese Chriss   \n",
       "12      Jalen Brunson      Aaron Holiday     Dillon Brooks    Marquese Chriss   \n",
       "13     Darius Garland      Jalen Brunson      Jimmy Butler    Harrison Barnes   \n",
       "14  Spencer Dinwiddie      Collin Sexton  Bojan Bogdanovic    Harrison Barnes   \n",
       "15     Darius Garland        Gary Harris       Buddy Hield   Bojan Bogdanovic   \n",
       "16      Collin Sexton      Aaron Holiday     Dillon Brooks   Bojan Bogdanovic   \n",
       "\n",
       "                    C                  G                  F  \\\n",
       "0     Marquese Chriss      Aaron Holiday   Domantas Sabonis   \n",
       "1      Richaun Holmes   Donovan Mitchell        Buddy Hield   \n",
       "2    Domantas Sabonis      Aaron Holiday       Jimmy Butler   \n",
       "3    Domantas Sabonis      Aaron Holiday      Dillon Brooks   \n",
       "4      Richaun Holmes       De'Aaron Fox        Buddy Hield   \n",
       "5   LaMarcus Aldridge  Spencer Dinwiddie   Domantas Sabonis   \n",
       "6         Ivica Zubac      Dillon Brooks       Jimmy Butler   \n",
       "7     Marquese Chriss      Aaron Holiday  LaMarcus Aldridge   \n",
       "8         Ivica Zubac       De'Aaron Fox   Robert Covington   \n",
       "9         Ivica Zubac      Collin Sexton       Jimmy Butler   \n",
       "10        Ivica Zubac        Zach LaVine  LaMarcus Aldridge   \n",
       "11        Ivica Zubac       De'Aaron Fox       Jimmy Butler   \n",
       "12  LaMarcus Aldridge   Donovan Mitchell      DeMar DeRozan   \n",
       "13        Ivica Zubac  Spencer Dinwiddie  LaMarcus Aldridge   \n",
       "14        Ivica Zubac       De'Aaron Fox   Robert Covington   \n",
       "15     Richaun Holmes       De'Aaron Fox   Robert Covington   \n",
       "16    Marquese Chriss       De'Aaron Fox        Buddy Hield   \n",
       "\n",
       "                       UTIL  \n",
       "0               Zach LaVine  \n",
       "1               Zach LaVine  \n",
       "2             DeMar DeRozan  \n",
       "3               Zach LaVine  \n",
       "4               Zach LaVine  \n",
       "5   Shai Gilgeous-Alexander  \n",
       "6          Donovan Mitchell  \n",
       "7          Donovan Mitchell  \n",
       "8             DeMar DeRozan  \n",
       "9         LaMarcus Aldridge  \n",
       "10         Domantas Sabonis  \n",
       "11            DeMar DeRozan  \n",
       "12              Zach LaVine  \n",
       "13         Domantas Sabonis  \n",
       "14            DeMar DeRozan  \n",
       "15         Donovan Mitchell  \n",
       "16         Donovan Mitchell  "
      ],
      "text/html": "<div>\n<style scoped>\n    .dataframe tbody tr th:only-of-type {\n        vertical-align: middle;\n    }\n\n    .dataframe tbody tr th {\n        vertical-align: top;\n    }\n\n    .dataframe thead th {\n        text-align: right;\n    }\n</style>\n<table border=\"1\" class=\"dataframe\">\n  <thead>\n    <tr style=\"text-align: right;\">\n      <th></th>\n      <th>PG</th>\n      <th>SG</th>\n      <th>SF</th>\n      <th>PF</th>\n      <th>C</th>\n      <th>G</th>\n      <th>F</th>\n      <th>UTIL</th>\n    </tr>\n  </thead>\n  <tbody>\n    <tr>\n      <th>0</th>\n      <td>Spencer Dinwiddie</td>\n      <td>Gary Harris</td>\n      <td>Kevin Porter</td>\n      <td>Robert Covington</td>\n      <td>Marquese Chriss</td>\n      <td>Aaron Holiday</td>\n      <td>Domantas Sabonis</td>\n      <td>Zach LaVine</td>\n    </tr>\n    <tr>\n      <th>1</th>\n      <td>De'Aaron Fox</td>\n      <td>Jalen Brunson</td>\n      <td>Dillon Brooks</td>\n      <td>Harrison Barnes</td>\n      <td>Richaun Holmes</td>\n      <td>Donovan Mitchell</td>\n      <td>Buddy Hield</td>\n      <td>Zach LaVine</td>\n    </tr>\n    <tr>\n      <th>2</th>\n      <td>Darius Garland</td>\n      <td>Jalen Brunson</td>\n      <td>Buddy Hield</td>\n      <td>Marquese Chriss</td>\n      <td>Domantas Sabonis</td>\n      <td>Aaron Holiday</td>\n      <td>Jimmy Butler</td>\n      <td>DeMar DeRozan</td>\n    </tr>\n    <tr>\n      <th>3</th>\n      <td>Jalen Brunson</td>\n      <td>Spencer Dinwiddie</td>\n      <td>Kevin Porter</td>\n      <td>LaMarcus Aldridge</td>\n      <td>Domantas Sabonis</td>\n      <td>Aaron Holiday</td>\n      <td>Dillon Brooks</td>\n      <td>Zach LaVine</td>\n    </tr>\n    <tr>\n      <th>4</th>\n      <td>Darius Garland</td>\n      <td>Collin Sexton</td>\n      <td>Dillon Brooks</td>\n      <td>Bojan Bogdanovic</td>\n      <td>Richaun Holmes</td>\n      <td>De'Aaron Fox</td>\n      <td>Buddy Hield</td>\n      <td>Zach LaVine</td>\n    </tr>\n    <tr>\n      <th>5</th>\n      <td>Jalen Brunson</td>\n      <td>Gary Harris</td>\n      <td>Kevin Porter</td>\n      <td>Bojan Bogdanovic</td>\n      <td>LaMarcus Aldridge</td>\n      <td>Spencer Dinwiddie</td>\n      <td>Domantas Sabonis</td>\n      <td>Shai Gilgeous-Alexander</td>\n    </tr>\n    <tr>\n      <th>6</th>\n      <td>Jalen Brunson</td>\n      <td>Spencer Dinwiddie</td>\n      <td>Kevin Porter</td>\n      <td>Domantas Sabonis</td>\n      <td>Ivica Zubac</td>\n      <td>Dillon Brooks</td>\n      <td>Jimmy Butler</td>\n      <td>Donovan Mitchell</td>\n    </tr>\n    <tr>\n      <th>7</th>\n      <td>Darius Garland</td>\n      <td>Collin Sexton</td>\n      <td>Buddy Hield</td>\n      <td>Bojan Bogdanovic</td>\n      <td>Marquese Chriss</td>\n      <td>Aaron Holiday</td>\n      <td>LaMarcus Aldridge</td>\n      <td>Donovan Mitchell</td>\n    </tr>\n    <tr>\n      <th>8</th>\n      <td>Collin Sexton</td>\n      <td>Gary Harris</td>\n      <td>Jimmy Butler</td>\n      <td>Bojan Bogdanovic</td>\n      <td>Ivica Zubac</td>\n      <td>De'Aaron Fox</td>\n      <td>Robert Covington</td>\n      <td>DeMar DeRozan</td>\n    </tr>\n    <tr>\n      <th>9</th>\n      <td>Darius Garland</td>\n      <td>Spencer Dinwiddie</td>\n      <td>Dillon Brooks</td>\n      <td>Bojan Bogdanovic</td>\n      <td>Ivica Zubac</td>\n      <td>Collin Sexton</td>\n      <td>Jimmy Butler</td>\n      <td>LaMarcus Aldridge</td>\n    </tr>\n    <tr>\n      <th>10</th>\n      <td>Darius Garland</td>\n      <td>Gary Harris</td>\n      <td>DeMar DeRozan</td>\n      <td>Robert Covington</td>\n      <td>Ivica Zubac</td>\n      <td>Zach LaVine</td>\n      <td>LaMarcus Aldridge</td>\n      <td>Domantas Sabonis</td>\n    </tr>\n    <tr>\n      <th>11</th>\n      <td>Aaron Holiday</td>\n      <td>Gary Harris</td>\n      <td>Buddy Hield</td>\n      <td>Marquese Chriss</td>\n      <td>Ivica Zubac</td>\n      <td>De'Aaron Fox</td>\n      <td>Jimmy Butler</td>\n      <td>DeMar DeRozan</td>\n    </tr>\n    <tr>\n      <th>12</th>\n      <td>Jalen Brunson</td>\n      <td>Aaron Holiday</td>\n      <td>Dillon Brooks</td>\n      <td>Marquese Chriss</td>\n      <td>LaMarcus Aldridge</td>\n      <td>Donovan Mitchell</td>\n      <td>DeMar DeRozan</td>\n      <td>Zach LaVine</td>\n    </tr>\n    <tr>\n      <th>13</th>\n      <td>Darius Garland</td>\n      <td>Jalen Brunson</td>\n      <td>Jimmy Butler</td>\n      <td>Harrison Barnes</td>\n      <td>Ivica Zubac</td>\n      <td>Spencer Dinwiddie</td>\n      <td>LaMarcus Aldridge</td>\n      <td>Domantas Sabonis</td>\n    </tr>\n    <tr>\n      <th>14</th>\n      <td>Spencer Dinwiddie</td>\n      <td>Collin Sexton</td>\n      <td>Bojan Bogdanovic</td>\n      <td>Harrison Barnes</td>\n      <td>Ivica Zubac</td>\n      <td>De'Aaron Fox</td>\n      <td>Robert Covington</td>\n      <td>DeMar DeRozan</td>\n    </tr>\n    <tr>\n      <th>15</th>\n      <td>Darius Garland</td>\n      <td>Gary Harris</td>\n      <td>Buddy Hield</td>\n      <td>Bojan Bogdanovic</td>\n      <td>Richaun Holmes</td>\n      <td>De'Aaron Fox</td>\n      <td>Robert Covington</td>\n      <td>Donovan Mitchell</td>\n    </tr>\n    <tr>\n      <th>16</th>\n      <td>Collin Sexton</td>\n      <td>Aaron Holiday</td>\n      <td>Dillon Brooks</td>\n      <td>Bojan Bogdanovic</td>\n      <td>Marquese Chriss</td>\n      <td>De'Aaron Fox</td>\n      <td>Buddy Hield</td>\n      <td>Donovan Mitchell</td>\n    </tr>\n  </tbody>\n</table>\n</div>"
     },
     "metadata": {},
     "execution_count": 22
    }
   ],
   "source": [
    "opt.sort_lineups()"
   ]
  },
  {
   "source": [
    "# Lineup Generator and Optimizer\n",
    "Now we'll use a more complex lineup generation --> monte carlo simulation then select the lineups that have the highest likelihood of being a high scoring team.\n",
    "\n",
    "<br> The default values are:\n",
    "<br> var_multiple = 0.5 (we weight lineup projected variance at half the importance of the projected mean)\n",
    "<br> drop_fraction = 0.5 (half the players are discarded each iteration of generation)\n",
    "<br> time_limit = 1 (1 second is allowed for each optimization iteration)\n",
    "<br> duplicates_lim = 100 (once 100 duplicate lineups have been generated, it kills the generator)"
   ],
   "cell_type": "markdown",
   "metadata": {}
  },
  {
   "source": [
    "## First, let's demo the fast optimizer"
   ],
   "cell_type": "markdown",
   "metadata": {}
  },
  {
   "cell_type": "code",
   "execution_count": 24,
   "metadata": {},
   "outputs": [
    {
     "output_type": "stream",
     "name": "stdout",
     "text": [
      "1 Infeasible lineups dropped\n",
      "19 Lineups\n",
      "0 Duplicates\n",
      "0 Infeasible lineups dropped\n",
      "35 Lineups\n",
      "0 Duplicates\n",
      "1 Infeasible lineups dropped\n",
      "53 Lineups\n",
      "1 Duplicates\n",
      "4 Infeasible lineups dropped\n",
      "69 Lineups\n",
      "1 Duplicates\n",
      "1 Infeasible lineups dropped\n",
      "74 Lineups\n",
      "15 Duplicates\n",
      "3 Infeasible lineups dropped\n",
      "90 Lineups\n",
      "16 Duplicates\n",
      "1 Infeasible lineups dropped\n",
      "105 Lineups\n",
      "19 Duplicates\n",
      "0 Infeasible lineups dropped\n",
      "125 Lineups\n",
      "19 Duplicates\n",
      "4 Infeasible lineups dropped\n",
      "141 Lineups\n",
      "19 Duplicates\n",
      "2 Infeasible lineups dropped\n",
      "145 Lineups\n",
      "22 Duplicates\n",
      "0 Infeasible lineups dropped\n",
      "149 Lineups\n",
      "23 Duplicates\n",
      "0 Infeasible lineups dropped\n",
      "149 Lineups\n",
      "24 Duplicates\n",
      "0 Infeasible lineups dropped\n",
      "149 Lineups\n",
      "25 Duplicates\n",
      "0 Infeasible lineups dropped\n",
      "149 Lineups\n",
      "26 Duplicates\n",
      "0 Infeasible lineups dropped\n",
      "149 Lineups\n",
      "27 Duplicates\n",
      "0 Infeasible lineups dropped\n",
      "149 Lineups\n",
      "28 Duplicates\n",
      "0 Infeasible lineups dropped\n",
      "149 Lineups\n",
      "29 Duplicates\n",
      "0 Infeasible lineups dropped\n",
      "150 Lineups\n",
      "29 Duplicates\n"
     ]
    },
    {
     "output_type": "execute_result",
     "data": {
      "text/plain": [
       "                 PG                 SG             SF                 PF  \\\n",
       "0     Jalen Brunson  Spencer Dinwiddie  Dillon Brooks  LaMarcus Aldridge   \n",
       "1    Darius Garland       Kevin Porter   Jimmy Butler    Marquese Chriss   \n",
       "2     Jalen Brunson        Gary Harris  DeMar DeRozan   Bojan Bogdanovic   \n",
       "3    Darius Garland        Gary Harris  Dillon Brooks   Domantas Sabonis   \n",
       "4     Collin Sexton        Gary Harris   Kevin Porter   Bojan Bogdanovic   \n",
       "..              ...                ...            ...                ...   \n",
       "145  Darius Garland  Spencer Dinwiddie    Buddy Hield   Bojan Bogdanovic   \n",
       "146  Darius Garland      Jalen Brunson   Jimmy Butler  LaMarcus Aldridge   \n",
       "147   Jalen Brunson        Gary Harris   Jimmy Butler   Bojan Bogdanovic   \n",
       "148   Jalen Brunson        Gary Harris    Buddy Hield   Bojan Bogdanovic   \n",
       "149  Darius Garland        Gary Harris    Buddy Hield   Bojan Bogdanovic   \n",
       "\n",
       "                    C                  G                  F              UTIL  \n",
       "0         Ivica Zubac      Aaron Holiday       Jimmy Butler     DeMar DeRozan  \n",
       "1         Ivica Zubac       De'Aaron Fox  LaMarcus Aldridge  Donovan Mitchell  \n",
       "2         Ivica Zubac   Donovan Mitchell  LaMarcus Aldridge  Domantas Sabonis  \n",
       "3         Ivica Zubac  Spencer Dinwiddie        Buddy Hield      Jimmy Butler  \n",
       "4     Marquese Chriss       De'Aaron Fox       Jimmy Butler       Zach LaVine  \n",
       "..                ...                ...                ...               ...  \n",
       "145       Ivica Zubac       De'Aaron Fox    Marquese Chriss     DeMar DeRozan  \n",
       "146       Ivica Zubac      Collin Sexton      DeMar DeRozan  Domantas Sabonis  \n",
       "147   Marquese Chriss  Spencer Dinwiddie  LaMarcus Aldridge     Collin Sexton  \n",
       "148  Domantas Sabonis      Collin Sexton      DeMar DeRozan      De'Aaron Fox  \n",
       "149       Ivica Zubac      DeMar DeRozan       Jimmy Butler       Zach LaVine  \n",
       "\n",
       "[150 rows x 8 columns]"
      ],
      "text/html": "<div>\n<style scoped>\n    .dataframe tbody tr th:only-of-type {\n        vertical-align: middle;\n    }\n\n    .dataframe tbody tr th {\n        vertical-align: top;\n    }\n\n    .dataframe thead th {\n        text-align: right;\n    }\n</style>\n<table border=\"1\" class=\"dataframe\">\n  <thead>\n    <tr style=\"text-align: right;\">\n      <th></th>\n      <th>PG</th>\n      <th>SG</th>\n      <th>SF</th>\n      <th>PF</th>\n      <th>C</th>\n      <th>G</th>\n      <th>F</th>\n      <th>UTIL</th>\n    </tr>\n  </thead>\n  <tbody>\n    <tr>\n      <th>0</th>\n      <td>Jalen Brunson</td>\n      <td>Spencer Dinwiddie</td>\n      <td>Dillon Brooks</td>\n      <td>LaMarcus Aldridge</td>\n      <td>Ivica Zubac</td>\n      <td>Aaron Holiday</td>\n      <td>Jimmy Butler</td>\n      <td>DeMar DeRozan</td>\n    </tr>\n    <tr>\n      <th>1</th>\n      <td>Darius Garland</td>\n      <td>Kevin Porter</td>\n      <td>Jimmy Butler</td>\n      <td>Marquese Chriss</td>\n      <td>Ivica Zubac</td>\n      <td>De'Aaron Fox</td>\n      <td>LaMarcus Aldridge</td>\n      <td>Donovan Mitchell</td>\n    </tr>\n    <tr>\n      <th>2</th>\n      <td>Jalen Brunson</td>\n      <td>Gary Harris</td>\n      <td>DeMar DeRozan</td>\n      <td>Bojan Bogdanovic</td>\n      <td>Ivica Zubac</td>\n      <td>Donovan Mitchell</td>\n      <td>LaMarcus Aldridge</td>\n      <td>Domantas Sabonis</td>\n    </tr>\n    <tr>\n      <th>3</th>\n      <td>Darius Garland</td>\n      <td>Gary Harris</td>\n      <td>Dillon Brooks</td>\n      <td>Domantas Sabonis</td>\n      <td>Ivica Zubac</td>\n      <td>Spencer Dinwiddie</td>\n      <td>Buddy Hield</td>\n      <td>Jimmy Butler</td>\n    </tr>\n    <tr>\n      <th>4</th>\n      <td>Collin Sexton</td>\n      <td>Gary Harris</td>\n      <td>Kevin Porter</td>\n      <td>Bojan Bogdanovic</td>\n      <td>Marquese Chriss</td>\n      <td>De'Aaron Fox</td>\n      <td>Jimmy Butler</td>\n      <td>Zach LaVine</td>\n    </tr>\n    <tr>\n      <th>...</th>\n      <td>...</td>\n      <td>...</td>\n      <td>...</td>\n      <td>...</td>\n      <td>...</td>\n      <td>...</td>\n      <td>...</td>\n      <td>...</td>\n    </tr>\n    <tr>\n      <th>145</th>\n      <td>Darius Garland</td>\n      <td>Spencer Dinwiddie</td>\n      <td>Buddy Hield</td>\n      <td>Bojan Bogdanovic</td>\n      <td>Ivica Zubac</td>\n      <td>De'Aaron Fox</td>\n      <td>Marquese Chriss</td>\n      <td>DeMar DeRozan</td>\n    </tr>\n    <tr>\n      <th>146</th>\n      <td>Darius Garland</td>\n      <td>Jalen Brunson</td>\n      <td>Jimmy Butler</td>\n      <td>LaMarcus Aldridge</td>\n      <td>Ivica Zubac</td>\n      <td>Collin Sexton</td>\n      <td>DeMar DeRozan</td>\n      <td>Domantas Sabonis</td>\n    </tr>\n    <tr>\n      <th>147</th>\n      <td>Jalen Brunson</td>\n      <td>Gary Harris</td>\n      <td>Jimmy Butler</td>\n      <td>Bojan Bogdanovic</td>\n      <td>Marquese Chriss</td>\n      <td>Spencer Dinwiddie</td>\n      <td>LaMarcus Aldridge</td>\n      <td>Collin Sexton</td>\n    </tr>\n    <tr>\n      <th>148</th>\n      <td>Jalen Brunson</td>\n      <td>Gary Harris</td>\n      <td>Buddy Hield</td>\n      <td>Bojan Bogdanovic</td>\n      <td>Domantas Sabonis</td>\n      <td>Collin Sexton</td>\n      <td>DeMar DeRozan</td>\n      <td>De'Aaron Fox</td>\n    </tr>\n    <tr>\n      <th>149</th>\n      <td>Darius Garland</td>\n      <td>Gary Harris</td>\n      <td>Buddy Hield</td>\n      <td>Bojan Bogdanovic</td>\n      <td>Ivica Zubac</td>\n      <td>DeMar DeRozan</td>\n      <td>Jimmy Butler</td>\n      <td>Zach LaVine</td>\n    </tr>\n  </tbody>\n</table>\n<p>150 rows × 8 columns</p>\n</div>"
     },
     "metadata": {},
     "execution_count": 24
    }
   ],
   "source": [
    "fast_opt = LineupGenerator(df_players, n_lineups_to_optimize=150, batch_size=20, drop_fraction=0.05, time_limit=5, verbose=False)\n",
    "fast_opt.generate(fast_opt.n_lineups_to_optimize)"
   ]
  },
  {
   "cell_type": "code",
   "execution_count": 26,
   "metadata": {},
   "outputs": [
    {
     "output_type": "execute_result",
     "data": {
      "text/plain": [
       "Ivica Zubac                0.486667\n",
       "De'Aaron Fox               0.446667\n",
       "Gary Harris                0.446667\n",
       "Jimmy Butler               0.426667\n",
       "Bojan Bogdanovic           0.426667\n",
       "Spencer Dinwiddie          0.426667\n",
       "DeMar DeRozan              0.420000\n",
       "Darius Garland             0.420000\n",
       "Domantas Sabonis           0.406667\n",
       "Buddy Hield                0.406667\n",
       "Donovan Mitchell           0.400000\n",
       "Jalen Brunson              0.393333\n",
       "Collin Sexton              0.386667\n",
       "LaMarcus Aldridge          0.373333\n",
       "Dillon Brooks              0.333333\n",
       "Robert Covington           0.293333\n",
       "Marquese Chriss            0.286667\n",
       "Kevin Porter               0.246667\n",
       "Zach LaVine                0.240000\n",
       "Aaron Holiday              0.193333\n",
       "Harrison Barnes            0.146667\n",
       "Richaun Holmes             0.140000\n",
       "Cedi Osman                 0.133333\n",
       "Shai Gilgeous-Alexander    0.073333\n",
       "Kyle Lowry                 0.020000\n",
       "Bismack Biyombo            0.013333\n",
       "Alec Burks                 0.006667\n",
       "Jeremy Lamb                0.006667\n",
       "dtype: float64"
      ]
     },
     "metadata": {},
     "execution_count": 26
    }
   ],
   "source": [
    "players = fast_opt.get_player_distribution(fast_opt.df_lineups)\n",
    "players[:50]"
   ]
  },
  {
   "source": [
    "## Next, instantiate the generator:"
   ],
   "cell_type": "markdown",
   "metadata": {}
  },
  {
   "cell_type": "code",
   "execution_count": 3,
   "metadata": {},
   "outputs": [],
   "source": [
    "gen = LineupGenerator(df_players, n_lineups_to_optimize=150, batch_size=20, drop_fraction=0.4, time_limit=2, verbose=False)"
   ]
  },
  {
   "source": [
    "## Now run the generator by giving a target number of generated lineups:"
   ],
   "cell_type": "markdown",
   "metadata": {}
  },
  {
   "cell_type": "code",
   "execution_count": 4,
   "metadata": {
    "tags": []
   },
   "outputs": [
    {
     "output_type": "stream",
     "name": "stdout",
     "text": [
      "0 Infeasible lineups dropped\n",
      "14 Lineups\n",
      "0 Duplicates\n",
      "0 Infeasible lineups dropped\n",
      "23 Lineups\n",
      "0 Duplicates\n",
      "0 Infeasible lineups dropped\n",
      "33 Lineups\n",
      "0 Duplicates\n",
      "0 Infeasible lineups dropped\n",
      "44 Lineups\n",
      "0 Duplicates\n",
      "0 Infeasible lineups dropped\n",
      "54 Lineups\n",
      "0 Duplicates\n",
      "0 Infeasible lineups dropped\n",
      "64 Lineups\n",
      "0 Duplicates\n",
      "0 Infeasible lineups dropped\n",
      "75 Lineups\n",
      "0 Duplicates\n",
      "0 Infeasible lineups dropped\n",
      "83 Lineups\n",
      "0 Duplicates\n",
      "0 Infeasible lineups dropped\n",
      "93 Lineups\n",
      "0 Duplicates\n",
      "0 Infeasible lineups dropped\n",
      "103 Lineups\n",
      "0 Duplicates\n",
      "0 Infeasible lineups dropped\n",
      "118 Lineups\n",
      "0 Duplicates\n",
      "0 Infeasible lineups dropped\n",
      "125 Lineups\n",
      "2 Duplicates\n",
      "0 Infeasible lineups dropped\n",
      "135 Lineups\n",
      "2 Duplicates\n",
      "0 Infeasible lineups dropped\n",
      "143 Lineups\n",
      "3 Duplicates\n",
      "0 Infeasible lineups dropped\n",
      "152 Lineups\n",
      "4 Duplicates\n",
      "0 Infeasible lineups dropped\n",
      "163 Lineups\n",
      "4 Duplicates\n",
      "1 Infeasible lineups dropped\n",
      "171 Lineups\n",
      "4 Duplicates\n",
      "0 Infeasible lineups dropped\n",
      "183 Lineups\n",
      "4 Duplicates\n",
      "0 Infeasible lineups dropped\n",
      "192 Lineups\n",
      "4 Duplicates\n",
      "0 Infeasible lineups dropped\n",
      "202 Lineups\n",
      "4 Duplicates\n",
      "0 Infeasible lineups dropped\n",
      "214 Lineups\n",
      "4 Duplicates\n",
      "0 Infeasible lineups dropped\n",
      "222 Lineups\n",
      "4 Duplicates\n",
      "0 Infeasible lineups dropped\n",
      "231 Lineups\n",
      "6 Duplicates\n",
      "0 Infeasible lineups dropped\n",
      "244 Lineups\n",
      "6 Duplicates\n",
      "0 Infeasible lineups dropped\n",
      "255 Lineups\n",
      "6 Duplicates\n",
      "0 Infeasible lineups dropped\n",
      "265 Lineups\n",
      "6 Duplicates\n",
      "0 Infeasible lineups dropped\n",
      "278 Lineups\n",
      "6 Duplicates\n",
      "0 Infeasible lineups dropped\n",
      "287 Lineups\n",
      "6 Duplicates\n",
      "0 Infeasible lineups dropped\n",
      "298 Lineups\n",
      "6 Duplicates\n",
      "0 Infeasible lineups dropped\n",
      "306 Lineups\n",
      "7 Duplicates\n",
      "0 Infeasible lineups dropped\n",
      "315 Lineups\n",
      "7 Duplicates\n",
      "0 Infeasible lineups dropped\n",
      "325 Lineups\n",
      "7 Duplicates\n",
      "0 Infeasible lineups dropped\n",
      "336 Lineups\n",
      "7 Duplicates\n",
      "0 Infeasible lineups dropped\n",
      "349 Lineups\n",
      "7 Duplicates\n",
      "0 Infeasible lineups dropped\n",
      "358 Lineups\n",
      "7 Duplicates\n",
      "3 Infeasible lineups dropped\n",
      "368 Lineups\n",
      "7 Duplicates\n",
      "0 Infeasible lineups dropped\n",
      "383 Lineups\n",
      "7 Duplicates\n",
      "0 Infeasible lineups dropped\n",
      "390 Lineups\n",
      "7 Duplicates\n",
      "0 Infeasible lineups dropped\n",
      "397 Lineups\n",
      "7 Duplicates\n",
      "0 Infeasible lineups dropped\n",
      "399 Lineups\n",
      "7 Duplicates\n",
      "0 Infeasible lineups dropped\n",
      "400 Lineups\n",
      "7 Duplicates\n"
     ]
    },
    {
     "output_type": "execute_result",
     "data": {
      "text/plain": [
       "                    PG                 SG               SF  \\\n",
       "0           Trae Young       Luke Kennard     Jimmy Butler   \n",
       "1           Trae Young   Donte DiVincenzo     Jimmy Butler   \n",
       "2         Jimmy Butler       Luke Kennard     LeBron James   \n",
       "3         Jimmy Butler   Donte DiVincenzo     LeBron James   \n",
       "4           Trae Young   Donte DiVincenzo     Jimmy Butler   \n",
       "..                 ...                ...              ...   \n",
       "395  Bogdan Bogdanovic        Cam Reddish  Khris Middleton   \n",
       "396        LaMelo Ball  Bogdan Bogdanovic  Khris Middleton   \n",
       "397         Tyus Jones        Patty Mills    DeMar DeRozan   \n",
       "398         Tyus Jones        Jeff Teague    DeMar DeRozan   \n",
       "399         Tyus Jones        Patty Mills    DeMar DeRozan   \n",
       "\n",
       "                        PF                      C                G  \\\n",
       "0            James Johnson         DeAndre Jordan     LeBron James   \n",
       "1         Precious Achiuwa         DeAndre Jordan     LeBron James   \n",
       "2             Kevin Durant         DeAndre Jordan      LaMelo Ball   \n",
       "3            James Johnson            Bam Adebayo  Dennis Schroder   \n",
       "4             Kevin Durant         DeAndre Jordan     Luke Kennard   \n",
       "..                     ...                    ...              ...   \n",
       "395       Robert Covington           Jusuf Nurkic      LaMelo Ball   \n",
       "396           Jayson Tatum           Jusuf Nurkic    Jalen Brunson   \n",
       "397           John Collins  Giannis Antetokounmpo      LaMelo Ball   \n",
       "398           John Collins  Giannis Antetokounmpo      LaMelo Ball   \n",
       "399  Giannis Antetokounmpo           Jakob Poeltl      LaMelo Ball   \n",
       "\n",
       "                 F              UTIL  \n",
       "0      Maxi Kleber      Jusuf Nurkic  \n",
       "1      Maxi Kleber      Jusuf Nurkic  \n",
       "2      Maxi Kleber      Jusuf Nurkic  \n",
       "3      Maxi Kleber      Jusuf Nurkic  \n",
       "4      Maxi Kleber      Jusuf Nurkic  \n",
       "..             ...               ...  \n",
       "395  Kawhi Leonard       CJ McCollum  \n",
       "396   LeBron James  Robert Covington  \n",
       "397   Luke Kennard      Jusuf Nurkic  \n",
       "398   Luke Kennard      Jusuf Nurkic  \n",
       "399   LeBron James  Robert Covington  \n",
       "\n",
       "[400 rows x 8 columns]"
      ],
      "text/html": "<div>\n<style scoped>\n    .dataframe tbody tr th:only-of-type {\n        vertical-align: middle;\n    }\n\n    .dataframe tbody tr th {\n        vertical-align: top;\n    }\n\n    .dataframe thead th {\n        text-align: right;\n    }\n</style>\n<table border=\"1\" class=\"dataframe\">\n  <thead>\n    <tr style=\"text-align: right;\">\n      <th></th>\n      <th>PG</th>\n      <th>SG</th>\n      <th>SF</th>\n      <th>PF</th>\n      <th>C</th>\n      <th>G</th>\n      <th>F</th>\n      <th>UTIL</th>\n    </tr>\n  </thead>\n  <tbody>\n    <tr>\n      <th>0</th>\n      <td>Trae Young</td>\n      <td>Luke Kennard</td>\n      <td>Jimmy Butler</td>\n      <td>James Johnson</td>\n      <td>DeAndre Jordan</td>\n      <td>LeBron James</td>\n      <td>Maxi Kleber</td>\n      <td>Jusuf Nurkic</td>\n    </tr>\n    <tr>\n      <th>1</th>\n      <td>Trae Young</td>\n      <td>Donte DiVincenzo</td>\n      <td>Jimmy Butler</td>\n      <td>Precious Achiuwa</td>\n      <td>DeAndre Jordan</td>\n      <td>LeBron James</td>\n      <td>Maxi Kleber</td>\n      <td>Jusuf Nurkic</td>\n    </tr>\n    <tr>\n      <th>2</th>\n      <td>Jimmy Butler</td>\n      <td>Luke Kennard</td>\n      <td>LeBron James</td>\n      <td>Kevin Durant</td>\n      <td>DeAndre Jordan</td>\n      <td>LaMelo Ball</td>\n      <td>Maxi Kleber</td>\n      <td>Jusuf Nurkic</td>\n    </tr>\n    <tr>\n      <th>3</th>\n      <td>Jimmy Butler</td>\n      <td>Donte DiVincenzo</td>\n      <td>LeBron James</td>\n      <td>James Johnson</td>\n      <td>Bam Adebayo</td>\n      <td>Dennis Schroder</td>\n      <td>Maxi Kleber</td>\n      <td>Jusuf Nurkic</td>\n    </tr>\n    <tr>\n      <th>4</th>\n      <td>Trae Young</td>\n      <td>Donte DiVincenzo</td>\n      <td>Jimmy Butler</td>\n      <td>Kevin Durant</td>\n      <td>DeAndre Jordan</td>\n      <td>Luke Kennard</td>\n      <td>Maxi Kleber</td>\n      <td>Jusuf Nurkic</td>\n    </tr>\n    <tr>\n      <th>...</th>\n      <td>...</td>\n      <td>...</td>\n      <td>...</td>\n      <td>...</td>\n      <td>...</td>\n      <td>...</td>\n      <td>...</td>\n      <td>...</td>\n    </tr>\n    <tr>\n      <th>395</th>\n      <td>Bogdan Bogdanovic</td>\n      <td>Cam Reddish</td>\n      <td>Khris Middleton</td>\n      <td>Robert Covington</td>\n      <td>Jusuf Nurkic</td>\n      <td>LaMelo Ball</td>\n      <td>Kawhi Leonard</td>\n      <td>CJ McCollum</td>\n    </tr>\n    <tr>\n      <th>396</th>\n      <td>LaMelo Ball</td>\n      <td>Bogdan Bogdanovic</td>\n      <td>Khris Middleton</td>\n      <td>Jayson Tatum</td>\n      <td>Jusuf Nurkic</td>\n      <td>Jalen Brunson</td>\n      <td>LeBron James</td>\n      <td>Robert Covington</td>\n    </tr>\n    <tr>\n      <th>397</th>\n      <td>Tyus Jones</td>\n      <td>Patty Mills</td>\n      <td>DeMar DeRozan</td>\n      <td>John Collins</td>\n      <td>Giannis Antetokounmpo</td>\n      <td>LaMelo Ball</td>\n      <td>Luke Kennard</td>\n      <td>Jusuf Nurkic</td>\n    </tr>\n    <tr>\n      <th>398</th>\n      <td>Tyus Jones</td>\n      <td>Jeff Teague</td>\n      <td>DeMar DeRozan</td>\n      <td>John Collins</td>\n      <td>Giannis Antetokounmpo</td>\n      <td>LaMelo Ball</td>\n      <td>Luke Kennard</td>\n      <td>Jusuf Nurkic</td>\n    </tr>\n    <tr>\n      <th>399</th>\n      <td>Tyus Jones</td>\n      <td>Patty Mills</td>\n      <td>DeMar DeRozan</td>\n      <td>Giannis Antetokounmpo</td>\n      <td>Jakob Poeltl</td>\n      <td>LaMelo Ball</td>\n      <td>LeBron James</td>\n      <td>Robert Covington</td>\n    </tr>\n  </tbody>\n</table>\n<p>400 rows × 8 columns</p>\n</div>"
     },
     "metadata": {},
     "execution_count": 4
    }
   ],
   "source": [
    "gen.generate(400)\n",
    "# gen.df_lineups = pd.read_csv('../data/raw/test_lineups.csv', index_col=0)"
   ]
  },
  {
   "cell_type": "code",
   "execution_count": 6,
   "metadata": {},
   "outputs": [
    {
     "output_type": "stream",
     "name": "stdout",
     "text": [
      "0 Infeasible lineups dropped\n",
      "11 Lineups\n",
      "0 Duplicates\n",
      "0 Infeasible lineups dropped\n",
      "20 Lineups\n",
      "0 Duplicates\n",
      "0 Infeasible lineups dropped\n",
      "29 Lineups\n",
      "0 Duplicates\n",
      "0 Infeasible lineups dropped\n",
      "42 Lineups\n",
      "0 Duplicates\n",
      "0 Infeasible lineups dropped\n",
      "53 Lineups\n",
      "0 Duplicates\n",
      "0 Infeasible lineups dropped\n",
      "66 Lineups\n",
      "0 Duplicates\n",
      "0 Infeasible lineups dropped\n",
      "76 Lineups\n",
      "0 Duplicates\n",
      "0 Infeasible lineups dropped\n",
      "87 Lineups\n",
      "0 Duplicates\n",
      "0 Infeasible lineups dropped\n",
      "98 Lineups\n",
      "0 Duplicates\n",
      "0 Infeasible lineups dropped\n",
      "109 Lineups\n",
      "0 Duplicates\n",
      "0 Infeasible lineups dropped\n",
      "116 Lineups\n",
      "1 Duplicates\n",
      "0 Infeasible lineups dropped\n",
      "124 Lineups\n",
      "1 Duplicates\n",
      "0 Infeasible lineups dropped\n",
      "133 Lineups\n",
      "1 Duplicates\n",
      "0 Infeasible lineups dropped\n",
      "143 Lineups\n",
      "1 Duplicates\n",
      "1 Infeasible lineups dropped\n",
      "153 Lineups\n",
      "1 Duplicates\n",
      "0 Infeasible lineups dropped\n",
      "166 Lineups\n",
      "1 Duplicates\n",
      "0 Infeasible lineups dropped\n",
      "176 Lineups\n",
      "1 Duplicates\n",
      "0 Infeasible lineups dropped\n",
      "186 Lineups\n",
      "2 Duplicates\n",
      "0 Infeasible lineups dropped\n",
      "197 Lineups\n",
      "2 Duplicates\n",
      "0 Infeasible lineups dropped\n",
      "199 Lineups\n",
      "2 Duplicates\n",
      "0 Infeasible lineups dropped\n",
      "200 Lineups\n",
      "2 Duplicates\n"
     ]
    },
    {
     "output_type": "execute_result",
     "data": {
      "text/plain": [
       "                  PG                 SG               SF                PF  \\\n",
       "0       Jimmy Butler       Luke Kennard     LeBron James      John Collins   \n",
       "1       Jimmy Butler   Donte DiVincenzo  Khris Middleton      John Collins   \n",
       "2       Jimmy Butler   Donte DiVincenzo  Khris Middleton  Precious Achiuwa   \n",
       "3    Dejounte Murray       Luke Kennard  Khris Middleton     James Johnson   \n",
       "4       Jimmy Butler   Donte DiVincenzo  Khris Middleton      John Collins   \n",
       "..               ...                ...              ...               ...   \n",
       "588     Kyrie Irving    Dennis Schroder     LeBron James       Maxi Kleber   \n",
       "589  Dejounte Murray      Kevin Huerter     LeBron James      Jayson Tatum   \n",
       "590       Tyus Jones      Kevin Huerter    DeMar DeRozan      John Collins   \n",
       "591       Tyus Jones    Dennis Schroder    DeMar DeRozan      John Collins   \n",
       "592  Dejounte Murray  Bogdan Bogdanovic     Jimmy Butler      John Collins   \n",
       "\n",
       "                         C                G                      F  \\\n",
       "0           DeAndre Jordan  Dejounte Murray          James Johnson   \n",
       "1             Jusuf Nurkic  Dejounte Murray           Luke Kennard   \n",
       "2           DeAndre Jordan  Dejounte Murray           LeBron James   \n",
       "3             John Collins      LaMelo Ball           LeBron James   \n",
       "4           DeAndre Jordan      Jeff Teague           LeBron James   \n",
       "..                     ...              ...                    ...   \n",
       "588         DeAndre Jordan  Josh Richardson       Robert Covington   \n",
       "589       Precious Achiuwa  Dennis Schroder       Robert Covington   \n",
       "590         DeAndre Jordan  Dejounte Murray  Giannis Antetokounmpo   \n",
       "591  Giannis Antetokounmpo  Dejounte Murray       Precious Achiuwa   \n",
       "592            Bam Adebayo      LaMelo Ball        Khris Middleton   \n",
       "\n",
       "             UTIL  \n",
       "0    Jusuf Nurkic  \n",
       "1     Serge Ibaka  \n",
       "2    Jusuf Nurkic  \n",
       "3    Jusuf Nurkic  \n",
       "4     LaMelo Ball  \n",
       "..            ...  \n",
       "588  Jusuf Nurkic  \n",
       "589  Jusuf Nurkic  \n",
       "590   LaMelo Ball  \n",
       "591   LaMelo Ball  \n",
       "592  Luke Kennard  \n",
       "\n",
       "[593 rows x 8 columns]"
      ],
      "text/html": "<div>\n<style scoped>\n    .dataframe tbody tr th:only-of-type {\n        vertical-align: middle;\n    }\n\n    .dataframe tbody tr th {\n        vertical-align: top;\n    }\n\n    .dataframe thead th {\n        text-align: right;\n    }\n</style>\n<table border=\"1\" class=\"dataframe\">\n  <thead>\n    <tr style=\"text-align: right;\">\n      <th></th>\n      <th>PG</th>\n      <th>SG</th>\n      <th>SF</th>\n      <th>PF</th>\n      <th>C</th>\n      <th>G</th>\n      <th>F</th>\n      <th>UTIL</th>\n    </tr>\n  </thead>\n  <tbody>\n    <tr>\n      <th>0</th>\n      <td>Jimmy Butler</td>\n      <td>Luke Kennard</td>\n      <td>LeBron James</td>\n      <td>John Collins</td>\n      <td>DeAndre Jordan</td>\n      <td>Dejounte Murray</td>\n      <td>James Johnson</td>\n      <td>Jusuf Nurkic</td>\n    </tr>\n    <tr>\n      <th>1</th>\n      <td>Jimmy Butler</td>\n      <td>Donte DiVincenzo</td>\n      <td>Khris Middleton</td>\n      <td>John Collins</td>\n      <td>Jusuf Nurkic</td>\n      <td>Dejounte Murray</td>\n      <td>Luke Kennard</td>\n      <td>Serge Ibaka</td>\n    </tr>\n    <tr>\n      <th>2</th>\n      <td>Jimmy Butler</td>\n      <td>Donte DiVincenzo</td>\n      <td>Khris Middleton</td>\n      <td>Precious Achiuwa</td>\n      <td>DeAndre Jordan</td>\n      <td>Dejounte Murray</td>\n      <td>LeBron James</td>\n      <td>Jusuf Nurkic</td>\n    </tr>\n    <tr>\n      <th>3</th>\n      <td>Dejounte Murray</td>\n      <td>Luke Kennard</td>\n      <td>Khris Middleton</td>\n      <td>James Johnson</td>\n      <td>John Collins</td>\n      <td>LaMelo Ball</td>\n      <td>LeBron James</td>\n      <td>Jusuf Nurkic</td>\n    </tr>\n    <tr>\n      <th>4</th>\n      <td>Jimmy Butler</td>\n      <td>Donte DiVincenzo</td>\n      <td>Khris Middleton</td>\n      <td>John Collins</td>\n      <td>DeAndre Jordan</td>\n      <td>Jeff Teague</td>\n      <td>LeBron James</td>\n      <td>LaMelo Ball</td>\n    </tr>\n    <tr>\n      <th>...</th>\n      <td>...</td>\n      <td>...</td>\n      <td>...</td>\n      <td>...</td>\n      <td>...</td>\n      <td>...</td>\n      <td>...</td>\n      <td>...</td>\n    </tr>\n    <tr>\n      <th>588</th>\n      <td>Kyrie Irving</td>\n      <td>Dennis Schroder</td>\n      <td>LeBron James</td>\n      <td>Maxi Kleber</td>\n      <td>DeAndre Jordan</td>\n      <td>Josh Richardson</td>\n      <td>Robert Covington</td>\n      <td>Jusuf Nurkic</td>\n    </tr>\n    <tr>\n      <th>589</th>\n      <td>Dejounte Murray</td>\n      <td>Kevin Huerter</td>\n      <td>LeBron James</td>\n      <td>Jayson Tatum</td>\n      <td>Precious Achiuwa</td>\n      <td>Dennis Schroder</td>\n      <td>Robert Covington</td>\n      <td>Jusuf Nurkic</td>\n    </tr>\n    <tr>\n      <th>590</th>\n      <td>Tyus Jones</td>\n      <td>Kevin Huerter</td>\n      <td>DeMar DeRozan</td>\n      <td>John Collins</td>\n      <td>DeAndre Jordan</td>\n      <td>Dejounte Murray</td>\n      <td>Giannis Antetokounmpo</td>\n      <td>LaMelo Ball</td>\n    </tr>\n    <tr>\n      <th>591</th>\n      <td>Tyus Jones</td>\n      <td>Dennis Schroder</td>\n      <td>DeMar DeRozan</td>\n      <td>John Collins</td>\n      <td>Giannis Antetokounmpo</td>\n      <td>Dejounte Murray</td>\n      <td>Precious Achiuwa</td>\n      <td>LaMelo Ball</td>\n    </tr>\n    <tr>\n      <th>592</th>\n      <td>Dejounte Murray</td>\n      <td>Bogdan Bogdanovic</td>\n      <td>Jimmy Butler</td>\n      <td>John Collins</td>\n      <td>Bam Adebayo</td>\n      <td>LaMelo Ball</td>\n      <td>Khris Middleton</td>\n      <td>Luke Kennard</td>\n    </tr>\n  </tbody>\n</table>\n<p>593 rows × 8 columns</p>\n</div>"
     },
     "metadata": {},
     "execution_count": 6
    }
   ],
   "source": [
    "gen.update_exp('../data/raw/DKSalaries_20201230_main.csv')\n",
    "gen.generate(200)"
   ]
  },
  {
   "source": [
    "## Now visualize the player distribution:"
   ],
   "cell_type": "markdown",
   "metadata": {}
  },
  {
   "cell_type": "code",
   "execution_count": 5,
   "metadata": {},
   "outputs": [
    {
     "output_type": "execute_result",
     "data": {
      "text/plain": [
       "Bogdan Bogdanovic        0.5275\n",
       "Khris Middleton          0.4975\n",
       "Dejounte Murray          0.4875\n",
       "LeBron James             0.4550\n",
       "Tyus Jones               0.4500\n",
       "DeMar DeRozan            0.4275\n",
       "Jusuf Nurkic             0.4125\n",
       "Jimmy Butler             0.3725\n",
       "Robert Covington         0.3600\n",
       "John Collins             0.3225\n",
       "LaMelo Ball              0.2975\n",
       "Kevin Durant             0.2875\n",
       "Luke Kennard             0.2825\n",
       "Giannis Antetokounmpo    0.2575\n",
       "Donte DiVincenzo         0.2550\n",
       "DeAndre Jordan           0.2350\n",
       "Cam Reddish              0.2050\n",
       "Serge Ibaka              0.1775\n",
       "Bam Adebayo              0.1500\n",
       "Jeff Teague              0.1450\n",
       "James Johnson            0.1250\n",
       "Maxi Kleber              0.1175\n",
       "Kyrie Irving             0.1100\n",
       "Precious Achiuwa         0.0975\n",
       "Jayson Tatum             0.0950\n",
       "Patty Mills              0.0900\n",
       "Dennis Schroder          0.0750\n",
       "Jalen Brunson            0.0550\n",
       "Kevin Huerter            0.0550\n",
       "Tristan Thompson         0.0425\n",
       "Trae Young               0.0400\n",
       "CJ McCollum              0.0400\n",
       "Bobby Portis             0.0400\n",
       "Josh Richardson          0.0375\n",
       "Goran Dragic             0.0350\n",
       "Dorian Finney-Smith      0.0350\n",
       "Kawhi Leonard            0.0325\n",
       "Trey Burke               0.0275\n",
       "PJ Washington            0.0250\n",
       "Jonas Valanciunas        0.0250\n",
       "Anthony Davis            0.0250\n",
       "Nicolas Batum            0.0225\n",
       "Jakob Poeltl             0.0225\n",
       "Bismack Biyombo          0.0200\n",
       "Dillon Brooks            0.0150\n",
       "Grant Williams           0.0150\n",
       "De'Anthony Melton        0.0125\n",
       "Devonte' Graham          0.0125\n",
       "Jaylen Brown             0.0100\n",
       "Grayson Allen            0.0100\n",
       "dtype: float64"
      ]
     },
     "metadata": {},
     "execution_count": 5
    }
   ],
   "source": [
    "players = gen.get_player_distribution(gen.df_lineups)\n",
    "players[:50]"
   ]
  },
  {
   "source": [
    "## Now run the Monte Carlo Simulation"
   ],
   "cell_type": "markdown",
   "metadata": {}
  },
  {
   "cell_type": "code",
   "execution_count": 6,
   "metadata": {},
   "outputs": [
    {
     "output_type": "execute_result",
     "data": {
      "text/plain": [
       "                    PG                 SG               SF  \\\n",
       "0           Trae Young       Luke Kennard     Jimmy Butler   \n",
       "1           Trae Young   Donte DiVincenzo     Jimmy Butler   \n",
       "2         Jimmy Butler       Luke Kennard     LeBron James   \n",
       "3         Jimmy Butler   Donte DiVincenzo     LeBron James   \n",
       "4           Trae Young   Donte DiVincenzo     Jimmy Butler   \n",
       "..                 ...                ...              ...   \n",
       "395  Bogdan Bogdanovic        Cam Reddish  Khris Middleton   \n",
       "396        LaMelo Ball  Bogdan Bogdanovic  Khris Middleton   \n",
       "397         Tyus Jones        Patty Mills    DeMar DeRozan   \n",
       "398         Tyus Jones        Jeff Teague    DeMar DeRozan   \n",
       "399         Tyus Jones        Patty Mills    DeMar DeRozan   \n",
       "\n",
       "                        PF                      C                G  \\\n",
       "0            James Johnson         DeAndre Jordan     LeBron James   \n",
       "1         Precious Achiuwa         DeAndre Jordan     LeBron James   \n",
       "2             Kevin Durant         DeAndre Jordan      LaMelo Ball   \n",
       "3            James Johnson            Bam Adebayo  Dennis Schroder   \n",
       "4             Kevin Durant         DeAndre Jordan     Luke Kennard   \n",
       "..                     ...                    ...              ...   \n",
       "395       Robert Covington           Jusuf Nurkic      LaMelo Ball   \n",
       "396           Jayson Tatum           Jusuf Nurkic    Jalen Brunson   \n",
       "397           John Collins  Giannis Antetokounmpo      LaMelo Ball   \n",
       "398           John Collins  Giannis Antetokounmpo      LaMelo Ball   \n",
       "399  Giannis Antetokounmpo           Jakob Poeltl      LaMelo Ball   \n",
       "\n",
       "                 F              UTIL    mean        std  \n",
       "0      Maxi Kleber      Jusuf Nurkic  276.19  24.973283  \n",
       "1      Maxi Kleber      Jusuf Nurkic  274.42  24.454016  \n",
       "2      Maxi Kleber      Jusuf Nurkic  279.00  26.408512  \n",
       "3      Maxi Kleber      Jusuf Nurkic  274.97  25.766506  \n",
       "4      Maxi Kleber      Jusuf Nurkic  273.01  26.464914  \n",
       "..             ...               ...     ...        ...  \n",
       "395  Kawhi Leonard       CJ McCollum  272.52  27.792451  \n",
       "396   LeBron James  Robert Covington  278.03  26.374123  \n",
       "397   Luke Kennard      Jusuf Nurkic  279.00  30.717441  \n",
       "398   Luke Kennard      Jusuf Nurkic  279.68  31.932313  \n",
       "399   LeBron James  Robert Covington  279.80  29.558168  \n",
       "\n",
       "[400 rows x 10 columns]"
      ],
      "text/html": "<div>\n<style scoped>\n    .dataframe tbody tr th:only-of-type {\n        vertical-align: middle;\n    }\n\n    .dataframe tbody tr th {\n        vertical-align: top;\n    }\n\n    .dataframe thead th {\n        text-align: right;\n    }\n</style>\n<table border=\"1\" class=\"dataframe\">\n  <thead>\n    <tr style=\"text-align: right;\">\n      <th></th>\n      <th>PG</th>\n      <th>SG</th>\n      <th>SF</th>\n      <th>PF</th>\n      <th>C</th>\n      <th>G</th>\n      <th>F</th>\n      <th>UTIL</th>\n      <th>mean</th>\n      <th>std</th>\n    </tr>\n  </thead>\n  <tbody>\n    <tr>\n      <th>0</th>\n      <td>Trae Young</td>\n      <td>Luke Kennard</td>\n      <td>Jimmy Butler</td>\n      <td>James Johnson</td>\n      <td>DeAndre Jordan</td>\n      <td>LeBron James</td>\n      <td>Maxi Kleber</td>\n      <td>Jusuf Nurkic</td>\n      <td>276.19</td>\n      <td>24.973283</td>\n    </tr>\n    <tr>\n      <th>1</th>\n      <td>Trae Young</td>\n      <td>Donte DiVincenzo</td>\n      <td>Jimmy Butler</td>\n      <td>Precious Achiuwa</td>\n      <td>DeAndre Jordan</td>\n      <td>LeBron James</td>\n      <td>Maxi Kleber</td>\n      <td>Jusuf Nurkic</td>\n      <td>274.42</td>\n      <td>24.454016</td>\n    </tr>\n    <tr>\n      <th>2</th>\n      <td>Jimmy Butler</td>\n      <td>Luke Kennard</td>\n      <td>LeBron James</td>\n      <td>Kevin Durant</td>\n      <td>DeAndre Jordan</td>\n      <td>LaMelo Ball</td>\n      <td>Maxi Kleber</td>\n      <td>Jusuf Nurkic</td>\n      <td>279.00</td>\n      <td>26.408512</td>\n    </tr>\n    <tr>\n      <th>3</th>\n      <td>Jimmy Butler</td>\n      <td>Donte DiVincenzo</td>\n      <td>LeBron James</td>\n      <td>James Johnson</td>\n      <td>Bam Adebayo</td>\n      <td>Dennis Schroder</td>\n      <td>Maxi Kleber</td>\n      <td>Jusuf Nurkic</td>\n      <td>274.97</td>\n      <td>25.766506</td>\n    </tr>\n    <tr>\n      <th>4</th>\n      <td>Trae Young</td>\n      <td>Donte DiVincenzo</td>\n      <td>Jimmy Butler</td>\n      <td>Kevin Durant</td>\n      <td>DeAndre Jordan</td>\n      <td>Luke Kennard</td>\n      <td>Maxi Kleber</td>\n      <td>Jusuf Nurkic</td>\n      <td>273.01</td>\n      <td>26.464914</td>\n    </tr>\n    <tr>\n      <th>...</th>\n      <td>...</td>\n      <td>...</td>\n      <td>...</td>\n      <td>...</td>\n      <td>...</td>\n      <td>...</td>\n      <td>...</td>\n      <td>...</td>\n      <td>...</td>\n      <td>...</td>\n    </tr>\n    <tr>\n      <th>395</th>\n      <td>Bogdan Bogdanovic</td>\n      <td>Cam Reddish</td>\n      <td>Khris Middleton</td>\n      <td>Robert Covington</td>\n      <td>Jusuf Nurkic</td>\n      <td>LaMelo Ball</td>\n      <td>Kawhi Leonard</td>\n      <td>CJ McCollum</td>\n      <td>272.52</td>\n      <td>27.792451</td>\n    </tr>\n    <tr>\n      <th>396</th>\n      <td>LaMelo Ball</td>\n      <td>Bogdan Bogdanovic</td>\n      <td>Khris Middleton</td>\n      <td>Jayson Tatum</td>\n      <td>Jusuf Nurkic</td>\n      <td>Jalen Brunson</td>\n      <td>LeBron James</td>\n      <td>Robert Covington</td>\n      <td>278.03</td>\n      <td>26.374123</td>\n    </tr>\n    <tr>\n      <th>397</th>\n      <td>Tyus Jones</td>\n      <td>Patty Mills</td>\n      <td>DeMar DeRozan</td>\n      <td>John Collins</td>\n      <td>Giannis Antetokounmpo</td>\n      <td>LaMelo Ball</td>\n      <td>Luke Kennard</td>\n      <td>Jusuf Nurkic</td>\n      <td>279.00</td>\n      <td>30.717441</td>\n    </tr>\n    <tr>\n      <th>398</th>\n      <td>Tyus Jones</td>\n      <td>Jeff Teague</td>\n      <td>DeMar DeRozan</td>\n      <td>John Collins</td>\n      <td>Giannis Antetokounmpo</td>\n      <td>LaMelo Ball</td>\n      <td>Luke Kennard</td>\n      <td>Jusuf Nurkic</td>\n      <td>279.68</td>\n      <td>31.932313</td>\n    </tr>\n    <tr>\n      <th>399</th>\n      <td>Tyus Jones</td>\n      <td>Patty Mills</td>\n      <td>DeMar DeRozan</td>\n      <td>Giannis Antetokounmpo</td>\n      <td>Jakob Poeltl</td>\n      <td>LaMelo Ball</td>\n      <td>LeBron James</td>\n      <td>Robert Covington</td>\n      <td>279.80</td>\n      <td>29.558168</td>\n    </tr>\n  </tbody>\n</table>\n<p>400 rows × 10 columns</p>\n</div>"
     },
     "metadata": {},
     "execution_count": 6
    }
   ],
   "source": [
    "gen.get_lineup_score_dists()"
   ]
  },
  {
   "source": [
    "## Now find the optimal set of lineups:"
   ],
   "cell_type": "markdown",
   "metadata": {}
  },
  {
   "cell_type": "code",
   "execution_count": 7,
   "metadata": {
    "tags": []
   },
   "outputs": [],
   "source": [
    "df_optimal = gen.enforce_exposures(var_multiple=1.0)"
   ]
  },
  {
   "cell_type": "code",
   "execution_count": 8,
   "metadata": {},
   "outputs": [
    {
     "output_type": "execute_result",
     "data": {
      "text/plain": [
       "                    PG                 SG               SF  \\\n",
       "0    Bogdan Bogdanovic   Donte DiVincenzo     Jimmy Butler   \n",
       "1      Dejounte Murray  Bogdan Bogdanovic     Jimmy Butler   \n",
       "2         Jimmy Butler        Jeff Teague  Khris Middleton   \n",
       "3      Dejounte Murray  Bogdan Bogdanovic     Jimmy Butler   \n",
       "4      Dejounte Murray  Bogdan Bogdanovic     Jimmy Butler   \n",
       "..                 ...                ...              ...   \n",
       "145       Jimmy Butler  Bogdan Bogdanovic  Khris Middleton   \n",
       "146       Jimmy Butler  Bogdan Bogdanovic  Khris Middleton   \n",
       "147         Tyus Jones        Patty Mills    DeMar DeRozan   \n",
       "148         Tyus Jones        Jeff Teague    DeMar DeRozan   \n",
       "149         Tyus Jones        Patty Mills    DeMar DeRozan   \n",
       "\n",
       "                        PF                      C                G  \\\n",
       "0            DeMar DeRozan           John Collins      LaMelo Ball   \n",
       "1            DeMar DeRozan           John Collins      LaMelo Ball   \n",
       "2            DeMar DeRozan           John Collins  Dejounte Murray   \n",
       "3             Jayson Tatum           John Collins      LaMelo Ball   \n",
       "4            DeMar DeRozan           John Collins      LaMelo Ball   \n",
       "..                     ...                    ...              ...   \n",
       "145          DeMar DeRozan       Tristan Thompson       Tyus Jones   \n",
       "146          DeMar DeRozan           Jakob Poeltl     LeBron James   \n",
       "147           John Collins  Giannis Antetokounmpo      LaMelo Ball   \n",
       "148           John Collins  Giannis Antetokounmpo      LaMelo Ball   \n",
       "149  Giannis Antetokounmpo           Jakob Poeltl      LaMelo Ball   \n",
       "\n",
       "                       F              UTIL    mean        std  \n",
       "0        Khris Middleton      Jusuf Nurkic  285.67  29.463939  \n",
       "1        Khris Middleton       Serge Ibaka  284.86  29.924297  \n",
       "2            Cam Reddish      Jusuf Nurkic  282.96  27.424560  \n",
       "3    Dorian Finney-Smith      Jusuf Nurkic  279.64  29.364973  \n",
       "4          Dillon Brooks      Jusuf Nurkic  282.39  28.960149  \n",
       "..                   ...               ...     ...        ...  \n",
       "145         LeBron James      Jakob Poeltl  285.34  28.664665  \n",
       "146     Robert Covington      Luke Kennard  284.90  25.470090  \n",
       "147         Luke Kennard      Jusuf Nurkic  279.00  30.717441  \n",
       "148         Luke Kennard      Jusuf Nurkic  279.68  31.932313  \n",
       "149         LeBron James  Robert Covington  279.80  29.558168  \n",
       "\n",
       "[150 rows x 10 columns]"
      ],
      "text/html": "<div>\n<style scoped>\n    .dataframe tbody tr th:only-of-type {\n        vertical-align: middle;\n    }\n\n    .dataframe tbody tr th {\n        vertical-align: top;\n    }\n\n    .dataframe thead th {\n        text-align: right;\n    }\n</style>\n<table border=\"1\" class=\"dataframe\">\n  <thead>\n    <tr style=\"text-align: right;\">\n      <th></th>\n      <th>PG</th>\n      <th>SG</th>\n      <th>SF</th>\n      <th>PF</th>\n      <th>C</th>\n      <th>G</th>\n      <th>F</th>\n      <th>UTIL</th>\n      <th>mean</th>\n      <th>std</th>\n    </tr>\n  </thead>\n  <tbody>\n    <tr>\n      <th>0</th>\n      <td>Bogdan Bogdanovic</td>\n      <td>Donte DiVincenzo</td>\n      <td>Jimmy Butler</td>\n      <td>DeMar DeRozan</td>\n      <td>John Collins</td>\n      <td>LaMelo Ball</td>\n      <td>Khris Middleton</td>\n      <td>Jusuf Nurkic</td>\n      <td>285.67</td>\n      <td>29.463939</td>\n    </tr>\n    <tr>\n      <th>1</th>\n      <td>Dejounte Murray</td>\n      <td>Bogdan Bogdanovic</td>\n      <td>Jimmy Butler</td>\n      <td>DeMar DeRozan</td>\n      <td>John Collins</td>\n      <td>LaMelo Ball</td>\n      <td>Khris Middleton</td>\n      <td>Serge Ibaka</td>\n      <td>284.86</td>\n      <td>29.924297</td>\n    </tr>\n    <tr>\n      <th>2</th>\n      <td>Jimmy Butler</td>\n      <td>Jeff Teague</td>\n      <td>Khris Middleton</td>\n      <td>DeMar DeRozan</td>\n      <td>John Collins</td>\n      <td>Dejounte Murray</td>\n      <td>Cam Reddish</td>\n      <td>Jusuf Nurkic</td>\n      <td>282.96</td>\n      <td>27.424560</td>\n    </tr>\n    <tr>\n      <th>3</th>\n      <td>Dejounte Murray</td>\n      <td>Bogdan Bogdanovic</td>\n      <td>Jimmy Butler</td>\n      <td>Jayson Tatum</td>\n      <td>John Collins</td>\n      <td>LaMelo Ball</td>\n      <td>Dorian Finney-Smith</td>\n      <td>Jusuf Nurkic</td>\n      <td>279.64</td>\n      <td>29.364973</td>\n    </tr>\n    <tr>\n      <th>4</th>\n      <td>Dejounte Murray</td>\n      <td>Bogdan Bogdanovic</td>\n      <td>Jimmy Butler</td>\n      <td>DeMar DeRozan</td>\n      <td>John Collins</td>\n      <td>LaMelo Ball</td>\n      <td>Dillon Brooks</td>\n      <td>Jusuf Nurkic</td>\n      <td>282.39</td>\n      <td>28.960149</td>\n    </tr>\n    <tr>\n      <th>...</th>\n      <td>...</td>\n      <td>...</td>\n      <td>...</td>\n      <td>...</td>\n      <td>...</td>\n      <td>...</td>\n      <td>...</td>\n      <td>...</td>\n      <td>...</td>\n      <td>...</td>\n    </tr>\n    <tr>\n      <th>145</th>\n      <td>Jimmy Butler</td>\n      <td>Bogdan Bogdanovic</td>\n      <td>Khris Middleton</td>\n      <td>DeMar DeRozan</td>\n      <td>Tristan Thompson</td>\n      <td>Tyus Jones</td>\n      <td>LeBron James</td>\n      <td>Jakob Poeltl</td>\n      <td>285.34</td>\n      <td>28.664665</td>\n    </tr>\n    <tr>\n      <th>146</th>\n      <td>Jimmy Butler</td>\n      <td>Bogdan Bogdanovic</td>\n      <td>Khris Middleton</td>\n      <td>DeMar DeRozan</td>\n      <td>Jakob Poeltl</td>\n      <td>LeBron James</td>\n      <td>Robert Covington</td>\n      <td>Luke Kennard</td>\n      <td>284.90</td>\n      <td>25.470090</td>\n    </tr>\n    <tr>\n      <th>147</th>\n      <td>Tyus Jones</td>\n      <td>Patty Mills</td>\n      <td>DeMar DeRozan</td>\n      <td>John Collins</td>\n      <td>Giannis Antetokounmpo</td>\n      <td>LaMelo Ball</td>\n      <td>Luke Kennard</td>\n      <td>Jusuf Nurkic</td>\n      <td>279.00</td>\n      <td>30.717441</td>\n    </tr>\n    <tr>\n      <th>148</th>\n      <td>Tyus Jones</td>\n      <td>Jeff Teague</td>\n      <td>DeMar DeRozan</td>\n      <td>John Collins</td>\n      <td>Giannis Antetokounmpo</td>\n      <td>LaMelo Ball</td>\n      <td>Luke Kennard</td>\n      <td>Jusuf Nurkic</td>\n      <td>279.68</td>\n      <td>31.932313</td>\n    </tr>\n    <tr>\n      <th>149</th>\n      <td>Tyus Jones</td>\n      <td>Patty Mills</td>\n      <td>DeMar DeRozan</td>\n      <td>Giannis Antetokounmpo</td>\n      <td>Jakob Poeltl</td>\n      <td>LaMelo Ball</td>\n      <td>LeBron James</td>\n      <td>Robert Covington</td>\n      <td>279.80</td>\n      <td>29.558168</td>\n    </tr>\n  </tbody>\n</table>\n<p>150 rows × 10 columns</p>\n</div>"
     },
     "metadata": {},
     "execution_count": 8
    }
   ],
   "source": [
    "df_optimal"
   ]
  },
  {
   "source": [
    "# Now build the sheet:"
   ],
   "cell_type": "markdown",
   "metadata": {}
  },
  {
   "cell_type": "code",
   "execution_count": 9,
   "metadata": {},
   "outputs": [
    {
     "output_type": "execute_result",
     "data": {
      "text/plain": [
       "       Entry ID                       Contest Name  Contest ID Entry Fee  \\\n",
       "0    1809803072  NBA $12K mini-MAX [150 Entry Max]    83787211     $0.50   \n",
       "1    1809803073  NBA $12K mini-MAX [150 Entry Max]    83787211     $0.50   \n",
       "2    1809803074  NBA $12K mini-MAX [150 Entry Max]    83787211     $0.50   \n",
       "3    1809803075  NBA $12K mini-MAX [150 Entry Max]    83787211     $0.50   \n",
       "4    1809803076  NBA $12K mini-MAX [150 Entry Max]    83787211     $0.50   \n",
       "..          ...                                ...         ...       ...   \n",
       "145  1809803217  NBA $12K mini-MAX [150 Entry Max]    83787211     $0.50   \n",
       "146  1809803218  NBA $12K mini-MAX [150 Entry Max]    83787211     $0.50   \n",
       "147  1809803219  NBA $12K mini-MAX [150 Entry Max]    83787211     $0.50   \n",
       "148  1809803220  NBA $12K mini-MAX [150 Entry Max]    83787211     $0.50   \n",
       "149  1809811864  NBA $12K mini-MAX [150 Entry Max]    83787211     $0.50   \n",
       "\n",
       "           PG        SG        SF        PF         C         G         F  \\\n",
       "0    16067348  16067332  16067181  16067210  16067198  16067359  16067186   \n",
       "1    16067244  16067348  16067181  16067210  16067198  16067359  16067186   \n",
       "2    16067181  16067431  16067186  16067210  16067198  16067244  16067392   \n",
       "3    16067244  16067348  16067181  16067156  16067198  16067359  16067378   \n",
       "4    16067244  16067348  16067181  16067210  16067198  16067359  16067235   \n",
       "..        ...       ...       ...       ...       ...       ...       ...   \n",
       "145  16067181  16067348  16067186  16067210  16067399  16067304  16067138   \n",
       "146  16067181  16067348  16067186  16067210  16067406  16067138  16067354   \n",
       "147  16067304  16067435  16067210  16067198  16067128  16067359  16067362   \n",
       "148  16067304  16067431  16067210  16067198  16067128  16067359  16067362   \n",
       "149  16067304  16067435  16067210  16067128  16067406  16067359  16067138   \n",
       "\n",
       "         UTIL  dk_points_actual  \n",
       "0    16067218            252.30  \n",
       "1    16067286            262.39  \n",
       "2    16067218            266.05  \n",
       "3    16067218            240.97  \n",
       "4    16067218            255.55  \n",
       "..        ...               ...  \n",
       "145  16067406            251.26  \n",
       "146  16067362            251.84  \n",
       "147  16067218            222.67  \n",
       "148  16067218            221.17  \n",
       "149  16067354            231.55  \n",
       "\n",
       "[150 rows x 13 columns]"
      ],
      "text/html": "<div>\n<style scoped>\n    .dataframe tbody tr th:only-of-type {\n        vertical-align: middle;\n    }\n\n    .dataframe tbody tr th {\n        vertical-align: top;\n    }\n\n    .dataframe thead th {\n        text-align: right;\n    }\n</style>\n<table border=\"1\" class=\"dataframe\">\n  <thead>\n    <tr style=\"text-align: right;\">\n      <th></th>\n      <th>Entry ID</th>\n      <th>Contest Name</th>\n      <th>Contest ID</th>\n      <th>Entry Fee</th>\n      <th>PG</th>\n      <th>SG</th>\n      <th>SF</th>\n      <th>PF</th>\n      <th>C</th>\n      <th>G</th>\n      <th>F</th>\n      <th>UTIL</th>\n      <th>dk_points_actual</th>\n    </tr>\n  </thead>\n  <tbody>\n    <tr>\n      <th>0</th>\n      <td>1809803072</td>\n      <td>NBA $12K mini-MAX [150 Entry Max]</td>\n      <td>83787211</td>\n      <td>$0.50</td>\n      <td>16067348</td>\n      <td>16067332</td>\n      <td>16067181</td>\n      <td>16067210</td>\n      <td>16067198</td>\n      <td>16067359</td>\n      <td>16067186</td>\n      <td>16067218</td>\n      <td>252.30</td>\n    </tr>\n    <tr>\n      <th>1</th>\n      <td>1809803073</td>\n      <td>NBA $12K mini-MAX [150 Entry Max]</td>\n      <td>83787211</td>\n      <td>$0.50</td>\n      <td>16067244</td>\n      <td>16067348</td>\n      <td>16067181</td>\n      <td>16067210</td>\n      <td>16067198</td>\n      <td>16067359</td>\n      <td>16067186</td>\n      <td>16067286</td>\n      <td>262.39</td>\n    </tr>\n    <tr>\n      <th>2</th>\n      <td>1809803074</td>\n      <td>NBA $12K mini-MAX [150 Entry Max]</td>\n      <td>83787211</td>\n      <td>$0.50</td>\n      <td>16067181</td>\n      <td>16067431</td>\n      <td>16067186</td>\n      <td>16067210</td>\n      <td>16067198</td>\n      <td>16067244</td>\n      <td>16067392</td>\n      <td>16067218</td>\n      <td>266.05</td>\n    </tr>\n    <tr>\n      <th>3</th>\n      <td>1809803075</td>\n      <td>NBA $12K mini-MAX [150 Entry Max]</td>\n      <td>83787211</td>\n      <td>$0.50</td>\n      <td>16067244</td>\n      <td>16067348</td>\n      <td>16067181</td>\n      <td>16067156</td>\n      <td>16067198</td>\n      <td>16067359</td>\n      <td>16067378</td>\n      <td>16067218</td>\n      <td>240.97</td>\n    </tr>\n    <tr>\n      <th>4</th>\n      <td>1809803076</td>\n      <td>NBA $12K mini-MAX [150 Entry Max]</td>\n      <td>83787211</td>\n      <td>$0.50</td>\n      <td>16067244</td>\n      <td>16067348</td>\n      <td>16067181</td>\n      <td>16067210</td>\n      <td>16067198</td>\n      <td>16067359</td>\n      <td>16067235</td>\n      <td>16067218</td>\n      <td>255.55</td>\n    </tr>\n    <tr>\n      <th>...</th>\n      <td>...</td>\n      <td>...</td>\n      <td>...</td>\n      <td>...</td>\n      <td>...</td>\n      <td>...</td>\n      <td>...</td>\n      <td>...</td>\n      <td>...</td>\n      <td>...</td>\n      <td>...</td>\n      <td>...</td>\n      <td>...</td>\n    </tr>\n    <tr>\n      <th>145</th>\n      <td>1809803217</td>\n      <td>NBA $12K mini-MAX [150 Entry Max]</td>\n      <td>83787211</td>\n      <td>$0.50</td>\n      <td>16067181</td>\n      <td>16067348</td>\n      <td>16067186</td>\n      <td>16067210</td>\n      <td>16067399</td>\n      <td>16067304</td>\n      <td>16067138</td>\n      <td>16067406</td>\n      <td>251.26</td>\n    </tr>\n    <tr>\n      <th>146</th>\n      <td>1809803218</td>\n      <td>NBA $12K mini-MAX [150 Entry Max]</td>\n      <td>83787211</td>\n      <td>$0.50</td>\n      <td>16067181</td>\n      <td>16067348</td>\n      <td>16067186</td>\n      <td>16067210</td>\n      <td>16067406</td>\n      <td>16067138</td>\n      <td>16067354</td>\n      <td>16067362</td>\n      <td>251.84</td>\n    </tr>\n    <tr>\n      <th>147</th>\n      <td>1809803219</td>\n      <td>NBA $12K mini-MAX [150 Entry Max]</td>\n      <td>83787211</td>\n      <td>$0.50</td>\n      <td>16067304</td>\n      <td>16067435</td>\n      <td>16067210</td>\n      <td>16067198</td>\n      <td>16067128</td>\n      <td>16067359</td>\n      <td>16067362</td>\n      <td>16067218</td>\n      <td>222.67</td>\n    </tr>\n    <tr>\n      <th>148</th>\n      <td>1809803220</td>\n      <td>NBA $12K mini-MAX [150 Entry Max]</td>\n      <td>83787211</td>\n      <td>$0.50</td>\n      <td>16067304</td>\n      <td>16067431</td>\n      <td>16067210</td>\n      <td>16067198</td>\n      <td>16067128</td>\n      <td>16067359</td>\n      <td>16067362</td>\n      <td>16067218</td>\n      <td>221.17</td>\n    </tr>\n    <tr>\n      <th>149</th>\n      <td>1809811864</td>\n      <td>NBA $12K mini-MAX [150 Entry Max]</td>\n      <td>83787211</td>\n      <td>$0.50</td>\n      <td>16067304</td>\n      <td>16067435</td>\n      <td>16067210</td>\n      <td>16067128</td>\n      <td>16067406</td>\n      <td>16067359</td>\n      <td>16067138</td>\n      <td>16067354</td>\n      <td>231.55</td>\n    </tr>\n  </tbody>\n</table>\n<p>150 rows × 13 columns</p>\n</div>"
     },
     "metadata": {},
     "execution_count": 9
    }
   ],
   "source": [
    "sheet_name = 'test_DKEntries.csv'\n",
    "# entries = EntriesHandler('../data/raw/' + sheet_name, gen.df, read_lineups=True)\n",
    "entries = EntriesHandler('../data/raw/' + sheet_name, gen.df, read_lineups=False)\n",
    "entries.add_lineups_to_entries(df_optimal, version='gen') ## Fast opt lineups\n",
    "pd.read_csv('../data/raw/test_DKEntries_gen.csv')"
   ]
  },
  {
   "cell_type": "code",
   "execution_count": null,
   "metadata": {},
   "outputs": [],
   "source": []
  }
 ]
}