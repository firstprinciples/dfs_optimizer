{
 "metadata": {
  "language_info": {
   "codemirror_mode": {
    "name": "ipython",
    "version": 3
   },
   "file_extension": ".py",
   "mimetype": "text/x-python",
   "name": "python",
   "nbconvert_exporter": "python",
   "pygments_lexer": "ipython3",
   "version": "3.7.8-final"
  },
  "orig_nbformat": 2,
  "kernelspec": {
   "name": "python_defaultSpec_1600237738923",
   "display_name": "Python 3.7.8 64-bit ('optimizer': conda)"
  }
 },
 "nbformat": 4,
 "nbformat_minor": 2,
 "cells": [
  {
   "source": [
    "# Example Notebook For Using Optimizer Tools"
   ],
   "cell_type": "markdown",
   "metadata": {}
  },
  {
   "cell_type": "code",
   "execution_count": 1,
   "metadata": {},
   "outputs": [],
   "source": [
    "import pandas as pd\n",
    "import datetime as dt\n",
    "\n",
    "from fps_dfs_optimizer.src.draftkings_tools import get_contests, get_players, EntriesHandler, get_today\n",
    "from fps_dfs_optimizer.src.projections import get_projections\n",
    "from fps_dfs_optimizer.src.optimizer import Exposures, LineupOptimizer\n",
    "from fps_dfs_optimizer.src.generator import LineupGenerator"
   ]
  },
  {
   "source": [
    "## Generate today's players sheet\n",
    "This block will retrieve the players DataFrame for the current date.\n",
    "Any projections script can be implemented in get_projections(), but right now dummy projections are given"
   ],
   "cell_type": "markdown",
   "metadata": {}
  },
  {
   "cell_type": "code",
   "execution_count": 2,
   "metadata": {
    "tags": []
   },
   "outputs": [],
   "source": [
    "today = get_today()\n",
    "today = dt.date(2020, 9, 19)\n",
    "df_contests = get_contests(today)\n",
    "group_id = df_contests.draft_group_id.unique()[0]\n",
    "df_players = get_players(group_id)\n",
    "points, std = get_projections(df_players)\n",
    "df_players['projections'] = points\n",
    "df_players['std'] = std"
   ]
  },
  {
   "cell_type": "code",
   "execution_count": 3,
   "metadata": {},
   "outputs": [
    {
     "output_type": "execute_result",
     "data": {
      "text/plain": "             Name        ID Position    Status  Salary       Game  \\\n0    LeBron James  15432432    PG/SF    Recent   17400  DEN @ LAL   \n1    Nikola Jokic  15432433        C    Recent   16500  DEN @ LAL   \n2   Anthony Davis  15432434     PF/C  Breaking   16200  DEN @ LAL   \n3    Jamal Murray  15432435    PG/SG    Recent   15000  DEN @ LAL   \n4     Will Barton  15432436       PG      None   13800  DEN @ LAL   \n..            ...       ...      ...       ...     ...        ...   \n65  Avery Bradley  15432427       PG      None    1000  DEN @ LAL   \n66   Troy Daniels  15432428       SG      None    1000  DEN @ LAL   \n67     Quinn Cook  15432429       PG      None    1000  DEN @ LAL   \n68   Jared Dudley  15432430       PF      None    1000  DEN @ LAL   \n69    Noah Vonleh  15432431        C      None    1000  DEN @ LAL   \n\n                            Time TeamAbbrev  projections        std  \n0   2020-09-19T01:00:00.0000000Z        LAL   101.418278  29.753877  \n1   2020-09-19T01:00:00.0000000Z        DEN    84.768098  40.811629  \n2   2020-09-19T01:00:00.0000000Z        LAL    67.536264  32.078738  \n3   2020-09-19T01:00:00.0000000Z        DEN    59.482523  33.648743  \n4   2020-09-19T01:00:00.0000000Z        DEN    77.243669  36.438244  \n..                           ...        ...          ...        ...  \n65  2020-09-19T01:00:00.0000000Z        LAL     5.754372   2.844129  \n66  2020-09-19T01:00:00.0000000Z        DEN     4.995945   1.834112  \n67  2020-09-19T01:00:00.0000000Z        LAL     5.361482   2.382547  \n68  2020-09-19T01:00:00.0000000Z        LAL     4.439659   2.639839  \n69  2020-09-19T01:00:00.0000000Z        DEN     5.893461   3.149540  \n\n[70 rows x 10 columns]",
      "text/html": "<div>\n<style scoped>\n    .dataframe tbody tr th:only-of-type {\n        vertical-align: middle;\n    }\n\n    .dataframe tbody tr th {\n        vertical-align: top;\n    }\n\n    .dataframe thead th {\n        text-align: right;\n    }\n</style>\n<table border=\"1\" class=\"dataframe\">\n  <thead>\n    <tr style=\"text-align: right;\">\n      <th></th>\n      <th>Name</th>\n      <th>ID</th>\n      <th>Position</th>\n      <th>Status</th>\n      <th>Salary</th>\n      <th>Game</th>\n      <th>Time</th>\n      <th>TeamAbbrev</th>\n      <th>projections</th>\n      <th>std</th>\n    </tr>\n  </thead>\n  <tbody>\n    <tr>\n      <th>0</th>\n      <td>LeBron James</td>\n      <td>15432432</td>\n      <td>PG/SF</td>\n      <td>Recent</td>\n      <td>17400</td>\n      <td>DEN @ LAL</td>\n      <td>2020-09-19T01:00:00.0000000Z</td>\n      <td>LAL</td>\n      <td>101.418278</td>\n      <td>29.753877</td>\n    </tr>\n    <tr>\n      <th>1</th>\n      <td>Nikola Jokic</td>\n      <td>15432433</td>\n      <td>C</td>\n      <td>Recent</td>\n      <td>16500</td>\n      <td>DEN @ LAL</td>\n      <td>2020-09-19T01:00:00.0000000Z</td>\n      <td>DEN</td>\n      <td>84.768098</td>\n      <td>40.811629</td>\n    </tr>\n    <tr>\n      <th>2</th>\n      <td>Anthony Davis</td>\n      <td>15432434</td>\n      <td>PF/C</td>\n      <td>Breaking</td>\n      <td>16200</td>\n      <td>DEN @ LAL</td>\n      <td>2020-09-19T01:00:00.0000000Z</td>\n      <td>LAL</td>\n      <td>67.536264</td>\n      <td>32.078738</td>\n    </tr>\n    <tr>\n      <th>3</th>\n      <td>Jamal Murray</td>\n      <td>15432435</td>\n      <td>PG/SG</td>\n      <td>Recent</td>\n      <td>15000</td>\n      <td>DEN @ LAL</td>\n      <td>2020-09-19T01:00:00.0000000Z</td>\n      <td>DEN</td>\n      <td>59.482523</td>\n      <td>33.648743</td>\n    </tr>\n    <tr>\n      <th>4</th>\n      <td>Will Barton</td>\n      <td>15432436</td>\n      <td>PG</td>\n      <td>None</td>\n      <td>13800</td>\n      <td>DEN @ LAL</td>\n      <td>2020-09-19T01:00:00.0000000Z</td>\n      <td>DEN</td>\n      <td>77.243669</td>\n      <td>36.438244</td>\n    </tr>\n    <tr>\n      <th>...</th>\n      <td>...</td>\n      <td>...</td>\n      <td>...</td>\n      <td>...</td>\n      <td>...</td>\n      <td>...</td>\n      <td>...</td>\n      <td>...</td>\n      <td>...</td>\n      <td>...</td>\n    </tr>\n    <tr>\n      <th>65</th>\n      <td>Avery Bradley</td>\n      <td>15432427</td>\n      <td>PG</td>\n      <td>None</td>\n      <td>1000</td>\n      <td>DEN @ LAL</td>\n      <td>2020-09-19T01:00:00.0000000Z</td>\n      <td>LAL</td>\n      <td>5.754372</td>\n      <td>2.844129</td>\n    </tr>\n    <tr>\n      <th>66</th>\n      <td>Troy Daniels</td>\n      <td>15432428</td>\n      <td>SG</td>\n      <td>None</td>\n      <td>1000</td>\n      <td>DEN @ LAL</td>\n      <td>2020-09-19T01:00:00.0000000Z</td>\n      <td>DEN</td>\n      <td>4.995945</td>\n      <td>1.834112</td>\n    </tr>\n    <tr>\n      <th>67</th>\n      <td>Quinn Cook</td>\n      <td>15432429</td>\n      <td>PG</td>\n      <td>None</td>\n      <td>1000</td>\n      <td>DEN @ LAL</td>\n      <td>2020-09-19T01:00:00.0000000Z</td>\n      <td>LAL</td>\n      <td>5.361482</td>\n      <td>2.382547</td>\n    </tr>\n    <tr>\n      <th>68</th>\n      <td>Jared Dudley</td>\n      <td>15432430</td>\n      <td>PF</td>\n      <td>None</td>\n      <td>1000</td>\n      <td>DEN @ LAL</td>\n      <td>2020-09-19T01:00:00.0000000Z</td>\n      <td>LAL</td>\n      <td>4.439659</td>\n      <td>2.639839</td>\n    </tr>\n    <tr>\n      <th>69</th>\n      <td>Noah Vonleh</td>\n      <td>15432431</td>\n      <td>C</td>\n      <td>None</td>\n      <td>1000</td>\n      <td>DEN @ LAL</td>\n      <td>2020-09-19T01:00:00.0000000Z</td>\n      <td>DEN</td>\n      <td>5.893461</td>\n      <td>3.149540</td>\n    </tr>\n  </tbody>\n</table>\n<p>70 rows × 10 columns</p>\n</div>"
     },
     "metadata": {},
     "execution_count": 3
    }
   ],
   "source": [
    "df_players"
   ]
  },
  {
   "source": [
    "## Now exposures must be inputted\n",
    "Here the dataframe above is saved to the data/temp folder for exposures to be filled out.\n",
    "Once the exposures are filled out, run exp.read_exposures() to pull the sheet into the dataframe."
   ],
   "cell_type": "markdown",
   "metadata": {}
  },
  {
   "cell_type": "code",
   "execution_count": 4,
   "metadata": {
    "tags": []
   },
   "outputs": [
    {
     "output_type": "stream",
     "name": "stdout",
     "text": "Please fill out exposures in ../data/temp/20200917.csv\n"
    }
   ],
   "source": [
    "exp = Exposures(df_players)"
   ]
  },
  {
   "cell_type": "code",
   "execution_count": 5,
   "metadata": {},
   "outputs": [],
   "source": [
    "df_players = exp.read_exposures()"
   ]
  },
  {
   "cell_type": "code",
   "execution_count": 6,
   "metadata": {},
   "outputs": [
    {
     "output_type": "execute_result",
     "data": {
      "text/plain": "             Name        ID Position  Salary    Status TeamAbbrev  \\\n0    LeBron James  15432432    PG/SF   17400    Recent        LAL   \n1    Nikola Jokic  15432433        C   16500    Recent        DEN   \n2   Anthony Davis  15432434     PF/C   16200  Breaking        LAL   \n3    Jamal Murray  15432435    PG/SG   15000    Recent        DEN   \n4     Will Barton  15432436       PG   13800      None        DEN   \n..            ...       ...      ...     ...       ...        ...   \n65  Avery Bradley  15432427       PG    1000      None        LAL   \n66   Troy Daniels  15432428       SG    1000      None        DEN   \n67     Quinn Cook  15432429       PG    1000      None        LAL   \n68   Jared Dudley  15432430       PF    1000      None        LAL   \n69    Noah Vonleh  15432431        C    1000      None        DEN   \n\n                        Time  projections        std  min_exp  max_exp  \n0  2020-09-19 01:00:00+00:00   101.418278  29.753877        0      0.4  \n1  2020-09-19 01:00:00+00:00    84.768098  40.811629        0      0.4  \n2  2020-09-19 01:00:00+00:00    67.536264  32.078738        0      0.4  \n3  2020-09-19 01:00:00+00:00    59.482523  33.648743        0      0.4  \n4  2020-09-19 01:00:00+00:00    77.243669  36.438244        0      0.4  \n..                       ...          ...        ...      ...      ...  \n65 2020-09-19 01:00:00+00:00     5.754372   2.844129        0      0.4  \n66 2020-09-19 01:00:00+00:00     4.995945   1.834112        0      0.4  \n67 2020-09-19 01:00:00+00:00     5.361482   2.382547        0      0.4  \n68 2020-09-19 01:00:00+00:00     4.439659   2.639839        0      0.4  \n69 2020-09-19 01:00:00+00:00     5.893461   3.149540        0      0.4  \n\n[70 rows x 11 columns]",
      "text/html": "<div>\n<style scoped>\n    .dataframe tbody tr th:only-of-type {\n        vertical-align: middle;\n    }\n\n    .dataframe tbody tr th {\n        vertical-align: top;\n    }\n\n    .dataframe thead th {\n        text-align: right;\n    }\n</style>\n<table border=\"1\" class=\"dataframe\">\n  <thead>\n    <tr style=\"text-align: right;\">\n      <th></th>\n      <th>Name</th>\n      <th>ID</th>\n      <th>Position</th>\n      <th>Salary</th>\n      <th>Status</th>\n      <th>TeamAbbrev</th>\n      <th>Time</th>\n      <th>projections</th>\n      <th>std</th>\n      <th>min_exp</th>\n      <th>max_exp</th>\n    </tr>\n  </thead>\n  <tbody>\n    <tr>\n      <th>0</th>\n      <td>LeBron James</td>\n      <td>15432432</td>\n      <td>PG/SF</td>\n      <td>17400</td>\n      <td>Recent</td>\n      <td>LAL</td>\n      <td>2020-09-19 01:00:00+00:00</td>\n      <td>101.418278</td>\n      <td>29.753877</td>\n      <td>0</td>\n      <td>0.4</td>\n    </tr>\n    <tr>\n      <th>1</th>\n      <td>Nikola Jokic</td>\n      <td>15432433</td>\n      <td>C</td>\n      <td>16500</td>\n      <td>Recent</td>\n      <td>DEN</td>\n      <td>2020-09-19 01:00:00+00:00</td>\n      <td>84.768098</td>\n      <td>40.811629</td>\n      <td>0</td>\n      <td>0.4</td>\n    </tr>\n    <tr>\n      <th>2</th>\n      <td>Anthony Davis</td>\n      <td>15432434</td>\n      <td>PF/C</td>\n      <td>16200</td>\n      <td>Breaking</td>\n      <td>LAL</td>\n      <td>2020-09-19 01:00:00+00:00</td>\n      <td>67.536264</td>\n      <td>32.078738</td>\n      <td>0</td>\n      <td>0.4</td>\n    </tr>\n    <tr>\n      <th>3</th>\n      <td>Jamal Murray</td>\n      <td>15432435</td>\n      <td>PG/SG</td>\n      <td>15000</td>\n      <td>Recent</td>\n      <td>DEN</td>\n      <td>2020-09-19 01:00:00+00:00</td>\n      <td>59.482523</td>\n      <td>33.648743</td>\n      <td>0</td>\n      <td>0.4</td>\n    </tr>\n    <tr>\n      <th>4</th>\n      <td>Will Barton</td>\n      <td>15432436</td>\n      <td>PG</td>\n      <td>13800</td>\n      <td>None</td>\n      <td>DEN</td>\n      <td>2020-09-19 01:00:00+00:00</td>\n      <td>77.243669</td>\n      <td>36.438244</td>\n      <td>0</td>\n      <td>0.4</td>\n    </tr>\n    <tr>\n      <th>...</th>\n      <td>...</td>\n      <td>...</td>\n      <td>...</td>\n      <td>...</td>\n      <td>...</td>\n      <td>...</td>\n      <td>...</td>\n      <td>...</td>\n      <td>...</td>\n      <td>...</td>\n      <td>...</td>\n    </tr>\n    <tr>\n      <th>65</th>\n      <td>Avery Bradley</td>\n      <td>15432427</td>\n      <td>PG</td>\n      <td>1000</td>\n      <td>None</td>\n      <td>LAL</td>\n      <td>2020-09-19 01:00:00+00:00</td>\n      <td>5.754372</td>\n      <td>2.844129</td>\n      <td>0</td>\n      <td>0.4</td>\n    </tr>\n    <tr>\n      <th>66</th>\n      <td>Troy Daniels</td>\n      <td>15432428</td>\n      <td>SG</td>\n      <td>1000</td>\n      <td>None</td>\n      <td>DEN</td>\n      <td>2020-09-19 01:00:00+00:00</td>\n      <td>4.995945</td>\n      <td>1.834112</td>\n      <td>0</td>\n      <td>0.4</td>\n    </tr>\n    <tr>\n      <th>67</th>\n      <td>Quinn Cook</td>\n      <td>15432429</td>\n      <td>PG</td>\n      <td>1000</td>\n      <td>None</td>\n      <td>LAL</td>\n      <td>2020-09-19 01:00:00+00:00</td>\n      <td>5.361482</td>\n      <td>2.382547</td>\n      <td>0</td>\n      <td>0.4</td>\n    </tr>\n    <tr>\n      <th>68</th>\n      <td>Jared Dudley</td>\n      <td>15432430</td>\n      <td>PF</td>\n      <td>1000</td>\n      <td>None</td>\n      <td>LAL</td>\n      <td>2020-09-19 01:00:00+00:00</td>\n      <td>4.439659</td>\n      <td>2.639839</td>\n      <td>0</td>\n      <td>0.4</td>\n    </tr>\n    <tr>\n      <th>69</th>\n      <td>Noah Vonleh</td>\n      <td>15432431</td>\n      <td>C</td>\n      <td>1000</td>\n      <td>None</td>\n      <td>DEN</td>\n      <td>2020-09-19 01:00:00+00:00</td>\n      <td>5.893461</td>\n      <td>3.149540</td>\n      <td>0</td>\n      <td>0.4</td>\n    </tr>\n  </tbody>\n</table>\n<p>70 rows × 11 columns</p>\n</div>"
     },
     "metadata": {},
     "execution_count": 6
    }
   ],
   "source": [
    "cols = df_players.columns\n",
    "df_players"
   ]
  },
  {
   "source": [
    "# Now let's work with a historical dataframe \n",
    "Data is from 2020/01/02"
   ],
   "cell_type": "markdown",
   "metadata": {}
  },
  {
   "cell_type": "code",
   "execution_count": 7,
   "metadata": {},
   "outputs": [
    {
     "output_type": "execute_result",
     "data": {
      "text/plain": "                  Name        ID Position  Salary  Status TeamAbbrev  \\\n0          Gary Harris  14066354       SG    4600  recent        MIL   \n1       Darius Garland  14066387       PG    4400  recent        HOU   \n2        Collin Sexton  14066177    PG/SG    5900  recent        HOU   \n3         Kevin Porter  14066428    SG/SF    4200  recent        MIL   \n4        Aaron Holiday  14066210    PG/SG    5700  recent        HOU   \n..                 ...       ...      ...     ...     ...        ...   \n212  Patrick Patterson  14066669     PF/C    3200  recent        HOU   \n213         Louis King  14066970    SF/PF    3000  recent        MIL   \n214    Jerome Robinson  14066841       SG    3000  recent        HOU   \n215   Johnathan Motley  14066954     PF/C    3000  recent        MIA   \n216    Sekou Doumbouya  14066980    SF/PF    3000  recent        MIA   \n\n                         Time  projections       std  min_exp  max_exp  \n0   2020-09-10 23:00:00+00:00        29.62  4.462711        0      0.4  \n1   2020-09-10 23:00:00+00:00        26.53  4.750068        0      0.4  \n2   2020-09-10 23:00:00+00:00        34.33  7.762624        0      0.4  \n3   2020-09-10 23:00:00+00:00        23.80  5.999999        0      0.4  \n4   2020-09-10 23:00:00+00:00        31.38  5.332358        0      0.4  \n..                        ...          ...       ...      ...      ...  \n212 2020-09-10 23:00:00+00:00         5.28  1.183974        0      0.4  \n213 2020-09-10 23:00:00+00:00         4.87  0.616341        0      0.4  \n214 2020-09-10 23:00:00+00:00         4.05  0.474432        0      0.4  \n215 2020-09-10 23:00:00+00:00         3.84  0.583016        0      0.4  \n216 2020-09-10 23:00:00+00:00         3.13  0.599690        0      0.4  \n\n[217 rows x 11 columns]",
      "text/html": "<div>\n<style scoped>\n    .dataframe tbody tr th:only-of-type {\n        vertical-align: middle;\n    }\n\n    .dataframe tbody tr th {\n        vertical-align: top;\n    }\n\n    .dataframe thead th {\n        text-align: right;\n    }\n</style>\n<table border=\"1\" class=\"dataframe\">\n  <thead>\n    <tr style=\"text-align: right;\">\n      <th></th>\n      <th>Name</th>\n      <th>ID</th>\n      <th>Position</th>\n      <th>Salary</th>\n      <th>Status</th>\n      <th>TeamAbbrev</th>\n      <th>Time</th>\n      <th>projections</th>\n      <th>std</th>\n      <th>min_exp</th>\n      <th>max_exp</th>\n    </tr>\n  </thead>\n  <tbody>\n    <tr>\n      <th>0</th>\n      <td>Gary Harris</td>\n      <td>14066354</td>\n      <td>SG</td>\n      <td>4600</td>\n      <td>recent</td>\n      <td>MIL</td>\n      <td>2020-09-10 23:00:00+00:00</td>\n      <td>29.62</td>\n      <td>4.462711</td>\n      <td>0</td>\n      <td>0.4</td>\n    </tr>\n    <tr>\n      <th>1</th>\n      <td>Darius Garland</td>\n      <td>14066387</td>\n      <td>PG</td>\n      <td>4400</td>\n      <td>recent</td>\n      <td>HOU</td>\n      <td>2020-09-10 23:00:00+00:00</td>\n      <td>26.53</td>\n      <td>4.750068</td>\n      <td>0</td>\n      <td>0.4</td>\n    </tr>\n    <tr>\n      <th>2</th>\n      <td>Collin Sexton</td>\n      <td>14066177</td>\n      <td>PG/SG</td>\n      <td>5900</td>\n      <td>recent</td>\n      <td>HOU</td>\n      <td>2020-09-10 23:00:00+00:00</td>\n      <td>34.33</td>\n      <td>7.762624</td>\n      <td>0</td>\n      <td>0.4</td>\n    </tr>\n    <tr>\n      <th>3</th>\n      <td>Kevin Porter</td>\n      <td>14066428</td>\n      <td>SG/SF</td>\n      <td>4200</td>\n      <td>recent</td>\n      <td>MIL</td>\n      <td>2020-09-10 23:00:00+00:00</td>\n      <td>23.80</td>\n      <td>5.999999</td>\n      <td>0</td>\n      <td>0.4</td>\n    </tr>\n    <tr>\n      <th>4</th>\n      <td>Aaron Holiday</td>\n      <td>14066210</td>\n      <td>PG/SG</td>\n      <td>5700</td>\n      <td>recent</td>\n      <td>HOU</td>\n      <td>2020-09-10 23:00:00+00:00</td>\n      <td>31.38</td>\n      <td>5.332358</td>\n      <td>0</td>\n      <td>0.4</td>\n    </tr>\n    <tr>\n      <th>...</th>\n      <td>...</td>\n      <td>...</td>\n      <td>...</td>\n      <td>...</td>\n      <td>...</td>\n      <td>...</td>\n      <td>...</td>\n      <td>...</td>\n      <td>...</td>\n      <td>...</td>\n      <td>...</td>\n    </tr>\n    <tr>\n      <th>212</th>\n      <td>Patrick Patterson</td>\n      <td>14066669</td>\n      <td>PF/C</td>\n      <td>3200</td>\n      <td>recent</td>\n      <td>HOU</td>\n      <td>2020-09-10 23:00:00+00:00</td>\n      <td>5.28</td>\n      <td>1.183974</td>\n      <td>0</td>\n      <td>0.4</td>\n    </tr>\n    <tr>\n      <th>213</th>\n      <td>Louis King</td>\n      <td>14066970</td>\n      <td>SF/PF</td>\n      <td>3000</td>\n      <td>recent</td>\n      <td>MIL</td>\n      <td>2020-09-10 23:00:00+00:00</td>\n      <td>4.87</td>\n      <td>0.616341</td>\n      <td>0</td>\n      <td>0.4</td>\n    </tr>\n    <tr>\n      <th>214</th>\n      <td>Jerome Robinson</td>\n      <td>14066841</td>\n      <td>SG</td>\n      <td>3000</td>\n      <td>recent</td>\n      <td>HOU</td>\n      <td>2020-09-10 23:00:00+00:00</td>\n      <td>4.05</td>\n      <td>0.474432</td>\n      <td>0</td>\n      <td>0.4</td>\n    </tr>\n    <tr>\n      <th>215</th>\n      <td>Johnathan Motley</td>\n      <td>14066954</td>\n      <td>PF/C</td>\n      <td>3000</td>\n      <td>recent</td>\n      <td>MIA</td>\n      <td>2020-09-10 23:00:00+00:00</td>\n      <td>3.84</td>\n      <td>0.583016</td>\n      <td>0</td>\n      <td>0.4</td>\n    </tr>\n    <tr>\n      <th>216</th>\n      <td>Sekou Doumbouya</td>\n      <td>14066980</td>\n      <td>SF/PF</td>\n      <td>3000</td>\n      <td>recent</td>\n      <td>MIA</td>\n      <td>2020-09-10 23:00:00+00:00</td>\n      <td>3.13</td>\n      <td>0.599690</td>\n      <td>0</td>\n      <td>0.4</td>\n    </tr>\n  </tbody>\n</table>\n<p>217 rows × 11 columns</p>\n</div>"
     },
     "metadata": {},
     "execution_count": 7
    }
   ],
   "source": [
    "df_players = pd.read_csv('../data/raw/test_20200102.csv')\n",
    "df_players['Time'] = pd.to_datetime(df_players['Time'])\n",
    "df_players = df_players[cols]\n",
    "df_players"
   ]
  },
  {
   "source": [
    "# Let's do a simple lineup optimization\n",
    "This is like the original optimizer. Provide the number of desired lineups and the dataframe.\n",
    "Note that order=1 is an optional argument, but defaults to unordered (0)\n",
    "time_limit=10.0 by default, but is also an optional argument.\n",
    "\n",
    "This first step creates the optimization model."
   ],
   "cell_type": "markdown",
   "metadata": {}
  },
  {
   "cell_type": "code",
   "execution_count": 11,
   "metadata": {
    "tags": []
   },
   "outputs": [],
   "source": [
    "opt = LineupOptimizer(df_players, n_lineups=10, verbose=True)"
   ]
  },
  {
   "source": [
    "## opt.solve() solves the optimization problem"
   ],
   "cell_type": "markdown",
   "metadata": {}
  },
  {
   "cell_type": "code",
   "execution_count": 12,
   "metadata": {
    "tags": []
   },
   "outputs": [
    {
     "output_type": "stream",
     "name": "stdout",
     "text": "Version identifier: 12.10.0.0 | 2019-11-27 | 843d4de2ae\nCPXPARAM_Read_DataCheck                          1\nCPXPARAM_TimeLimit                               10\nWarning:  Non-integral bounds for integer variables rounded.\nTried aggregator 1 time.\nMIP Presolve eliminated 129 rows and 0 columns.\nMIP Presolve modified 10 coefficients.\nReduced MIP has 209 rows, 990 columns, and 5980 nonzeros.\nReduced MIP has 990 binaries, 0 generals, 0 SOSs, and 0 indicators.\nPresolve time = 0.02 sec. (2.13 ticks)\nFound incumbent of value 2155.700000 after 0.03 sec. (8.23 ticks)\nProbing time = 0.00 sec. (0.29 ticks)\nTried aggregator 1 time.\nDetecting symmetries...\nReduced MIP has 209 rows, 990 columns, and 5980 nonzeros.\nReduced MIP has 990 binaries, 0 generals, 0 SOSs, and 0 indicators.\nPresolve time = 0.00 sec. (3.11 ticks)\nProbing time = 0.00 sec. (0.29 ticks)\nMIP emphasis: balance optimality and feasibility.\nMIP search method: dynamic search.\nParallel mode: deterministic, using up to 8 threads.\nRoot relaxation solution time = 0.02 sec. (7.12 ticks)\n\n        Nodes                                         Cuts/\n   Node  Left     Objective  IInf  Best Integer    Best Bound    ItCnt     Gap\n\n*     0+    0                         2155.7000    27377.6000              --- \n*     0+    0                         2734.6900    27377.6000           901.12%\n*     0+    0                         2737.4800    27377.6000           900.10%\n      0     0     2760.8424    35     2737.4800     2760.8424      378    0.85%\n      0     0     2760.8424    35     2737.4800      Cuts: 21      415    0.85%\n      0     0     2760.8424    35     2737.4800      Cuts: 27      464    0.85%\n      0     0     2760.8424    35     2737.4800      Cuts: 13      486    0.85%\n      0     0     2760.8424    35     2737.4800      Cuts: 25      535    0.85%\n*     0+    0                         2751.5700     2760.8424             0.34%\n*     0+    0                         2754.7600     2760.8424             0.22%\n      0     2     2760.8424    25     2754.7600     2760.8424      535    0.22%\nElapsed time = 0.59 sec. (155.48 ticks, tree = 0.02 MB, solutions = 5)\n*   648+    2                         2758.4300     2760.8424             0.09%\n   1718   623     2760.5255    30     2758.4300     2760.8424    15245    0.09%\n   4915  3227     2760.4013    26     2758.4300     2760.8424    56447    0.09%\n\nPerforming restart 1\n\nRepeating presolve.\nTried aggregator 1 time.\nMIP Presolve eliminated 52 rows and 520 columns.\nMIP Presolve modified 470 coefficients.\nReduced MIP has 157 rows, 470 columns, and 2740 nonzeros.\nReduced MIP has 470 binaries, 0 generals, 0 SOSs, and 0 indicators.\nPresolve time = 0.01 sec. (1.57 ticks)\nTried aggregator 1 time.\nReduced MIP has 157 rows, 470 columns, and 2740 nonzeros.\nReduced MIP has 470 binaries, 0 generals, 0 SOSs, and 0 indicators.\nPresolve time = 0.00 sec. (1.54 ticks)\nRepresolve time = 0.03 sec. (8.88 ticks)\n   5763     0     2760.8424    42     2758.4300      Cuts: 18    75252    0.09%\n   5763     0     2760.8424    42     2758.4300      Cuts: 26    75300    0.09%\n   5763     0     2760.8424    42     2758.4300      Cuts: 19    75332    0.09%\n   5763     0     2760.8424    42     2758.4300      Cuts: 35    75384    0.09%\n   5763     0     2760.8424    42     2758.4300      Cuts: 20    75431    0.09%\n   5763     0     2760.8424    42     2758.4300      Cuts: 25    75481    0.09%\n   5763     2     2760.8424    30     2758.4300     2760.8424    75481    0.09%\n   6232   411     2759.1062    30     2758.4300     2760.8424    78994    0.09%\n  10921  4157     2759.3448    23     2758.4300     2760.8424   107758    0.09%\n  21740 12425     2760.8424    29     2758.4300     2760.8424   157459    0.09%\n  34318 21828     2760.8055    25     2758.4300     2760.8424   211567    0.09%\n  44693 31888     2760.8319    27     2758.4300     2760.8424   271487    0.09%\n  51322 38560     2758.9155    23     2758.4300     2760.8424   311627    0.09%\n* 63460 46016      integral     0     2758.5200     2760.8424   357524    0.08%\n\nPerforming restart 2\n\nRepeating presolve.\nTried aggregator 1 time.\nMIP Presolve eliminated 2 rows and 20 columns.\nMIP Presolve modified 450 coefficients.\nReduced MIP has 155 rows, 450 columns, and 2600 nonzeros.\nReduced MIP has 450 binaries, 0 generals, 0 SOSs, and 0 indicators.\nPresolve time = 0.02 sec. (1.50 ticks)\nTried aggregator 1 time.\nReduced MIP has 155 rows, 450 columns, and 2600 nonzeros.\nReduced MIP has 450 binaries, 0 generals, 0 SOSs, and 0 indicators.\nPresolve time = 0.02 sec. (1.47 ticks)\nRepresolve time = 0.08 sec. (17.28 ticks)\n  73528     0     2760.8424    31     2758.5200      Cuts: 27   444290    0.08%\n  73528     0     2760.7824    31     2758.5200      Cuts: 27   444354    0.08%\n  73528     0     2760.7824    31     2758.5200      Cuts: 27   444426    0.08%\n  73528     0     2760.7824    31     2758.5200      Cuts: 15   444496    0.08%\n  73528     0     2760.6700    31     2758.5200      Cuts: 13   444620    0.08%\n  73528     0     2760.6700    31     2758.5200      Cuts: 26   444669    0.08%\n  73528     0     2760.6700    31     2758.5200      Cuts: 22   444717    0.08%\n  73528     0     2760.6700    31     2758.5200      Cuts: 15   444760    0.08%\n\nRepeating presolve.\nTried aggregator 1 time.\nMIP Presolve eliminated 1 rows and 10 columns.\nReduced MIP has 154 rows, 440 columns, and 2520 nonzeros.\nReduced MIP has 440 binaries, 0 generals, 0 SOSs, and 0 indicators.\nPresolve time = 0.00 sec. (0.89 ticks)\nTried aggregator 1 time.\nReduced MIP has 154 rows, 440 columns, and 2520 nonzeros.\nReduced MIP has 440 binaries, 0 generals, 0 SOSs, and 0 indicators.\nPresolve time = 0.02 sec. (1.43 ticks)\nRepresolve time = 0.09 sec. (25.11 ticks)\n  73528     0     2760.6700    40     2758.5200      Cuts: 14   445543    0.08%\n  73528     0     2760.6700    40     2758.5200      Cuts: 35   445585    0.08%\n  73528     0     2760.6700    40     2758.5200      Cuts: 20   445642    0.08%\n  73528     0     2760.6700    40     2758.5200       Cuts: 6   445679    0.08%\n  73528     0     2760.6700    40     2758.5200      Cuts: 36   445734    0.08%\n  73528     0     2760.6700    40     2758.5200      Cuts: 18   445788    0.08%\n  73528     0     2760.6700    40     2758.5200      Cuts: 19   445836    0.08%\n  73528     0     2760.6700    40     2758.5200      Cuts: 11   445876    0.08%\n  73528     0     2760.6700    40     2758.5200      Cuts: 18   445941    0.08%\nAdvanced basis not built.\n\nGomory fractional cuts applied:  1\n\nRoot node processing (before b&c):\n  Real time             =    0.58 sec. (155.26 ticks)\nParallel b&c, 8 threads:\n  Real time             =    9.44 sec. (3316.22 ticks)\n  Sync time (average)   =    1.61 sec.\n  Wait time (average)   =    0.04 sec.\n                          ------------\nTotal (root+branch&cut) =   10.02 sec. (3471.49 ticks)\n"
    },
    {
     "output_type": "execute_result",
     "data": {
      "text/plain": "array([[ 1., -0.,  1.,  0.,  1.,  0., -0.,  1., -0.,  0.],\n       [-0.,  0.,  1.,  0., -0.,  1.,  1., -0.,  1., -0.],\n       [-0.,  1.,  0.,  1., -0.,  1., -0., -0.,  1., -0.],\n       [ 0.,  1.,  1.,  0.,  0.,  0.,  1.,  0., -0.,  1.],\n       [ 1.,  0.,  1.,  0., -0.,  1.,  1., -0.,  0.,  0.],\n       [-0.,  1., -0.,  0.,  1.,  0., -0.,  1., -0.,  1.],\n       [-0., -0.,  0.,  0.,  0.,  0., -0., -0., -0.,  1.],\n       [ 0.,  1., -0.,  1.,  1.,  1., -0., -0., -0., -0.],\n       [ 0.,  0.,  0.,  0., -0.,  0., -0.,  0., -0.,  0.],\n       [-0., -0.,  1.,  1., -0.,  1., -0., -0.,  1., -0.],\n       [ 1., -0., -0.,  0., -0.,  0.,  1.,  1.,  1.,  0.],\n       [ 1.,  0.,  0.,  1.,  1.,  0.,  1., -0.,  0.,  0.],\n       [ 1., -0., -0.,  1., -0.,  0., -0., -0.,  1.,  1.],\n       [ 0.,  0.,  0.,  0., -0.,  0., -0.,  0.,  0.,  0.],\n       [ 0.,  0.,  0.,  0.,  0.,  0.,  0.,  0., -0.,  0.],\n       [-0.,  1., -0.,  0., -0.,  1.,  1., -0.,  1.,  0.],\n       [ 0.,  0.,  0.,  0.,  0.,  0., -0.,  0., -0.,  0.],\n       [ 1.,  0.,  0.,  0.,  0.,  1.,  1.,  1.,  0.,  0.],\n       [ 0.,  0.,  0.,  0.,  0.,  0.,  0.,  0.,  0.,  0.],\n       [ 0.,  0.,  1.,  0.,  0.,  0.,  0.,  1.,  1.,  1.],\n       [ 0.,  0.,  0.,  0., -0.,  0.,  0.,  0.,  0.,  0.],\n       [ 0.,  0.,  0.,  0.,  0.,  0.,  0.,  0.,  0.,  0.],\n       [ 0.,  0.,  1.,  0.,  1.,  0.,  0.,  0.,  1.,  1.],\n       [ 1.,  0.,  0.,  1.,  1.,  0.,  1.,  0.,  0.,  0.],\n       [ 1.,  1.,  0.,  0.,  1.,  0.,  0.,  1., -0.,  0.],\n       [-0.,  1.,  0.,  1., -0.,  0.,  0.,  1.,  0.,  1.],\n       [ 0.,  0.,  0.,  0., -0.,  0.,  0.,  0.,  0.,  0.],\n       [ 0., -0., -0.,  0.,  0.,  0., -0.,  0., -0., -0.],\n       [-0.,  0.,  0.,  0., -0.,  0., -0., -0., -0.,  0.],\n       [ 0.,  0.,  0.,  0., -0.,  0.,  0.,  0.,  0.,  0.],\n       [ 0.,  0.,  0.,  0., -0.,  0.,  0.,  0.,  0.,  0.],\n       [ 0.,  0.,  0.,  0.,  0.,  0.,  0.,  0.,  0.,  0.],\n       [ 0.,  1.,  0.,  1.,  1.,  0.,  0.,  0.,  0.,  1.],\n       [ 0.,  0.,  0.,  0., -0.,  0.,  0.,  0.,  0.,  0.],\n       [ 0.,  0.,  0.,  0.,  0.,  0.,  0.,  0.,  0.,  0.],\n       [ 0.,  0.,  1.,  0.,  0.,  1.,  0.,  1.,  0.,  0.],\n       [ 0.,  0.,  0.,  0.,  0.,  0.,  0.,  0.,  0.,  0.],\n       [ 0.,  0.,  0.,  0.,  0.,  0., -0.,  0., -0.,  0.],\n       [ 0.,  0.,  0.,  0., -0.,  0.,  0.,  0.,  0.,  0.],\n       [ 0.,  0.,  0.,  0., -0.,  0.,  0.,  0.,  0.,  0.],\n       [ 0.,  0.,  0.,  0.,  0.,  0., -0.,  0., -0.,  0.],\n       [-0., -0., -0., -0., -0., -0., -0., -0., -0., -0.],\n       [ 0.,  0.,  0.,  0., -0.,  0.,  0.,  0.,  0.,  0.],\n       [ 0.,  0.,  0.,  0.,  0.,  0.,  0.,  0.,  0.,  0.],\n       [ 0.,  0.,  0.,  0.,  0.,  0., -0.,  0., -0.,  0.],\n       [-0.,  0.,  0.,  0., -0.,  0.,  0., -0.,  0.,  0.],\n       [ 0.,  0.,  0.,  0.,  0.,  0.,  0.,  0.,  0.,  0.],\n       [-0., -0., -0., -0., -0., -0., -0., -0., -0., -0.],\n       [-0., -0., -0., -0., -0., -0., -0., -0., -0., -0.],\n       [-0., -0., -0., -0., -0., -0., -0., -0., -0., -0.],\n       [-0., -0., -0., -0., -0., -0., -0., -0., -0., -0.],\n       [-0., -0., -0., -0., -0., -0., -0., -0., -0., -0.],\n       [ 0.,  0.,  0.,  0., -0.,  0.,  0.,  0.,  0.,  0.],\n       [-0., -0., -0., -0., -0., -0., -0., -0., -0., -0.],\n       [-0., -0., -0., -0., -0., -0., -0., -0., -0., -0.],\n       [-0., -0., -0., -0., -0., -0., -0., -0., -0., -0.],\n       [-0., -0., -0., -0., -0., -0., -0., -0., -0., -0.],\n       [-0., -0., -0., -0., -0., -0., -0., -0., -0., -0.],\n       [-0., -0., -0., -0., -0., -0., -0., -0., -0., -0.],\n       [-0., -0., -0., -0., -0., -0., -0., -0., -0., -0.],\n       [-0., -0., -0., -0., -0., -0., -0., -0., -0., -0.],\n       [-0., -0., -0., -0., -0., -0., -0., -0., -0., -0.],\n       [-0., -0., -0., -0., -0., -0., -0., -0., -0., -0.],\n       [-0., -0., -0., -0., -0., -0., -0., -0., -0., -0.],\n       [-0., -0., -0., -0., -0., -0., -0., -0., -0., -0.],\n       [-0., -0., -0., -0., -0., -0., -0., -0., -0., -0.],\n       [-0., -0., -0., -0., -0., -0., -0., -0., -0., -0.],\n       [-0., -0., -0., -0., -0., -0., -0., -0., -0., -0.],\n       [-0., -0., -0., -0., -0., -0., -0., -0., -0., -0.],\n       [-0., -0., -0., -0., -0., -0., -0., -0., -0., -0.],\n       [-0., -0., -0., -0., -0., -0., -0., -0., -0., -0.],\n       [-0., -0., -0., -0., -0., -0., -0., -0., -0., -0.],\n       [-0., -0., -0., -0., -0., -0., -0., -0., -0., -0.],\n       [-0., -0., -0., -0., -0., -0., -0., -0., -0., -0.],\n       [-0., -0., -0., -0., -0., -0., -0., -0., -0., -0.],\n       [-0., -0., -0., -0., -0., -0., -0., -0., -0., -0.],\n       [-0., -0., -0., -0., -0., -0., -0., -0., -0., -0.],\n       [-0., -0., -0., -0., -0., -0., -0., -0., -0., -0.],\n       [-0., -0., -0., -0., -0., -0., -0., -0., -0., -0.],\n       [-0., -0., -0., -0., -0., -0., -0., -0., -0., -0.],\n       [-0., -0., -0., -0., -0., -0., -0., -0., -0., -0.],\n       [-0., -0., -0., -0., -0., -0., -0., -0., -0., -0.],\n       [-0., -0., -0., -0., -0., -0., -0., -0., -0., -0.],\n       [-0., -0., -0., -0., -0., -0., -0., -0., -0., -0.],\n       [-0., -0., -0., -0., -0., -0., -0., -0., -0., -0.],\n       [-0., -0., -0., -0., -0., -0., -0., -0., -0., -0.],\n       [-0., -0., -0., -0., -0., -0., -0., -0., -0., -0.],\n       [-0., -0., -0., -0., -0., -0., -0., -0., -0., -0.],\n       [-0., -0., -0., -0., -0., -0., -0., -0., -0., -0.],\n       [-0., -0., -0., -0., -0., -0., -0., -0., -0., -0.],\n       [-0., -0., -0., -0., -0., -0., -0., -0., -0., -0.],\n       [-0., -0., -0., -0., -0., -0., -0., -0., -0., -0.],\n       [-0., -0., -0., -0., -0., -0., -0., -0., -0., -0.],\n       [-0., -0., -0., -0., -0., -0., -0., -0., -0., -0.],\n       [-0., -0., -0., -0., -0., -0., -0., -0., -0., -0.],\n       [-0., -0., -0., -0., -0., -0., -0., -0., -0., -0.],\n       [-0., -0., -0., -0., -0., -0., -0., -0., -0., -0.],\n       [-0., -0., -0., -0., -0., -0., -0., -0., -0., -0.],\n       [-0., -0., -0., -0., -0., -0., -0., -0., -0., -0.]])"
     },
     "metadata": {},
     "execution_count": 12
    }
   ],
   "source": [
    "opt.solve()"
   ]
  },
  {
   "source": [
    "## Now let's sort the optimal lineups"
   ],
   "cell_type": "markdown",
   "metadata": {}
  },
  {
   "cell_type": "code",
   "execution_count": 13,
   "metadata": {
    "tags": []
   },
   "outputs": [
    {
     "output_type": "stream",
     "name": "stdout",
     "text": "6 Infeasible lineups dropped\n"
    },
    {
     "output_type": "execute_result",
     "data": {
      "text/plain": "                  PG             SG             SF                 PF  \\\n0     Darius Garland  Collin Sexton   Kevin Porter  LaMarcus Aldridge   \n1      Aaron Holiday   Kevin Porter    Buddy Hield   Bojan Bogdanovic   \n2  Spencer Dinwiddie    Gary Harris   Kevin Porter   Bojan Bogdanovic   \n3       De'Aaron Fox    Gary Harris  Dillon Brooks   Bojan Bogdanovic   \n\n             C                 G                  F                     UTIL  \n0  Ivica Zubac       Zach LaVine       Jimmy Butler  Shai Gilgeous-Alexander  \n1  Ivica Zubac  Donovan Mitchell  LaMarcus Aldridge  Shai Gilgeous-Alexander  \n2  Ivica Zubac      Jimmy Butler    Marquese Chriss         Domantas Sabonis  \n3  Ivica Zubac       Buddy Hield       Jimmy Butler            DeMar DeRozan  ",
      "text/html": "<div>\n<style scoped>\n    .dataframe tbody tr th:only-of-type {\n        vertical-align: middle;\n    }\n\n    .dataframe tbody tr th {\n        vertical-align: top;\n    }\n\n    .dataframe thead th {\n        text-align: right;\n    }\n</style>\n<table border=\"1\" class=\"dataframe\">\n  <thead>\n    <tr style=\"text-align: right;\">\n      <th></th>\n      <th>PG</th>\n      <th>SG</th>\n      <th>SF</th>\n      <th>PF</th>\n      <th>C</th>\n      <th>G</th>\n      <th>F</th>\n      <th>UTIL</th>\n    </tr>\n  </thead>\n  <tbody>\n    <tr>\n      <th>0</th>\n      <td>Darius Garland</td>\n      <td>Collin Sexton</td>\n      <td>Kevin Porter</td>\n      <td>LaMarcus Aldridge</td>\n      <td>Ivica Zubac</td>\n      <td>Zach LaVine</td>\n      <td>Jimmy Butler</td>\n      <td>Shai Gilgeous-Alexander</td>\n    </tr>\n    <tr>\n      <th>1</th>\n      <td>Aaron Holiday</td>\n      <td>Kevin Porter</td>\n      <td>Buddy Hield</td>\n      <td>Bojan Bogdanovic</td>\n      <td>Ivica Zubac</td>\n      <td>Donovan Mitchell</td>\n      <td>LaMarcus Aldridge</td>\n      <td>Shai Gilgeous-Alexander</td>\n    </tr>\n    <tr>\n      <th>2</th>\n      <td>Spencer Dinwiddie</td>\n      <td>Gary Harris</td>\n      <td>Kevin Porter</td>\n      <td>Bojan Bogdanovic</td>\n      <td>Ivica Zubac</td>\n      <td>Jimmy Butler</td>\n      <td>Marquese Chriss</td>\n      <td>Domantas Sabonis</td>\n    </tr>\n    <tr>\n      <th>3</th>\n      <td>De'Aaron Fox</td>\n      <td>Gary Harris</td>\n      <td>Dillon Brooks</td>\n      <td>Bojan Bogdanovic</td>\n      <td>Ivica Zubac</td>\n      <td>Buddy Hield</td>\n      <td>Jimmy Butler</td>\n      <td>DeMar DeRozan</td>\n    </tr>\n  </tbody>\n</table>\n</div>"
     },
     "metadata": {},
     "execution_count": 13
    }
   ],
   "source": [
    "opt.sort_lineups()"
   ]
  },
  {
   "source": [
    "# Lineup Generator and Optimizer\n",
    "Now we'll use a more complex lineup generation --> monte carlo simulation then select the lineups that have the highest likelihood of being a high scoring team.\n",
    "\n",
    "<br> The default values are:\n",
    "<br> var_multiple = 0.5 (we weight lineup projected variance at half the importance of the projected mean)\n",
    "<br> drop_fraction = 0.5 (half the players are discarded each iteration of generation)\n",
    "<br> time_limit = 1 (1 second is allowed for each optimization iteration)\n",
    "<br> duplicates_lim = 100 (once 100 duplicate lineups have been generated, it kills the generator)"
   ],
   "cell_type": "markdown",
   "metadata": {}
  },
  {
   "source": [
    "## First, instantiate the generator:"
   ],
   "cell_type": "markdown",
   "metadata": {}
  },
  {
   "cell_type": "code",
   "execution_count": 14,
   "metadata": {},
   "outputs": [],
   "source": [
    "gen = LineupGenerator(df_players, n_lineups_to_optimize=150, batch_size=20,\n",
    "var_multiple=0.5, drop_fraction=0.5, time_limit=1, verbose=False)"
   ]
  },
  {
   "source": [
    "## Now run the generator by giving a target number of generated lineups:"
   ],
   "cell_type": "markdown",
   "metadata": {}
  },
  {
   "cell_type": "code",
   "execution_count": 17,
   "metadata": {
    "tags": []
   },
   "outputs": [],
   "source": [
    "# gen.generate(10000)\n",
    "gen.df_lineups = pd.read_csv('../data/raw/test_lineups.csv', index_col=0)"
   ]
  },
  {
   "source": [
    "## Now visualize the player distribution:"
   ],
   "cell_type": "markdown",
   "metadata": {}
  },
  {
   "cell_type": "code",
   "execution_count": 18,
   "metadata": {},
   "outputs": [
    {
     "output_type": "execute_result",
     "data": {
      "text/plain": "Ivica Zubac                0.3960\nBojan Bogdanovic           0.3820\nDeMar DeRozan              0.3470\nJimmy Butler               0.3395\nSpencer Dinwiddie          0.3065\nLaMarcus Aldridge          0.3040\nAaron Holiday              0.2960\nHarrison Barnes            0.2955\nRobert Covington           0.2915\nBuddy Hield                0.2905\nCollin Sexton              0.2905\nDillon Brooks              0.2855\nDarius Garland             0.2845\nDe'Aaron Fox               0.2735\nMarquese Chriss            0.2730\nDonovan Mitchell           0.2650\nZach LaVine                0.2535\nJalen Brunson              0.2520\nDomantas Sabonis           0.2510\nGary Harris                0.2490\nKevin Porter               0.2365\nShai Gilgeous-Alexander    0.2065\nBam Adebayo                0.1885\nCedi Osman                 0.1520\nRichaun Holmes             0.1500\nKyle Lowry                 0.1430\nTristan Thompson           0.1035\nBismack Biyombo            0.0855\nJarrett Culver             0.0850\nShabazz Napier             0.0840\nTim Frazier                0.0765\nDwight Powell              0.0690\nT.J. Warren                0.0675\nJeremy Lamb                0.0610\nBryn Forbes                0.0550\nAlec Burks                 0.0500\nPaul George                0.0470\nLuka Doncic                0.0345\nKawhi Leonard              0.0265\nTimothe Luwawu-Cabarrot    0.0235\nWendell Carter Jr          0.0215\nChris Paul                 0.0180\nBruce Brown                0.0135\nKendrick Nunn              0.0110\nTerry Rozier               0.0100\nAndre Drummond             0.0070\nDelon Wright               0.0065\nDorian Finney-Smith        0.0045\nDanilo Gallinari           0.0045\nJa Morant                  0.0035\ndtype: float64"
     },
     "metadata": {},
     "execution_count": 18
    }
   ],
   "source": [
    "players = gen.get_player_distribution(gen.df_lineups)\n",
    "players[:50]"
   ]
  },
  {
   "source": [
    "## Now run the Monte Carlo Simulation"
   ],
   "cell_type": "markdown",
   "metadata": {}
  },
  {
   "cell_type": "code",
   "execution_count": 19,
   "metadata": {},
   "outputs": [
    {
     "output_type": "execute_result",
     "data": {
      "text/plain": "                     PG                 SG               SF  \\\n0         Collin Sexton        Gary Harris     Kevin Porter   \n1         Jalen Brunson        Gary Harris     Kevin Porter   \n2         Collin Sexton        Gary Harris     Kevin Porter   \n3         Jalen Brunson  Spencer Dinwiddie  Harrison Barnes   \n4         Collin Sexton        Gary Harris     Kevin Porter   \n...                 ...                ...              ...   \n1995     Darius Garland        Gary Harris     Jimmy Butler   \n1996  Spencer Dinwiddie        Gary Harris     Kevin Porter   \n1997     Darius Garland        Gary Harris     Kevin Porter   \n1998       De'Aaron Fox       Kevin Porter    Dillon Brooks   \n1999     Darius Garland      Jalen Brunson      Buddy Hield   \n\n                     PF                C                  G                 F  \\\n0       Harrison Barnes   Richaun Holmes      Aaron Holiday       Paul George   \n1         Kawhi Leonard  Marquese Chriss      Aaron Holiday       Paul George   \n2       Harrison Barnes  Marquese Chriss         Kyle Lowry    Richaun Holmes   \n3       Marquese Chriss   Richaun Holmes      Collin Sexton       Paul George   \n4       Harrison Barnes   Richaun Holmes     Shabazz Napier       Paul George   \n...                 ...              ...                ...               ...   \n1995    Harrison Barnes  Marquese Chriss  Spencer Dinwiddie  Robert Covington   \n1996    Marquese Chriss      Bam Adebayo        Tim Frazier      Jimmy Butler   \n1997   Domantas Sabonis  Bismack Biyombo       De'Aaron Fox      Jimmy Butler   \n1998   Bojan Bogdanovic      Bam Adebayo        Buddy Hield  Robert Covington   \n1999  LaMarcus Aldridge   Richaun Holmes      Aaron Holiday     DeMar DeRozan   \n\n                         UTIL    mean        std  \n0                  Kyle Lowry  264.54  17.620039  \n1                  Kyle Lowry  262.63  15.017997  \n2               Kawhi Leonard  264.81  17.261263  \n3               Aaron Holiday  270.06  20.851468  \n4                  Kyle Lowry  263.37  17.406462  \n...                       ...     ...        ...  \n1995         Donovan Mitchell  279.25  20.311315  \n1996             De'Aaron Fox  277.49  19.496710  \n1997         Donovan Mitchell  273.53  17.789721  \n1998  Shai Gilgeous-Alexander  267.74  18.799925  \n1999              Zach LaVine  270.45  22.124796  \n\n[2000 rows x 10 columns]",
      "text/html": "<div>\n<style scoped>\n    .dataframe tbody tr th:only-of-type {\n        vertical-align: middle;\n    }\n\n    .dataframe tbody tr th {\n        vertical-align: top;\n    }\n\n    .dataframe thead th {\n        text-align: right;\n    }\n</style>\n<table border=\"1\" class=\"dataframe\">\n  <thead>\n    <tr style=\"text-align: right;\">\n      <th></th>\n      <th>PG</th>\n      <th>SG</th>\n      <th>SF</th>\n      <th>PF</th>\n      <th>C</th>\n      <th>G</th>\n      <th>F</th>\n      <th>UTIL</th>\n      <th>mean</th>\n      <th>std</th>\n    </tr>\n  </thead>\n  <tbody>\n    <tr>\n      <th>0</th>\n      <td>Collin Sexton</td>\n      <td>Gary Harris</td>\n      <td>Kevin Porter</td>\n      <td>Harrison Barnes</td>\n      <td>Richaun Holmes</td>\n      <td>Aaron Holiday</td>\n      <td>Paul George</td>\n      <td>Kyle Lowry</td>\n      <td>264.54</td>\n      <td>17.620039</td>\n    </tr>\n    <tr>\n      <th>1</th>\n      <td>Jalen Brunson</td>\n      <td>Gary Harris</td>\n      <td>Kevin Porter</td>\n      <td>Kawhi Leonard</td>\n      <td>Marquese Chriss</td>\n      <td>Aaron Holiday</td>\n      <td>Paul George</td>\n      <td>Kyle Lowry</td>\n      <td>262.63</td>\n      <td>15.017997</td>\n    </tr>\n    <tr>\n      <th>2</th>\n      <td>Collin Sexton</td>\n      <td>Gary Harris</td>\n      <td>Kevin Porter</td>\n      <td>Harrison Barnes</td>\n      <td>Marquese Chriss</td>\n      <td>Kyle Lowry</td>\n      <td>Richaun Holmes</td>\n      <td>Kawhi Leonard</td>\n      <td>264.81</td>\n      <td>17.261263</td>\n    </tr>\n    <tr>\n      <th>3</th>\n      <td>Jalen Brunson</td>\n      <td>Spencer Dinwiddie</td>\n      <td>Harrison Barnes</td>\n      <td>Marquese Chriss</td>\n      <td>Richaun Holmes</td>\n      <td>Collin Sexton</td>\n      <td>Paul George</td>\n      <td>Aaron Holiday</td>\n      <td>270.06</td>\n      <td>20.851468</td>\n    </tr>\n    <tr>\n      <th>4</th>\n      <td>Collin Sexton</td>\n      <td>Gary Harris</td>\n      <td>Kevin Porter</td>\n      <td>Harrison Barnes</td>\n      <td>Richaun Holmes</td>\n      <td>Shabazz Napier</td>\n      <td>Paul George</td>\n      <td>Kyle Lowry</td>\n      <td>263.37</td>\n      <td>17.406462</td>\n    </tr>\n    <tr>\n      <th>...</th>\n      <td>...</td>\n      <td>...</td>\n      <td>...</td>\n      <td>...</td>\n      <td>...</td>\n      <td>...</td>\n      <td>...</td>\n      <td>...</td>\n      <td>...</td>\n      <td>...</td>\n    </tr>\n    <tr>\n      <th>1995</th>\n      <td>Darius Garland</td>\n      <td>Gary Harris</td>\n      <td>Jimmy Butler</td>\n      <td>Harrison Barnes</td>\n      <td>Marquese Chriss</td>\n      <td>Spencer Dinwiddie</td>\n      <td>Robert Covington</td>\n      <td>Donovan Mitchell</td>\n      <td>279.25</td>\n      <td>20.311315</td>\n    </tr>\n    <tr>\n      <th>1996</th>\n      <td>Spencer Dinwiddie</td>\n      <td>Gary Harris</td>\n      <td>Kevin Porter</td>\n      <td>Marquese Chriss</td>\n      <td>Bam Adebayo</td>\n      <td>Tim Frazier</td>\n      <td>Jimmy Butler</td>\n      <td>De'Aaron Fox</td>\n      <td>277.49</td>\n      <td>19.496710</td>\n    </tr>\n    <tr>\n      <th>1997</th>\n      <td>Darius Garland</td>\n      <td>Gary Harris</td>\n      <td>Kevin Porter</td>\n      <td>Domantas Sabonis</td>\n      <td>Bismack Biyombo</td>\n      <td>De'Aaron Fox</td>\n      <td>Jimmy Butler</td>\n      <td>Donovan Mitchell</td>\n      <td>273.53</td>\n      <td>17.789721</td>\n    </tr>\n    <tr>\n      <th>1998</th>\n      <td>De'Aaron Fox</td>\n      <td>Kevin Porter</td>\n      <td>Dillon Brooks</td>\n      <td>Bojan Bogdanovic</td>\n      <td>Bam Adebayo</td>\n      <td>Buddy Hield</td>\n      <td>Robert Covington</td>\n      <td>Shai Gilgeous-Alexander</td>\n      <td>267.74</td>\n      <td>18.799925</td>\n    </tr>\n    <tr>\n      <th>1999</th>\n      <td>Darius Garland</td>\n      <td>Jalen Brunson</td>\n      <td>Buddy Hield</td>\n      <td>LaMarcus Aldridge</td>\n      <td>Richaun Holmes</td>\n      <td>Aaron Holiday</td>\n      <td>DeMar DeRozan</td>\n      <td>Zach LaVine</td>\n      <td>270.45</td>\n      <td>22.124796</td>\n    </tr>\n  </tbody>\n</table>\n<p>2000 rows × 10 columns</p>\n</div>"
     },
     "metadata": {},
     "execution_count": 19
    }
   ],
   "source": [
    "gen.get_lineup_score_dists()"
   ]
  },
  {
   "source": [
    "## Now find the optimal set of lineups:"
   ],
   "cell_type": "markdown",
   "metadata": {}
  },
  {
   "cell_type": "code",
   "execution_count": 20,
   "metadata": {
    "tags": []
   },
   "outputs": [],
   "source": [
    "df_optimal = gen.enforce_exposures()"
   ]
  },
  {
   "source": [
    "# Now build the sheet:"
   ],
   "cell_type": "markdown",
   "metadata": {}
  },
  {
   "cell_type": "code",
   "execution_count": 26,
   "metadata": {},
   "outputs": [],
   "source": [
    "sheet_name = 'test_DKEntries2.csv'\n",
    "entries = EntriesHandler('../data/raw/' + sheet_name, gen.df, read_lineups=True)"
   ]
  },
  {
   "cell_type": "code",
   "execution_count": 27,
   "metadata": {
    "tags": []
   },
   "outputs": [],
   "source": [
    "entries.add_lineups_to_entries(df_optimal)"
   ]
  },
  {
   "cell_type": "code",
   "execution_count": 28,
   "metadata": {},
   "outputs": [],
   "source": [
    "entries.write_entries_to_csv()"
   ]
  },
  {
   "source": [
    "## Visualize the final sheet"
   ],
   "cell_type": "markdown",
   "metadata": {}
  },
  {
   "cell_type": "code",
   "execution_count": 29,
   "metadata": {},
   "outputs": [
    {
     "output_type": "execute_result",
     "data": {
      "text/plain": "       Entry ID                       Contest Name  Contest ID Entry Fee  \\\n0    1809803072  NBA $12K mini-MAX [150 Entry Max]    83787211     $0.50   \n1    1809803073  NBA $12K mini-MAX [150 Entry Max]    83787211     $0.50   \n2    1809803074  NBA $12K mini-MAX [150 Entry Max]    83787211     $0.50   \n3    1809803075  NBA $12K mini-MAX [150 Entry Max]    83787211     $0.50   \n4    1809803076  NBA $12K mini-MAX [150 Entry Max]    83787211     $0.50   \n..          ...                                ...         ...       ...   \n145  1809803217  NBA $12K mini-MAX [150 Entry Max]    83787211     $0.50   \n146  1809803218  NBA $12K mini-MAX [150 Entry Max]    83787211     $0.50   \n147  1809803219  NBA $12K mini-MAX [150 Entry Max]    83787211     $0.50   \n148  1809803220  NBA $12K mini-MAX [150 Entry Max]    83787211     $0.50   \n149  1809811864  NBA $12K mini-MAX [150 Entry Max]    83787211     $0.50   \n\n           PG        SG        SF        PF         C         G         F  \\\n0    14066582  14066354  14066428  14065971  14066260  14066210  14065986   \n1    14066582  14065998  14066428  14066304  14066260  14066210  14065971   \n2    14066582  14065998  14066304  14066260  14066065  14066177  14065986   \n3    14066058  14066354  14066428  14066137  14066019  14066033  14066340   \n4    14066582  14065998  14066340  14066260  14065994  14066492  14065989   \n..        ...       ...       ...       ...       ...       ...       ...   \n145  14066582  14066015  14066428  14066260  14066415  14066033  14065989   \n146  14066387  14065998  14066088  14066137  14066415  14066177  14065989   \n147  14066387  14065998  14066428  14066137  14066415  14066033  14066088   \n148  14066387  14065998  14065989  14066260  14066415  14066177  14066228   \n149  14066387  14066033  14066088  14066137  14066415  14066058  14066228   \n\n         UTIL  \n0    14066006  \n1    14066006  \n2    14066186  \n3    14066061  \n4    14066053  \n..        ...  \n145  14066006  \n146  14066228  \n147  14066019  \n148  14066058  \n149  14066042  \n\n[150 rows x 12 columns]",
      "text/html": "<div>\n<style scoped>\n    .dataframe tbody tr th:only-of-type {\n        vertical-align: middle;\n    }\n\n    .dataframe tbody tr th {\n        vertical-align: top;\n    }\n\n    .dataframe thead th {\n        text-align: right;\n    }\n</style>\n<table border=\"1\" class=\"dataframe\">\n  <thead>\n    <tr style=\"text-align: right;\">\n      <th></th>\n      <th>Entry ID</th>\n      <th>Contest Name</th>\n      <th>Contest ID</th>\n      <th>Entry Fee</th>\n      <th>PG</th>\n      <th>SG</th>\n      <th>SF</th>\n      <th>PF</th>\n      <th>C</th>\n      <th>G</th>\n      <th>F</th>\n      <th>UTIL</th>\n    </tr>\n  </thead>\n  <tbody>\n    <tr>\n      <th>0</th>\n      <td>1809803072</td>\n      <td>NBA $12K mini-MAX [150 Entry Max]</td>\n      <td>83787211</td>\n      <td>$0.50</td>\n      <td>14066582</td>\n      <td>14066354</td>\n      <td>14066428</td>\n      <td>14065971</td>\n      <td>14066260</td>\n      <td>14066210</td>\n      <td>14065986</td>\n      <td>14066006</td>\n    </tr>\n    <tr>\n      <th>1</th>\n      <td>1809803073</td>\n      <td>NBA $12K mini-MAX [150 Entry Max]</td>\n      <td>83787211</td>\n      <td>$0.50</td>\n      <td>14066582</td>\n      <td>14065998</td>\n      <td>14066428</td>\n      <td>14066304</td>\n      <td>14066260</td>\n      <td>14066210</td>\n      <td>14065971</td>\n      <td>14066006</td>\n    </tr>\n    <tr>\n      <th>2</th>\n      <td>1809803074</td>\n      <td>NBA $12K mini-MAX [150 Entry Max]</td>\n      <td>83787211</td>\n      <td>$0.50</td>\n      <td>14066582</td>\n      <td>14065998</td>\n      <td>14066304</td>\n      <td>14066260</td>\n      <td>14066065</td>\n      <td>14066177</td>\n      <td>14065986</td>\n      <td>14066186</td>\n    </tr>\n    <tr>\n      <th>3</th>\n      <td>1809803075</td>\n      <td>NBA $12K mini-MAX [150 Entry Max]</td>\n      <td>83787211</td>\n      <td>$0.50</td>\n      <td>14066058</td>\n      <td>14066354</td>\n      <td>14066428</td>\n      <td>14066137</td>\n      <td>14066019</td>\n      <td>14066033</td>\n      <td>14066340</td>\n      <td>14066061</td>\n    </tr>\n    <tr>\n      <th>4</th>\n      <td>1809803076</td>\n      <td>NBA $12K mini-MAX [150 Entry Max]</td>\n      <td>83787211</td>\n      <td>$0.50</td>\n      <td>14066582</td>\n      <td>14065998</td>\n      <td>14066340</td>\n      <td>14066260</td>\n      <td>14065994</td>\n      <td>14066492</td>\n      <td>14065989</td>\n      <td>14066053</td>\n    </tr>\n    <tr>\n      <th>...</th>\n      <td>...</td>\n      <td>...</td>\n      <td>...</td>\n      <td>...</td>\n      <td>...</td>\n      <td>...</td>\n      <td>...</td>\n      <td>...</td>\n      <td>...</td>\n      <td>...</td>\n      <td>...</td>\n      <td>...</td>\n    </tr>\n    <tr>\n      <th>145</th>\n      <td>1809803217</td>\n      <td>NBA $12K mini-MAX [150 Entry Max]</td>\n      <td>83787211</td>\n      <td>$0.50</td>\n      <td>14066582</td>\n      <td>14066015</td>\n      <td>14066428</td>\n      <td>14066260</td>\n      <td>14066415</td>\n      <td>14066033</td>\n      <td>14065989</td>\n      <td>14066006</td>\n    </tr>\n    <tr>\n      <th>146</th>\n      <td>1809803218</td>\n      <td>NBA $12K mini-MAX [150 Entry Max]</td>\n      <td>83787211</td>\n      <td>$0.50</td>\n      <td>14066387</td>\n      <td>14065998</td>\n      <td>14066088</td>\n      <td>14066137</td>\n      <td>14066415</td>\n      <td>14066177</td>\n      <td>14065989</td>\n      <td>14066228</td>\n    </tr>\n    <tr>\n      <th>147</th>\n      <td>1809803219</td>\n      <td>NBA $12K mini-MAX [150 Entry Max]</td>\n      <td>83787211</td>\n      <td>$0.50</td>\n      <td>14066387</td>\n      <td>14065998</td>\n      <td>14066428</td>\n      <td>14066137</td>\n      <td>14066415</td>\n      <td>14066033</td>\n      <td>14066088</td>\n      <td>14066019</td>\n    </tr>\n    <tr>\n      <th>148</th>\n      <td>1809803220</td>\n      <td>NBA $12K mini-MAX [150 Entry Max]</td>\n      <td>83787211</td>\n      <td>$0.50</td>\n      <td>14066387</td>\n      <td>14065998</td>\n      <td>14065989</td>\n      <td>14066260</td>\n      <td>14066415</td>\n      <td>14066177</td>\n      <td>14066228</td>\n      <td>14066058</td>\n    </tr>\n    <tr>\n      <th>149</th>\n      <td>1809811864</td>\n      <td>NBA $12K mini-MAX [150 Entry Max]</td>\n      <td>83787211</td>\n      <td>$0.50</td>\n      <td>14066387</td>\n      <td>14066033</td>\n      <td>14066088</td>\n      <td>14066137</td>\n      <td>14066415</td>\n      <td>14066058</td>\n      <td>14066228</td>\n      <td>14066042</td>\n    </tr>\n  </tbody>\n</table>\n<p>150 rows × 12 columns</p>\n</div>"
     },
     "metadata": {},
     "execution_count": 29
    }
   ],
   "source": [
    "pd.read_csv('../data/raw/test_DKEntries2_v2.csv')"
   ]
  },
  {
   "cell_type": "code",
   "execution_count": null,
   "metadata": {},
   "outputs": [],
   "source": []
  }
 ]
}