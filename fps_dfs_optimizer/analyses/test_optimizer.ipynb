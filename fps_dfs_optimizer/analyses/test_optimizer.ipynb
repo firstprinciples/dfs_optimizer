{
 "metadata": {
  "language_info": {
   "codemirror_mode": {
    "name": "ipython",
    "version": 3
   },
   "file_extension": ".py",
   "mimetype": "text/x-python",
   "name": "python",
   "nbconvert_exporter": "python",
   "pygments_lexer": "ipython3",
   "version": "3.7.8-final"
  },
  "orig_nbformat": 2,
  "kernelspec": {
   "name": "python_defaultSpec_1600237738923",
   "display_name": "Python 3.7.8 64-bit ('optimizer': conda)"
  }
 },
 "nbformat": 4,
 "nbformat_minor": 2,
 "cells": [
  {
   "source": [
    "# Example Notebook For Using Optimizer Tools"
   ],
   "cell_type": "markdown",
   "metadata": {}
  },
  {
   "cell_type": "code",
   "execution_count": 1,
   "metadata": {},
   "outputs": [],
   "source": [
    "import pandas as pd\n",
    "import datetime as dt\n",
    "\n",
    "from fps_dfs_optimizer.src.draftkings_tools import get_contests, get_players, EntriesHandler, get_today, get_players_from_salaries\n",
    "from fps_dfs_optimizer.src.projections import get_projections\n",
    "from fps_dfs_optimizer.src.optimizer import Exposures, LineupOptimizer\n",
    "from fps_dfs_optimizer.src.generator import LineupGenerator"
   ]
  },
  {
   "source": [
    "## Generate today's players sheet\n",
    "This block will retrieve the players DataFrame for the current date.\n",
    "Any projections script can be implemented in get_projections(), but right now dummy projections are given"
   ],
   "cell_type": "markdown",
   "metadata": {}
  },
  {
   "cell_type": "code",
   "execution_count": 2,
   "metadata": {},
   "outputs": [],
   "source": [
    "today = get_today()\n",
    "today = dt.date(2020, 9, 26)\n",
    "df_contests = get_contests(today)"
   ]
  },
  {
   "cell_type": "code",
   "execution_count": 3,
   "metadata": {},
   "outputs": [
    {
     "output_type": "execute_result",
     "data": {
      "text/plain": "         id  double_up  draft_group_id  \\\n0  92870651      False           40083   \n1  92869641      False           40083   \n2  92869644      False           40083   \n3  92869647      False           40083   \n4  92869662      False           40090   \n\n                                          entries  fantasy_player_points  \\\n0  {'maximum': 47058, 'fee': 20.0, 'total': 4505}                     20   \n1   {'maximum': 23781, 'fee': 4.0, 'total': 3534}                      4   \n2  {'maximum': 71343, 'fee': 1.0, 'total': 11577}                      1   \n3     {'maximum': 222, 'fee': 100.0, 'total': 23}                    100   \n4    {'maximum': 3529, 'fee': 10.0, 'total': 645}                     10   \n\n   fifty_fifty  guaranteed  head_to_head  \\\n0        False        True         False   \n1        False        True         False   \n2        False        True         False   \n3        False        True         False   \n4        False        True         False   \n\n                                                name    payout      sport  \\\n0  NBA Showdown $800K Shootaround [$200K to 1st] ...  800000.0  Sport.NBA   \n1  NBA Showdown $80K Four Point Play [20 Entry Ma...   80000.0  Sport.NBA   \n2             NBA Showdown $60K And-One (MIA vs BOS)   60000.0  Sport.NBA   \n3  NBA Showdown $20K Showtime [Single Entry] (MIA...   20000.0  Sport.NBA   \n4    NBA $30K Pull Up Jumper [$10K to 1st] (Fri-Sat)   30000.0  Sport.NBA   \n\n   starred                 starts_at  maximum    fee  total  \n0     True 2020-09-26 00:30:00+00:00    47058   20.0   4505  \n1     True 2020-09-26 00:30:00+00:00    23781    4.0   3534  \n2     True 2020-09-26 00:30:00+00:00    71343    1.0  11577  \n3     True 2020-09-26 00:30:00+00:00      222  100.0     23  \n4     True 2020-09-26 00:30:00+00:00     3529   10.0    645  ",
      "text/html": "<div>\n<style scoped>\n    .dataframe tbody tr th:only-of-type {\n        vertical-align: middle;\n    }\n\n    .dataframe tbody tr th {\n        vertical-align: top;\n    }\n\n    .dataframe thead th {\n        text-align: right;\n    }\n</style>\n<table border=\"1\" class=\"dataframe\">\n  <thead>\n    <tr style=\"text-align: right;\">\n      <th></th>\n      <th>id</th>\n      <th>double_up</th>\n      <th>draft_group_id</th>\n      <th>entries</th>\n      <th>fantasy_player_points</th>\n      <th>fifty_fifty</th>\n      <th>guaranteed</th>\n      <th>head_to_head</th>\n      <th>name</th>\n      <th>payout</th>\n      <th>sport</th>\n      <th>starred</th>\n      <th>starts_at</th>\n      <th>maximum</th>\n      <th>fee</th>\n      <th>total</th>\n    </tr>\n  </thead>\n  <tbody>\n    <tr>\n      <th>0</th>\n      <td>92870651</td>\n      <td>False</td>\n      <td>40083</td>\n      <td>{'maximum': 47058, 'fee': 20.0, 'total': 4505}</td>\n      <td>20</td>\n      <td>False</td>\n      <td>True</td>\n      <td>False</td>\n      <td>NBA Showdown $800K Shootaround [$200K to 1st] ...</td>\n      <td>800000.0</td>\n      <td>Sport.NBA</td>\n      <td>True</td>\n      <td>2020-09-26 00:30:00+00:00</td>\n      <td>47058</td>\n      <td>20.0</td>\n      <td>4505</td>\n    </tr>\n    <tr>\n      <th>1</th>\n      <td>92869641</td>\n      <td>False</td>\n      <td>40083</td>\n      <td>{'maximum': 23781, 'fee': 4.0, 'total': 3534}</td>\n      <td>4</td>\n      <td>False</td>\n      <td>True</td>\n      <td>False</td>\n      <td>NBA Showdown $80K Four Point Play [20 Entry Ma...</td>\n      <td>80000.0</td>\n      <td>Sport.NBA</td>\n      <td>True</td>\n      <td>2020-09-26 00:30:00+00:00</td>\n      <td>23781</td>\n      <td>4.0</td>\n      <td>3534</td>\n    </tr>\n    <tr>\n      <th>2</th>\n      <td>92869644</td>\n      <td>False</td>\n      <td>40083</td>\n      <td>{'maximum': 71343, 'fee': 1.0, 'total': 11577}</td>\n      <td>1</td>\n      <td>False</td>\n      <td>True</td>\n      <td>False</td>\n      <td>NBA Showdown $60K And-One (MIA vs BOS)</td>\n      <td>60000.0</td>\n      <td>Sport.NBA</td>\n      <td>True</td>\n      <td>2020-09-26 00:30:00+00:00</td>\n      <td>71343</td>\n      <td>1.0</td>\n      <td>11577</td>\n    </tr>\n    <tr>\n      <th>3</th>\n      <td>92869647</td>\n      <td>False</td>\n      <td>40083</td>\n      <td>{'maximum': 222, 'fee': 100.0, 'total': 23}</td>\n      <td>100</td>\n      <td>False</td>\n      <td>True</td>\n      <td>False</td>\n      <td>NBA Showdown $20K Showtime [Single Entry] (MIA...</td>\n      <td>20000.0</td>\n      <td>Sport.NBA</td>\n      <td>True</td>\n      <td>2020-09-26 00:30:00+00:00</td>\n      <td>222</td>\n      <td>100.0</td>\n      <td>23</td>\n    </tr>\n    <tr>\n      <th>4</th>\n      <td>92869662</td>\n      <td>False</td>\n      <td>40090</td>\n      <td>{'maximum': 3529, 'fee': 10.0, 'total': 645}</td>\n      <td>10</td>\n      <td>False</td>\n      <td>True</td>\n      <td>False</td>\n      <td>NBA $30K Pull Up Jumper [$10K to 1st] (Fri-Sat)</td>\n      <td>30000.0</td>\n      <td>Sport.NBA</td>\n      <td>True</td>\n      <td>2020-09-26 00:30:00+00:00</td>\n      <td>3529</td>\n      <td>10.0</td>\n      <td>645</td>\n    </tr>\n  </tbody>\n</table>\n</div>"
     },
     "metadata": {},
     "execution_count": 3
    }
   ],
   "source": [
    "df_contests.head()"
   ]
  },
  {
   "cell_type": "code",
   "execution_count": 4,
   "metadata": {
    "tags": []
   },
   "outputs": [],
   "source": [
    "group_id = df_contests.draft_group_id.unique()[0]\n",
    "df_players = get_players(group_id)"
   ]
  },
  {
   "source": [
    "## Optionally, can read players sheet directly from DKSalaries, if it is downloaded"
   ],
   "cell_type": "markdown",
   "metadata": {}
  },
  {
   "cell_type": "code",
   "execution_count": 5,
   "metadata": {},
   "outputs": [],
   "source": [
    "# df_players = get_players_from_salaries('../data/raw/DKSalaries_test.csv')"
   ]
  },
  {
   "cell_type": "code",
   "execution_count": 6,
   "metadata": {
    "tags": []
   },
   "outputs": [],
   "source": [
    "points, std = get_projections(df_players)\n",
    "df_players['projections'] = points\n",
    "df_players['std'] = std"
   ]
  },
  {
   "cell_type": "code",
   "execution_count": 7,
   "metadata": {},
   "outputs": [
    {
     "output_type": "execute_result",
     "data": {
      "text/plain": "           Name        ID Position  Status  Salary       Game  \\\n0  Jayson Tatum  15491687    SF/PF  Recent   15900  MIA @ BOS   \n1   Bam Adebayo  15491688        C  Recent   14700  MIA @ BOS   \n2  Jimmy Butler  15491689    SG/SF  Recent   14100  MIA @ BOS   \n3  Jaylen Brown  15491690    SG/SF  Recent   13800  MIA @ BOS   \n4  Kemba Walker  15491691       PG  Recent   13200  MIA @ BOS   \n\n                           Time TeamAbbrev  projections        std  \n0  2020-09-26T00:30:00.0000000Z        BOS    81.566716  13.454629  \n1  2020-09-26T00:30:00.0000000Z        MIA    78.214688  16.980101  \n2  2020-09-26T00:30:00.0000000Z        MIA    59.573815  37.987394  \n3  2020-09-26T00:30:00.0000000Z        BOS    88.718590  25.383903  \n4  2020-09-26T00:30:00.0000000Z        BOS    51.920136  28.223592  ",
      "text/html": "<div>\n<style scoped>\n    .dataframe tbody tr th:only-of-type {\n        vertical-align: middle;\n    }\n\n    .dataframe tbody tr th {\n        vertical-align: top;\n    }\n\n    .dataframe thead th {\n        text-align: right;\n    }\n</style>\n<table border=\"1\" class=\"dataframe\">\n  <thead>\n    <tr style=\"text-align: right;\">\n      <th></th>\n      <th>Name</th>\n      <th>ID</th>\n      <th>Position</th>\n      <th>Status</th>\n      <th>Salary</th>\n      <th>Game</th>\n      <th>Time</th>\n      <th>TeamAbbrev</th>\n      <th>projections</th>\n      <th>std</th>\n    </tr>\n  </thead>\n  <tbody>\n    <tr>\n      <th>0</th>\n      <td>Jayson Tatum</td>\n      <td>15491687</td>\n      <td>SF/PF</td>\n      <td>Recent</td>\n      <td>15900</td>\n      <td>MIA @ BOS</td>\n      <td>2020-09-26T00:30:00.0000000Z</td>\n      <td>BOS</td>\n      <td>81.566716</td>\n      <td>13.454629</td>\n    </tr>\n    <tr>\n      <th>1</th>\n      <td>Bam Adebayo</td>\n      <td>15491688</td>\n      <td>C</td>\n      <td>Recent</td>\n      <td>14700</td>\n      <td>MIA @ BOS</td>\n      <td>2020-09-26T00:30:00.0000000Z</td>\n      <td>MIA</td>\n      <td>78.214688</td>\n      <td>16.980101</td>\n    </tr>\n    <tr>\n      <th>2</th>\n      <td>Jimmy Butler</td>\n      <td>15491689</td>\n      <td>SG/SF</td>\n      <td>Recent</td>\n      <td>14100</td>\n      <td>MIA @ BOS</td>\n      <td>2020-09-26T00:30:00.0000000Z</td>\n      <td>MIA</td>\n      <td>59.573815</td>\n      <td>37.987394</td>\n    </tr>\n    <tr>\n      <th>3</th>\n      <td>Jaylen Brown</td>\n      <td>15491690</td>\n      <td>SG/SF</td>\n      <td>Recent</td>\n      <td>13800</td>\n      <td>MIA @ BOS</td>\n      <td>2020-09-26T00:30:00.0000000Z</td>\n      <td>BOS</td>\n      <td>88.718590</td>\n      <td>25.383903</td>\n    </tr>\n    <tr>\n      <th>4</th>\n      <td>Kemba Walker</td>\n      <td>15491691</td>\n      <td>PG</td>\n      <td>Recent</td>\n      <td>13200</td>\n      <td>MIA @ BOS</td>\n      <td>2020-09-26T00:30:00.0000000Z</td>\n      <td>BOS</td>\n      <td>51.920136</td>\n      <td>28.223592</td>\n    </tr>\n  </tbody>\n</table>\n</div>"
     },
     "metadata": {},
     "execution_count": 7
    }
   ],
   "source": [
    "df_players.head()"
   ]
  },
  {
   "source": [
    "## Now exposures must be inputted\n",
    "Here the dataframe above is saved to the data/temp folder for exposures to be filled out.\n",
    "Once the exposures are filled out, run exp.read_exposures() to pull the sheet into the dataframe."
   ],
   "cell_type": "markdown",
   "metadata": {}
  },
  {
   "cell_type": "code",
   "execution_count": 8,
   "metadata": {
    "tags": []
   },
   "outputs": [
    {
     "output_type": "stream",
     "name": "stdout",
     "text": "Please fill out exposures in ../data/temp/20200924.csv\n"
    }
   ],
   "source": [
    "exp = Exposures(df_players)"
   ]
  },
  {
   "cell_type": "code",
   "execution_count": 9,
   "metadata": {},
   "outputs": [],
   "source": [
    "df_players = exp.read_exposures()"
   ]
  },
  {
   "cell_type": "code",
   "execution_count": 10,
   "metadata": {},
   "outputs": [
    {
     "output_type": "execute_result",
     "data": {
      "text/plain": "               Name        ID Position  Salary  Status TeamAbbrev  \\\n0      Jayson Tatum  15491687    SF/PF   15900  Recent        BOS   \n1       Bam Adebayo  15491688        C   14700  Recent        MIA   \n2      Jimmy Butler  15491689    SG/SF   14100  Recent        MIA   \n3      Jaylen Brown  15491690    SG/SF   13800  Recent        BOS   \n4      Kemba Walker  15491691       PG   13200  Recent        BOS   \n..              ...       ...      ...     ...     ...        ...   \n63   Meyers Leonard  15491682     PF/C    1000    None        MIA   \n64     Gabe Vincent  15491683       PG    1000  Recent        MIA   \n65   Kyle Alexander  15491684        C    1000    None        MIA   \n66        KZ Okpala  15491685       SF    1000    None        MIA   \n67  Vincent Poirier  15491686        C    1000    None        BOS   \n\n                        Time  projections        std  min_exp  max_exp  \n0  2020-09-26 00:30:00+00:00    81.566716  13.454629        0      0.4  \n1  2020-09-26 00:30:00+00:00    78.214688  16.980101        0      0.4  \n2  2020-09-26 00:30:00+00:00    59.573815  37.987394        0      0.4  \n3  2020-09-26 00:30:00+00:00    88.718590  25.383903        0      0.4  \n4  2020-09-26 00:30:00+00:00    51.920136  28.223592        0      0.4  \n..                       ...          ...        ...      ...      ...  \n63 2020-09-26 00:30:00+00:00     5.721910   2.431302        0      0.4  \n64 2020-09-26 00:30:00+00:00     4.166982   2.913560        0      0.4  \n65 2020-09-26 00:30:00+00:00     5.247846   1.813188        0      0.4  \n66 2020-09-26 00:30:00+00:00     5.451583   1.760401        0      0.4  \n67 2020-09-26 00:30:00+00:00     4.783257   1.499317        0      0.4  \n\n[68 rows x 11 columns]",
      "text/html": "<div>\n<style scoped>\n    .dataframe tbody tr th:only-of-type {\n        vertical-align: middle;\n    }\n\n    .dataframe tbody tr th {\n        vertical-align: top;\n    }\n\n    .dataframe thead th {\n        text-align: right;\n    }\n</style>\n<table border=\"1\" class=\"dataframe\">\n  <thead>\n    <tr style=\"text-align: right;\">\n      <th></th>\n      <th>Name</th>\n      <th>ID</th>\n      <th>Position</th>\n      <th>Salary</th>\n      <th>Status</th>\n      <th>TeamAbbrev</th>\n      <th>Time</th>\n      <th>projections</th>\n      <th>std</th>\n      <th>min_exp</th>\n      <th>max_exp</th>\n    </tr>\n  </thead>\n  <tbody>\n    <tr>\n      <th>0</th>\n      <td>Jayson Tatum</td>\n      <td>15491687</td>\n      <td>SF/PF</td>\n      <td>15900</td>\n      <td>Recent</td>\n      <td>BOS</td>\n      <td>2020-09-26 00:30:00+00:00</td>\n      <td>81.566716</td>\n      <td>13.454629</td>\n      <td>0</td>\n      <td>0.4</td>\n    </tr>\n    <tr>\n      <th>1</th>\n      <td>Bam Adebayo</td>\n      <td>15491688</td>\n      <td>C</td>\n      <td>14700</td>\n      <td>Recent</td>\n      <td>MIA</td>\n      <td>2020-09-26 00:30:00+00:00</td>\n      <td>78.214688</td>\n      <td>16.980101</td>\n      <td>0</td>\n      <td>0.4</td>\n    </tr>\n    <tr>\n      <th>2</th>\n      <td>Jimmy Butler</td>\n      <td>15491689</td>\n      <td>SG/SF</td>\n      <td>14100</td>\n      <td>Recent</td>\n      <td>MIA</td>\n      <td>2020-09-26 00:30:00+00:00</td>\n      <td>59.573815</td>\n      <td>37.987394</td>\n      <td>0</td>\n      <td>0.4</td>\n    </tr>\n    <tr>\n      <th>3</th>\n      <td>Jaylen Brown</td>\n      <td>15491690</td>\n      <td>SG/SF</td>\n      <td>13800</td>\n      <td>Recent</td>\n      <td>BOS</td>\n      <td>2020-09-26 00:30:00+00:00</td>\n      <td>88.718590</td>\n      <td>25.383903</td>\n      <td>0</td>\n      <td>0.4</td>\n    </tr>\n    <tr>\n      <th>4</th>\n      <td>Kemba Walker</td>\n      <td>15491691</td>\n      <td>PG</td>\n      <td>13200</td>\n      <td>Recent</td>\n      <td>BOS</td>\n      <td>2020-09-26 00:30:00+00:00</td>\n      <td>51.920136</td>\n      <td>28.223592</td>\n      <td>0</td>\n      <td>0.4</td>\n    </tr>\n    <tr>\n      <th>...</th>\n      <td>...</td>\n      <td>...</td>\n      <td>...</td>\n      <td>...</td>\n      <td>...</td>\n      <td>...</td>\n      <td>...</td>\n      <td>...</td>\n      <td>...</td>\n      <td>...</td>\n      <td>...</td>\n    </tr>\n    <tr>\n      <th>63</th>\n      <td>Meyers Leonard</td>\n      <td>15491682</td>\n      <td>PF/C</td>\n      <td>1000</td>\n      <td>None</td>\n      <td>MIA</td>\n      <td>2020-09-26 00:30:00+00:00</td>\n      <td>5.721910</td>\n      <td>2.431302</td>\n      <td>0</td>\n      <td>0.4</td>\n    </tr>\n    <tr>\n      <th>64</th>\n      <td>Gabe Vincent</td>\n      <td>15491683</td>\n      <td>PG</td>\n      <td>1000</td>\n      <td>Recent</td>\n      <td>MIA</td>\n      <td>2020-09-26 00:30:00+00:00</td>\n      <td>4.166982</td>\n      <td>2.913560</td>\n      <td>0</td>\n      <td>0.4</td>\n    </tr>\n    <tr>\n      <th>65</th>\n      <td>Kyle Alexander</td>\n      <td>15491684</td>\n      <td>C</td>\n      <td>1000</td>\n      <td>None</td>\n      <td>MIA</td>\n      <td>2020-09-26 00:30:00+00:00</td>\n      <td>5.247846</td>\n      <td>1.813188</td>\n      <td>0</td>\n      <td>0.4</td>\n    </tr>\n    <tr>\n      <th>66</th>\n      <td>KZ Okpala</td>\n      <td>15491685</td>\n      <td>SF</td>\n      <td>1000</td>\n      <td>None</td>\n      <td>MIA</td>\n      <td>2020-09-26 00:30:00+00:00</td>\n      <td>5.451583</td>\n      <td>1.760401</td>\n      <td>0</td>\n      <td>0.4</td>\n    </tr>\n    <tr>\n      <th>67</th>\n      <td>Vincent Poirier</td>\n      <td>15491686</td>\n      <td>C</td>\n      <td>1000</td>\n      <td>None</td>\n      <td>BOS</td>\n      <td>2020-09-26 00:30:00+00:00</td>\n      <td>4.783257</td>\n      <td>1.499317</td>\n      <td>0</td>\n      <td>0.4</td>\n    </tr>\n  </tbody>\n</table>\n<p>68 rows × 11 columns</p>\n</div>"
     },
     "metadata": {},
     "execution_count": 10
    }
   ],
   "source": [
    "cols = df_players.columns\n",
    "df_players"
   ]
  },
  {
   "source": [
    "# Now let's work with a historical dataframe \n",
    "Data is from 2020/01/02"
   ],
   "cell_type": "markdown",
   "metadata": {}
  },
  {
   "cell_type": "code",
   "execution_count": 11,
   "metadata": {},
   "outputs": [
    {
     "output_type": "execute_result",
     "data": {
      "text/plain": "             Name        ID Position  Salary  Status TeamAbbrev  \\\n0     Gary Harris  14066354       SG    4600  recent        MIL   \n1  Darius Garland  14066387       PG    4400  recent        HOU   \n2   Collin Sexton  14066177    PG/SG    5900  recent        HOU   \n3    Kevin Porter  14066428    SG/SF    4200  recent        MIL   \n4   Aaron Holiday  14066210    PG/SG    5700  recent        HOU   \n\n                       Time  projections       std  min_exp  max_exp  \n0 2020-09-10 23:00:00+00:00        29.62  4.462711        0      0.4  \n1 2020-09-10 23:00:00+00:00        26.53  4.750068        0      0.4  \n2 2020-09-10 23:00:00+00:00        34.33  7.762624        0      0.4  \n3 2020-09-10 23:00:00+00:00        23.80  5.999999        0      0.4  \n4 2020-09-10 23:00:00+00:00        31.38  5.332358        0      0.4  ",
      "text/html": "<div>\n<style scoped>\n    .dataframe tbody tr th:only-of-type {\n        vertical-align: middle;\n    }\n\n    .dataframe tbody tr th {\n        vertical-align: top;\n    }\n\n    .dataframe thead th {\n        text-align: right;\n    }\n</style>\n<table border=\"1\" class=\"dataframe\">\n  <thead>\n    <tr style=\"text-align: right;\">\n      <th></th>\n      <th>Name</th>\n      <th>ID</th>\n      <th>Position</th>\n      <th>Salary</th>\n      <th>Status</th>\n      <th>TeamAbbrev</th>\n      <th>Time</th>\n      <th>projections</th>\n      <th>std</th>\n      <th>min_exp</th>\n      <th>max_exp</th>\n    </tr>\n  </thead>\n  <tbody>\n    <tr>\n      <th>0</th>\n      <td>Gary Harris</td>\n      <td>14066354</td>\n      <td>SG</td>\n      <td>4600</td>\n      <td>recent</td>\n      <td>MIL</td>\n      <td>2020-09-10 23:00:00+00:00</td>\n      <td>29.62</td>\n      <td>4.462711</td>\n      <td>0</td>\n      <td>0.4</td>\n    </tr>\n    <tr>\n      <th>1</th>\n      <td>Darius Garland</td>\n      <td>14066387</td>\n      <td>PG</td>\n      <td>4400</td>\n      <td>recent</td>\n      <td>HOU</td>\n      <td>2020-09-10 23:00:00+00:00</td>\n      <td>26.53</td>\n      <td>4.750068</td>\n      <td>0</td>\n      <td>0.4</td>\n    </tr>\n    <tr>\n      <th>2</th>\n      <td>Collin Sexton</td>\n      <td>14066177</td>\n      <td>PG/SG</td>\n      <td>5900</td>\n      <td>recent</td>\n      <td>HOU</td>\n      <td>2020-09-10 23:00:00+00:00</td>\n      <td>34.33</td>\n      <td>7.762624</td>\n      <td>0</td>\n      <td>0.4</td>\n    </tr>\n    <tr>\n      <th>3</th>\n      <td>Kevin Porter</td>\n      <td>14066428</td>\n      <td>SG/SF</td>\n      <td>4200</td>\n      <td>recent</td>\n      <td>MIL</td>\n      <td>2020-09-10 23:00:00+00:00</td>\n      <td>23.80</td>\n      <td>5.999999</td>\n      <td>0</td>\n      <td>0.4</td>\n    </tr>\n    <tr>\n      <th>4</th>\n      <td>Aaron Holiday</td>\n      <td>14066210</td>\n      <td>PG/SG</td>\n      <td>5700</td>\n      <td>recent</td>\n      <td>HOU</td>\n      <td>2020-09-10 23:00:00+00:00</td>\n      <td>31.38</td>\n      <td>5.332358</td>\n      <td>0</td>\n      <td>0.4</td>\n    </tr>\n  </tbody>\n</table>\n</div>"
     },
     "metadata": {},
     "execution_count": 11
    }
   ],
   "source": [
    "df_players = pd.read_csv('../data/raw/test_20200102.csv')\n",
    "df_players['Time'] = pd.to_datetime(df_players['Time'])\n",
    "df_players = df_players[cols]\n",
    "df_players.head()"
   ]
  },
  {
   "source": [
    "# Let's do a simple lineup optimization\n",
    "This is like the original optimizer. Provide the number of desired lineups and the dataframe.\n",
    "Note that order=1 is an optional argument, but defaults to unordered (0)\n",
    "time_limit=10.0 by default, but is also an optional argument.\n",
    "\n",
    "This first step creates the optimization model."
   ],
   "cell_type": "markdown",
   "metadata": {}
  },
  {
   "cell_type": "code",
   "execution_count": 12,
   "metadata": {
    "tags": []
   },
   "outputs": [],
   "source": [
    "opt = LineupOptimizer(df_players, n_lineups=10, verbose=True)"
   ]
  },
  {
   "source": [
    "## opt.solve() solves the optimization problem"
   ],
   "cell_type": "markdown",
   "metadata": {}
  },
  {
   "cell_type": "code",
   "execution_count": 13,
   "metadata": {
    "tags": []
   },
   "outputs": [
    {
     "output_type": "stream",
     "name": "stdout",
     "text": "Version identifier: 12.10.0.0 | 2019-11-27 | 843d4de2ae\nCPXPARAM_Read_DataCheck                          1\nCPXPARAM_TimeLimit                               10\nWarning:  Non-integral bounds for integer variables rounded.\nTried aggregator 1 time.\nMIP Presolve eliminated 129 rows and 0 columns.\nMIP Presolve modified 10 coefficients.\nReduced MIP has 209 rows, 990 columns, and 5980 nonzeros.\nReduced MIP has 990 binaries, 0 generals, 0 SOSs, and 0 indicators.\nPresolve time = 0.00 sec. (2.13 ticks)\nFound incumbent of value 2160.590000 after 0.03 sec. (8.53 ticks)\nProbing time = 0.00 sec. (0.29 ticks)\nTried aggregator 1 time.\nDetecting symmetries...\nReduced MIP has 209 rows, 990 columns, and 5980 nonzeros.\nReduced MIP has 990 binaries, 0 generals, 0 SOSs, and 0 indicators.\nPresolve time = 0.02 sec. (3.11 ticks)\nProbing time = 0.00 sec. (0.29 ticks)\nMIP emphasis: balance optimality and feasibility.\nMIP search method: dynamic search.\nParallel mode: deterministic, using up to 8 threads.\nRoot relaxation solution time = 0.02 sec. (11.08 ticks)\n\n        Nodes                                         Cuts/\n   Node  Left     Objective  IInf  Best Integer    Best Bound    ItCnt     Gap\n\n*     0+    0                         2160.5900    27377.6000              --- \n*     0+    0                         2724.0500    27377.6000           905.03%\n      0     0     2757.8667    35     2724.0500     2757.8667      607    1.24%\n      0     0     2757.8667    35     2724.0500      Cuts: 26      650    1.24%\n      0     0     2757.8667    35     2724.0500      Cuts: 10      670    1.24%\n      0     0     2757.8667    35     2724.0500      Cuts: 18      710    1.24%\n*     0+    0                         2746.3800     2757.8667             0.42%\n*     0+    0                         2751.2600     2757.8667             0.24%\n      0     2     2757.8667    28     2751.2600     2757.8667      710    0.24%\nElapsed time = 0.72 sec. (170.24 ticks, tree = 0.02 MB, solutions = 4)\n*     5+    1                         2752.6800     2757.8667             0.19%\n*     5+    1                         2754.1000     2757.8667             0.14%\n*     5+    1                         2754.5000     2757.8667             0.12%\n   1831  1281     2757.6880    35     2754.5000     2757.8667    15815    0.12%\n   4442  3571     2757.3306    27     2754.5000     2757.8667    52633    0.12%\n\nPerforming restart 1\n\nRepeating presolve.\nTried aggregator 1 time.\nMIP Presolve eliminated 47 rows and 470 columns.\nMIP Presolve modified 1040 coefficients.\nReduced MIP has 162 rows, 520 columns, and 3030 nonzeros.\nReduced MIP has 520 binaries, 0 generals, 0 SOSs, and 0 indicators.\nPresolve time = 0.00 sec. (1.87 ticks)\nTried aggregator 1 time.\nReduced MIP has 162 rows, 520 columns, and 3030 nonzeros.\nReduced MIP has 520 binaries, 0 generals, 0 SOSs, and 0 indicators.\nPresolve time = 0.02 sec. (1.69 ticks)\nRepresolve time = 0.03 sec. (8.89 ticks)\n   4938     0     2757.8667    45     2754.5000      Cuts: 13    64067    0.12%\n   4938     0     2757.8667    45     2754.5000       Cuts: 5    64087    0.12%\n   4938     0     2757.8667    45     2754.5000      Cuts: 32    64125    0.12%\n   4938     0     2757.8667    45     2754.5000      Cuts: 13    64169    0.12%\n   4938     0     2757.8667    45     2754.5000      Cuts: 15    64207    0.12%\n   4938     0     2757.8667    45     2754.5000      Cuts: 24    64234    0.12%\n   4938     2     2757.8667    28     2754.5000     2757.8667    64234    0.12%\n   5528   442     2756.9833    34     2754.5000     2757.8667    68136    0.12%\n   8683  2424     2757.5508    25     2754.5000     2757.8667    83321    0.12%\n  18539 10304     2756.4944    28     2754.5000     2757.8667   129669    0.12%\n  31000 18459     2754.8006    25     2754.5000     2757.8667   179085    0.12%\n  42326 30026     2757.3833    27     2754.5000     2757.8667   250745    0.12%\n* 46205+28112                         2754.9700     2757.8667             0.11%\n* 49059+28112                         2755.1200     2757.8667             0.10%\n  50534 36437     2755.4613    26     2755.1200     2757.8667   290322    0.10%\n* 64129+28112                         2755.1300     2757.8667             0.10%\n\nPerforming restart 2\n\nRepeating presolve.\nTried aggregator 1 time.\nMIP Presolve eliminated 4 rows and 40 columns.\nReduced MIP has 158 rows, 480 columns, and 2800 nonzeros.\nReduced MIP has 480 binaries, 0 generals, 0 SOSs, and 0 indicators.\nPresolve time = 0.02 sec. (0.99 ticks)\nTried aggregator 1 time.\nReduced MIP has 158 rows, 480 columns, and 2800 nonzeros.\nReduced MIP has 480 binaries, 0 generals, 0 SOSs, and 0 indicators.\nPresolve time = 0.00 sec. (1.57 ticks)\nRepresolve time = 0.06 sec. (14.19 ticks)\n  71181     0     2757.8667    39     2755.1300      Cuts: 12   413359    0.10%\n  71181     0     2757.8667    39     2755.1300      Cuts: 13   413397    0.10%\n  71181     0     2757.8667    39     2755.1300      Cuts: 36   413448    0.10%\n  71181     0     2757.8667    39     2755.1300      Cuts: 16   413500    0.10%\n  71181     0     2757.8667    39     2755.1300      Cuts: 10   413538    0.10%\n  71181     0     2757.8667    39     2755.1300      Cuts: 21   413569    0.10%\n  71181     0     2757.8667    39     2755.1300       Cuts: 8   413593    0.10%\n* 71181+    0                         2756.3400     2757.8667             0.06%\n\nRepeating presolve.\nTried aggregator 1 time.\nMIP Presolve eliminated 48 rows and 180 columns.\nMIP Presolve modified 300 coefficients.\nReduced MIP has 110 rows, 300 columns, and 1520 nonzeros.\nReduced MIP has 300 binaries, 0 generals, 0 SOSs, and 0 indicators.\nPresolve time = 0.00 sec. (1.03 ticks)\nTried aggregator 1 time.\nReduced MIP has 110 rows, 300 columns, and 1520 nonzeros.\nReduced MIP has 300 binaries, 0 generals, 0 SOSs, and 0 indicators.\nPresolve time = 0.01 sec. (0.91 ticks)\nRepresolve time = 0.05 sec. (15.15 ticks)\n  71181     0     2757.4200    37     2756.3400      Cuts: 22   413977    0.04%\n  71181     0     2757.4200    37     2756.3400      Cuts: 29   414026    0.04%\n  71181     0     2757.4200    37     2756.3400     Covers: 4   414047    0.04%\n  71181     0     2757.4200    37     2756.3400      Cuts: 22   414103    0.04%\n  71181     0     2757.4200    37     2756.3400       Cuts: 2   414107    0.04%\n  71181     0     2757.4200    37     2756.3400      Cuts: 13   414134    0.04%\n  71181     0     2757.4200    37     2756.3400       Cuts: 3   414171    0.04%\n  71181     0     2757.4200    37     2756.3400       Cuts: 4   414195    0.04%\n  71181     0     2757.4200    37     2756.3400       Cuts: 8   414228    0.04%\n  71181     2     2757.4200    18     2756.3400     2757.4200   414228    0.04%\nElapsed time = 9.69 sec. (3544.40 ticks, tree = 0.02 MB, solutions = 17)\nStarting limited solution polishing.\n\nGomory fractional cuts applied:  1\n\nRoot node processing (before b&c):\n  Real time             =    0.69 sec. (170.07 ticks)\nParallel b&c, 8 threads:\n  Real time             =    9.33 sec. (3573.36 ticks)\n  Sync time (average)   =    1.73 sec.\n  Wait time (average)   =    0.04 sec.\n                          ------------\nTotal (root+branch&cut) =   10.02 sec. (3743.43 ticks)\n"
    },
    {
     "output_type": "execute_result",
     "data": {
      "text/plain": "array([[ 0.,  0.,  0.,  0.,  0.,  1.,  1.,  1.,  1.,  0.],\n       [ 0.,  0.,  1.,  0.,  1.,  0.,  0.,  1.,  1.,  0.],\n       [ 0.,  1.,  1.,  1.,  0.,  0.,  0.,  0.,  0.,  1.],\n       [ 1.,  0.,  0.,  1.,  0.,  1.,  0.,  1.,  0.,  0.],\n       [ 0.,  1.,  0.,  0.,  1.,  0.,  0.,  1.,  0.,  1.],\n       [ 1.,  1.,  0.,  0.,  1.,  0.,  0.,  0.,  1.,  0.],\n       [ 0.,  0.,  0.,  0.,  0.,  0.,  0.,  0.,  0.,  0.],\n       [ 0.,  1.,  0.,  0.,  1.,  0.,  1.,  0.,  0.,  1.],\n       [ 0.,  0.,  0.,  0.,  0.,  0.,  0.,  0.,  0.,  0.],\n       [ 1.,  1.,  1.,  1.,  0.,  0.,  0.,  0.,  0.,  0.],\n       [ 0.,  0.,  0.,  0.,  1.,  1.,  0.,  0.,  1.,  1.],\n       [ 1.,  0.,  0.,  1.,  0.,  0.,  1.,  0.,  0.,  1.],\n       [ 0.,  0.,  1.,  1.,  0.,  0.,  0.,  1.,  1.,  0.],\n       [ 0.,  0.,  0.,  0.,  0.,  0.,  0.,  0.,  0.,  0.],\n       [ 0.,  0.,  0.,  0.,  0.,  0.,  0.,  0.,  0.,  0.],\n       [ 1.,  0.,  0.,  0.,  0.,  0.,  1.,  1.,  1.,  0.],\n       [ 0.,  0.,  0.,  0.,  0.,  0.,  0.,  0.,  0.,  0.],\n       [ 1.,  0.,  1.,  0.,  0.,  0.,  1.,  0.,  0.,  0.],\n       [ 0.,  0.,  0.,  0.,  0.,  0.,  0.,  0.,  0.,  0.],\n       [ 0.,  0.,  1.,  0.,  1.,  0.,  1.,  0.,  0.,  1.],\n       [ 0.,  0.,  0.,  0.,  0.,  0.,  0.,  0.,  0.,  0.],\n       [ 1.,  1.,  0.,  0.,  0.,  1.,  0.,  1.,  0.,  0.],\n       [ 0.,  1.,  1.,  1.,  1.,  0.,  0.,  0.,  0.,  0.],\n       [ 1.,  1.,  1.,  0.,  0.,  1.,  0.,  0.,  0.,  0.],\n       [ 0.,  0.,  0.,  1.,  0.,  1.,  1.,  0.,  1.,  0.],\n       [ 0.,  0.,  0.,  0.,  0.,  0.,  0.,  0.,  0.,  0.],\n       [ 0.,  0.,  0.,  0.,  0.,  0.,  0.,  0.,  0.,  0.],\n       [ 0.,  0.,  0.,  0.,  0.,  0.,  0.,  0.,  0.,  0.],\n       [-0., -0., -0., -0., -0., -0., -0., -0., -0., -0.],\n       [ 0.,  0.,  0.,  0.,  0.,  0.,  0.,  0.,  0.,  0.],\n       [ 0.,  0.,  0.,  0.,  0.,  0.,  0.,  0.,  0.,  0.],\n       [ 0.,  0.,  0.,  0.,  0.,  0.,  0.,  0.,  0.,  0.],\n       [ 0.,  0.,  0.,  1.,  1.,  1.,  1.,  0.,  0.,  0.],\n       [ 0.,  0.,  0.,  0.,  0.,  0.,  0.,  0.,  0.,  0.],\n       [ 0.,  0.,  0.,  0.,  0.,  0.,  0.,  0.,  0.,  0.],\n       [ 0.,  0.,  0.,  0.,  0.,  1.,  0.,  1.,  1.,  1.],\n       [ 0.,  0.,  0.,  0.,  0.,  0.,  0.,  0.,  0.,  1.],\n       [ 0.,  0.,  0.,  0.,  0.,  0.,  0.,  0.,  0.,  0.],\n       [ 0.,  0.,  0.,  0.,  0.,  0.,  0.,  0.,  0.,  0.],\n       [ 0.,  0.,  0.,  0.,  0.,  0.,  0.,  0.,  0.,  0.],\n       [ 0.,  0.,  0.,  0.,  0.,  0.,  0.,  0.,  0.,  0.],\n       [-0., -0., -0., -0., -0., -0., -0., -0., -0., -0.],\n       [ 0.,  0.,  0.,  0.,  0.,  0.,  0.,  0.,  0.,  0.],\n       [ 0.,  0.,  0.,  0.,  0.,  0.,  0.,  0.,  0.,  0.],\n       [ 0.,  0.,  0.,  0.,  0.,  0.,  0.,  0.,  0.,  0.],\n       [-0., -0., -0., -0., -0., -0., -0., -0., -0., -0.],\n       [ 0.,  0.,  0.,  0.,  0.,  0.,  0.,  0.,  0.,  0.],\n       [-0., -0., -0., -0., -0., -0., -0., -0., -0., -0.],\n       [-0., -0., -0., -0., -0., -0., -0., -0., -0., -0.],\n       [-0., -0., -0., -0., -0., -0., -0., -0., -0., -0.],\n       [-0., -0., -0., -0., -0., -0., -0., -0., -0., -0.],\n       [-0., -0., -0., -0., -0., -0., -0., -0., -0., -0.],\n       [ 0.,  0.,  0.,  0.,  0.,  0.,  0.,  0.,  0.,  0.],\n       [ 0.,  0.,  0.,  0.,  0.,  0.,  0.,  0.,  0.,  0.],\n       [-0., -0., -0., -0., -0., -0., -0., -0., -0., -0.],\n       [-0., -0., -0., -0., -0., -0., -0., -0., -0., -0.],\n       [-0., -0., -0., -0., -0., -0., -0., -0., -0., -0.],\n       [-0., -0., -0., -0., -0., -0., -0., -0., -0., -0.],\n       [-0., -0., -0., -0., -0., -0., -0., -0., -0., -0.],\n       [-0., -0., -0., -0., -0., -0., -0., -0., -0., -0.],\n       [-0., -0., -0., -0., -0., -0., -0., -0., -0., -0.],\n       [-0., -0., -0., -0., -0., -0., -0., -0., -0., -0.],\n       [ 0.,  0.,  0.,  0.,  0.,  0.,  0.,  0.,  0.,  0.],\n       [-0., -0., -0., -0., -0., -0., -0., -0., -0., -0.],\n       [-0., -0., -0., -0., -0., -0., -0., -0., -0., -0.],\n       [-0., -0., -0., -0., -0., -0., -0., -0., -0., -0.],\n       [-0., -0., -0., -0., -0., -0., -0., -0., -0., -0.],\n       [ 0.,  0.,  0.,  0.,  0.,  0.,  0.,  0.,  0.,  0.],\n       [-0., -0., -0., -0., -0., -0., -0., -0., -0., -0.],\n       [-0., -0., -0., -0., -0., -0., -0., -0., -0., -0.],\n       [-0., -0., -0., -0., -0., -0., -0., -0., -0., -0.],\n       [-0., -0., -0., -0., -0., -0., -0., -0., -0., -0.],\n       [-0., -0., -0., -0., -0., -0., -0., -0., -0., -0.],\n       [-0., -0., -0., -0., -0., -0., -0., -0., -0., -0.],\n       [-0., -0., -0., -0., -0., -0., -0., -0., -0., -0.],\n       [-0., -0., -0., -0., -0., -0., -0., -0., -0., -0.],\n       [-0., -0., -0., -0., -0., -0., -0., -0., -0., -0.],\n       [-0., -0., -0., -0., -0., -0., -0., -0., -0., -0.],\n       [-0., -0., -0., -0., -0., -0., -0., -0., -0., -0.],\n       [-0., -0., -0., -0., -0., -0., -0., -0., -0., -0.],\n       [-0., -0., -0., -0., -0., -0., -0., -0., -0., -0.],\n       [-0., -0., -0., -0., -0., -0., -0., -0., -0., -0.],\n       [-0., -0., -0., -0., -0., -0., -0., -0., -0., -0.],\n       [-0., -0., -0., -0., -0., -0., -0., -0., -0., -0.],\n       [-0., -0., -0., -0., -0., -0., -0., -0., -0., -0.],\n       [-0., -0., -0., -0., -0., -0., -0., -0., -0., -0.],\n       [-0., -0., -0., -0., -0., -0., -0., -0., -0., -0.],\n       [-0., -0., -0., -0., -0., -0., -0., -0., -0., -0.],\n       [-0., -0., -0., -0., -0., -0., -0., -0., -0., -0.],\n       [-0., -0., -0., -0., -0., -0., -0., -0., -0., -0.],\n       [-0., -0., -0., -0., -0., -0., -0., -0., -0., -0.],\n       [-0., -0., -0., -0., -0., -0., -0., -0., -0., -0.],\n       [-0., -0., -0., -0., -0., -0., -0., -0., -0., -0.],\n       [-0., -0., -0., -0., -0., -0., -0., -0., -0., -0.],\n       [-0., -0., -0., -0., -0., -0., -0., -0., -0., -0.],\n       [-0., -0., -0., -0., -0., -0., -0., -0., -0., -0.],\n       [-0., -0., -0., -0., -0., -0., -0., -0., -0., -0.],\n       [-0., -0., -0., -0., -0., -0., -0., -0., -0., -0.],\n       [-0., -0., -0., -0., -0., -0., -0., -0., -0., -0.]])"
     },
     "metadata": {},
     "execution_count": 13
    }
   ],
   "source": [
    "opt.solve()"
   ]
  },
  {
   "source": [
    "## Now let's sort the optimal lineups"
   ],
   "cell_type": "markdown",
   "metadata": {}
  },
  {
   "cell_type": "code",
   "execution_count": 14,
   "metadata": {
    "tags": []
   },
   "outputs": [
    {
     "output_type": "stream",
     "name": "stdout",
     "text": "2 Infeasible lineups dropped\n"
    },
    {
     "output_type": "execute_result",
     "data": {
      "text/plain": "                  PG             SG             SF                PF  \\\n0     Darius Garland  Collin Sexton   Jimmy Butler  Bojan Bogdanovic   \n1  Spencer Dinwiddie  Collin Sexton   Kevin Porter  Bojan Bogdanovic   \n2       De'Aaron Fox    Gary Harris    Buddy Hield  Bojan Bogdanovic   \n3     Darius Garland  Aaron Holiday    Buddy Hield  Bojan Bogdanovic   \n4     Darius Garland  Jalen Brunson  Dillon Brooks  Robert Covington   \n5      Jalen Brunson  Aaron Holiday   Kevin Porter   Marquese Chriss   \n6      Jalen Brunson    Gary Harris    Buddy Hield  Robert Covington   \n7  Spencer Dinwiddie  Aaron Holiday   Kevin Porter  Domantas Sabonis   \n\n                   C                 G                 F               UTIL  \n0    Marquese Chriss     Aaron Holiday  Robert Covington   Donovan Mitchell  \n1        Ivica Zubac     DeMar DeRozan  Robert Covington   Donovan Mitchell  \n2        Ivica Zubac     DeMar DeRozan   Marquese Chriss   Donovan Mitchell  \n3        Ivica Zubac       Zach LaVine     DeMar DeRozan  LaMarcus Aldridge  \n4  LaMarcus Aldridge  Donovan Mitchell  Domantas Sabonis        Zach LaVine  \n5  LaMarcus Aldridge      De'Aaron Fox      Jimmy Butler        Zach LaVine  \n6   Domantas Sabonis    Darius Garland      Jimmy Butler  Spencer Dinwiddie  \n7        Ivica Zubac      De'Aaron Fox     Dillon Brooks     Richaun Holmes  ",
      "text/html": "<div>\n<style scoped>\n    .dataframe tbody tr th:only-of-type {\n        vertical-align: middle;\n    }\n\n    .dataframe tbody tr th {\n        vertical-align: top;\n    }\n\n    .dataframe thead th {\n        text-align: right;\n    }\n</style>\n<table border=\"1\" class=\"dataframe\">\n  <thead>\n    <tr style=\"text-align: right;\">\n      <th></th>\n      <th>PG</th>\n      <th>SG</th>\n      <th>SF</th>\n      <th>PF</th>\n      <th>C</th>\n      <th>G</th>\n      <th>F</th>\n      <th>UTIL</th>\n    </tr>\n  </thead>\n  <tbody>\n    <tr>\n      <th>0</th>\n      <td>Darius Garland</td>\n      <td>Collin Sexton</td>\n      <td>Jimmy Butler</td>\n      <td>Bojan Bogdanovic</td>\n      <td>Marquese Chriss</td>\n      <td>Aaron Holiday</td>\n      <td>Robert Covington</td>\n      <td>Donovan Mitchell</td>\n    </tr>\n    <tr>\n      <th>1</th>\n      <td>Spencer Dinwiddie</td>\n      <td>Collin Sexton</td>\n      <td>Kevin Porter</td>\n      <td>Bojan Bogdanovic</td>\n      <td>Ivica Zubac</td>\n      <td>DeMar DeRozan</td>\n      <td>Robert Covington</td>\n      <td>Donovan Mitchell</td>\n    </tr>\n    <tr>\n      <th>2</th>\n      <td>De'Aaron Fox</td>\n      <td>Gary Harris</td>\n      <td>Buddy Hield</td>\n      <td>Bojan Bogdanovic</td>\n      <td>Ivica Zubac</td>\n      <td>DeMar DeRozan</td>\n      <td>Marquese Chriss</td>\n      <td>Donovan Mitchell</td>\n    </tr>\n    <tr>\n      <th>3</th>\n      <td>Darius Garland</td>\n      <td>Aaron Holiday</td>\n      <td>Buddy Hield</td>\n      <td>Bojan Bogdanovic</td>\n      <td>Ivica Zubac</td>\n      <td>Zach LaVine</td>\n      <td>DeMar DeRozan</td>\n      <td>LaMarcus Aldridge</td>\n    </tr>\n    <tr>\n      <th>4</th>\n      <td>Darius Garland</td>\n      <td>Jalen Brunson</td>\n      <td>Dillon Brooks</td>\n      <td>Robert Covington</td>\n      <td>LaMarcus Aldridge</td>\n      <td>Donovan Mitchell</td>\n      <td>Domantas Sabonis</td>\n      <td>Zach LaVine</td>\n    </tr>\n    <tr>\n      <th>5</th>\n      <td>Jalen Brunson</td>\n      <td>Aaron Holiday</td>\n      <td>Kevin Porter</td>\n      <td>Marquese Chriss</td>\n      <td>LaMarcus Aldridge</td>\n      <td>De'Aaron Fox</td>\n      <td>Jimmy Butler</td>\n      <td>Zach LaVine</td>\n    </tr>\n    <tr>\n      <th>6</th>\n      <td>Jalen Brunson</td>\n      <td>Gary Harris</td>\n      <td>Buddy Hield</td>\n      <td>Robert Covington</td>\n      <td>Domantas Sabonis</td>\n      <td>Darius Garland</td>\n      <td>Jimmy Butler</td>\n      <td>Spencer Dinwiddie</td>\n    </tr>\n    <tr>\n      <th>7</th>\n      <td>Spencer Dinwiddie</td>\n      <td>Aaron Holiday</td>\n      <td>Kevin Porter</td>\n      <td>Domantas Sabonis</td>\n      <td>Ivica Zubac</td>\n      <td>De'Aaron Fox</td>\n      <td>Dillon Brooks</td>\n      <td>Richaun Holmes</td>\n    </tr>\n  </tbody>\n</table>\n</div>"
     },
     "metadata": {},
     "execution_count": 14
    }
   ],
   "source": [
    "opt.sort_lineups()"
   ]
  },
  {
   "source": [
    "# Lineup Generator and Optimizer\n",
    "Now we'll use a more complex lineup generation --> monte carlo simulation then select the lineups that have the highest likelihood of being a high scoring team.\n",
    "\n",
    "<br> The default values are:\n",
    "<br> var_multiple = 0.5 (we weight lineup projected variance at half the importance of the projected mean)\n",
    "<br> drop_fraction = 0.5 (half the players are discarded each iteration of generation)\n",
    "<br> time_limit = 1 (1 second is allowed for each optimization iteration)\n",
    "<br> duplicates_lim = 100 (once 100 duplicate lineups have been generated, it kills the generator)"
   ],
   "cell_type": "markdown",
   "metadata": {}
  },
  {
   "source": [
    "## First, instantiate the generator:"
   ],
   "cell_type": "markdown",
   "metadata": {}
  },
  {
   "cell_type": "code",
   "execution_count": 15,
   "metadata": {},
   "outputs": [],
   "source": [
    "gen = LineupGenerator(df_players, n_lineups_to_optimize=150, batch_size=20,\n",
    "var_multiple=0.5, drop_fraction=0.05, time_limit=5, verbose=False)"
   ]
  },
  {
   "source": [
    "## Now run the generator by giving a target number of generated lineups:"
   ],
   "cell_type": "markdown",
   "metadata": {}
  },
  {
   "cell_type": "code",
   "execution_count": 16,
   "metadata": {
    "tags": []
   },
   "outputs": [
    {
     "output_type": "stream",
     "name": "stdout",
     "text": "2 Infeasible lineups dropped\n18 Lineups\n0 Duplicates\n3 Infeasible lineups dropped\n34 Lineups\n1 Duplicates\n2 Infeasible lineups dropped\n52 Lineups\n1 Duplicates\n1 Infeasible lineups dropped\n71 Lineups\n1 Duplicates\n2 Infeasible lineups dropped\n88 Lineups\n2 Duplicates\n2 Infeasible lineups dropped\n104 Lineups\n4 Duplicates\n1 Infeasible lineups dropped\n121 Lineups\n5 Duplicates\n2 Infeasible lineups dropped\n139 Lineups\n5 Duplicates\n0 Infeasible lineups dropped\n148 Lineups\n7 Duplicates\n1 Infeasible lineups dropped\n149 Lineups\n7 Duplicates\n0 Infeasible lineups dropped\n149 Lineups\n8 Duplicates\n0 Infeasible lineups dropped\n149 Lineups\n9 Duplicates\n0 Infeasible lineups dropped\n149 Lineups\n10 Duplicates\n0 Infeasible lineups dropped\n149 Lineups\n11 Duplicates\n0 Infeasible lineups dropped\n150 Lineups\n11 Duplicates\n"
    },
    {
     "output_type": "execute_result",
     "data": {
      "text/plain": "                    PG                 SG             SF                 PF  \\\n0       Darius Garland      Jalen Brunson  DeMar DeRozan         Cedi Osman   \n1    Spencer Dinwiddie        Gary Harris  Dillon Brooks   Bojan Bogdanovic   \n2       Darius Garland  Spencer Dinwiddie    Buddy Hield   Bojan Bogdanovic   \n3       Darius Garland      Jalen Brunson   Jimmy Butler    Marquese Chriss   \n4        Collin Sexton        Gary Harris    Buddy Hield   Bojan Bogdanovic   \n..                 ...                ...            ...                ...   \n145  Spencer Dinwiddie        Gary Harris   Kevin Porter  LaMarcus Aldridge   \n146     Darius Garland  Spencer Dinwiddie    Buddy Hield   Bojan Bogdanovic   \n147      Jalen Brunson        Gary Harris  DeMar DeRozan   Bojan Bogdanovic   \n148  Spencer Dinwiddie      Collin Sexton  Dillon Brooks   Bojan Bogdanovic   \n149      Jalen Brunson        Gary Harris    Buddy Hield   Bojan Bogdanovic   \n\n                     C                  G                  F  \\\n0    LaMarcus Aldridge  Spencer Dinwiddie   Domantas Sabonis   \n1      Marquese Chriss      Collin Sexton        Buddy Hield   \n2          Ivica Zubac       De'Aaron Fox    Marquese Chriss   \n3          Ivica Zubac   Donovan Mitchell      DeMar DeRozan   \n4          Ivica Zubac       De'Aaron Fox      DeMar DeRozan   \n..                 ...                ...                ...   \n145        Ivica Zubac       Jimmy Butler      Dillon Brooks   \n146    Marquese Chriss      Collin Sexton    Harrison Barnes   \n147    Marquese Chriss       De'Aaron Fox  LaMarcus Aldridge   \n148        Ivica Zubac   Donovan Mitchell    Marquese Chriss   \n149        Ivica Zubac  Spencer Dinwiddie       Jimmy Butler   \n\n                  UTIL  \n0        Collin Sexton  \n1     Donovan Mitchell  \n2        DeMar DeRozan  \n3     Domantas Sabonis  \n4    LaMarcus Aldridge  \n..                 ...  \n145        Zach LaVine  \n146   Donovan Mitchell  \n147   Donovan Mitchell  \n148     Richaun Holmes  \n149  LaMarcus Aldridge  \n\n[150 rows x 8 columns]",
      "text/html": "<div>\n<style scoped>\n    .dataframe tbody tr th:only-of-type {\n        vertical-align: middle;\n    }\n\n    .dataframe tbody tr th {\n        vertical-align: top;\n    }\n\n    .dataframe thead th {\n        text-align: right;\n    }\n</style>\n<table border=\"1\" class=\"dataframe\">\n  <thead>\n    <tr style=\"text-align: right;\">\n      <th></th>\n      <th>PG</th>\n      <th>SG</th>\n      <th>SF</th>\n      <th>PF</th>\n      <th>C</th>\n      <th>G</th>\n      <th>F</th>\n      <th>UTIL</th>\n    </tr>\n  </thead>\n  <tbody>\n    <tr>\n      <th>0</th>\n      <td>Darius Garland</td>\n      <td>Jalen Brunson</td>\n      <td>DeMar DeRozan</td>\n      <td>Cedi Osman</td>\n      <td>LaMarcus Aldridge</td>\n      <td>Spencer Dinwiddie</td>\n      <td>Domantas Sabonis</td>\n      <td>Collin Sexton</td>\n    </tr>\n    <tr>\n      <th>1</th>\n      <td>Spencer Dinwiddie</td>\n      <td>Gary Harris</td>\n      <td>Dillon Brooks</td>\n      <td>Bojan Bogdanovic</td>\n      <td>Marquese Chriss</td>\n      <td>Collin Sexton</td>\n      <td>Buddy Hield</td>\n      <td>Donovan Mitchell</td>\n    </tr>\n    <tr>\n      <th>2</th>\n      <td>Darius Garland</td>\n      <td>Spencer Dinwiddie</td>\n      <td>Buddy Hield</td>\n      <td>Bojan Bogdanovic</td>\n      <td>Ivica Zubac</td>\n      <td>De'Aaron Fox</td>\n      <td>Marquese Chriss</td>\n      <td>DeMar DeRozan</td>\n    </tr>\n    <tr>\n      <th>3</th>\n      <td>Darius Garland</td>\n      <td>Jalen Brunson</td>\n      <td>Jimmy Butler</td>\n      <td>Marquese Chriss</td>\n      <td>Ivica Zubac</td>\n      <td>Donovan Mitchell</td>\n      <td>DeMar DeRozan</td>\n      <td>Domantas Sabonis</td>\n    </tr>\n    <tr>\n      <th>4</th>\n      <td>Collin Sexton</td>\n      <td>Gary Harris</td>\n      <td>Buddy Hield</td>\n      <td>Bojan Bogdanovic</td>\n      <td>Ivica Zubac</td>\n      <td>De'Aaron Fox</td>\n      <td>DeMar DeRozan</td>\n      <td>LaMarcus Aldridge</td>\n    </tr>\n    <tr>\n      <th>...</th>\n      <td>...</td>\n      <td>...</td>\n      <td>...</td>\n      <td>...</td>\n      <td>...</td>\n      <td>...</td>\n      <td>...</td>\n      <td>...</td>\n    </tr>\n    <tr>\n      <th>145</th>\n      <td>Spencer Dinwiddie</td>\n      <td>Gary Harris</td>\n      <td>Kevin Porter</td>\n      <td>LaMarcus Aldridge</td>\n      <td>Ivica Zubac</td>\n      <td>Jimmy Butler</td>\n      <td>Dillon Brooks</td>\n      <td>Zach LaVine</td>\n    </tr>\n    <tr>\n      <th>146</th>\n      <td>Darius Garland</td>\n      <td>Spencer Dinwiddie</td>\n      <td>Buddy Hield</td>\n      <td>Bojan Bogdanovic</td>\n      <td>Marquese Chriss</td>\n      <td>Collin Sexton</td>\n      <td>Harrison Barnes</td>\n      <td>Donovan Mitchell</td>\n    </tr>\n    <tr>\n      <th>147</th>\n      <td>Jalen Brunson</td>\n      <td>Gary Harris</td>\n      <td>DeMar DeRozan</td>\n      <td>Bojan Bogdanovic</td>\n      <td>Marquese Chriss</td>\n      <td>De'Aaron Fox</td>\n      <td>LaMarcus Aldridge</td>\n      <td>Donovan Mitchell</td>\n    </tr>\n    <tr>\n      <th>148</th>\n      <td>Spencer Dinwiddie</td>\n      <td>Collin Sexton</td>\n      <td>Dillon Brooks</td>\n      <td>Bojan Bogdanovic</td>\n      <td>Ivica Zubac</td>\n      <td>Donovan Mitchell</td>\n      <td>Marquese Chriss</td>\n      <td>Richaun Holmes</td>\n    </tr>\n    <tr>\n      <th>149</th>\n      <td>Jalen Brunson</td>\n      <td>Gary Harris</td>\n      <td>Buddy Hield</td>\n      <td>Bojan Bogdanovic</td>\n      <td>Ivica Zubac</td>\n      <td>Spencer Dinwiddie</td>\n      <td>Jimmy Butler</td>\n      <td>LaMarcus Aldridge</td>\n    </tr>\n  </tbody>\n</table>\n<p>150 rows × 8 columns</p>\n</div>"
     },
     "metadata": {},
     "execution_count": 16
    }
   ],
   "source": [
    "gen.generate(150)\n",
    "# gen.df_lineups = pd.read_csv('../data/raw/test_lineups.csv', index_col=0)"
   ]
  },
  {
   "source": [
    "## Now visualize the player distribution:"
   ],
   "cell_type": "markdown",
   "metadata": {}
  },
  {
   "cell_type": "code",
   "execution_count": 17,
   "metadata": {},
   "outputs": [
    {
     "output_type": "execute_result",
     "data": {
      "text/plain": "Ivica Zubac                0.500000\nBojan Bogdanovic           0.486667\nCollin Sexton              0.453333\nJimmy Butler               0.453333\nSpencer Dinwiddie          0.440000\nGary Harris                0.440000\nDe'Aaron Fox               0.433333\nBuddy Hield                0.433333\nDarius Garland             0.426667\nJalen Brunson              0.420000\nDonovan Mitchell           0.413333\nLaMarcus Aldridge          0.406667\nMarquese Chriss            0.400000\nDeMar DeRozan              0.393333\nDomantas Sabonis           0.353333\nDillon Brooks              0.286667\nZach LaVine                0.266667\nRobert Covington           0.220000\nKevin Porter               0.200000\nHarrison Barnes            0.186667\nAaron Holiday              0.146667\nRichaun Holmes             0.100000\nCedi Osman                 0.086667\nShai Gilgeous-Alexander    0.020000\nAlec Burks                 0.006667\nT.J. Warren                0.006667\nTimothe Luwawu-Cabarrot    0.006667\nTim Frazier                0.006667\nBam Adebayo                0.006667\ndtype: float64"
     },
     "metadata": {},
     "execution_count": 17
    }
   ],
   "source": [
    "players = gen.get_player_distribution(gen.df_lineups)\n",
    "players[:50]"
   ]
  },
  {
   "source": [
    "## Now run the Monte Carlo Simulation"
   ],
   "cell_type": "markdown",
   "metadata": {}
  },
  {
   "cell_type": "code",
   "execution_count": 19,
   "metadata": {},
   "outputs": [
    {
     "output_type": "execute_result",
     "data": {
      "text/plain": "                     PG                 SG               SF  \\\n0         Collin Sexton        Gary Harris     Kevin Porter   \n1         Jalen Brunson        Gary Harris     Kevin Porter   \n2         Collin Sexton        Gary Harris     Kevin Porter   \n3         Jalen Brunson  Spencer Dinwiddie  Harrison Barnes   \n4         Collin Sexton        Gary Harris     Kevin Porter   \n...                 ...                ...              ...   \n1995     Darius Garland        Gary Harris     Jimmy Butler   \n1996  Spencer Dinwiddie        Gary Harris     Kevin Porter   \n1997     Darius Garland        Gary Harris     Kevin Porter   \n1998       De'Aaron Fox       Kevin Porter    Dillon Brooks   \n1999     Darius Garland      Jalen Brunson      Buddy Hield   \n\n                     PF                C                  G                 F  \\\n0       Harrison Barnes   Richaun Holmes      Aaron Holiday       Paul George   \n1         Kawhi Leonard  Marquese Chriss      Aaron Holiday       Paul George   \n2       Harrison Barnes  Marquese Chriss         Kyle Lowry    Richaun Holmes   \n3       Marquese Chriss   Richaun Holmes      Collin Sexton       Paul George   \n4       Harrison Barnes   Richaun Holmes     Shabazz Napier       Paul George   \n...                 ...              ...                ...               ...   \n1995    Harrison Barnes  Marquese Chriss  Spencer Dinwiddie  Robert Covington   \n1996    Marquese Chriss      Bam Adebayo        Tim Frazier      Jimmy Butler   \n1997   Domantas Sabonis  Bismack Biyombo       De'Aaron Fox      Jimmy Butler   \n1998   Bojan Bogdanovic      Bam Adebayo        Buddy Hield  Robert Covington   \n1999  LaMarcus Aldridge   Richaun Holmes      Aaron Holiday     DeMar DeRozan   \n\n                         UTIL    mean        std  \n0                  Kyle Lowry  264.54  17.620039  \n1                  Kyle Lowry  262.63  15.017997  \n2               Kawhi Leonard  264.81  17.261263  \n3               Aaron Holiday  270.06  20.851468  \n4                  Kyle Lowry  263.37  17.406462  \n...                       ...     ...        ...  \n1995         Donovan Mitchell  279.25  20.311315  \n1996             De'Aaron Fox  277.49  19.496710  \n1997         Donovan Mitchell  273.53  17.789721  \n1998  Shai Gilgeous-Alexander  267.74  18.799925  \n1999              Zach LaVine  270.45  22.124796  \n\n[2000 rows x 10 columns]",
      "text/html": "<div>\n<style scoped>\n    .dataframe tbody tr th:only-of-type {\n        vertical-align: middle;\n    }\n\n    .dataframe tbody tr th {\n        vertical-align: top;\n    }\n\n    .dataframe thead th {\n        text-align: right;\n    }\n</style>\n<table border=\"1\" class=\"dataframe\">\n  <thead>\n    <tr style=\"text-align: right;\">\n      <th></th>\n      <th>PG</th>\n      <th>SG</th>\n      <th>SF</th>\n      <th>PF</th>\n      <th>C</th>\n      <th>G</th>\n      <th>F</th>\n      <th>UTIL</th>\n      <th>mean</th>\n      <th>std</th>\n    </tr>\n  </thead>\n  <tbody>\n    <tr>\n      <th>0</th>\n      <td>Collin Sexton</td>\n      <td>Gary Harris</td>\n      <td>Kevin Porter</td>\n      <td>Harrison Barnes</td>\n      <td>Richaun Holmes</td>\n      <td>Aaron Holiday</td>\n      <td>Paul George</td>\n      <td>Kyle Lowry</td>\n      <td>264.54</td>\n      <td>17.620039</td>\n    </tr>\n    <tr>\n      <th>1</th>\n      <td>Jalen Brunson</td>\n      <td>Gary Harris</td>\n      <td>Kevin Porter</td>\n      <td>Kawhi Leonard</td>\n      <td>Marquese Chriss</td>\n      <td>Aaron Holiday</td>\n      <td>Paul George</td>\n      <td>Kyle Lowry</td>\n      <td>262.63</td>\n      <td>15.017997</td>\n    </tr>\n    <tr>\n      <th>2</th>\n      <td>Collin Sexton</td>\n      <td>Gary Harris</td>\n      <td>Kevin Porter</td>\n      <td>Harrison Barnes</td>\n      <td>Marquese Chriss</td>\n      <td>Kyle Lowry</td>\n      <td>Richaun Holmes</td>\n      <td>Kawhi Leonard</td>\n      <td>264.81</td>\n      <td>17.261263</td>\n    </tr>\n    <tr>\n      <th>3</th>\n      <td>Jalen Brunson</td>\n      <td>Spencer Dinwiddie</td>\n      <td>Harrison Barnes</td>\n      <td>Marquese Chriss</td>\n      <td>Richaun Holmes</td>\n      <td>Collin Sexton</td>\n      <td>Paul George</td>\n      <td>Aaron Holiday</td>\n      <td>270.06</td>\n      <td>20.851468</td>\n    </tr>\n    <tr>\n      <th>4</th>\n      <td>Collin Sexton</td>\n      <td>Gary Harris</td>\n      <td>Kevin Porter</td>\n      <td>Harrison Barnes</td>\n      <td>Richaun Holmes</td>\n      <td>Shabazz Napier</td>\n      <td>Paul George</td>\n      <td>Kyle Lowry</td>\n      <td>263.37</td>\n      <td>17.406462</td>\n    </tr>\n    <tr>\n      <th>...</th>\n      <td>...</td>\n      <td>...</td>\n      <td>...</td>\n      <td>...</td>\n      <td>...</td>\n      <td>...</td>\n      <td>...</td>\n      <td>...</td>\n      <td>...</td>\n      <td>...</td>\n    </tr>\n    <tr>\n      <th>1995</th>\n      <td>Darius Garland</td>\n      <td>Gary Harris</td>\n      <td>Jimmy Butler</td>\n      <td>Harrison Barnes</td>\n      <td>Marquese Chriss</td>\n      <td>Spencer Dinwiddie</td>\n      <td>Robert Covington</td>\n      <td>Donovan Mitchell</td>\n      <td>279.25</td>\n      <td>20.311315</td>\n    </tr>\n    <tr>\n      <th>1996</th>\n      <td>Spencer Dinwiddie</td>\n      <td>Gary Harris</td>\n      <td>Kevin Porter</td>\n      <td>Marquese Chriss</td>\n      <td>Bam Adebayo</td>\n      <td>Tim Frazier</td>\n      <td>Jimmy Butler</td>\n      <td>De'Aaron Fox</td>\n      <td>277.49</td>\n      <td>19.496710</td>\n    </tr>\n    <tr>\n      <th>1997</th>\n      <td>Darius Garland</td>\n      <td>Gary Harris</td>\n      <td>Kevin Porter</td>\n      <td>Domantas Sabonis</td>\n      <td>Bismack Biyombo</td>\n      <td>De'Aaron Fox</td>\n      <td>Jimmy Butler</td>\n      <td>Donovan Mitchell</td>\n      <td>273.53</td>\n      <td>17.789721</td>\n    </tr>\n    <tr>\n      <th>1998</th>\n      <td>De'Aaron Fox</td>\n      <td>Kevin Porter</td>\n      <td>Dillon Brooks</td>\n      <td>Bojan Bogdanovic</td>\n      <td>Bam Adebayo</td>\n      <td>Buddy Hield</td>\n      <td>Robert Covington</td>\n      <td>Shai Gilgeous-Alexander</td>\n      <td>267.74</td>\n      <td>18.799925</td>\n    </tr>\n    <tr>\n      <th>1999</th>\n      <td>Darius Garland</td>\n      <td>Jalen Brunson</td>\n      <td>Buddy Hield</td>\n      <td>LaMarcus Aldridge</td>\n      <td>Richaun Holmes</td>\n      <td>Aaron Holiday</td>\n      <td>DeMar DeRozan</td>\n      <td>Zach LaVine</td>\n      <td>270.45</td>\n      <td>22.124796</td>\n    </tr>\n  </tbody>\n</table>\n<p>2000 rows × 10 columns</p>\n</div>"
     },
     "metadata": {},
     "execution_count": 19
    }
   ],
   "source": [
    "gen.get_lineup_score_dists()"
   ]
  },
  {
   "source": [
    "## Now find the optimal set of lineups:"
   ],
   "cell_type": "markdown",
   "metadata": {}
  },
  {
   "cell_type": "code",
   "execution_count": 20,
   "metadata": {
    "tags": []
   },
   "outputs": [],
   "source": [
    "df_optimal = gen.enforce_exposures()"
   ]
  },
  {
   "source": [
    "# Now build the sheet:"
   ],
   "cell_type": "markdown",
   "metadata": {}
  },
  {
   "cell_type": "code",
   "execution_count": 18,
   "metadata": {},
   "outputs": [],
   "source": [
    "sheet_name = 'test_DKEntries2.csv'\n",
    "entries = EntriesHandler('../data/raw/' + sheet_name, gen.df, read_lineups=True)"
   ]
  },
  {
   "cell_type": "code",
   "execution_count": 19,
   "metadata": {
    "tags": []
   },
   "outputs": [],
   "source": [
    "# entries.add_lineups_to_entries(df_optimal)\n",
    "entries.add_lineups_to_entries(gen.df_lineups)"
   ]
  },
  {
   "source": [
    "## Visualize the final sheet"
   ],
   "cell_type": "markdown",
   "metadata": {}
  },
  {
   "cell_type": "code",
   "execution_count": 20,
   "metadata": {},
   "outputs": [
    {
     "output_type": "execute_result",
     "data": {
      "text/plain": "       Entry ID                       Contest Name  Contest ID Entry Fee  \\\n0    1809803072  NBA $12K mini-MAX [150 Entry Max]    83787211     $0.50   \n1    1809803073  NBA $12K mini-MAX [150 Entry Max]    83787211     $0.50   \n2    1809803074  NBA $12K mini-MAX [150 Entry Max]    83787211     $0.50   \n3    1809803075  NBA $12K mini-MAX [150 Entry Max]    83787211     $0.50   \n4    1809803076  NBA $12K mini-MAX [150 Entry Max]    83787211     $0.50   \n..          ...                                ...         ...       ...   \n145  1809803217  NBA $12K mini-MAX [150 Entry Max]    83787211     $0.50   \n146  1809803218  NBA $12K mini-MAX [150 Entry Max]    83787211     $0.50   \n147  1809803219  NBA $12K mini-MAX [150 Entry Max]    83787211     $0.50   \n148  1809803220  NBA $12K mini-MAX [150 Entry Max]    83787211     $0.50   \n149  1809811864  NBA $12K mini-MAX [150 Entry Max]    83787211     $0.50   \n\n           PG        SG        SF        PF         C         G         F  \\\n0    14066387  14066582  14066053  14066371  14066042  14065998  14065994   \n1    14065998  14066354  14066340  14066137  14066260  14066177  14066088   \n2    14066387  14065998  14066088  14066137  14066415  14066058  14066260   \n3    14066387  14066582  14065989  14066260  14066415  14066015  14066053   \n4    14066177  14066354  14066088  14066137  14066415  14066058  14066053   \n..        ...       ...       ...       ...       ...       ...       ...   \n145  14065998  14066354  14066428  14066042  14066415  14065989  14066340   \n146  14066387  14065998  14066088  14066137  14066260  14066177  14066304   \n147  14066582  14066354  14066053  14066137  14066260  14066058  14066042   \n148  14065998  14066177  14066340  14066137  14066415  14066015  14066260   \n149  14066582  14066354  14066088  14066137  14066415  14065998  14065989   \n\n         UTIL  \n0    14066177  \n1    14066015  \n2    14066053  \n3    14065994  \n4    14066042  \n..        ...  \n145  14066033  \n146  14066015  \n147  14066015  \n148  14066065  \n149  14066042  \n\n[150 rows x 12 columns]",
      "text/html": "<div>\n<style scoped>\n    .dataframe tbody tr th:only-of-type {\n        vertical-align: middle;\n    }\n\n    .dataframe tbody tr th {\n        vertical-align: top;\n    }\n\n    .dataframe thead th {\n        text-align: right;\n    }\n</style>\n<table border=\"1\" class=\"dataframe\">\n  <thead>\n    <tr style=\"text-align: right;\">\n      <th></th>\n      <th>Entry ID</th>\n      <th>Contest Name</th>\n      <th>Contest ID</th>\n      <th>Entry Fee</th>\n      <th>PG</th>\n      <th>SG</th>\n      <th>SF</th>\n      <th>PF</th>\n      <th>C</th>\n      <th>G</th>\n      <th>F</th>\n      <th>UTIL</th>\n    </tr>\n  </thead>\n  <tbody>\n    <tr>\n      <th>0</th>\n      <td>1809803072</td>\n      <td>NBA $12K mini-MAX [150 Entry Max]</td>\n      <td>83787211</td>\n      <td>$0.50</td>\n      <td>14066387</td>\n      <td>14066582</td>\n      <td>14066053</td>\n      <td>14066371</td>\n      <td>14066042</td>\n      <td>14065998</td>\n      <td>14065994</td>\n      <td>14066177</td>\n    </tr>\n    <tr>\n      <th>1</th>\n      <td>1809803073</td>\n      <td>NBA $12K mini-MAX [150 Entry Max]</td>\n      <td>83787211</td>\n      <td>$0.50</td>\n      <td>14065998</td>\n      <td>14066354</td>\n      <td>14066340</td>\n      <td>14066137</td>\n      <td>14066260</td>\n      <td>14066177</td>\n      <td>14066088</td>\n      <td>14066015</td>\n    </tr>\n    <tr>\n      <th>2</th>\n      <td>1809803074</td>\n      <td>NBA $12K mini-MAX [150 Entry Max]</td>\n      <td>83787211</td>\n      <td>$0.50</td>\n      <td>14066387</td>\n      <td>14065998</td>\n      <td>14066088</td>\n      <td>14066137</td>\n      <td>14066415</td>\n      <td>14066058</td>\n      <td>14066260</td>\n      <td>14066053</td>\n    </tr>\n    <tr>\n      <th>3</th>\n      <td>1809803075</td>\n      <td>NBA $12K mini-MAX [150 Entry Max]</td>\n      <td>83787211</td>\n      <td>$0.50</td>\n      <td>14066387</td>\n      <td>14066582</td>\n      <td>14065989</td>\n      <td>14066260</td>\n      <td>14066415</td>\n      <td>14066015</td>\n      <td>14066053</td>\n      <td>14065994</td>\n    </tr>\n    <tr>\n      <th>4</th>\n      <td>1809803076</td>\n      <td>NBA $12K mini-MAX [150 Entry Max]</td>\n      <td>83787211</td>\n      <td>$0.50</td>\n      <td>14066177</td>\n      <td>14066354</td>\n      <td>14066088</td>\n      <td>14066137</td>\n      <td>14066415</td>\n      <td>14066058</td>\n      <td>14066053</td>\n      <td>14066042</td>\n    </tr>\n    <tr>\n      <th>...</th>\n      <td>...</td>\n      <td>...</td>\n      <td>...</td>\n      <td>...</td>\n      <td>...</td>\n      <td>...</td>\n      <td>...</td>\n      <td>...</td>\n      <td>...</td>\n      <td>...</td>\n      <td>...</td>\n      <td>...</td>\n    </tr>\n    <tr>\n      <th>145</th>\n      <td>1809803217</td>\n      <td>NBA $12K mini-MAX [150 Entry Max]</td>\n      <td>83787211</td>\n      <td>$0.50</td>\n      <td>14065998</td>\n      <td>14066354</td>\n      <td>14066428</td>\n      <td>14066042</td>\n      <td>14066415</td>\n      <td>14065989</td>\n      <td>14066340</td>\n      <td>14066033</td>\n    </tr>\n    <tr>\n      <th>146</th>\n      <td>1809803218</td>\n      <td>NBA $12K mini-MAX [150 Entry Max]</td>\n      <td>83787211</td>\n      <td>$0.50</td>\n      <td>14066387</td>\n      <td>14065998</td>\n      <td>14066088</td>\n      <td>14066137</td>\n      <td>14066260</td>\n      <td>14066177</td>\n      <td>14066304</td>\n      <td>14066015</td>\n    </tr>\n    <tr>\n      <th>147</th>\n      <td>1809803219</td>\n      <td>NBA $12K mini-MAX [150 Entry Max]</td>\n      <td>83787211</td>\n      <td>$0.50</td>\n      <td>14066582</td>\n      <td>14066354</td>\n      <td>14066053</td>\n      <td>14066137</td>\n      <td>14066260</td>\n      <td>14066058</td>\n      <td>14066042</td>\n      <td>14066015</td>\n    </tr>\n    <tr>\n      <th>148</th>\n      <td>1809803220</td>\n      <td>NBA $12K mini-MAX [150 Entry Max]</td>\n      <td>83787211</td>\n      <td>$0.50</td>\n      <td>14065998</td>\n      <td>14066177</td>\n      <td>14066340</td>\n      <td>14066137</td>\n      <td>14066415</td>\n      <td>14066015</td>\n      <td>14066260</td>\n      <td>14066065</td>\n    </tr>\n    <tr>\n      <th>149</th>\n      <td>1809811864</td>\n      <td>NBA $12K mini-MAX [150 Entry Max]</td>\n      <td>83787211</td>\n      <td>$0.50</td>\n      <td>14066582</td>\n      <td>14066354</td>\n      <td>14066088</td>\n      <td>14066137</td>\n      <td>14066415</td>\n      <td>14065998</td>\n      <td>14065989</td>\n      <td>14066042</td>\n    </tr>\n  </tbody>\n</table>\n<p>150 rows × 12 columns</p>\n</div>"
     },
     "metadata": {},
     "execution_count": 20
    }
   ],
   "source": [
    "pd.read_csv('../data/raw/test_DKEntries2_v2.csv')"
   ]
  },
  {
   "cell_type": "code",
   "execution_count": null,
   "metadata": {},
   "outputs": [],
   "source": []
  }
 ]
}