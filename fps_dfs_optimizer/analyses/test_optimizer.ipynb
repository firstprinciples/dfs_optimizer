{
 "metadata": {
  "language_info": {
   "codemirror_mode": {
    "name": "ipython",
    "version": 3
   },
   "file_extension": ".py",
   "mimetype": "text/x-python",
   "name": "python",
   "nbconvert_exporter": "python",
   "pygments_lexer": "ipython3",
   "version": "3.7.8-final"
  },
  "orig_nbformat": 2,
  "kernelspec": {
   "name": "python3",
   "display_name": "Python 3.7.8 64-bit ('dfs_opt': conda)",
   "metadata": {
    "interpreter": {
     "hash": "63afda940d72bab6ee9fecad475ef3ee7933a13f8fc17bf07e06c69deb8fa7e0"
    }
   }
  }
 },
 "nbformat": 4,
 "nbformat_minor": 2,
 "cells": [
  {
   "source": [
    "# Example Notebook For Using Optimizer Tools"
   ],
   "cell_type": "markdown",
   "metadata": {}
  },
  {
   "cell_type": "code",
   "execution_count": 1,
   "metadata": {},
   "outputs": [],
   "source": [
    "import pandas as pd\n",
    "import datetime as dt\n",
    "\n",
    "from fps_dfs_optimizer.src.draftkings_tools import get_contests, get_players, EntriesHandler, get_today, get_players_from_salaries, get_full_slate\n",
    "from fps_dfs_optimizer.src.projections import get_projections\n",
    "from fps_dfs_optimizer.src.optimizer import Exposures, LineupOptimizer\n",
    "from fps_dfs_optimizer.src.generator import LineupGenerator"
   ]
  },
  {
   "source": [
    "## Generate today's players sheet\n",
    "This block will retrieve the players DataFrame for the current date.\n",
    "Any projections script can be implemented in get_projections(), but right now dummy projections are given"
   ],
   "cell_type": "markdown",
   "metadata": {}
  },
  {
   "cell_type": "code",
   "execution_count": 2,
   "metadata": {},
   "outputs": [],
   "source": [
    "today = get_today()\n",
    "# today = dt.date(2021, 1, 1)\n",
    "df_contests = get_contests(today)"
   ]
  },
  {
   "cell_type": "code",
   "execution_count": 4,
   "metadata": {
    "tags": []
   },
   "outputs": [
    {
     "output_type": "error",
     "ename": "NameError",
     "evalue": "name 'get_full_slate' is not defined",
     "traceback": [
      "\u001b[1;31m---------------------------------------------------------------------------\u001b[0m",
      "\u001b[1;31mNameError\u001b[0m                                 Traceback (most recent call last)",
      "\u001b[1;32m<ipython-input-4-67c81304fc75>\u001b[0m in \u001b[0;36m<module>\u001b[1;34m\u001b[0m\n\u001b[1;32m----> 1\u001b[1;33m \u001b[0mdf_full\u001b[0m\u001b[1;33m,\u001b[0m \u001b[0mdf_night\u001b[0m \u001b[1;33m=\u001b[0m \u001b[0mget_full_slate\u001b[0m\u001b[1;33m(\u001b[0m\u001b[0mdf_contests\u001b[0m\u001b[1;33m)\u001b[0m\u001b[1;33m\u001b[0m\u001b[1;33m\u001b[0m\u001b[0m\n\u001b[0m",
      "\u001b[1;31mNameError\u001b[0m: name 'get_full_slate' is not defined"
     ]
    }
   ],
   "source": [
    "df_full, df_night = get_full_slate(df_contests)"
   ]
  },
  {
   "cell_type": "code",
   "execution_count": 83,
   "metadata": {},
   "outputs": [
    {
     "output_type": "execute_result",
     "data": {
      "text/plain": [
       "Empty DataFrame\n",
       "Columns: [id, double_up, draft_group_id, entries, fantasy_player_points, fifty_fifty, guaranteed, head_to_head, name, payout, sport, starred, starts_at, maximum, fee, total]\n",
       "Index: []"
      ],
      "text/html": "<div>\n<style scoped>\n    .dataframe tbody tr th:only-of-type {\n        vertical-align: middle;\n    }\n\n    .dataframe tbody tr th {\n        vertical-align: top;\n    }\n\n    .dataframe thead th {\n        text-align: right;\n    }\n</style>\n<table border=\"1\" class=\"dataframe\">\n  <thead>\n    <tr style=\"text-align: right;\">\n      <th></th>\n      <th>id</th>\n      <th>double_up</th>\n      <th>draft_group_id</th>\n      <th>entries</th>\n      <th>fantasy_player_points</th>\n      <th>fifty_fifty</th>\n      <th>guaranteed</th>\n      <th>head_to_head</th>\n      <th>name</th>\n      <th>payout</th>\n      <th>sport</th>\n      <th>starred</th>\n      <th>starts_at</th>\n      <th>maximum</th>\n      <th>fee</th>\n      <th>total</th>\n    </tr>\n  </thead>\n  <tbody>\n  </tbody>\n</table>\n</div>"
     },
     "metadata": {},
     "execution_count": 83
    }
   ],
   "source": [
    "df_full"
   ]
  },
  {
   "cell_type": "code",
   "execution_count": 69,
   "metadata": {},
   "outputs": [],
   "source": [
    "def get_players(draft_group_id):\n",
    "    draft_players = draftables(draft_group_id)\n",
    "    df_players = pd.DataFrame(draft_players['draftables'])\n",
    "    print(df_players)\n",
    "    names = list(df_players['names'].values)\n",
    "    df_names = pd.DataFrame(names)\n",
    "    df_players = pd.concat((df_players, df_names),axis=1)\n",
    "    competitions = list(df_players['competition'].values)\n",
    "    df_comps = pd.DataFrame(competitions)\n",
    "    df_comps.columns = ['contest id', 'contest names', 'start time']\n",
    "    df_players = pd.concat((df_players, df_comps),axis=1)\n",
    "    df_players.reset_index(0, drop=True, inplace=True)\n",
    "    map_cols = {'display' : 'Name', 'id' : 'ID', 'position' : 'Position',\n",
    "        'news_status' : 'Status', 'salary' : 'Salary', \n",
    "        'contest names' : 'Game', 'start time' : 'Time',\n",
    "        'team_abbreviation' : 'TeamAbbrev'}\n",
    "    df_players.rename(columns=map_cols, inplace=True)\n",
    "    df_players['Time'] = pd.to_datetime(df_players['Time'])\n",
    "    return df_players[list(map_cols.values())]"
   ]
  },
  {
   "cell_type": "code",
   "execution_count": 70,
   "metadata": {
    "tags": []
   },
   "outputs": [
    {
     "output_type": "stream",
     "name": "stdout",
     "text": [
      "           id  player_id position  roster_slot_id  salary  swappable  \\\n0    16049653     395388    PG/SG             458   11200       True   \n1    16049654     395388    PG/SG             459   11200       True   \n2    16049655     395388    PG/SG             464   11200       True   \n3    16049656     395388    PG/SG             465   11200       True   \n4    16049665     463121       PG             458   10300       True   \n..        ...        ...      ...             ...     ...        ...   \n220  16049834    1135177       SG             465    3000       True   \n221  16049835    1138391    SF/PF             460    3000       True   \n222  16049836    1138391    SF/PF             461    3000       True   \n223  16049837    1138391    SF/PF             463    3000       True   \n224  16049838    1138391    SF/PF             465    3000       True   \n\n     disabled news_status  team_id team_abbreviation draft_alerts  \\\n0       False      Recent       10               HOU           []   \n1       False      Recent       10               HOU           []   \n2       False      Recent       10               HOU           []   \n3       False      Recent       10               HOU           []   \n4       False      Recent       22               POR           []   \n..        ...         ...      ...               ...          ...   \n220     False        None       22               POR           []   \n221     False      Recent       22               POR           []   \n222     False      Recent       22               POR           []   \n223     False      Recent       22               POR           []   \n224     False      Recent       22               POR           []   \n\n                                                 names  \\\n0    {'first': 'James', 'last': 'Harden', 'display'...   \n1    {'first': 'James', 'last': 'Harden', 'display'...   \n2    {'first': 'James', 'last': 'Harden', 'display'...   \n3    {'first': 'James', 'last': 'Harden', 'display'...   \n4    {'first': 'Damian', 'last': 'Lillard', 'displa...   \n..                                                 ...   \n220  {'first': 'CJ', 'last': 'Elleby', 'display': '...   \n221  {'first': 'Nassir', 'last': 'Little', 'display...   \n222  {'first': 'Nassir', 'last': 'Little', 'display...   \n223  {'first': 'Nassir', 'last': 'Little', 'display...   \n224  {'first': 'Nassir', 'last': 'Little', 'display...   \n\n                                                images  \\\n0    {'full': None, '50': 'https://dkn.gs/sports/im...   \n1    {'full': None, '50': 'https://dkn.gs/sports/im...   \n2    {'full': None, '50': 'https://dkn.gs/sports/im...   \n3    {'full': None, '50': 'https://dkn.gs/sports/im...   \n4    {'full': None, '50': 'https://dkn.gs/sports/im...   \n..                                                 ...   \n220  {'full': None, '50': 'https://dkn.gs/sports/im...   \n221  {'full': None, '50': 'https://dkn.gs/sports/im...   \n222  {'full': None, '50': 'https://dkn.gs/sports/im...   \n223  {'full': None, '50': 'https://dkn.gs/sports/im...   \n224  {'full': None, '50': 'https://dkn.gs/sports/im...   \n\n                                           competition  \n0    {'id': 5714412, 'name': 'HOU @ DEN', 'starts_a...  \n1    {'id': 5714412, 'name': 'HOU @ DEN', 'starts_a...  \n2    {'id': 5714412, 'name': 'HOU @ DEN', 'starts_a...  \n3    {'id': 5714412, 'name': 'HOU @ DEN', 'starts_a...  \n4    {'id': 5715036, 'name': 'POR @ LAL', 'starts_a...  \n..                                                 ...  \n220  {'id': 5715036, 'name': 'POR @ LAL', 'starts_a...  \n221  {'id': 5715036, 'name': 'POR @ LAL', 'starts_a...  \n222  {'id': 5715036, 'name': 'POR @ LAL', 'starts_a...  \n223  {'id': 5715036, 'name': 'POR @ LAL', 'starts_a...  \n224  {'id': 5715036, 'name': 'POR @ LAL', 'starts_a...  \n\n[225 rows x 14 columns]\n"
     ]
    }
   ],
   "source": [
    "group_id = df_night.draft_group_id.unique()[0]\n",
    "df_players = get_players(group_id)"
   ]
  },
  {
   "cell_type": "code",
   "execution_count": 64,
   "metadata": {},
   "outputs": [
    {
     "output_type": "execute_result",
     "data": {
      "text/plain": [
       "               Name        ID Position  Status  Salary       Game  \\\n",
       "0      James Harden  16049653    PG/SG  Recent   11200  HOU @ DEN   \n",
       "1      James Harden  16049654    PG/SG  Recent   11200  HOU @ DEN   \n",
       "2      James Harden  16049655    PG/SG  Recent   11200  HOU @ DEN   \n",
       "3      James Harden  16049656    PG/SG  Recent   11200  HOU @ DEN   \n",
       "4    Damian Lillard  16049665       PG  Recent   10300  POR @ LAL   \n",
       "..              ...       ...      ...     ...     ...        ...   \n",
       "220       CJ Elleby  16049834       SG    None    3000  POR @ LAL   \n",
       "221   Nassir Little  16049835    SF/PF  Recent    3000  POR @ LAL   \n",
       "222   Nassir Little  16049836    SF/PF  Recent    3000  POR @ LAL   \n",
       "223   Nassir Little  16049837    SF/PF  Recent    3000  POR @ LAL   \n",
       "224   Nassir Little  16049838    SF/PF  Recent    3000  POR @ LAL   \n",
       "\n",
       "                         Time TeamAbbrev  \n",
       "0   2020-12-29 02:00:00+00:00        HOU  \n",
       "1   2020-12-29 02:00:00+00:00        HOU  \n",
       "2   2020-12-29 02:00:00+00:00        HOU  \n",
       "3   2020-12-29 02:00:00+00:00        HOU  \n",
       "4   2020-12-29 03:00:00+00:00        POR  \n",
       "..                        ...        ...  \n",
       "220 2020-12-29 03:00:00+00:00        POR  \n",
       "221 2020-12-29 03:00:00+00:00        POR  \n",
       "222 2020-12-29 03:00:00+00:00        POR  \n",
       "223 2020-12-29 03:00:00+00:00        POR  \n",
       "224 2020-12-29 03:00:00+00:00        POR  \n",
       "\n",
       "[225 rows x 8 columns]"
      ],
      "text/html": "<div>\n<style scoped>\n    .dataframe tbody tr th:only-of-type {\n        vertical-align: middle;\n    }\n\n    .dataframe tbody tr th {\n        vertical-align: top;\n    }\n\n    .dataframe thead th {\n        text-align: right;\n    }\n</style>\n<table border=\"1\" class=\"dataframe\">\n  <thead>\n    <tr style=\"text-align: right;\">\n      <th></th>\n      <th>Name</th>\n      <th>ID</th>\n      <th>Position</th>\n      <th>Status</th>\n      <th>Salary</th>\n      <th>Game</th>\n      <th>Time</th>\n      <th>TeamAbbrev</th>\n    </tr>\n  </thead>\n  <tbody>\n    <tr>\n      <th>0</th>\n      <td>James Harden</td>\n      <td>16049653</td>\n      <td>PG/SG</td>\n      <td>Recent</td>\n      <td>11200</td>\n      <td>HOU @ DEN</td>\n      <td>2020-12-29 02:00:00+00:00</td>\n      <td>HOU</td>\n    </tr>\n    <tr>\n      <th>1</th>\n      <td>James Harden</td>\n      <td>16049654</td>\n      <td>PG/SG</td>\n      <td>Recent</td>\n      <td>11200</td>\n      <td>HOU @ DEN</td>\n      <td>2020-12-29 02:00:00+00:00</td>\n      <td>HOU</td>\n    </tr>\n    <tr>\n      <th>2</th>\n      <td>James Harden</td>\n      <td>16049655</td>\n      <td>PG/SG</td>\n      <td>Recent</td>\n      <td>11200</td>\n      <td>HOU @ DEN</td>\n      <td>2020-12-29 02:00:00+00:00</td>\n      <td>HOU</td>\n    </tr>\n    <tr>\n      <th>3</th>\n      <td>James Harden</td>\n      <td>16049656</td>\n      <td>PG/SG</td>\n      <td>Recent</td>\n      <td>11200</td>\n      <td>HOU @ DEN</td>\n      <td>2020-12-29 02:00:00+00:00</td>\n      <td>HOU</td>\n    </tr>\n    <tr>\n      <th>4</th>\n      <td>Damian Lillard</td>\n      <td>16049665</td>\n      <td>PG</td>\n      <td>Recent</td>\n      <td>10300</td>\n      <td>POR @ LAL</td>\n      <td>2020-12-29 03:00:00+00:00</td>\n      <td>POR</td>\n    </tr>\n    <tr>\n      <th>...</th>\n      <td>...</td>\n      <td>...</td>\n      <td>...</td>\n      <td>...</td>\n      <td>...</td>\n      <td>...</td>\n      <td>...</td>\n      <td>...</td>\n    </tr>\n    <tr>\n      <th>220</th>\n      <td>CJ Elleby</td>\n      <td>16049834</td>\n      <td>SG</td>\n      <td>None</td>\n      <td>3000</td>\n      <td>POR @ LAL</td>\n      <td>2020-12-29 03:00:00+00:00</td>\n      <td>POR</td>\n    </tr>\n    <tr>\n      <th>221</th>\n      <td>Nassir Little</td>\n      <td>16049835</td>\n      <td>SF/PF</td>\n      <td>Recent</td>\n      <td>3000</td>\n      <td>POR @ LAL</td>\n      <td>2020-12-29 03:00:00+00:00</td>\n      <td>POR</td>\n    </tr>\n    <tr>\n      <th>222</th>\n      <td>Nassir Little</td>\n      <td>16049836</td>\n      <td>SF/PF</td>\n      <td>Recent</td>\n      <td>3000</td>\n      <td>POR @ LAL</td>\n      <td>2020-12-29 03:00:00+00:00</td>\n      <td>POR</td>\n    </tr>\n    <tr>\n      <th>223</th>\n      <td>Nassir Little</td>\n      <td>16049837</td>\n      <td>SF/PF</td>\n      <td>Recent</td>\n      <td>3000</td>\n      <td>POR @ LAL</td>\n      <td>2020-12-29 03:00:00+00:00</td>\n      <td>POR</td>\n    </tr>\n    <tr>\n      <th>224</th>\n      <td>Nassir Little</td>\n      <td>16049838</td>\n      <td>SF/PF</td>\n      <td>Recent</td>\n      <td>3000</td>\n      <td>POR @ LAL</td>\n      <td>2020-12-29 03:00:00+00:00</td>\n      <td>POR</td>\n    </tr>\n  </tbody>\n</table>\n<p>225 rows × 8 columns</p>\n</div>"
     },
     "metadata": {},
     "execution_count": 64
    }
   ],
   "source": [
    "df_players"
   ]
  },
  {
   "source": [
    "## Optionally, can read players sheet directly from DKSalaries, if it is downloaded"
   ],
   "cell_type": "markdown",
   "metadata": {}
  },
  {
   "cell_type": "code",
   "execution_count": 5,
   "metadata": {},
   "outputs": [],
   "source": [
    "# df_players = get_players_from_salaries('../data/raw/DKSalaries_test.csv')"
   ]
  },
  {
   "cell_type": "code",
   "execution_count": 6,
   "metadata": {
    "tags": []
   },
   "outputs": [],
   "source": [
    "points, std = get_projections(df_players)\n",
    "df_players['projections'] = points\n",
    "df_players['std'] = std"
   ]
  },
  {
   "cell_type": "code",
   "execution_count": 7,
   "metadata": {},
   "outputs": [
    {
     "output_type": "execute_result",
     "data": {
      "text/plain": [
       "            Name        ID Position    Status  Salary       Game  \\\n",
       "0   LeBron James  15580981    PG/SF    Recent   18600  MIA @ LAL   \n",
       "1  Anthony Davis  15580982     PF/C    Recent   17700  MIA @ LAL   \n",
       "2   Jimmy Butler  15580983    SG/SF    Recent   16200  MIA @ LAL   \n",
       "3    Bam Adebayo  15580984        C    Recent   14700  MIA @ LAL   \n",
       "4    Tyler Herro  15580985       SG  Breaking   13500  MIA @ LAL   \n",
       "\n",
       "                       Time TeamAbbrev  projections        std  \n",
       "0 2020-10-10 01:00:00+00:00        LAL    91.364916  25.382058  \n",
       "1 2020-10-10 01:00:00+00:00        LAL   113.327819  48.794305  \n",
       "2 2020-10-10 01:00:00+00:00        MIA    62.325117  26.971521  \n",
       "3 2020-10-10 01:00:00+00:00        MIA    62.372825  23.083821  \n",
       "4 2020-10-10 01:00:00+00:00        MIA    72.774675  22.805194  "
      ],
      "text/html": "<div>\n<style scoped>\n    .dataframe tbody tr th:only-of-type {\n        vertical-align: middle;\n    }\n\n    .dataframe tbody tr th {\n        vertical-align: top;\n    }\n\n    .dataframe thead th {\n        text-align: right;\n    }\n</style>\n<table border=\"1\" class=\"dataframe\">\n  <thead>\n    <tr style=\"text-align: right;\">\n      <th></th>\n      <th>Name</th>\n      <th>ID</th>\n      <th>Position</th>\n      <th>Status</th>\n      <th>Salary</th>\n      <th>Game</th>\n      <th>Time</th>\n      <th>TeamAbbrev</th>\n      <th>projections</th>\n      <th>std</th>\n    </tr>\n  </thead>\n  <tbody>\n    <tr>\n      <th>0</th>\n      <td>LeBron James</td>\n      <td>15580981</td>\n      <td>PG/SF</td>\n      <td>Recent</td>\n      <td>18600</td>\n      <td>MIA @ LAL</td>\n      <td>2020-10-10 01:00:00+00:00</td>\n      <td>LAL</td>\n      <td>91.364916</td>\n      <td>25.382058</td>\n    </tr>\n    <tr>\n      <th>1</th>\n      <td>Anthony Davis</td>\n      <td>15580982</td>\n      <td>PF/C</td>\n      <td>Recent</td>\n      <td>17700</td>\n      <td>MIA @ LAL</td>\n      <td>2020-10-10 01:00:00+00:00</td>\n      <td>LAL</td>\n      <td>113.327819</td>\n      <td>48.794305</td>\n    </tr>\n    <tr>\n      <th>2</th>\n      <td>Jimmy Butler</td>\n      <td>15580983</td>\n      <td>SG/SF</td>\n      <td>Recent</td>\n      <td>16200</td>\n      <td>MIA @ LAL</td>\n      <td>2020-10-10 01:00:00+00:00</td>\n      <td>MIA</td>\n      <td>62.325117</td>\n      <td>26.971521</td>\n    </tr>\n    <tr>\n      <th>3</th>\n      <td>Bam Adebayo</td>\n      <td>15580984</td>\n      <td>C</td>\n      <td>Recent</td>\n      <td>14700</td>\n      <td>MIA @ LAL</td>\n      <td>2020-10-10 01:00:00+00:00</td>\n      <td>MIA</td>\n      <td>62.372825</td>\n      <td>23.083821</td>\n    </tr>\n    <tr>\n      <th>4</th>\n      <td>Tyler Herro</td>\n      <td>15580985</td>\n      <td>SG</td>\n      <td>Breaking</td>\n      <td>13500</td>\n      <td>MIA @ LAL</td>\n      <td>2020-10-10 01:00:00+00:00</td>\n      <td>MIA</td>\n      <td>72.774675</td>\n      <td>22.805194</td>\n    </tr>\n  </tbody>\n</table>\n</div>"
     },
     "metadata": {},
     "execution_count": 7
    }
   ],
   "source": [
    "df_players.head()"
   ]
  },
  {
   "source": [
    "## Now exposures must be inputted\n",
    "Here the dataframe above is saved to the data/temp folder for exposures to be filled out.\n",
    "Once the exposures are filled out, run exp.read_exposures() to pull the sheet into the dataframe."
   ],
   "cell_type": "markdown",
   "metadata": {}
  },
  {
   "cell_type": "code",
   "execution_count": 15,
   "metadata": {
    "tags": []
   },
   "outputs": [
    {
     "output_type": "stream",
     "name": "stdout",
     "text": [
      "Please fill out exposures in ../data/temp/20201006.csv\n"
     ]
    }
   ],
   "source": [
    "exp = Exposures(df_players)"
   ]
  },
  {
   "cell_type": "code",
   "execution_count": 16,
   "metadata": {},
   "outputs": [],
   "source": [
    "df_players = exp.read_exposures()"
   ]
  },
  {
   "cell_type": "code",
   "execution_count": 17,
   "metadata": {},
   "outputs": [
    {
     "output_type": "execute_result",
     "data": {
      "text/plain": [
       "              Name        ID Position  Salary    Status TeamAbbrev  \\\n",
       "0     LeBron James  15580981    PG/SF   18600    Recent        LAL   \n",
       "1    Anthony Davis  15580982     PF/C   17700    Recent        LAL   \n",
       "2     Jimmy Butler  15580983    SG/SF   16200    Recent        MIA   \n",
       "3      Bam Adebayo  15580984        C   14700    Recent        MIA   \n",
       "4      Tyler Herro  15580985       SG   13500  Breaking        MIA   \n",
       "..             ...       ...      ...     ...       ...        ...   \n",
       "65    Dion Waiters  15580976    SG/SF    1000  Breaking        LAL   \n",
       "66      Quinn Cook  15580977       PG    1000      None        LAL   \n",
       "67  Kyle Alexander  15580978        C    1000      None        MIA   \n",
       "68   Avery Bradley  15580979       PG    1000      None        LAL   \n",
       "69       KZ Okpala  15580980       SF    1000      None        MIA   \n",
       "\n",
       "                        Time  projections        std  min_exp  max_exp  \n",
       "0  2020-10-10 01:00:00+00:00    91.409624  46.703193        0      0.4  \n",
       "1  2020-10-10 01:00:00+00:00    89.181931  28.108531        0      0.4  \n",
       "2  2020-10-10 01:00:00+00:00    64.552638  32.301815        0      0.4  \n",
       "3  2020-10-10 01:00:00+00:00    57.276068  35.406902        0      0.4  \n",
       "4  2020-10-10 01:00:00+00:00    69.263188  26.463128        0      0.4  \n",
       "..                       ...          ...        ...      ...      ...  \n",
       "65 2020-10-10 01:00:00+00:00     1.970700   2.253133        0      0.4  \n",
       "66 2020-10-10 01:00:00+00:00     5.666160   2.490163        0      0.4  \n",
       "67 2020-10-10 01:00:00+00:00     3.870371   2.635554        0      0.4  \n",
       "68 2020-10-10 01:00:00+00:00     3.638591   1.676683        0      0.4  \n",
       "69 2020-10-10 01:00:00+00:00     4.872886   2.151913        0      0.4  \n",
       "\n",
       "[70 rows x 11 columns]"
      ],
      "text/html": "<div>\n<style scoped>\n    .dataframe tbody tr th:only-of-type {\n        vertical-align: middle;\n    }\n\n    .dataframe tbody tr th {\n        vertical-align: top;\n    }\n\n    .dataframe thead th {\n        text-align: right;\n    }\n</style>\n<table border=\"1\" class=\"dataframe\">\n  <thead>\n    <tr style=\"text-align: right;\">\n      <th></th>\n      <th>Name</th>\n      <th>ID</th>\n      <th>Position</th>\n      <th>Salary</th>\n      <th>Status</th>\n      <th>TeamAbbrev</th>\n      <th>Time</th>\n      <th>projections</th>\n      <th>std</th>\n      <th>min_exp</th>\n      <th>max_exp</th>\n    </tr>\n  </thead>\n  <tbody>\n    <tr>\n      <th>0</th>\n      <td>LeBron James</td>\n      <td>15580981</td>\n      <td>PG/SF</td>\n      <td>18600</td>\n      <td>Recent</td>\n      <td>LAL</td>\n      <td>2020-10-10 01:00:00+00:00</td>\n      <td>91.409624</td>\n      <td>46.703193</td>\n      <td>0</td>\n      <td>0.4</td>\n    </tr>\n    <tr>\n      <th>1</th>\n      <td>Anthony Davis</td>\n      <td>15580982</td>\n      <td>PF/C</td>\n      <td>17700</td>\n      <td>Recent</td>\n      <td>LAL</td>\n      <td>2020-10-10 01:00:00+00:00</td>\n      <td>89.181931</td>\n      <td>28.108531</td>\n      <td>0</td>\n      <td>0.4</td>\n    </tr>\n    <tr>\n      <th>2</th>\n      <td>Jimmy Butler</td>\n      <td>15580983</td>\n      <td>SG/SF</td>\n      <td>16200</td>\n      <td>Recent</td>\n      <td>MIA</td>\n      <td>2020-10-10 01:00:00+00:00</td>\n      <td>64.552638</td>\n      <td>32.301815</td>\n      <td>0</td>\n      <td>0.4</td>\n    </tr>\n    <tr>\n      <th>3</th>\n      <td>Bam Adebayo</td>\n      <td>15580984</td>\n      <td>C</td>\n      <td>14700</td>\n      <td>Recent</td>\n      <td>MIA</td>\n      <td>2020-10-10 01:00:00+00:00</td>\n      <td>57.276068</td>\n      <td>35.406902</td>\n      <td>0</td>\n      <td>0.4</td>\n    </tr>\n    <tr>\n      <th>4</th>\n      <td>Tyler Herro</td>\n      <td>15580985</td>\n      <td>SG</td>\n      <td>13500</td>\n      <td>Breaking</td>\n      <td>MIA</td>\n      <td>2020-10-10 01:00:00+00:00</td>\n      <td>69.263188</td>\n      <td>26.463128</td>\n      <td>0</td>\n      <td>0.4</td>\n    </tr>\n    <tr>\n      <th>...</th>\n      <td>...</td>\n      <td>...</td>\n      <td>...</td>\n      <td>...</td>\n      <td>...</td>\n      <td>...</td>\n      <td>...</td>\n      <td>...</td>\n      <td>...</td>\n      <td>...</td>\n      <td>...</td>\n    </tr>\n    <tr>\n      <th>65</th>\n      <td>Dion Waiters</td>\n      <td>15580976</td>\n      <td>SG/SF</td>\n      <td>1000</td>\n      <td>Breaking</td>\n      <td>LAL</td>\n      <td>2020-10-10 01:00:00+00:00</td>\n      <td>1.970700</td>\n      <td>2.253133</td>\n      <td>0</td>\n      <td>0.4</td>\n    </tr>\n    <tr>\n      <th>66</th>\n      <td>Quinn Cook</td>\n      <td>15580977</td>\n      <td>PG</td>\n      <td>1000</td>\n      <td>None</td>\n      <td>LAL</td>\n      <td>2020-10-10 01:00:00+00:00</td>\n      <td>5.666160</td>\n      <td>2.490163</td>\n      <td>0</td>\n      <td>0.4</td>\n    </tr>\n    <tr>\n      <th>67</th>\n      <td>Kyle Alexander</td>\n      <td>15580978</td>\n      <td>C</td>\n      <td>1000</td>\n      <td>None</td>\n      <td>MIA</td>\n      <td>2020-10-10 01:00:00+00:00</td>\n      <td>3.870371</td>\n      <td>2.635554</td>\n      <td>0</td>\n      <td>0.4</td>\n    </tr>\n    <tr>\n      <th>68</th>\n      <td>Avery Bradley</td>\n      <td>15580979</td>\n      <td>PG</td>\n      <td>1000</td>\n      <td>None</td>\n      <td>LAL</td>\n      <td>2020-10-10 01:00:00+00:00</td>\n      <td>3.638591</td>\n      <td>1.676683</td>\n      <td>0</td>\n      <td>0.4</td>\n    </tr>\n    <tr>\n      <th>69</th>\n      <td>KZ Okpala</td>\n      <td>15580980</td>\n      <td>SF</td>\n      <td>1000</td>\n      <td>None</td>\n      <td>MIA</td>\n      <td>2020-10-10 01:00:00+00:00</td>\n      <td>4.872886</td>\n      <td>2.151913</td>\n      <td>0</td>\n      <td>0.4</td>\n    </tr>\n  </tbody>\n</table>\n<p>70 rows × 11 columns</p>\n</div>"
     },
     "metadata": {},
     "execution_count": 17
    }
   ],
   "source": [
    "cols = df_players.columns\n",
    "df_players"
   ]
  },
  {
   "source": [
    "# Now let's work with a historical dataframe \n",
    "Data is from 2020/01/02"
   ],
   "cell_type": "markdown",
   "metadata": {}
  },
  {
   "cell_type": "code",
   "execution_count": 18,
   "metadata": {},
   "outputs": [
    {
     "output_type": "execute_result",
     "data": {
      "text/plain": [
       "             Name        ID Position  Salary  Status TeamAbbrev  \\\n",
       "0     Gary Harris  14066354       SG    4600  recent        MIL   \n",
       "1  Darius Garland  14066387       PG    4400  recent        HOU   \n",
       "2   Collin Sexton  14066177    PG/SG    5900  recent        HOU   \n",
       "3    Kevin Porter  14066428    SG/SF    4200  recent        MIL   \n",
       "4   Aaron Holiday  14066210    PG/SG    5700  recent        HOU   \n",
       "\n",
       "                       Time  projections       std  min_exp  max_exp  \n",
       "0 2020-09-10 23:00:00+00:00        29.62  4.462711        0      0.4  \n",
       "1 2020-09-10 23:00:00+00:00        26.53  4.750068        0      0.4  \n",
       "2 2020-09-10 23:00:00+00:00        34.33  7.762624        0      0.4  \n",
       "3 2020-09-10 23:00:00+00:00        23.80  5.999999        0      0.4  \n",
       "4 2020-09-10 23:00:00+00:00        31.38  5.332358        0      0.4  "
      ],
      "text/html": "<div>\n<style scoped>\n    .dataframe tbody tr th:only-of-type {\n        vertical-align: middle;\n    }\n\n    .dataframe tbody tr th {\n        vertical-align: top;\n    }\n\n    .dataframe thead th {\n        text-align: right;\n    }\n</style>\n<table border=\"1\" class=\"dataframe\">\n  <thead>\n    <tr style=\"text-align: right;\">\n      <th></th>\n      <th>Name</th>\n      <th>ID</th>\n      <th>Position</th>\n      <th>Salary</th>\n      <th>Status</th>\n      <th>TeamAbbrev</th>\n      <th>Time</th>\n      <th>projections</th>\n      <th>std</th>\n      <th>min_exp</th>\n      <th>max_exp</th>\n    </tr>\n  </thead>\n  <tbody>\n    <tr>\n      <th>0</th>\n      <td>Gary Harris</td>\n      <td>14066354</td>\n      <td>SG</td>\n      <td>4600</td>\n      <td>recent</td>\n      <td>MIL</td>\n      <td>2020-09-10 23:00:00+00:00</td>\n      <td>29.62</td>\n      <td>4.462711</td>\n      <td>0</td>\n      <td>0.4</td>\n    </tr>\n    <tr>\n      <th>1</th>\n      <td>Darius Garland</td>\n      <td>14066387</td>\n      <td>PG</td>\n      <td>4400</td>\n      <td>recent</td>\n      <td>HOU</td>\n      <td>2020-09-10 23:00:00+00:00</td>\n      <td>26.53</td>\n      <td>4.750068</td>\n      <td>0</td>\n      <td>0.4</td>\n    </tr>\n    <tr>\n      <th>2</th>\n      <td>Collin Sexton</td>\n      <td>14066177</td>\n      <td>PG/SG</td>\n      <td>5900</td>\n      <td>recent</td>\n      <td>HOU</td>\n      <td>2020-09-10 23:00:00+00:00</td>\n      <td>34.33</td>\n      <td>7.762624</td>\n      <td>0</td>\n      <td>0.4</td>\n    </tr>\n    <tr>\n      <th>3</th>\n      <td>Kevin Porter</td>\n      <td>14066428</td>\n      <td>SG/SF</td>\n      <td>4200</td>\n      <td>recent</td>\n      <td>MIL</td>\n      <td>2020-09-10 23:00:00+00:00</td>\n      <td>23.80</td>\n      <td>5.999999</td>\n      <td>0</td>\n      <td>0.4</td>\n    </tr>\n    <tr>\n      <th>4</th>\n      <td>Aaron Holiday</td>\n      <td>14066210</td>\n      <td>PG/SG</td>\n      <td>5700</td>\n      <td>recent</td>\n      <td>HOU</td>\n      <td>2020-09-10 23:00:00+00:00</td>\n      <td>31.38</td>\n      <td>5.332358</td>\n      <td>0</td>\n      <td>0.4</td>\n    </tr>\n  </tbody>\n</table>\n</div>"
     },
     "metadata": {},
     "execution_count": 18
    }
   ],
   "source": [
    "df_players = pd.read_csv('../data/raw/test_20200102.csv')\n",
    "df_players['Time'] = pd.to_datetime(df_players['Time'])\n",
    "df_players = df_players[cols]\n",
    "df_players.head()"
   ]
  },
  {
   "source": [
    "# Let's do a simple lineup optimization\n",
    "This is like the original optimizer. Provide the number of desired lineups and the dataframe.\n",
    "Note that order=1 is an optional argument, but defaults to unordered (0)\n",
    "time_limit=10.0 by default, but is also an optional argument.\n",
    "\n",
    "This first step creates the optimization model."
   ],
   "cell_type": "markdown",
   "metadata": {}
  },
  {
   "cell_type": "code",
   "execution_count": 19,
   "metadata": {
    "tags": []
   },
   "outputs": [],
   "source": [
    "opt = LineupOptimizer(df_players, n_lineups=20, verbose=True)"
   ]
  },
  {
   "source": [
    "## opt.solve() solves the optimization problem"
   ],
   "cell_type": "markdown",
   "metadata": {}
  },
  {
   "cell_type": "code",
   "execution_count": 21,
   "metadata": {
    "tags": []
   },
   "outputs": [
    {
     "output_type": "stream",
     "name": "stdout",
     "text": [
      "Version identifier: 12.10.0.0 | 2019-11-27 | 843d4de2ae\n",
      "CPXPARAM_Read_DataCheck                          1\n",
      "CPXPARAM_TimeLimit                               10\n",
      "\n",
      "        Nodes                                         Cuts/\n",
      "   Node  Left     Objective  IInf  Best Integer    Best Bound    ItCnt     Gap\n",
      "\n",
      "  40026 25539     5515.3287    41     5505.4500     5515.4356   300963    0.18%\n",
      "Elapsed time = 0.13 sec. (8.21 ticks, tree = 17.88 MB, solutions = 14)\n",
      "* 40740+25617                         5506.7900     5515.4356             0.16%\n",
      "* 40801+25629                         5507.1200     5515.4356             0.15%\n",
      "* 40829+25634                         5507.1800     5515.4356             0.15%\n",
      "* 41371+25608                         5507.2600     5515.4356             0.15%\n",
      "* 41415+25606                         5507.7600     5515.4356             0.14%\n",
      "* 41711+21383                         5507.9900     5515.4356             0.14%\n",
      "  41805 20964     5513.4899    41     5507.9900     5515.4356   306719    0.14%\n",
      "* 42402+21005                         5508.3500     5515.4356             0.13%\n",
      "* 42405+22294                         5510.1400     5515.4356             0.10%\n",
      "  43029 21364     5513.4887    38     5510.1400     5515.4356   306137    0.10%\n",
      "* 43263+16416                         5510.7800     5515.4356             0.08%\n",
      "* 44055+16678                         5511.3900     5515.4356             0.07%\n",
      "  44378 15827     5514.7543    45     5511.3900     5515.4356   320234    0.07%\n",
      "  47823 16497     5515.2633    44     5511.3900     5515.4356   327718    0.07%\n",
      "  51906 17087     5515.4356    41     5511.3900     5515.4356   332401    0.07%\n",
      "  56040 14735     5514.9229    43     5511.3900     5515.4356   331067    0.07%\n",
      "  60663 25869     5514.5135    44     5511.3900     5515.4356   453490    0.07%\n",
      "  64703 29277     5513.7962    45     5511.3900     5515.4356   493442    0.07%\n",
      "  69260 34212     5514.3381    49     5511.3900     5515.4356   545104    0.07%\n",
      "\n",
      "Performing restart 2\n",
      "\n",
      "Repeating presolve.\n",
      "Tried aggregator 1 time.\n",
      "MIP Presolve eliminated 3 rows and 60 columns.\n",
      "Reduced MIP has 266 rows, 920 columns, and 5340 nonzeros.\n",
      "Reduced MIP has 920 binaries, 0 generals, 0 SOSs, and 0 indicators.\n",
      "Presolve time = 0.02 sec. (1.90 ticks)\n",
      "Tried aggregator 1 time.\n",
      "Reduced MIP has 266 rows, 920 columns, and 5340 nonzeros.\n",
      "Reduced MIP has 920 binaries, 0 generals, 0 SOSs, and 0 indicators.\n",
      "Presolve time = 0.01 sec. (3.06 ticks)\n",
      "Represolve time = 0.19 sec. (52.07 ticks)\n",
      "  71028     0     5515.4356    71     5511.3900      Cuts: 33   575628    0.07%\n",
      "  71028     0     5515.4356    71     5511.3900      Cuts: 43   575729    0.07%\n",
      "  71028     0     5515.4356    71     5511.3900      Cuts: 22   575794    0.07%\n",
      "  71028     0     5515.4356    71     5511.3900      Cuts: 50   575875    0.07%\n",
      "  71028     0     5515.4356    71     5511.3900      Cuts: 25   575981    0.07%\n",
      "  71028     0     5515.4356    71     5511.3900      Cuts: 60   576138    0.07%\n",
      "  71028     0     5515.4356    71     5511.3900      Cuts: 21   576233    0.07%\n",
      "  71028     0     5515.4356    71     5511.3900      Cuts: 65   576403    0.07%\n",
      "  71028     0     5515.4356    71     5511.3900      Cuts: 14   576487    0.07%\n",
      "  71028     0     5515.4356    71     5511.3900      Cuts: 72   576631    0.07%\n",
      "  71028     0     5515.4356    71     5511.3900      Cuts: 10   576677    0.07%\n",
      "  71028     0     5515.4356    71     5511.3900      Cuts: 38   576735    0.07%\n",
      "  71028     0     5515.4356    71     5511.3900      Cuts: 13   576846    0.07%\n",
      "  71030     3     5515.4356    58     5511.3900     5515.4356   576862    0.07%\n",
      "Elapsed time = 8.02 sec. (3304.66 ticks, tree = 0.02 MB, solutions = 42)\n",
      "\n",
      "Cover cuts applied:  2\n",
      "Gomory fractional cuts applied:  1\n",
      "\n",
      "Root node processing (before b&c):\n",
      "  Real time             =    0.02 sec. (0.37 ticks)\n",
      "Parallel b&c, 8 threads:\n",
      "  Real time             =   10.02 sec. (4220.42 ticks)\n",
      "  Sync time (average)   =    1.07 sec.\n",
      "  Wait time (average)   =    0.09 sec.\n",
      "                          ------------\n",
      "Total (root+branch&cut) =   10.03 sec. (4220.79 ticks)\n"
     ]
    },
    {
     "output_type": "execute_result",
     "data": {
      "text/plain": [
       "array([[0., 0., 1., 1., 1., 0., 0., 1., 1., 0., 0., 1., 0., 0., 0., 1.,\n",
       "        1., 0., 0., 0.],\n",
       "       [1., 1., 0., 0., 0., 0., 1., 1., 0., 0., 1., 0., 0., 1., 1., 0.,\n",
       "        0., 0., 1., 0.],\n",
       "       [0., 0., 0., 0., 0., 0., 0., 0., 1., 0., 1., 1., 1., 1., 1., 0.,\n",
       "        1., 1., 0., 0.],\n",
       "       [0., 1., 0., 1., 0., 1., 0., 0., 0., 1., 0., 0., 1., 1., 0., 0.,\n",
       "        1., 0., 1., 0.],\n",
       "       [1., 0., 0., 0., 1., 0., 0., 1., 1., 0., 0., 1., 1., 0., 0., 0.,\n",
       "        1., 1., 0., 0.],\n",
       "       [0., 1., 0., 0., 0., 1., 1., 0., 0., 1., 1., 0., 1., 0., 0., 0.,\n",
       "        0., 1., 0., 1.],\n",
       "       [0., 0., 0., 0., 0., 0., 0., 0., 0., 0., 0., 0., 0., 0., 0., 0.,\n",
       "        0., 0., 0., 0.],\n",
       "       [1., 1., 0., 0., 1., 0., 1., 1., 1., 0., 0., 1., 0., 0., 0., 0.,\n",
       "        0., 0., 0., 0.],\n",
       "       [0., 0., 0., 0., 0., 0., 0., 0., 0., 0., 0., 0., 0., 0., 0., 0.,\n",
       "        0., 0., 0., 0.],\n",
       "       [0., 0., 0., 0., 0., 1., 0., 1., 0., 1., 1., 0., 1., 0., 0., 0.,\n",
       "        0., 1., 1., 1.],\n",
       "       [0., 0., 1., 0., 1., 1., 0., 0., 1., 0., 0., 1., 1., 0., 0., 1.,\n",
       "        0., 0., 0., 1.],\n",
       "       [1., 0., 0., 1., 1., 0., 0., 0., 0., 1., 0., 0., 0., 0., 1., 1.,\n",
       "        0., 0., 0., 1.],\n",
       "       [0., 0., 1., 1., 0., 1., 1., 0., 0., 1., 0., 0., 0., 0., 1., 0.,\n",
       "        0., 0., 1., 1.],\n",
       "       [0., 0., 0., 0., 0., 0., 0., 0., 0., 0., 0., 0., 0., 0., 0., 0.,\n",
       "        0., 0., 0., 0.],\n",
       "       [0., 0., 0., 0., 0., 0., 0., 0., 0., 0., 0., 0., 0., 0., 0., 0.,\n",
       "        0., 0., 0., 0.],\n",
       "       [0., 1., 0., 1., 0., 0., 0., 0., 1., 0., 1., 1., 1., 0., 1., 0.,\n",
       "        1., 0., 0., 0.],\n",
       "       [0., 0., 0., 0., 0., 0., 0., 0., 0., 0., 0., 0., 0., 0., 0., 0.,\n",
       "        0., 0., 0., 0.],\n",
       "       [1., 0., 0., 1., 0., 0., 1., 0., 0., 1., 0., 0., 0., 0., 1., 1.,\n",
       "        0., 0., 0., 1.],\n",
       "       [0., 0., 1., 0., 0., 0., 0., 0., 0., 0., 0., 0., 0., 0., 0., 0.,\n",
       "        1., 1., 0., 0.],\n",
       "       [0., 1., 1., 0., 0., 1., 0., 0., 0., 0., 1., 0., 0., 0., 1., 0.,\n",
       "        0., 1., 1., 1.],\n",
       "       [0., 0., 0., 0., 0., 0., 0., 0., 0., 0., 0., 0., 0., 0., 0., 0.,\n",
       "        0., 0., 0., 0.],\n",
       "       [1., 0., 0., 0., 0., 0., 0., 0., 0., 0., 1., 0., 0., 1., 0., 0.,\n",
       "        0., 1., 1., 0.],\n",
       "       [0., 1., 0., 1., 0., 0., 1., 0., 0., 0., 1., 0., 0., 1., 1., 1.,\n",
       "        0., 1., 0., 0.],\n",
       "       [0., 0., 1., 0., 0., 0., 1., 0., 1., 1., 0., 1., 0., 0., 0., 1.,\n",
       "        0., 0., 1., 1.],\n",
       "       [1., 0., 1., 0., 1., 1., 1., 0., 0., 0., 0., 0., 0., 1., 0., 1.,\n",
       "        0., 0., 0., 0.],\n",
       "       [0., 0., 0., 0., 0., 0., 0., 1., 0., 0., 0., 0., 0., 0., 0., 0.,\n",
       "        0., 0., 0., 0.],\n",
       "       [0., 0., 0., 0., 0., 0., 0., 0., 0., 0., 0., 0., 0., 0., 0., 0.,\n",
       "        0., 0., 0., 0.],\n",
       "       [0., 0., 0., 0., 0., 0., 0., 0., 0., 0., 0., 0., 0., 0., 0., 0.,\n",
       "        0., 0., 0., 0.],\n",
       "       [0., 0., 0., 0., 0., 0., 0., 0., 0., 0., 0., 0., 0., 0., 0., 0.,\n",
       "        0., 0., 0., 0.],\n",
       "       [0., 0., 0., 0., 0., 0., 0., 0., 0., 0., 0., 0., 0., 0., 0., 0.,\n",
       "        0., 0., 0., 0.],\n",
       "       [0., 0., 0., 0., 0., 0., 0., 0., 0., 0., 0., 0., 0., 0., 0., 0.,\n",
       "        0., 0., 0., 0.],\n",
       "       [0., 0., 0., 0., 0., 0., 0., 0., 0., 0., 0., 0., 0., 0., 0., 0.,\n",
       "        0., 0., 0., 0.],\n",
       "       [0., 1., 0., 0., 1., 0., 0., 1., 0., 1., 0., 0., 1., 1., 0., 1.,\n",
       "        1., 0., 0., 0.],\n",
       "       [0., 0., 0., 0., 0., 0., 0., 0., 0., 0., 0., 0., 0., 0., 0., 0.,\n",
       "        0., 0., 0., 0.],\n",
       "       [0., 0., 0., 0., 0., 0., 0., 0., 0., 0., 0., 0., 0., 0., 0., 0.,\n",
       "        0., 0., 0., 0.],\n",
       "       [1., 0., 0., 1., 1., 0., 0., 1., 1., 0., 0., 1., 0., 1., 0., 0.,\n",
       "        1., 0., 0., 0.],\n",
       "       [0., 0., 1., 0., 0., 1., 0., 0., 0., 0., 0., 0., 0., 0., 0., 0.,\n",
       "        0., 0., 1., 0.],\n",
       "       [0., 0., 0., 0., 0., 0., 0., 0., 0., 0., 0., 0., 0., 0., 0., 0.,\n",
       "        0., 0., 0., 0.],\n",
       "       [0., 0., 0., 0., 0., 0., 0., 0., 0., 0., 0., 0., 0., 0., 0., 0.,\n",
       "        0., 0., 0., 0.],\n",
       "       [0., 0., 0., 0., 0., 0., 0., 0., 0., 0., 0., 0., 0., 0., 0., 0.,\n",
       "        0., 0., 0., 0.],\n",
       "       [0., 0., 0., 0., 0., 0., 0., 0., 0., 0., 0., 0., 0., 0., 0., 0.,\n",
       "        0., 0., 0., 0.],\n",
       "       [0., 0., 0., 0., 0., 0., 0., 0., 0., 0., 0., 0., 0., 0., 0., 0.,\n",
       "        0., 0., 0., 0.],\n",
       "       [0., 0., 0., 0., 0., 0., 0., 0., 0., 0., 0., 0., 0., 0., 0., 0.,\n",
       "        0., 0., 0., 0.],\n",
       "       [0., 0., 0., 0., 0., 0., 0., 0., 0., 0., 0., 0., 0., 0., 0., 0.,\n",
       "        0., 0., 0., 0.],\n",
       "       [0., 0., 0., 0., 0., 0., 0., 0., 0., 0., 0., 0., 0., 0., 0., 0.,\n",
       "        0., 0., 0., 0.],\n",
       "       [0., 0., 0., 0., 0., 0., 0., 0., 0., 0., 0., 0., 0., 0., 0., 0.,\n",
       "        0., 0., 0., 0.],\n",
       "       [0., 0., 0., 0., 0., 0., 0., 0., 0., 0., 0., 0., 0., 0., 0., 0.,\n",
       "        0., 0., 0., 0.],\n",
       "       [0., 0., 0., 0., 0., 0., 0., 0., 0., 0., 0., 0., 0., 0., 0., 0.,\n",
       "        0., 0., 0., 0.],\n",
       "       [0., 0., 0., 0., 0., 0., 0., 0., 0., 0., 0., 0., 0., 0., 0., 0.,\n",
       "        0., 0., 0., 0.]])"
      ]
     },
     "metadata": {},
     "execution_count": 21
    }
   ],
   "source": [
    "opt.solve()"
   ]
  },
  {
   "source": [
    "## Now let's sort the optimal lineups"
   ],
   "cell_type": "markdown",
   "metadata": {}
  },
  {
   "cell_type": "code",
   "execution_count": 22,
   "metadata": {
    "tags": []
   },
   "outputs": [
    {
     "output_type": "stream",
     "name": "stdout",
     "text": [
      "2 Infeasible lineups dropped\n"
     ]
    },
    {
     "output_type": "execute_result",
     "data": {
      "text/plain": [
       "                   PG                 SG                SF                 PF  \\\n",
       "0   Spencer Dinwiddie        Gary Harris      Kevin Porter   Robert Covington   \n",
       "1        De'Aaron Fox      Jalen Brunson     Dillon Brooks    Harrison Barnes   \n",
       "2      Darius Garland      Jalen Brunson       Buddy Hield    Marquese Chriss   \n",
       "3       Jalen Brunson  Spencer Dinwiddie      Kevin Porter  LaMarcus Aldridge   \n",
       "4      Darius Garland      Collin Sexton     Dillon Brooks   Bojan Bogdanovic   \n",
       "5       Jalen Brunson        Gary Harris      Kevin Porter   Bojan Bogdanovic   \n",
       "6       Jalen Brunson  Spencer Dinwiddie      Kevin Porter   Domantas Sabonis   \n",
       "7      Darius Garland      Collin Sexton       Buddy Hield   Bojan Bogdanovic   \n",
       "8       Collin Sexton        Gary Harris      Jimmy Butler   Bojan Bogdanovic   \n",
       "9      Darius Garland  Spencer Dinwiddie     Dillon Brooks   Bojan Bogdanovic   \n",
       "10     Darius Garland        Gary Harris     DeMar DeRozan   Robert Covington   \n",
       "11      Aaron Holiday        Gary Harris       Buddy Hield    Marquese Chriss   \n",
       "12      Jalen Brunson      Aaron Holiday     Dillon Brooks    Marquese Chriss   \n",
       "13     Darius Garland      Jalen Brunson      Jimmy Butler    Harrison Barnes   \n",
       "14  Spencer Dinwiddie      Collin Sexton  Bojan Bogdanovic    Harrison Barnes   \n",
       "15     Darius Garland        Gary Harris       Buddy Hield   Bojan Bogdanovic   \n",
       "16      Collin Sexton      Aaron Holiday     Dillon Brooks   Bojan Bogdanovic   \n",
       "\n",
       "                    C                  G                  F  \\\n",
       "0     Marquese Chriss      Aaron Holiday   Domantas Sabonis   \n",
       "1      Richaun Holmes   Donovan Mitchell        Buddy Hield   \n",
       "2    Domantas Sabonis      Aaron Holiday       Jimmy Butler   \n",
       "3    Domantas Sabonis      Aaron Holiday      Dillon Brooks   \n",
       "4      Richaun Holmes       De'Aaron Fox        Buddy Hield   \n",
       "5   LaMarcus Aldridge  Spencer Dinwiddie   Domantas Sabonis   \n",
       "6         Ivica Zubac      Dillon Brooks       Jimmy Butler   \n",
       "7     Marquese Chriss      Aaron Holiday  LaMarcus Aldridge   \n",
       "8         Ivica Zubac       De'Aaron Fox   Robert Covington   \n",
       "9         Ivica Zubac      Collin Sexton       Jimmy Butler   \n",
       "10        Ivica Zubac        Zach LaVine  LaMarcus Aldridge   \n",
       "11        Ivica Zubac       De'Aaron Fox       Jimmy Butler   \n",
       "12  LaMarcus Aldridge   Donovan Mitchell      DeMar DeRozan   \n",
       "13        Ivica Zubac  Spencer Dinwiddie  LaMarcus Aldridge   \n",
       "14        Ivica Zubac       De'Aaron Fox   Robert Covington   \n",
       "15     Richaun Holmes       De'Aaron Fox   Robert Covington   \n",
       "16    Marquese Chriss       De'Aaron Fox        Buddy Hield   \n",
       "\n",
       "                       UTIL  \n",
       "0               Zach LaVine  \n",
       "1               Zach LaVine  \n",
       "2             DeMar DeRozan  \n",
       "3               Zach LaVine  \n",
       "4               Zach LaVine  \n",
       "5   Shai Gilgeous-Alexander  \n",
       "6          Donovan Mitchell  \n",
       "7          Donovan Mitchell  \n",
       "8             DeMar DeRozan  \n",
       "9         LaMarcus Aldridge  \n",
       "10         Domantas Sabonis  \n",
       "11            DeMar DeRozan  \n",
       "12              Zach LaVine  \n",
       "13         Domantas Sabonis  \n",
       "14            DeMar DeRozan  \n",
       "15         Donovan Mitchell  \n",
       "16         Donovan Mitchell  "
      ],
      "text/html": "<div>\n<style scoped>\n    .dataframe tbody tr th:only-of-type {\n        vertical-align: middle;\n    }\n\n    .dataframe tbody tr th {\n        vertical-align: top;\n    }\n\n    .dataframe thead th {\n        text-align: right;\n    }\n</style>\n<table border=\"1\" class=\"dataframe\">\n  <thead>\n    <tr style=\"text-align: right;\">\n      <th></th>\n      <th>PG</th>\n      <th>SG</th>\n      <th>SF</th>\n      <th>PF</th>\n      <th>C</th>\n      <th>G</th>\n      <th>F</th>\n      <th>UTIL</th>\n    </tr>\n  </thead>\n  <tbody>\n    <tr>\n      <th>0</th>\n      <td>Spencer Dinwiddie</td>\n      <td>Gary Harris</td>\n      <td>Kevin Porter</td>\n      <td>Robert Covington</td>\n      <td>Marquese Chriss</td>\n      <td>Aaron Holiday</td>\n      <td>Domantas Sabonis</td>\n      <td>Zach LaVine</td>\n    </tr>\n    <tr>\n      <th>1</th>\n      <td>De'Aaron Fox</td>\n      <td>Jalen Brunson</td>\n      <td>Dillon Brooks</td>\n      <td>Harrison Barnes</td>\n      <td>Richaun Holmes</td>\n      <td>Donovan Mitchell</td>\n      <td>Buddy Hield</td>\n      <td>Zach LaVine</td>\n    </tr>\n    <tr>\n      <th>2</th>\n      <td>Darius Garland</td>\n      <td>Jalen Brunson</td>\n      <td>Buddy Hield</td>\n      <td>Marquese Chriss</td>\n      <td>Domantas Sabonis</td>\n      <td>Aaron Holiday</td>\n      <td>Jimmy Butler</td>\n      <td>DeMar DeRozan</td>\n    </tr>\n    <tr>\n      <th>3</th>\n      <td>Jalen Brunson</td>\n      <td>Spencer Dinwiddie</td>\n      <td>Kevin Porter</td>\n      <td>LaMarcus Aldridge</td>\n      <td>Domantas Sabonis</td>\n      <td>Aaron Holiday</td>\n      <td>Dillon Brooks</td>\n      <td>Zach LaVine</td>\n    </tr>\n    <tr>\n      <th>4</th>\n      <td>Darius Garland</td>\n      <td>Collin Sexton</td>\n      <td>Dillon Brooks</td>\n      <td>Bojan Bogdanovic</td>\n      <td>Richaun Holmes</td>\n      <td>De'Aaron Fox</td>\n      <td>Buddy Hield</td>\n      <td>Zach LaVine</td>\n    </tr>\n    <tr>\n      <th>5</th>\n      <td>Jalen Brunson</td>\n      <td>Gary Harris</td>\n      <td>Kevin Porter</td>\n      <td>Bojan Bogdanovic</td>\n      <td>LaMarcus Aldridge</td>\n      <td>Spencer Dinwiddie</td>\n      <td>Domantas Sabonis</td>\n      <td>Shai Gilgeous-Alexander</td>\n    </tr>\n    <tr>\n      <th>6</th>\n      <td>Jalen Brunson</td>\n      <td>Spencer Dinwiddie</td>\n      <td>Kevin Porter</td>\n      <td>Domantas Sabonis</td>\n      <td>Ivica Zubac</td>\n      <td>Dillon Brooks</td>\n      <td>Jimmy Butler</td>\n      <td>Donovan Mitchell</td>\n    </tr>\n    <tr>\n      <th>7</th>\n      <td>Darius Garland</td>\n      <td>Collin Sexton</td>\n      <td>Buddy Hield</td>\n      <td>Bojan Bogdanovic</td>\n      <td>Marquese Chriss</td>\n      <td>Aaron Holiday</td>\n      <td>LaMarcus Aldridge</td>\n      <td>Donovan Mitchell</td>\n    </tr>\n    <tr>\n      <th>8</th>\n      <td>Collin Sexton</td>\n      <td>Gary Harris</td>\n      <td>Jimmy Butler</td>\n      <td>Bojan Bogdanovic</td>\n      <td>Ivica Zubac</td>\n      <td>De'Aaron Fox</td>\n      <td>Robert Covington</td>\n      <td>DeMar DeRozan</td>\n    </tr>\n    <tr>\n      <th>9</th>\n      <td>Darius Garland</td>\n      <td>Spencer Dinwiddie</td>\n      <td>Dillon Brooks</td>\n      <td>Bojan Bogdanovic</td>\n      <td>Ivica Zubac</td>\n      <td>Collin Sexton</td>\n      <td>Jimmy Butler</td>\n      <td>LaMarcus Aldridge</td>\n    </tr>\n    <tr>\n      <th>10</th>\n      <td>Darius Garland</td>\n      <td>Gary Harris</td>\n      <td>DeMar DeRozan</td>\n      <td>Robert Covington</td>\n      <td>Ivica Zubac</td>\n      <td>Zach LaVine</td>\n      <td>LaMarcus Aldridge</td>\n      <td>Domantas Sabonis</td>\n    </tr>\n    <tr>\n      <th>11</th>\n      <td>Aaron Holiday</td>\n      <td>Gary Harris</td>\n      <td>Buddy Hield</td>\n      <td>Marquese Chriss</td>\n      <td>Ivica Zubac</td>\n      <td>De'Aaron Fox</td>\n      <td>Jimmy Butler</td>\n      <td>DeMar DeRozan</td>\n    </tr>\n    <tr>\n      <th>12</th>\n      <td>Jalen Brunson</td>\n      <td>Aaron Holiday</td>\n      <td>Dillon Brooks</td>\n      <td>Marquese Chriss</td>\n      <td>LaMarcus Aldridge</td>\n      <td>Donovan Mitchell</td>\n      <td>DeMar DeRozan</td>\n      <td>Zach LaVine</td>\n    </tr>\n    <tr>\n      <th>13</th>\n      <td>Darius Garland</td>\n      <td>Jalen Brunson</td>\n      <td>Jimmy Butler</td>\n      <td>Harrison Barnes</td>\n      <td>Ivica Zubac</td>\n      <td>Spencer Dinwiddie</td>\n      <td>LaMarcus Aldridge</td>\n      <td>Domantas Sabonis</td>\n    </tr>\n    <tr>\n      <th>14</th>\n      <td>Spencer Dinwiddie</td>\n      <td>Collin Sexton</td>\n      <td>Bojan Bogdanovic</td>\n      <td>Harrison Barnes</td>\n      <td>Ivica Zubac</td>\n      <td>De'Aaron Fox</td>\n      <td>Robert Covington</td>\n      <td>DeMar DeRozan</td>\n    </tr>\n    <tr>\n      <th>15</th>\n      <td>Darius Garland</td>\n      <td>Gary Harris</td>\n      <td>Buddy Hield</td>\n      <td>Bojan Bogdanovic</td>\n      <td>Richaun Holmes</td>\n      <td>De'Aaron Fox</td>\n      <td>Robert Covington</td>\n      <td>Donovan Mitchell</td>\n    </tr>\n    <tr>\n      <th>16</th>\n      <td>Collin Sexton</td>\n      <td>Aaron Holiday</td>\n      <td>Dillon Brooks</td>\n      <td>Bojan Bogdanovic</td>\n      <td>Marquese Chriss</td>\n      <td>De'Aaron Fox</td>\n      <td>Buddy Hield</td>\n      <td>Donovan Mitchell</td>\n    </tr>\n  </tbody>\n</table>\n</div>"
     },
     "metadata": {},
     "execution_count": 22
    }
   ],
   "source": [
    "opt.sort_lineups()"
   ]
  },
  {
   "source": [
    "# Lineup Generator and Optimizer\n",
    "Now we'll use a more complex lineup generation --> monte carlo simulation then select the lineups that have the highest likelihood of being a high scoring team.\n",
    "\n",
    "<br> The default values are:\n",
    "<br> var_multiple = 0.5 (we weight lineup projected variance at half the importance of the projected mean)\n",
    "<br> drop_fraction = 0.5 (half the players are discarded each iteration of generation)\n",
    "<br> time_limit = 1 (1 second is allowed for each optimization iteration)\n",
    "<br> duplicates_lim = 100 (once 100 duplicate lineups have been generated, it kills the generator)"
   ],
   "cell_type": "markdown",
   "metadata": {}
  },
  {
   "source": [
    "## First, let's demo the fast optimizer"
   ],
   "cell_type": "markdown",
   "metadata": {}
  },
  {
   "cell_type": "code",
   "execution_count": 24,
   "metadata": {},
   "outputs": [
    {
     "output_type": "stream",
     "name": "stdout",
     "text": [
      "1 Infeasible lineups dropped\n",
      "19 Lineups\n",
      "0 Duplicates\n",
      "0 Infeasible lineups dropped\n",
      "35 Lineups\n",
      "0 Duplicates\n",
      "1 Infeasible lineups dropped\n",
      "53 Lineups\n",
      "1 Duplicates\n",
      "4 Infeasible lineups dropped\n",
      "69 Lineups\n",
      "1 Duplicates\n",
      "1 Infeasible lineups dropped\n",
      "74 Lineups\n",
      "15 Duplicates\n",
      "3 Infeasible lineups dropped\n",
      "90 Lineups\n",
      "16 Duplicates\n",
      "1 Infeasible lineups dropped\n",
      "105 Lineups\n",
      "19 Duplicates\n",
      "0 Infeasible lineups dropped\n",
      "125 Lineups\n",
      "19 Duplicates\n",
      "4 Infeasible lineups dropped\n",
      "141 Lineups\n",
      "19 Duplicates\n",
      "2 Infeasible lineups dropped\n",
      "145 Lineups\n",
      "22 Duplicates\n",
      "0 Infeasible lineups dropped\n",
      "149 Lineups\n",
      "23 Duplicates\n",
      "0 Infeasible lineups dropped\n",
      "149 Lineups\n",
      "24 Duplicates\n",
      "0 Infeasible lineups dropped\n",
      "149 Lineups\n",
      "25 Duplicates\n",
      "0 Infeasible lineups dropped\n",
      "149 Lineups\n",
      "26 Duplicates\n",
      "0 Infeasible lineups dropped\n",
      "149 Lineups\n",
      "27 Duplicates\n",
      "0 Infeasible lineups dropped\n",
      "149 Lineups\n",
      "28 Duplicates\n",
      "0 Infeasible lineups dropped\n",
      "149 Lineups\n",
      "29 Duplicates\n",
      "0 Infeasible lineups dropped\n",
      "150 Lineups\n",
      "29 Duplicates\n"
     ]
    },
    {
     "output_type": "execute_result",
     "data": {
      "text/plain": [
       "                 PG                 SG             SF                 PF  \\\n",
       "0     Jalen Brunson  Spencer Dinwiddie  Dillon Brooks  LaMarcus Aldridge   \n",
       "1    Darius Garland       Kevin Porter   Jimmy Butler    Marquese Chriss   \n",
       "2     Jalen Brunson        Gary Harris  DeMar DeRozan   Bojan Bogdanovic   \n",
       "3    Darius Garland        Gary Harris  Dillon Brooks   Domantas Sabonis   \n",
       "4     Collin Sexton        Gary Harris   Kevin Porter   Bojan Bogdanovic   \n",
       "..              ...                ...            ...                ...   \n",
       "145  Darius Garland  Spencer Dinwiddie    Buddy Hield   Bojan Bogdanovic   \n",
       "146  Darius Garland      Jalen Brunson   Jimmy Butler  LaMarcus Aldridge   \n",
       "147   Jalen Brunson        Gary Harris   Jimmy Butler   Bojan Bogdanovic   \n",
       "148   Jalen Brunson        Gary Harris    Buddy Hield   Bojan Bogdanovic   \n",
       "149  Darius Garland        Gary Harris    Buddy Hield   Bojan Bogdanovic   \n",
       "\n",
       "                    C                  G                  F              UTIL  \n",
       "0         Ivica Zubac      Aaron Holiday       Jimmy Butler     DeMar DeRozan  \n",
       "1         Ivica Zubac       De'Aaron Fox  LaMarcus Aldridge  Donovan Mitchell  \n",
       "2         Ivica Zubac   Donovan Mitchell  LaMarcus Aldridge  Domantas Sabonis  \n",
       "3         Ivica Zubac  Spencer Dinwiddie        Buddy Hield      Jimmy Butler  \n",
       "4     Marquese Chriss       De'Aaron Fox       Jimmy Butler       Zach LaVine  \n",
       "..                ...                ...                ...               ...  \n",
       "145       Ivica Zubac       De'Aaron Fox    Marquese Chriss     DeMar DeRozan  \n",
       "146       Ivica Zubac      Collin Sexton      DeMar DeRozan  Domantas Sabonis  \n",
       "147   Marquese Chriss  Spencer Dinwiddie  LaMarcus Aldridge     Collin Sexton  \n",
       "148  Domantas Sabonis      Collin Sexton      DeMar DeRozan      De'Aaron Fox  \n",
       "149       Ivica Zubac      DeMar DeRozan       Jimmy Butler       Zach LaVine  \n",
       "\n",
       "[150 rows x 8 columns]"
      ],
      "text/html": "<div>\n<style scoped>\n    .dataframe tbody tr th:only-of-type {\n        vertical-align: middle;\n    }\n\n    .dataframe tbody tr th {\n        vertical-align: top;\n    }\n\n    .dataframe thead th {\n        text-align: right;\n    }\n</style>\n<table border=\"1\" class=\"dataframe\">\n  <thead>\n    <tr style=\"text-align: right;\">\n      <th></th>\n      <th>PG</th>\n      <th>SG</th>\n      <th>SF</th>\n      <th>PF</th>\n      <th>C</th>\n      <th>G</th>\n      <th>F</th>\n      <th>UTIL</th>\n    </tr>\n  </thead>\n  <tbody>\n    <tr>\n      <th>0</th>\n      <td>Jalen Brunson</td>\n      <td>Spencer Dinwiddie</td>\n      <td>Dillon Brooks</td>\n      <td>LaMarcus Aldridge</td>\n      <td>Ivica Zubac</td>\n      <td>Aaron Holiday</td>\n      <td>Jimmy Butler</td>\n      <td>DeMar DeRozan</td>\n    </tr>\n    <tr>\n      <th>1</th>\n      <td>Darius Garland</td>\n      <td>Kevin Porter</td>\n      <td>Jimmy Butler</td>\n      <td>Marquese Chriss</td>\n      <td>Ivica Zubac</td>\n      <td>De'Aaron Fox</td>\n      <td>LaMarcus Aldridge</td>\n      <td>Donovan Mitchell</td>\n    </tr>\n    <tr>\n      <th>2</th>\n      <td>Jalen Brunson</td>\n      <td>Gary Harris</td>\n      <td>DeMar DeRozan</td>\n      <td>Bojan Bogdanovic</td>\n      <td>Ivica Zubac</td>\n      <td>Donovan Mitchell</td>\n      <td>LaMarcus Aldridge</td>\n      <td>Domantas Sabonis</td>\n    </tr>\n    <tr>\n      <th>3</th>\n      <td>Darius Garland</td>\n      <td>Gary Harris</td>\n      <td>Dillon Brooks</td>\n      <td>Domantas Sabonis</td>\n      <td>Ivica Zubac</td>\n      <td>Spencer Dinwiddie</td>\n      <td>Buddy Hield</td>\n      <td>Jimmy Butler</td>\n    </tr>\n    <tr>\n      <th>4</th>\n      <td>Collin Sexton</td>\n      <td>Gary Harris</td>\n      <td>Kevin Porter</td>\n      <td>Bojan Bogdanovic</td>\n      <td>Marquese Chriss</td>\n      <td>De'Aaron Fox</td>\n      <td>Jimmy Butler</td>\n      <td>Zach LaVine</td>\n    </tr>\n    <tr>\n      <th>...</th>\n      <td>...</td>\n      <td>...</td>\n      <td>...</td>\n      <td>...</td>\n      <td>...</td>\n      <td>...</td>\n      <td>...</td>\n      <td>...</td>\n    </tr>\n    <tr>\n      <th>145</th>\n      <td>Darius Garland</td>\n      <td>Spencer Dinwiddie</td>\n      <td>Buddy Hield</td>\n      <td>Bojan Bogdanovic</td>\n      <td>Ivica Zubac</td>\n      <td>De'Aaron Fox</td>\n      <td>Marquese Chriss</td>\n      <td>DeMar DeRozan</td>\n    </tr>\n    <tr>\n      <th>146</th>\n      <td>Darius Garland</td>\n      <td>Jalen Brunson</td>\n      <td>Jimmy Butler</td>\n      <td>LaMarcus Aldridge</td>\n      <td>Ivica Zubac</td>\n      <td>Collin Sexton</td>\n      <td>DeMar DeRozan</td>\n      <td>Domantas Sabonis</td>\n    </tr>\n    <tr>\n      <th>147</th>\n      <td>Jalen Brunson</td>\n      <td>Gary Harris</td>\n      <td>Jimmy Butler</td>\n      <td>Bojan Bogdanovic</td>\n      <td>Marquese Chriss</td>\n      <td>Spencer Dinwiddie</td>\n      <td>LaMarcus Aldridge</td>\n      <td>Collin Sexton</td>\n    </tr>\n    <tr>\n      <th>148</th>\n      <td>Jalen Brunson</td>\n      <td>Gary Harris</td>\n      <td>Buddy Hield</td>\n      <td>Bojan Bogdanovic</td>\n      <td>Domantas Sabonis</td>\n      <td>Collin Sexton</td>\n      <td>DeMar DeRozan</td>\n      <td>De'Aaron Fox</td>\n    </tr>\n    <tr>\n      <th>149</th>\n      <td>Darius Garland</td>\n      <td>Gary Harris</td>\n      <td>Buddy Hield</td>\n      <td>Bojan Bogdanovic</td>\n      <td>Ivica Zubac</td>\n      <td>DeMar DeRozan</td>\n      <td>Jimmy Butler</td>\n      <td>Zach LaVine</td>\n    </tr>\n  </tbody>\n</table>\n<p>150 rows × 8 columns</p>\n</div>"
     },
     "metadata": {},
     "execution_count": 24
    }
   ],
   "source": [
    "fast_opt = LineupGenerator(df_players, n_lineups_to_optimize=150, batch_size=20, drop_fraction=0.05, time_limit=5, verbose=False)\n",
    "fast_opt.generate(fast_opt.n_lineups_to_optimize)"
   ]
  },
  {
   "cell_type": "code",
   "execution_count": 26,
   "metadata": {},
   "outputs": [
    {
     "output_type": "execute_result",
     "data": {
      "text/plain": [
       "Ivica Zubac                0.486667\n",
       "De'Aaron Fox               0.446667\n",
       "Gary Harris                0.446667\n",
       "Jimmy Butler               0.426667\n",
       "Bojan Bogdanovic           0.426667\n",
       "Spencer Dinwiddie          0.426667\n",
       "DeMar DeRozan              0.420000\n",
       "Darius Garland             0.420000\n",
       "Domantas Sabonis           0.406667\n",
       "Buddy Hield                0.406667\n",
       "Donovan Mitchell           0.400000\n",
       "Jalen Brunson              0.393333\n",
       "Collin Sexton              0.386667\n",
       "LaMarcus Aldridge          0.373333\n",
       "Dillon Brooks              0.333333\n",
       "Robert Covington           0.293333\n",
       "Marquese Chriss            0.286667\n",
       "Kevin Porter               0.246667\n",
       "Zach LaVine                0.240000\n",
       "Aaron Holiday              0.193333\n",
       "Harrison Barnes            0.146667\n",
       "Richaun Holmes             0.140000\n",
       "Cedi Osman                 0.133333\n",
       "Shai Gilgeous-Alexander    0.073333\n",
       "Kyle Lowry                 0.020000\n",
       "Bismack Biyombo            0.013333\n",
       "Alec Burks                 0.006667\n",
       "Jeremy Lamb                0.006667\n",
       "dtype: float64"
      ]
     },
     "metadata": {},
     "execution_count": 26
    }
   ],
   "source": [
    "players = fast_opt.get_player_distribution(fast_opt.df_lineups)\n",
    "players[:50]"
   ]
  },
  {
   "source": [
    "## Next, instantiate the generator:"
   ],
   "cell_type": "markdown",
   "metadata": {}
  },
  {
   "cell_type": "code",
   "execution_count": 15,
   "metadata": {},
   "outputs": [],
   "source": [
    "gen = LineupGenerator(df_players, n_lineups_to_optimize=150, batch_size=20,\n",
    "var_multiple=0.5, drop_fraction=0.4, time_limit=2, verbose=False)"
   ]
  },
  {
   "source": [
    "## Now run the generator by giving a target number of generated lineups:"
   ],
   "cell_type": "markdown",
   "metadata": {}
  },
  {
   "cell_type": "code",
   "execution_count": 16,
   "metadata": {
    "tags": []
   },
   "outputs": [
    {
     "output_type": "stream",
     "name": "stdout",
     "text": "2 Infeasible lineups dropped\n18 Lineups\n0 Duplicates\n3 Infeasible lineups dropped\n34 Lineups\n1 Duplicates\n2 Infeasible lineups dropped\n52 Lineups\n1 Duplicates\n1 Infeasible lineups dropped\n71 Lineups\n1 Duplicates\n2 Infeasible lineups dropped\n88 Lineups\n2 Duplicates\n2 Infeasible lineups dropped\n104 Lineups\n4 Duplicates\n1 Infeasible lineups dropped\n121 Lineups\n5 Duplicates\n2 Infeasible lineups dropped\n139 Lineups\n5 Duplicates\n0 Infeasible lineups dropped\n148 Lineups\n7 Duplicates\n1 Infeasible lineups dropped\n149 Lineups\n7 Duplicates\n0 Infeasible lineups dropped\n149 Lineups\n8 Duplicates\n0 Infeasible lineups dropped\n149 Lineups\n9 Duplicates\n0 Infeasible lineups dropped\n149 Lineups\n10 Duplicates\n0 Infeasible lineups dropped\n149 Lineups\n11 Duplicates\n0 Infeasible lineups dropped\n150 Lineups\n11 Duplicates\n"
    },
    {
     "output_type": "execute_result",
     "data": {
      "text/plain": "                    PG                 SG             SF                 PF  \\\n0       Darius Garland      Jalen Brunson  DeMar DeRozan         Cedi Osman   \n1    Spencer Dinwiddie        Gary Harris  Dillon Brooks   Bojan Bogdanovic   \n2       Darius Garland  Spencer Dinwiddie    Buddy Hield   Bojan Bogdanovic   \n3       Darius Garland      Jalen Brunson   Jimmy Butler    Marquese Chriss   \n4        Collin Sexton        Gary Harris    Buddy Hield   Bojan Bogdanovic   \n..                 ...                ...            ...                ...   \n145  Spencer Dinwiddie        Gary Harris   Kevin Porter  LaMarcus Aldridge   \n146     Darius Garland  Spencer Dinwiddie    Buddy Hield   Bojan Bogdanovic   \n147      Jalen Brunson        Gary Harris  DeMar DeRozan   Bojan Bogdanovic   \n148  Spencer Dinwiddie      Collin Sexton  Dillon Brooks   Bojan Bogdanovic   \n149      Jalen Brunson        Gary Harris    Buddy Hield   Bojan Bogdanovic   \n\n                     C                  G                  F  \\\n0    LaMarcus Aldridge  Spencer Dinwiddie   Domantas Sabonis   \n1      Marquese Chriss      Collin Sexton        Buddy Hield   \n2          Ivica Zubac       De'Aaron Fox    Marquese Chriss   \n3          Ivica Zubac   Donovan Mitchell      DeMar DeRozan   \n4          Ivica Zubac       De'Aaron Fox      DeMar DeRozan   \n..                 ...                ...                ...   \n145        Ivica Zubac       Jimmy Butler      Dillon Brooks   \n146    Marquese Chriss      Collin Sexton    Harrison Barnes   \n147    Marquese Chriss       De'Aaron Fox  LaMarcus Aldridge   \n148        Ivica Zubac   Donovan Mitchell    Marquese Chriss   \n149        Ivica Zubac  Spencer Dinwiddie       Jimmy Butler   \n\n                  UTIL  \n0        Collin Sexton  \n1     Donovan Mitchell  \n2        DeMar DeRozan  \n3     Domantas Sabonis  \n4    LaMarcus Aldridge  \n..                 ...  \n145        Zach LaVine  \n146   Donovan Mitchell  \n147   Donovan Mitchell  \n148     Richaun Holmes  \n149  LaMarcus Aldridge  \n\n[150 rows x 8 columns]",
      "text/html": "<div>\n<style scoped>\n    .dataframe tbody tr th:only-of-type {\n        vertical-align: middle;\n    }\n\n    .dataframe tbody tr th {\n        vertical-align: top;\n    }\n\n    .dataframe thead th {\n        text-align: right;\n    }\n</style>\n<table border=\"1\" class=\"dataframe\">\n  <thead>\n    <tr style=\"text-align: right;\">\n      <th></th>\n      <th>PG</th>\n      <th>SG</th>\n      <th>SF</th>\n      <th>PF</th>\n      <th>C</th>\n      <th>G</th>\n      <th>F</th>\n      <th>UTIL</th>\n    </tr>\n  </thead>\n  <tbody>\n    <tr>\n      <th>0</th>\n      <td>Darius Garland</td>\n      <td>Jalen Brunson</td>\n      <td>DeMar DeRozan</td>\n      <td>Cedi Osman</td>\n      <td>LaMarcus Aldridge</td>\n      <td>Spencer Dinwiddie</td>\n      <td>Domantas Sabonis</td>\n      <td>Collin Sexton</td>\n    </tr>\n    <tr>\n      <th>1</th>\n      <td>Spencer Dinwiddie</td>\n      <td>Gary Harris</td>\n      <td>Dillon Brooks</td>\n      <td>Bojan Bogdanovic</td>\n      <td>Marquese Chriss</td>\n      <td>Collin Sexton</td>\n      <td>Buddy Hield</td>\n      <td>Donovan Mitchell</td>\n    </tr>\n    <tr>\n      <th>2</th>\n      <td>Darius Garland</td>\n      <td>Spencer Dinwiddie</td>\n      <td>Buddy Hield</td>\n      <td>Bojan Bogdanovic</td>\n      <td>Ivica Zubac</td>\n      <td>De'Aaron Fox</td>\n      <td>Marquese Chriss</td>\n      <td>DeMar DeRozan</td>\n    </tr>\n    <tr>\n      <th>3</th>\n      <td>Darius Garland</td>\n      <td>Jalen Brunson</td>\n      <td>Jimmy Butler</td>\n      <td>Marquese Chriss</td>\n      <td>Ivica Zubac</td>\n      <td>Donovan Mitchell</td>\n      <td>DeMar DeRozan</td>\n      <td>Domantas Sabonis</td>\n    </tr>\n    <tr>\n      <th>4</th>\n      <td>Collin Sexton</td>\n      <td>Gary Harris</td>\n      <td>Buddy Hield</td>\n      <td>Bojan Bogdanovic</td>\n      <td>Ivica Zubac</td>\n      <td>De'Aaron Fox</td>\n      <td>DeMar DeRozan</td>\n      <td>LaMarcus Aldridge</td>\n    </tr>\n    <tr>\n      <th>...</th>\n      <td>...</td>\n      <td>...</td>\n      <td>...</td>\n      <td>...</td>\n      <td>...</td>\n      <td>...</td>\n      <td>...</td>\n      <td>...</td>\n    </tr>\n    <tr>\n      <th>145</th>\n      <td>Spencer Dinwiddie</td>\n      <td>Gary Harris</td>\n      <td>Kevin Porter</td>\n      <td>LaMarcus Aldridge</td>\n      <td>Ivica Zubac</td>\n      <td>Jimmy Butler</td>\n      <td>Dillon Brooks</td>\n      <td>Zach LaVine</td>\n    </tr>\n    <tr>\n      <th>146</th>\n      <td>Darius Garland</td>\n      <td>Spencer Dinwiddie</td>\n      <td>Buddy Hield</td>\n      <td>Bojan Bogdanovic</td>\n      <td>Marquese Chriss</td>\n      <td>Collin Sexton</td>\n      <td>Harrison Barnes</td>\n      <td>Donovan Mitchell</td>\n    </tr>\n    <tr>\n      <th>147</th>\n      <td>Jalen Brunson</td>\n      <td>Gary Harris</td>\n      <td>DeMar DeRozan</td>\n      <td>Bojan Bogdanovic</td>\n      <td>Marquese Chriss</td>\n      <td>De'Aaron Fox</td>\n      <td>LaMarcus Aldridge</td>\n      <td>Donovan Mitchell</td>\n    </tr>\n    <tr>\n      <th>148</th>\n      <td>Spencer Dinwiddie</td>\n      <td>Collin Sexton</td>\n      <td>Dillon Brooks</td>\n      <td>Bojan Bogdanovic</td>\n      <td>Ivica Zubac</td>\n      <td>Donovan Mitchell</td>\n      <td>Marquese Chriss</td>\n      <td>Richaun Holmes</td>\n    </tr>\n    <tr>\n      <th>149</th>\n      <td>Jalen Brunson</td>\n      <td>Gary Harris</td>\n      <td>Buddy Hield</td>\n      <td>Bojan Bogdanovic</td>\n      <td>Ivica Zubac</td>\n      <td>Spencer Dinwiddie</td>\n      <td>Jimmy Butler</td>\n      <td>LaMarcus Aldridge</td>\n    </tr>\n  </tbody>\n</table>\n<p>150 rows × 8 columns</p>\n</div>"
     },
     "metadata": {},
     "execution_count": 16
    }
   ],
   "source": [
    "gen.generate(10000)\n",
    "# gen.df_lineups = pd.read_csv('../data/raw/test_lineups.csv', index_col=0)"
   ]
  },
  {
   "source": [
    "## Now visualize the player distribution:"
   ],
   "cell_type": "markdown",
   "metadata": {}
  },
  {
   "cell_type": "code",
   "execution_count": 17,
   "metadata": {},
   "outputs": [
    {
     "output_type": "execute_result",
     "data": {
      "text/plain": "Ivica Zubac                0.500000\nBojan Bogdanovic           0.486667\nCollin Sexton              0.453333\nJimmy Butler               0.453333\nSpencer Dinwiddie          0.440000\nGary Harris                0.440000\nDe'Aaron Fox               0.433333\nBuddy Hield                0.433333\nDarius Garland             0.426667\nJalen Brunson              0.420000\nDonovan Mitchell           0.413333\nLaMarcus Aldridge          0.406667\nMarquese Chriss            0.400000\nDeMar DeRozan              0.393333\nDomantas Sabonis           0.353333\nDillon Brooks              0.286667\nZach LaVine                0.266667\nRobert Covington           0.220000\nKevin Porter               0.200000\nHarrison Barnes            0.186667\nAaron Holiday              0.146667\nRichaun Holmes             0.100000\nCedi Osman                 0.086667\nShai Gilgeous-Alexander    0.020000\nAlec Burks                 0.006667\nT.J. Warren                0.006667\nTimothe Luwawu-Cabarrot    0.006667\nTim Frazier                0.006667\nBam Adebayo                0.006667\ndtype: float64"
     },
     "metadata": {},
     "execution_count": 17
    }
   ],
   "source": [
    "players = gen.get_player_distribution(gen.df_lineups)\n",
    "players[:50]"
   ]
  },
  {
   "source": [
    "## Now run the Monte Carlo Simulation"
   ],
   "cell_type": "markdown",
   "metadata": {}
  },
  {
   "cell_type": "code",
   "execution_count": 19,
   "metadata": {},
   "outputs": [
    {
     "output_type": "execute_result",
     "data": {
      "text/plain": "                     PG                 SG               SF  \\\n0         Collin Sexton        Gary Harris     Kevin Porter   \n1         Jalen Brunson        Gary Harris     Kevin Porter   \n2         Collin Sexton        Gary Harris     Kevin Porter   \n3         Jalen Brunson  Spencer Dinwiddie  Harrison Barnes   \n4         Collin Sexton        Gary Harris     Kevin Porter   \n...                 ...                ...              ...   \n1995     Darius Garland        Gary Harris     Jimmy Butler   \n1996  Spencer Dinwiddie        Gary Harris     Kevin Porter   \n1997     Darius Garland        Gary Harris     Kevin Porter   \n1998       De'Aaron Fox       Kevin Porter    Dillon Brooks   \n1999     Darius Garland      Jalen Brunson      Buddy Hield   \n\n                     PF                C                  G                 F  \\\n0       Harrison Barnes   Richaun Holmes      Aaron Holiday       Paul George   \n1         Kawhi Leonard  Marquese Chriss      Aaron Holiday       Paul George   \n2       Harrison Barnes  Marquese Chriss         Kyle Lowry    Richaun Holmes   \n3       Marquese Chriss   Richaun Holmes      Collin Sexton       Paul George   \n4       Harrison Barnes   Richaun Holmes     Shabazz Napier       Paul George   \n...                 ...              ...                ...               ...   \n1995    Harrison Barnes  Marquese Chriss  Spencer Dinwiddie  Robert Covington   \n1996    Marquese Chriss      Bam Adebayo        Tim Frazier      Jimmy Butler   \n1997   Domantas Sabonis  Bismack Biyombo       De'Aaron Fox      Jimmy Butler   \n1998   Bojan Bogdanovic      Bam Adebayo        Buddy Hield  Robert Covington   \n1999  LaMarcus Aldridge   Richaun Holmes      Aaron Holiday     DeMar DeRozan   \n\n                         UTIL    mean        std  \n0                  Kyle Lowry  264.54  17.620039  \n1                  Kyle Lowry  262.63  15.017997  \n2               Kawhi Leonard  264.81  17.261263  \n3               Aaron Holiday  270.06  20.851468  \n4                  Kyle Lowry  263.37  17.406462  \n...                       ...     ...        ...  \n1995         Donovan Mitchell  279.25  20.311315  \n1996             De'Aaron Fox  277.49  19.496710  \n1997         Donovan Mitchell  273.53  17.789721  \n1998  Shai Gilgeous-Alexander  267.74  18.799925  \n1999              Zach LaVine  270.45  22.124796  \n\n[2000 rows x 10 columns]",
      "text/html": "<div>\n<style scoped>\n    .dataframe tbody tr th:only-of-type {\n        vertical-align: middle;\n    }\n\n    .dataframe tbody tr th {\n        vertical-align: top;\n    }\n\n    .dataframe thead th {\n        text-align: right;\n    }\n</style>\n<table border=\"1\" class=\"dataframe\">\n  <thead>\n    <tr style=\"text-align: right;\">\n      <th></th>\n      <th>PG</th>\n      <th>SG</th>\n      <th>SF</th>\n      <th>PF</th>\n      <th>C</th>\n      <th>G</th>\n      <th>F</th>\n      <th>UTIL</th>\n      <th>mean</th>\n      <th>std</th>\n    </tr>\n  </thead>\n  <tbody>\n    <tr>\n      <th>0</th>\n      <td>Collin Sexton</td>\n      <td>Gary Harris</td>\n      <td>Kevin Porter</td>\n      <td>Harrison Barnes</td>\n      <td>Richaun Holmes</td>\n      <td>Aaron Holiday</td>\n      <td>Paul George</td>\n      <td>Kyle Lowry</td>\n      <td>264.54</td>\n      <td>17.620039</td>\n    </tr>\n    <tr>\n      <th>1</th>\n      <td>Jalen Brunson</td>\n      <td>Gary Harris</td>\n      <td>Kevin Porter</td>\n      <td>Kawhi Leonard</td>\n      <td>Marquese Chriss</td>\n      <td>Aaron Holiday</td>\n      <td>Paul George</td>\n      <td>Kyle Lowry</td>\n      <td>262.63</td>\n      <td>15.017997</td>\n    </tr>\n    <tr>\n      <th>2</th>\n      <td>Collin Sexton</td>\n      <td>Gary Harris</td>\n      <td>Kevin Porter</td>\n      <td>Harrison Barnes</td>\n      <td>Marquese Chriss</td>\n      <td>Kyle Lowry</td>\n      <td>Richaun Holmes</td>\n      <td>Kawhi Leonard</td>\n      <td>264.81</td>\n      <td>17.261263</td>\n    </tr>\n    <tr>\n      <th>3</th>\n      <td>Jalen Brunson</td>\n      <td>Spencer Dinwiddie</td>\n      <td>Harrison Barnes</td>\n      <td>Marquese Chriss</td>\n      <td>Richaun Holmes</td>\n      <td>Collin Sexton</td>\n      <td>Paul George</td>\n      <td>Aaron Holiday</td>\n      <td>270.06</td>\n      <td>20.851468</td>\n    </tr>\n    <tr>\n      <th>4</th>\n      <td>Collin Sexton</td>\n      <td>Gary Harris</td>\n      <td>Kevin Porter</td>\n      <td>Harrison Barnes</td>\n      <td>Richaun Holmes</td>\n      <td>Shabazz Napier</td>\n      <td>Paul George</td>\n      <td>Kyle Lowry</td>\n      <td>263.37</td>\n      <td>17.406462</td>\n    </tr>\n    <tr>\n      <th>...</th>\n      <td>...</td>\n      <td>...</td>\n      <td>...</td>\n      <td>...</td>\n      <td>...</td>\n      <td>...</td>\n      <td>...</td>\n      <td>...</td>\n      <td>...</td>\n      <td>...</td>\n    </tr>\n    <tr>\n      <th>1995</th>\n      <td>Darius Garland</td>\n      <td>Gary Harris</td>\n      <td>Jimmy Butler</td>\n      <td>Harrison Barnes</td>\n      <td>Marquese Chriss</td>\n      <td>Spencer Dinwiddie</td>\n      <td>Robert Covington</td>\n      <td>Donovan Mitchell</td>\n      <td>279.25</td>\n      <td>20.311315</td>\n    </tr>\n    <tr>\n      <th>1996</th>\n      <td>Spencer Dinwiddie</td>\n      <td>Gary Harris</td>\n      <td>Kevin Porter</td>\n      <td>Marquese Chriss</td>\n      <td>Bam Adebayo</td>\n      <td>Tim Frazier</td>\n      <td>Jimmy Butler</td>\n      <td>De'Aaron Fox</td>\n      <td>277.49</td>\n      <td>19.496710</td>\n    </tr>\n    <tr>\n      <th>1997</th>\n      <td>Darius Garland</td>\n      <td>Gary Harris</td>\n      <td>Kevin Porter</td>\n      <td>Domantas Sabonis</td>\n      <td>Bismack Biyombo</td>\n      <td>De'Aaron Fox</td>\n      <td>Jimmy Butler</td>\n      <td>Donovan Mitchell</td>\n      <td>273.53</td>\n      <td>17.789721</td>\n    </tr>\n    <tr>\n      <th>1998</th>\n      <td>De'Aaron Fox</td>\n      <td>Kevin Porter</td>\n      <td>Dillon Brooks</td>\n      <td>Bojan Bogdanovic</td>\n      <td>Bam Adebayo</td>\n      <td>Buddy Hield</td>\n      <td>Robert Covington</td>\n      <td>Shai Gilgeous-Alexander</td>\n      <td>267.74</td>\n      <td>18.799925</td>\n    </tr>\n    <tr>\n      <th>1999</th>\n      <td>Darius Garland</td>\n      <td>Jalen Brunson</td>\n      <td>Buddy Hield</td>\n      <td>LaMarcus Aldridge</td>\n      <td>Richaun Holmes</td>\n      <td>Aaron Holiday</td>\n      <td>DeMar DeRozan</td>\n      <td>Zach LaVine</td>\n      <td>270.45</td>\n      <td>22.124796</td>\n    </tr>\n  </tbody>\n</table>\n<p>2000 rows × 10 columns</p>\n</div>"
     },
     "metadata": {},
     "execution_count": 19
    }
   ],
   "source": [
    "gen.get_lineup_score_dists()"
   ]
  },
  {
   "source": [
    "## Now find the optimal set of lineups:"
   ],
   "cell_type": "markdown",
   "metadata": {}
  },
  {
   "cell_type": "code",
   "execution_count": 20,
   "metadata": {
    "tags": []
   },
   "outputs": [],
   "source": [
    "df_optimal = gen.enforce_exposures()"
   ]
  },
  {
   "source": [
    "# Now build the sheet:"
   ],
   "cell_type": "markdown",
   "metadata": {}
  },
  {
   "cell_type": "code",
   "execution_count": 28,
   "metadata": {},
   "outputs": [],
   "source": [
    "sheet_name = 'test_DKEntries2.csv'\n",
    "# entries = EntriesHandler('../data/raw/' + sheet_name, gen.df, read_lineups=True)\n",
    "entries = EntriesHandler('../data/raw/' + sheet_name, fast_opt.df, read_lineups=True)"
   ]
  },
  {
   "cell_type": "code",
   "execution_count": 29,
   "metadata": {
    "tags": []
   },
   "outputs": [],
   "source": [
    "# entries.add_lineups_to_entries(df_optimal) ## Gen + opt lineups\n",
    "entries.add_lineups_to_entries(fast_opt.df_lineups) ## Fast opt lineups"
   ]
  },
  {
   "source": [
    "## Visualize the final sheet"
   ],
   "cell_type": "markdown",
   "metadata": {}
  },
  {
   "cell_type": "code",
   "execution_count": 30,
   "metadata": {},
   "outputs": [
    {
     "output_type": "execute_result",
     "data": {
      "text/plain": [
       "       Entry ID                       Contest Name  Contest ID Entry Fee  \\\n",
       "0    1809803072  NBA $12K mini-MAX [150 Entry Max]    83787211     $0.50   \n",
       "1    1809803073  NBA $12K mini-MAX [150 Entry Max]    83787211     $0.50   \n",
       "2    1809803074  NBA $12K mini-MAX [150 Entry Max]    83787211     $0.50   \n",
       "3    1809803075  NBA $12K mini-MAX [150 Entry Max]    83787211     $0.50   \n",
       "4    1809803076  NBA $12K mini-MAX [150 Entry Max]    83787211     $0.50   \n",
       "..          ...                                ...         ...       ...   \n",
       "145  1809803217  NBA $12K mini-MAX [150 Entry Max]    83787211     $0.50   \n",
       "146  1809803218  NBA $12K mini-MAX [150 Entry Max]    83787211     $0.50   \n",
       "147  1809803219  NBA $12K mini-MAX [150 Entry Max]    83787211     $0.50   \n",
       "148  1809803220  NBA $12K mini-MAX [150 Entry Max]    83787211     $0.50   \n",
       "149  1809811864  NBA $12K mini-MAX [150 Entry Max]    83787211     $0.50   \n",
       "\n",
       "           PG        SG        SF        PF         C         G         F  \\\n",
       "0    14066582  14065998  14066340  14066042  14066415  14066210  14065989   \n",
       "1    14066387  14066428  14065989  14066260  14066415  14066058  14066042   \n",
       "2    14066582  14066354  14066053  14066137  14066415  14066015  14066042   \n",
       "3    14066387  14066354  14066340  14065994  14066415  14065998  14066088   \n",
       "4    14066177  14066354  14066428  14066137  14066260  14066058  14065989   \n",
       "..        ...       ...       ...       ...       ...       ...       ...   \n",
       "145  14066387  14065998  14066088  14066137  14066415  14066058  14066260   \n",
       "146  14066387  14066582  14065989  14066042  14066415  14066177  14066053   \n",
       "147  14066582  14066354  14065989  14066137  14066260  14065998  14066042   \n",
       "148  14066582  14066354  14066088  14066137  14065994  14066177  14066053   \n",
       "149  14066387  14066354  14066088  14066137  14066415  14066053  14065989   \n",
       "\n",
       "         UTIL  \n",
       "0    14066053  \n",
       "1    14066015  \n",
       "2    14065994  \n",
       "3    14065989  \n",
       "4    14066033  \n",
       "..        ...  \n",
       "145  14066053  \n",
       "146  14065994  \n",
       "147  14066177  \n",
       "148  14066058  \n",
       "149  14066033  \n",
       "\n",
       "[150 rows x 12 columns]"
      ],
      "text/html": "<div>\n<style scoped>\n    .dataframe tbody tr th:only-of-type {\n        vertical-align: middle;\n    }\n\n    .dataframe tbody tr th {\n        vertical-align: top;\n    }\n\n    .dataframe thead th {\n        text-align: right;\n    }\n</style>\n<table border=\"1\" class=\"dataframe\">\n  <thead>\n    <tr style=\"text-align: right;\">\n      <th></th>\n      <th>Entry ID</th>\n      <th>Contest Name</th>\n      <th>Contest ID</th>\n      <th>Entry Fee</th>\n      <th>PG</th>\n      <th>SG</th>\n      <th>SF</th>\n      <th>PF</th>\n      <th>C</th>\n      <th>G</th>\n      <th>F</th>\n      <th>UTIL</th>\n    </tr>\n  </thead>\n  <tbody>\n    <tr>\n      <th>0</th>\n      <td>1809803072</td>\n      <td>NBA $12K mini-MAX [150 Entry Max]</td>\n      <td>83787211</td>\n      <td>$0.50</td>\n      <td>14066582</td>\n      <td>14065998</td>\n      <td>14066340</td>\n      <td>14066042</td>\n      <td>14066415</td>\n      <td>14066210</td>\n      <td>14065989</td>\n      <td>14066053</td>\n    </tr>\n    <tr>\n      <th>1</th>\n      <td>1809803073</td>\n      <td>NBA $12K mini-MAX [150 Entry Max]</td>\n      <td>83787211</td>\n      <td>$0.50</td>\n      <td>14066387</td>\n      <td>14066428</td>\n      <td>14065989</td>\n      <td>14066260</td>\n      <td>14066415</td>\n      <td>14066058</td>\n      <td>14066042</td>\n      <td>14066015</td>\n    </tr>\n    <tr>\n      <th>2</th>\n      <td>1809803074</td>\n      <td>NBA $12K mini-MAX [150 Entry Max]</td>\n      <td>83787211</td>\n      <td>$0.50</td>\n      <td>14066582</td>\n      <td>14066354</td>\n      <td>14066053</td>\n      <td>14066137</td>\n      <td>14066415</td>\n      <td>14066015</td>\n      <td>14066042</td>\n      <td>14065994</td>\n    </tr>\n    <tr>\n      <th>3</th>\n      <td>1809803075</td>\n      <td>NBA $12K mini-MAX [150 Entry Max]</td>\n      <td>83787211</td>\n      <td>$0.50</td>\n      <td>14066387</td>\n      <td>14066354</td>\n      <td>14066340</td>\n      <td>14065994</td>\n      <td>14066415</td>\n      <td>14065998</td>\n      <td>14066088</td>\n      <td>14065989</td>\n    </tr>\n    <tr>\n      <th>4</th>\n      <td>1809803076</td>\n      <td>NBA $12K mini-MAX [150 Entry Max]</td>\n      <td>83787211</td>\n      <td>$0.50</td>\n      <td>14066177</td>\n      <td>14066354</td>\n      <td>14066428</td>\n      <td>14066137</td>\n      <td>14066260</td>\n      <td>14066058</td>\n      <td>14065989</td>\n      <td>14066033</td>\n    </tr>\n    <tr>\n      <th>...</th>\n      <td>...</td>\n      <td>...</td>\n      <td>...</td>\n      <td>...</td>\n      <td>...</td>\n      <td>...</td>\n      <td>...</td>\n      <td>...</td>\n      <td>...</td>\n      <td>...</td>\n      <td>...</td>\n      <td>...</td>\n    </tr>\n    <tr>\n      <th>145</th>\n      <td>1809803217</td>\n      <td>NBA $12K mini-MAX [150 Entry Max]</td>\n      <td>83787211</td>\n      <td>$0.50</td>\n      <td>14066387</td>\n      <td>14065998</td>\n      <td>14066088</td>\n      <td>14066137</td>\n      <td>14066415</td>\n      <td>14066058</td>\n      <td>14066260</td>\n      <td>14066053</td>\n    </tr>\n    <tr>\n      <th>146</th>\n      <td>1809803218</td>\n      <td>NBA $12K mini-MAX [150 Entry Max]</td>\n      <td>83787211</td>\n      <td>$0.50</td>\n      <td>14066387</td>\n      <td>14066582</td>\n      <td>14065989</td>\n      <td>14066042</td>\n      <td>14066415</td>\n      <td>14066177</td>\n      <td>14066053</td>\n      <td>14065994</td>\n    </tr>\n    <tr>\n      <th>147</th>\n      <td>1809803219</td>\n      <td>NBA $12K mini-MAX [150 Entry Max]</td>\n      <td>83787211</td>\n      <td>$0.50</td>\n      <td>14066582</td>\n      <td>14066354</td>\n      <td>14065989</td>\n      <td>14066137</td>\n      <td>14066260</td>\n      <td>14065998</td>\n      <td>14066042</td>\n      <td>14066177</td>\n    </tr>\n    <tr>\n      <th>148</th>\n      <td>1809803220</td>\n      <td>NBA $12K mini-MAX [150 Entry Max]</td>\n      <td>83787211</td>\n      <td>$0.50</td>\n      <td>14066582</td>\n      <td>14066354</td>\n      <td>14066088</td>\n      <td>14066137</td>\n      <td>14065994</td>\n      <td>14066177</td>\n      <td>14066053</td>\n      <td>14066058</td>\n    </tr>\n    <tr>\n      <th>149</th>\n      <td>1809811864</td>\n      <td>NBA $12K mini-MAX [150 Entry Max]</td>\n      <td>83787211</td>\n      <td>$0.50</td>\n      <td>14066387</td>\n      <td>14066354</td>\n      <td>14066088</td>\n      <td>14066137</td>\n      <td>14066415</td>\n      <td>14066053</td>\n      <td>14065989</td>\n      <td>14066033</td>\n    </tr>\n  </tbody>\n</table>\n<p>150 rows × 12 columns</p>\n</div>"
     },
     "metadata": {},
     "execution_count": 30
    }
   ],
   "source": [
    "pd.read_csv('../data/raw/test_DKEntries2_v2.csv')"
   ]
  },
  {
   "cell_type": "code",
   "execution_count": null,
   "metadata": {},
   "outputs": [],
   "source": []
  }
 ]
}